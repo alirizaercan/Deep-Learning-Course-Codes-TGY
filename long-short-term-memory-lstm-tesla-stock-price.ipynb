{
 "cells": [
  {
   "cell_type": "markdown",
   "id": "881735a7",
   "metadata": {
    "id": "4unSJJjsT8BM",
    "papermill": {
     "duration": 0.012194,
     "end_time": "2025-04-29T04:57:24.411626",
     "exception": false,
     "start_time": "2025-04-29T04:57:24.399432",
     "status": "completed"
    },
    "tags": []
   },
   "source": [
    "# Tesla - Stock Price Prediction\n",
    "\n",
    "---\n",
    "\n"
   ]
  },
  {
   "cell_type": "markdown",
   "id": "2f4514aa",
   "metadata": {
    "id": "wkRLJL2XUAfT",
    "papermill": {
     "duration": 0.010843,
     "end_time": "2025-04-29T04:57:24.433712",
     "exception": false,
     "start_time": "2025-04-29T04:57:24.422869",
     "status": "completed"
    },
    "tags": []
   },
   "source": [
    "## Business Problem\n",
    "\n",
    "In this notebook, our purpose is to predict of tesla - stock price."
   ]
  },
  {
   "cell_type": "markdown",
   "id": "eedd6ebb",
   "metadata": {
    "id": "0uxjphZsUwjz",
    "papermill": {
     "duration": 0.010975,
     "end_time": "2025-04-29T04:57:24.455718",
     "exception": false,
     "start_time": "2025-04-29T04:57:24.444743",
     "status": "completed"
    },
    "tags": []
   },
   "source": [
    "## Data Understanding"
   ]
  },
  {
   "cell_type": "code",
   "execution_count": 1,
   "id": "2554d00d",
   "metadata": {
    "execution": {
     "iopub.execute_input": "2025-04-29T04:57:24.479407Z",
     "iopub.status.busy": "2025-04-29T04:57:24.478957Z",
     "iopub.status.idle": "2025-04-29T04:57:39.862423Z",
     "shell.execute_reply": "2025-04-29T04:57:39.861322Z"
    },
    "id": "40IR65rQUyWC",
    "outputId": "4562368d-970e-4fd6-b03e-be036efe4dcd",
    "papermill": {
     "duration": 15.398008,
     "end_time": "2025-04-29T04:57:39.864815",
     "exception": false,
     "start_time": "2025-04-29T04:57:24.466807",
     "status": "completed"
    },
    "tags": []
   },
   "outputs": [],
   "source": [
    "import numpy as np\n",
    "import pandas as pd\n",
    "import datetime as dt\n",
    "import tensorflow as tf\n",
    "import matplotlib.pyplot as plt\n",
    "\n",
    "from sklearn.preprocessing import MinMaxScaler\n",
    "from sklearn.metrics import mean_squared_error\n",
    "\n",
    "from tensorflow.keras.models import Sequential\n",
    "from tensorflow.keras.layers import Dense, LSTM, Dropout\n",
    "from tensorflow.keras.callbacks import ModelCheckpoint, EarlyStopping\n",
    "\n",
    "import warnings\n",
    "warnings.filterwarnings('ignore')\n",
    "\n",
    "import os\n",
    "os.environ['TF_CPP_MIN_LOG_LEVEL'] = '3'\n",
    "tf.compat.v1.logging.set_verbosity(tf.compat.v1.logging.ERROR)"
   ]
  },
  {
   "cell_type": "code",
   "execution_count": 2,
   "id": "f9b50fe0",
   "metadata": {
    "execution": {
     "iopub.execute_input": "2025-04-29T04:57:39.889824Z",
     "iopub.status.busy": "2025-04-29T04:57:39.888609Z",
     "iopub.status.idle": "2025-04-29T04:57:39.937064Z",
     "shell.execute_reply": "2025-04-29T04:57:39.935980Z"
    },
    "id": "-be5_efvVpTV",
    "papermill": {
     "duration": 0.063091,
     "end_time": "2025-04-29T04:57:39.939349",
     "exception": false,
     "start_time": "2025-04-29T04:57:39.876258",
     "status": "completed"
    },
    "tags": []
   },
   "outputs": [
    {
     "data": {
      "text/html": [
       "<div>\n",
       "<style scoped>\n",
       "    .dataframe tbody tr th:only-of-type {\n",
       "        vertical-align: middle;\n",
       "    }\n",
       "\n",
       "    .dataframe tbody tr th {\n",
       "        vertical-align: top;\n",
       "    }\n",
       "\n",
       "    .dataframe thead th {\n",
       "        text-align: right;\n",
       "    }\n",
       "</style>\n",
       "<table border=\"1\" class=\"dataframe\">\n",
       "  <thead>\n",
       "    <tr style=\"text-align: right;\">\n",
       "      <th></th>\n",
       "      <th>Date</th>\n",
       "      <th>Open</th>\n",
       "      <th>High</th>\n",
       "      <th>Low</th>\n",
       "      <th>Close</th>\n",
       "      <th>Adj Close</th>\n",
       "      <th>Volume</th>\n",
       "    </tr>\n",
       "  </thead>\n",
       "  <tbody>\n",
       "    <tr>\n",
       "      <th>0</th>\n",
       "      <td>2010-06-29</td>\n",
       "      <td>19.000000</td>\n",
       "      <td>25.000000</td>\n",
       "      <td>17.540001</td>\n",
       "      <td>23.889999</td>\n",
       "      <td>23.889999</td>\n",
       "      <td>18766300</td>\n",
       "    </tr>\n",
       "    <tr>\n",
       "      <th>1</th>\n",
       "      <td>2010-06-30</td>\n",
       "      <td>25.790001</td>\n",
       "      <td>30.420000</td>\n",
       "      <td>23.299999</td>\n",
       "      <td>23.830000</td>\n",
       "      <td>23.830000</td>\n",
       "      <td>17187100</td>\n",
       "    </tr>\n",
       "    <tr>\n",
       "      <th>2</th>\n",
       "      <td>2010-07-01</td>\n",
       "      <td>25.000000</td>\n",
       "      <td>25.920000</td>\n",
       "      <td>20.270000</td>\n",
       "      <td>21.959999</td>\n",
       "      <td>21.959999</td>\n",
       "      <td>8218800</td>\n",
       "    </tr>\n",
       "    <tr>\n",
       "      <th>3</th>\n",
       "      <td>2010-07-02</td>\n",
       "      <td>23.000000</td>\n",
       "      <td>23.100000</td>\n",
       "      <td>18.709999</td>\n",
       "      <td>19.200001</td>\n",
       "      <td>19.200001</td>\n",
       "      <td>5139800</td>\n",
       "    </tr>\n",
       "    <tr>\n",
       "      <th>4</th>\n",
       "      <td>2010-07-06</td>\n",
       "      <td>20.000000</td>\n",
       "      <td>20.000000</td>\n",
       "      <td>15.830000</td>\n",
       "      <td>16.110001</td>\n",
       "      <td>16.110001</td>\n",
       "      <td>6866900</td>\n",
       "    </tr>\n",
       "    <tr>\n",
       "      <th>...</th>\n",
       "      <td>...</td>\n",
       "      <td>...</td>\n",
       "      <td>...</td>\n",
       "      <td>...</td>\n",
       "      <td>...</td>\n",
       "      <td>...</td>\n",
       "      <td>...</td>\n",
       "    </tr>\n",
       "    <tr>\n",
       "      <th>2411</th>\n",
       "      <td>2020-01-28</td>\n",
       "      <td>568.489990</td>\n",
       "      <td>576.809998</td>\n",
       "      <td>558.080017</td>\n",
       "      <td>566.900024</td>\n",
       "      <td>566.900024</td>\n",
       "      <td>11788500</td>\n",
       "    </tr>\n",
       "    <tr>\n",
       "      <th>2412</th>\n",
       "      <td>2020-01-29</td>\n",
       "      <td>575.690002</td>\n",
       "      <td>589.799988</td>\n",
       "      <td>567.429993</td>\n",
       "      <td>580.989990</td>\n",
       "      <td>580.989990</td>\n",
       "      <td>17801500</td>\n",
       "    </tr>\n",
       "    <tr>\n",
       "      <th>2413</th>\n",
       "      <td>2020-01-30</td>\n",
       "      <td>632.419983</td>\n",
       "      <td>650.880005</td>\n",
       "      <td>618.000000</td>\n",
       "      <td>640.809998</td>\n",
       "      <td>640.809998</td>\n",
       "      <td>29005700</td>\n",
       "    </tr>\n",
       "    <tr>\n",
       "      <th>2414</th>\n",
       "      <td>2020-01-31</td>\n",
       "      <td>640.000000</td>\n",
       "      <td>653.000000</td>\n",
       "      <td>632.520020</td>\n",
       "      <td>650.570007</td>\n",
       "      <td>650.570007</td>\n",
       "      <td>15719300</td>\n",
       "    </tr>\n",
       "    <tr>\n",
       "      <th>2415</th>\n",
       "      <td>2020-02-03</td>\n",
       "      <td>673.690002</td>\n",
       "      <td>786.140015</td>\n",
       "      <td>673.520020</td>\n",
       "      <td>780.000000</td>\n",
       "      <td>780.000000</td>\n",
       "      <td>47065000</td>\n",
       "    </tr>\n",
       "  </tbody>\n",
       "</table>\n",
       "<p>2416 rows × 7 columns</p>\n",
       "</div>"
      ],
      "text/plain": [
       "            Date        Open        High         Low       Close   Adj Close  \\\n",
       "0     2010-06-29   19.000000   25.000000   17.540001   23.889999   23.889999   \n",
       "1     2010-06-30   25.790001   30.420000   23.299999   23.830000   23.830000   \n",
       "2     2010-07-01   25.000000   25.920000   20.270000   21.959999   21.959999   \n",
       "3     2010-07-02   23.000000   23.100000   18.709999   19.200001   19.200001   \n",
       "4     2010-07-06   20.000000   20.000000   15.830000   16.110001   16.110001   \n",
       "...          ...         ...         ...         ...         ...         ...   \n",
       "2411  2020-01-28  568.489990  576.809998  558.080017  566.900024  566.900024   \n",
       "2412  2020-01-29  575.690002  589.799988  567.429993  580.989990  580.989990   \n",
       "2413  2020-01-30  632.419983  650.880005  618.000000  640.809998  640.809998   \n",
       "2414  2020-01-31  640.000000  653.000000  632.520020  650.570007  650.570007   \n",
       "2415  2020-02-03  673.690002  786.140015  673.520020  780.000000  780.000000   \n",
       "\n",
       "        Volume  \n",
       "0     18766300  \n",
       "1     17187100  \n",
       "2      8218800  \n",
       "3      5139800  \n",
       "4      6866900  \n",
       "...        ...  \n",
       "2411  11788500  \n",
       "2412  17801500  \n",
       "2413  29005700  \n",
       "2414  15719300  \n",
       "2415  47065000  \n",
       "\n",
       "[2416 rows x 7 columns]"
      ]
     },
     "execution_count": 2,
     "metadata": {},
     "output_type": "execute_result"
    }
   ],
   "source": [
    "df = pd.read_csv('/kaggle/input/tesla-stock-data-from-2010-to-2020/TSLA.csv')\n",
    "df"
   ]
  },
  {
   "cell_type": "code",
   "execution_count": 3,
   "id": "96eeee31",
   "metadata": {
    "execution": {
     "iopub.execute_input": "2025-04-29T04:57:39.965069Z",
     "iopub.status.busy": "2025-04-29T04:57:39.964604Z",
     "iopub.status.idle": "2025-04-29T04:57:39.978087Z",
     "shell.execute_reply": "2025-04-29T04:57:39.977005Z"
    },
    "id": "lG_AO3mdVv17",
    "papermill": {
     "duration": 0.028994,
     "end_time": "2025-04-29T04:57:39.980338",
     "exception": false,
     "start_time": "2025-04-29T04:57:39.951344",
     "status": "completed"
    },
    "tags": []
   },
   "outputs": [
    {
     "data": {
      "text/html": [
       "<div>\n",
       "<style scoped>\n",
       "    .dataframe tbody tr th:only-of-type {\n",
       "        vertical-align: middle;\n",
       "    }\n",
       "\n",
       "    .dataframe tbody tr th {\n",
       "        vertical-align: top;\n",
       "    }\n",
       "\n",
       "    .dataframe thead th {\n",
       "        text-align: right;\n",
       "    }\n",
       "</style>\n",
       "<table border=\"1\" class=\"dataframe\">\n",
       "  <thead>\n",
       "    <tr style=\"text-align: right;\">\n",
       "      <th></th>\n",
       "      <th>Date</th>\n",
       "      <th>Open</th>\n",
       "      <th>High</th>\n",
       "      <th>Low</th>\n",
       "      <th>Close</th>\n",
       "      <th>Adj Close</th>\n",
       "      <th>Volume</th>\n",
       "    </tr>\n",
       "  </thead>\n",
       "  <tbody>\n",
       "    <tr>\n",
       "      <th>0</th>\n",
       "      <td>2010-06-29</td>\n",
       "      <td>19.000000</td>\n",
       "      <td>25.00</td>\n",
       "      <td>17.540001</td>\n",
       "      <td>23.889999</td>\n",
       "      <td>23.889999</td>\n",
       "      <td>18766300</td>\n",
       "    </tr>\n",
       "    <tr>\n",
       "      <th>1</th>\n",
       "      <td>2010-06-30</td>\n",
       "      <td>25.790001</td>\n",
       "      <td>30.42</td>\n",
       "      <td>23.299999</td>\n",
       "      <td>23.830000</td>\n",
       "      <td>23.830000</td>\n",
       "      <td>17187100</td>\n",
       "    </tr>\n",
       "    <tr>\n",
       "      <th>2</th>\n",
       "      <td>2010-07-01</td>\n",
       "      <td>25.000000</td>\n",
       "      <td>25.92</td>\n",
       "      <td>20.270000</td>\n",
       "      <td>21.959999</td>\n",
       "      <td>21.959999</td>\n",
       "      <td>8218800</td>\n",
       "    </tr>\n",
       "    <tr>\n",
       "      <th>3</th>\n",
       "      <td>2010-07-02</td>\n",
       "      <td>23.000000</td>\n",
       "      <td>23.10</td>\n",
       "      <td>18.709999</td>\n",
       "      <td>19.200001</td>\n",
       "      <td>19.200001</td>\n",
       "      <td>5139800</td>\n",
       "    </tr>\n",
       "    <tr>\n",
       "      <th>4</th>\n",
       "      <td>2010-07-06</td>\n",
       "      <td>20.000000</td>\n",
       "      <td>20.00</td>\n",
       "      <td>15.830000</td>\n",
       "      <td>16.110001</td>\n",
       "      <td>16.110001</td>\n",
       "      <td>6866900</td>\n",
       "    </tr>\n",
       "  </tbody>\n",
       "</table>\n",
       "</div>"
      ],
      "text/plain": [
       "         Date       Open   High        Low      Close  Adj Close    Volume\n",
       "0  2010-06-29  19.000000  25.00  17.540001  23.889999  23.889999  18766300\n",
       "1  2010-06-30  25.790001  30.42  23.299999  23.830000  23.830000  17187100\n",
       "2  2010-07-01  25.000000  25.92  20.270000  21.959999  21.959999   8218800\n",
       "3  2010-07-02  23.000000  23.10  18.709999  19.200001  19.200001   5139800\n",
       "4  2010-07-06  20.000000  20.00  15.830000  16.110001  16.110001   6866900"
      ]
     },
     "execution_count": 3,
     "metadata": {},
     "output_type": "execute_result"
    }
   ],
   "source": [
    "df.head()"
   ]
  },
  {
   "cell_type": "code",
   "execution_count": 4,
   "id": "09e220fa",
   "metadata": {
    "execution": {
     "iopub.execute_input": "2025-04-29T04:57:40.005422Z",
     "iopub.status.busy": "2025-04-29T04:57:40.005008Z",
     "iopub.status.idle": "2025-04-29T04:57:40.011686Z",
     "shell.execute_reply": "2025-04-29T04:57:40.010648Z"
    },
    "id": "TU5hlfyvVxY0",
    "papermill": {
     "duration": 0.021646,
     "end_time": "2025-04-29T04:57:40.013837",
     "exception": false,
     "start_time": "2025-04-29T04:57:39.992191",
     "status": "completed"
    },
    "tags": []
   },
   "outputs": [],
   "source": [
    "def check_df(dataframe, head=5):\n",
    "    print(\"##################### Shape #####################\")\n",
    "    print(dataframe.shape)\n",
    "    print(\"##################### Types #####################\")\n",
    "    print(dataframe.dtypes)\n",
    "    print(\"##################### Head #####################\")\n",
    "    print(dataframe.head(head))  # Fonksiyon çağrısına dikkat edin\n",
    "    print(\"##################### Tail #####################\")\n",
    "    print(dataframe.tail(head))\n",
    "    print(\"##################### NA #####################\")\n",
    "    print(dataframe.isnull().sum())\n",
    "    print(\"##################### Quantile #####################\")\n",
    "    print(dataframe.select_dtypes(include='number').quantile([0, 0.05, 0.5, 0.95, 0.99, 1]).T)\n"
   ]
  },
  {
   "cell_type": "code",
   "execution_count": 5,
   "id": "803b5501",
   "metadata": {
    "execution": {
     "iopub.execute_input": "2025-04-29T04:57:40.039231Z",
     "iopub.status.busy": "2025-04-29T04:57:40.038579Z",
     "iopub.status.idle": "2025-04-29T04:57:40.060571Z",
     "shell.execute_reply": "2025-04-29T04:57:40.059582Z"
    },
    "id": "t6iFP965V4vk",
    "papermill": {
     "duration": 0.037405,
     "end_time": "2025-04-29T04:57:40.063125",
     "exception": false,
     "start_time": "2025-04-29T04:57:40.025720",
     "status": "completed"
    },
    "tags": []
   },
   "outputs": [
    {
     "name": "stdout",
     "output_type": "stream",
     "text": [
      "##################### Shape #####################\n",
      "(2416, 7)\n",
      "##################### Types #####################\n",
      "Date          object\n",
      "Open         float64\n",
      "High         float64\n",
      "Low          float64\n",
      "Close        float64\n",
      "Adj Close    float64\n",
      "Volume         int64\n",
      "dtype: object\n",
      "##################### Head #####################\n",
      "         Date       Open   High        Low      Close  Adj Close    Volume\n",
      "0  2010-06-29  19.000000  25.00  17.540001  23.889999  23.889999  18766300\n",
      "1  2010-06-30  25.790001  30.42  23.299999  23.830000  23.830000  17187100\n",
      "2  2010-07-01  25.000000  25.92  20.270000  21.959999  21.959999   8218800\n",
      "3  2010-07-02  23.000000  23.10  18.709999  19.200001  19.200001   5139800\n",
      "4  2010-07-06  20.000000  20.00  15.830000  16.110001  16.110001   6866900\n",
      "##################### Tail #####################\n",
      "            Date        Open        High         Low       Close   Adj Close  \\\n",
      "2411  2020-01-28  568.489990  576.809998  558.080017  566.900024  566.900024   \n",
      "2412  2020-01-29  575.690002  589.799988  567.429993  580.989990  580.989990   \n",
      "2413  2020-01-30  632.419983  650.880005  618.000000  640.809998  640.809998   \n",
      "2414  2020-01-31  640.000000  653.000000  632.520020  650.570007  650.570007   \n",
      "2415  2020-02-03  673.690002  786.140015  673.520020  780.000000  780.000000   \n",
      "\n",
      "        Volume  \n",
      "2411  11788500  \n",
      "2412  17801500  \n",
      "2413  29005700  \n",
      "2414  15719300  \n",
      "2415  47065000  \n",
      "##################### NA #####################\n",
      "Date         0\n",
      "Open         0\n",
      "High         0\n",
      "Low          0\n",
      "Close        0\n",
      "Adj Close    0\n",
      "Volume       0\n",
      "dtype: int64\n",
      "##################### Quantile #####################\n",
      "                    0.00           0.05          0.50          0.95  \\\n",
      "Open           16.139999      23.384999  2.130350e+02  3.519100e+02   \n",
      "High           16.629999      24.022501  2.167450e+02  3.567500e+02   \n",
      "Low            14.980000      22.867499  2.088700e+02  3.460250e+02   \n",
      "Close          15.800000      23.565000  2.129600e+02  3.511675e+02   \n",
      "Adj Close      15.800000      23.565000  2.129600e+02  3.511675e+02   \n",
      "Volume     118500.000000  633825.000000  4.578400e+06  1.476090e+07   \n",
      "\n",
      "                   0.99          1.00  \n",
      "Open       4.235790e+02  6.736900e+02  \n",
      "High       4.284705e+02  7.861400e+02  \n",
      "Low        4.122865e+02  6.735200e+02  \n",
      "Close      4.243455e+02  7.800000e+02  \n",
      "Adj Close  4.243455e+02  7.800000e+02  \n",
      "Volume     2.459959e+07  4.706500e+07  \n"
     ]
    }
   ],
   "source": [
    "check_df(df)"
   ]
  },
  {
   "cell_type": "markdown",
   "id": "761aa504",
   "metadata": {
    "id": "v2n2ONcpWlQl",
    "papermill": {
     "duration": 0.011493,
     "end_time": "2025-04-29T04:57:40.086932",
     "exception": false,
     "start_time": "2025-04-29T04:57:40.075439",
     "status": "completed"
    },
    "tags": []
   },
   "source": [
    "## Data Preparation"
   ]
  },
  {
   "cell_type": "code",
   "execution_count": 6,
   "id": "c97b86f8",
   "metadata": {
    "execution": {
     "iopub.execute_input": "2025-04-29T04:57:40.112363Z",
     "iopub.status.busy": "2025-04-29T04:57:40.111510Z",
     "iopub.status.idle": "2025-04-29T04:57:40.121585Z",
     "shell.execute_reply": "2025-04-29T04:57:40.120561Z"
    },
    "id": "x-En8ormWAo8",
    "papermill": {
     "duration": 0.024985,
     "end_time": "2025-04-29T04:57:40.123576",
     "exception": false,
     "start_time": "2025-04-29T04:57:40.098591",
     "status": "completed"
    },
    "tags": []
   },
   "outputs": [],
   "source": [
    "df[\"Date\"] = pd.to_datetime(df[\"Date\"])"
   ]
  },
  {
   "cell_type": "code",
   "execution_count": 7,
   "id": "c0991269",
   "metadata": {
    "execution": {
     "iopub.execute_input": "2025-04-29T04:57:40.148569Z",
     "iopub.status.busy": "2025-04-29T04:57:40.147873Z",
     "iopub.status.idle": "2025-04-29T04:57:40.161664Z",
     "shell.execute_reply": "2025-04-29T04:57:40.160636Z"
    },
    "id": "Wk3C4MPkWBUG",
    "papermill": {
     "duration": 0.028444,
     "end_time": "2025-04-29T04:57:40.163763",
     "exception": false,
     "start_time": "2025-04-29T04:57:40.135319",
     "status": "completed"
    },
    "tags": []
   },
   "outputs": [
    {
     "data": {
      "text/html": [
       "<div>\n",
       "<style scoped>\n",
       "    .dataframe tbody tr th:only-of-type {\n",
       "        vertical-align: middle;\n",
       "    }\n",
       "\n",
       "    .dataframe tbody tr th {\n",
       "        vertical-align: top;\n",
       "    }\n",
       "\n",
       "    .dataframe thead th {\n",
       "        text-align: right;\n",
       "    }\n",
       "</style>\n",
       "<table border=\"1\" class=\"dataframe\">\n",
       "  <thead>\n",
       "    <tr style=\"text-align: right;\">\n",
       "      <th></th>\n",
       "      <th>Date</th>\n",
       "      <th>Open</th>\n",
       "      <th>High</th>\n",
       "      <th>Low</th>\n",
       "      <th>Close</th>\n",
       "      <th>Adj Close</th>\n",
       "      <th>Volume</th>\n",
       "    </tr>\n",
       "  </thead>\n",
       "  <tbody>\n",
       "    <tr>\n",
       "      <th>0</th>\n",
       "      <td>2010-06-29</td>\n",
       "      <td>19.000000</td>\n",
       "      <td>25.00</td>\n",
       "      <td>17.540001</td>\n",
       "      <td>23.889999</td>\n",
       "      <td>23.889999</td>\n",
       "      <td>18766300</td>\n",
       "    </tr>\n",
       "    <tr>\n",
       "      <th>1</th>\n",
       "      <td>2010-06-30</td>\n",
       "      <td>25.790001</td>\n",
       "      <td>30.42</td>\n",
       "      <td>23.299999</td>\n",
       "      <td>23.830000</td>\n",
       "      <td>23.830000</td>\n",
       "      <td>17187100</td>\n",
       "    </tr>\n",
       "    <tr>\n",
       "      <th>2</th>\n",
       "      <td>2010-07-01</td>\n",
       "      <td>25.000000</td>\n",
       "      <td>25.92</td>\n",
       "      <td>20.270000</td>\n",
       "      <td>21.959999</td>\n",
       "      <td>21.959999</td>\n",
       "      <td>8218800</td>\n",
       "    </tr>\n",
       "    <tr>\n",
       "      <th>3</th>\n",
       "      <td>2010-07-02</td>\n",
       "      <td>23.000000</td>\n",
       "      <td>23.10</td>\n",
       "      <td>18.709999</td>\n",
       "      <td>19.200001</td>\n",
       "      <td>19.200001</td>\n",
       "      <td>5139800</td>\n",
       "    </tr>\n",
       "    <tr>\n",
       "      <th>4</th>\n",
       "      <td>2010-07-06</td>\n",
       "      <td>20.000000</td>\n",
       "      <td>20.00</td>\n",
       "      <td>15.830000</td>\n",
       "      <td>16.110001</td>\n",
       "      <td>16.110001</td>\n",
       "      <td>6866900</td>\n",
       "    </tr>\n",
       "  </tbody>\n",
       "</table>\n",
       "</div>"
      ],
      "text/plain": [
       "        Date       Open   High        Low      Close  Adj Close    Volume\n",
       "0 2010-06-29  19.000000  25.00  17.540001  23.889999  23.889999  18766300\n",
       "1 2010-06-30  25.790001  30.42  23.299999  23.830000  23.830000  17187100\n",
       "2 2010-07-01  25.000000  25.92  20.270000  21.959999  21.959999   8218800\n",
       "3 2010-07-02  23.000000  23.10  18.709999  19.200001  19.200001   5139800\n",
       "4 2010-07-06  20.000000  20.00  15.830000  16.110001  16.110001   6866900"
      ]
     },
     "execution_count": 7,
     "metadata": {},
     "output_type": "execute_result"
    }
   ],
   "source": [
    "df.head()"
   ]
  },
  {
   "cell_type": "code",
   "execution_count": 8,
   "id": "74d05256",
   "metadata": {
    "execution": {
     "iopub.execute_input": "2025-04-29T04:57:40.189112Z",
     "iopub.status.busy": "2025-04-29T04:57:40.188721Z",
     "iopub.status.idle": "2025-04-29T04:57:40.194826Z",
     "shell.execute_reply": "2025-04-29T04:57:40.193934Z"
    },
    "id": "ZOVzSrk1WCHu",
    "papermill": {
     "duration": 0.021076,
     "end_time": "2025-04-29T04:57:40.196763",
     "exception": false,
     "start_time": "2025-04-29T04:57:40.175687",
     "status": "completed"
    },
    "tags": []
   },
   "outputs": [],
   "source": [
    "tesla_df = df[[\"Date\", \"Close\"]]"
   ]
  },
  {
   "cell_type": "code",
   "execution_count": 9,
   "id": "c026361d",
   "metadata": {
    "execution": {
     "iopub.execute_input": "2025-04-29T04:57:40.222216Z",
     "iopub.status.busy": "2025-04-29T04:57:40.221795Z",
     "iopub.status.idle": "2025-04-29T04:57:40.231884Z",
     "shell.execute_reply": "2025-04-29T04:57:40.230838Z"
    },
    "id": "Tli5FuMBWF8l",
    "papermill": {
     "duration": 0.025082,
     "end_time": "2025-04-29T04:57:40.233925",
     "exception": false,
     "start_time": "2025-04-29T04:57:40.208843",
     "status": "completed"
    },
    "tags": []
   },
   "outputs": [
    {
     "data": {
      "text/html": [
       "<div>\n",
       "<style scoped>\n",
       "    .dataframe tbody tr th:only-of-type {\n",
       "        vertical-align: middle;\n",
       "    }\n",
       "\n",
       "    .dataframe tbody tr th {\n",
       "        vertical-align: top;\n",
       "    }\n",
       "\n",
       "    .dataframe thead th {\n",
       "        text-align: right;\n",
       "    }\n",
       "</style>\n",
       "<table border=\"1\" class=\"dataframe\">\n",
       "  <thead>\n",
       "    <tr style=\"text-align: right;\">\n",
       "      <th></th>\n",
       "      <th>Date</th>\n",
       "      <th>Close</th>\n",
       "    </tr>\n",
       "  </thead>\n",
       "  <tbody>\n",
       "    <tr>\n",
       "      <th>0</th>\n",
       "      <td>2010-06-29</td>\n",
       "      <td>23.889999</td>\n",
       "    </tr>\n",
       "    <tr>\n",
       "      <th>1</th>\n",
       "      <td>2010-06-30</td>\n",
       "      <td>23.830000</td>\n",
       "    </tr>\n",
       "    <tr>\n",
       "      <th>2</th>\n",
       "      <td>2010-07-01</td>\n",
       "      <td>21.959999</td>\n",
       "    </tr>\n",
       "    <tr>\n",
       "      <th>3</th>\n",
       "      <td>2010-07-02</td>\n",
       "      <td>19.200001</td>\n",
       "    </tr>\n",
       "    <tr>\n",
       "      <th>4</th>\n",
       "      <td>2010-07-06</td>\n",
       "      <td>16.110001</td>\n",
       "    </tr>\n",
       "  </tbody>\n",
       "</table>\n",
       "</div>"
      ],
      "text/plain": [
       "        Date      Close\n",
       "0 2010-06-29  23.889999\n",
       "1 2010-06-30  23.830000\n",
       "2 2010-07-01  21.959999\n",
       "3 2010-07-02  19.200001\n",
       "4 2010-07-06  16.110001"
      ]
     },
     "execution_count": 9,
     "metadata": {},
     "output_type": "execute_result"
    }
   ],
   "source": [
    "tesla_df.head()"
   ]
  },
  {
   "cell_type": "code",
   "execution_count": 10,
   "id": "7dd12bc7",
   "metadata": {
    "execution": {
     "iopub.execute_input": "2025-04-29T04:57:40.260792Z",
     "iopub.status.busy": "2025-04-29T04:57:40.259897Z",
     "iopub.status.idle": "2025-04-29T04:57:40.266290Z",
     "shell.execute_reply": "2025-04-29T04:57:40.265237Z"
    },
    "id": "Gsw5OQCAWLzn",
    "papermill": {
     "duration": 0.022027,
     "end_time": "2025-04-29T04:57:40.268584",
     "exception": false,
     "start_time": "2025-04-29T04:57:40.246557",
     "status": "completed"
    },
    "tags": []
   },
   "outputs": [
    {
     "name": "stdout",
     "output_type": "stream",
     "text": [
      "Min Date:  2010-06-29 00:00:00\n",
      "Max Date:  2020-02-03 00:00:00\n"
     ]
    }
   ],
   "source": [
    "print(\"Min Date: \", tesla_df[\"Date\"].min())\n",
    "print(\"Max Date: \", tesla_df[\"Date\"].max())"
   ]
  },
  {
   "cell_type": "code",
   "execution_count": 11,
   "id": "c5815d2a",
   "metadata": {
    "execution": {
     "iopub.execute_input": "2025-04-29T04:57:40.294901Z",
     "iopub.status.busy": "2025-04-29T04:57:40.294139Z",
     "iopub.status.idle": "2025-04-29T04:57:40.299097Z",
     "shell.execute_reply": "2025-04-29T04:57:40.298096Z"
    },
    "id": "JGi8P08mWQO1",
    "papermill": {
     "duration": 0.020297,
     "end_time": "2025-04-29T04:57:40.301072",
     "exception": false,
     "start_time": "2025-04-29T04:57:40.280775",
     "status": "completed"
    },
    "tags": []
   },
   "outputs": [],
   "source": [
    "tesla_df.index = tesla_df[\"Date\"]"
   ]
  },
  {
   "cell_type": "code",
   "execution_count": 12,
   "id": "1b7287a6",
   "metadata": {
    "execution": {
     "iopub.execute_input": "2025-04-29T04:57:40.327803Z",
     "iopub.status.busy": "2025-04-29T04:57:40.326890Z",
     "iopub.status.idle": "2025-04-29T04:57:40.339105Z",
     "shell.execute_reply": "2025-04-29T04:57:40.338088Z"
    },
    "id": "YBWxX2IOWoL_",
    "papermill": {
     "duration": 0.027669,
     "end_time": "2025-04-29T04:57:40.341151",
     "exception": false,
     "start_time": "2025-04-29T04:57:40.313482",
     "status": "completed"
    },
    "tags": []
   },
   "outputs": [
    {
     "data": {
      "text/html": [
       "<div>\n",
       "<style scoped>\n",
       "    .dataframe tbody tr th:only-of-type {\n",
       "        vertical-align: middle;\n",
       "    }\n",
       "\n",
       "    .dataframe tbody tr th {\n",
       "        vertical-align: top;\n",
       "    }\n",
       "\n",
       "    .dataframe thead th {\n",
       "        text-align: right;\n",
       "    }\n",
       "</style>\n",
       "<table border=\"1\" class=\"dataframe\">\n",
       "  <thead>\n",
       "    <tr style=\"text-align: right;\">\n",
       "      <th></th>\n",
       "      <th>Date</th>\n",
       "      <th>Close</th>\n",
       "    </tr>\n",
       "    <tr>\n",
       "      <th>Date</th>\n",
       "      <th></th>\n",
       "      <th></th>\n",
       "    </tr>\n",
       "  </thead>\n",
       "  <tbody>\n",
       "    <tr>\n",
       "      <th>2010-06-29</th>\n",
       "      <td>2010-06-29</td>\n",
       "      <td>23.889999</td>\n",
       "    </tr>\n",
       "    <tr>\n",
       "      <th>2010-06-30</th>\n",
       "      <td>2010-06-30</td>\n",
       "      <td>23.830000</td>\n",
       "    </tr>\n",
       "    <tr>\n",
       "      <th>2010-07-01</th>\n",
       "      <td>2010-07-01</td>\n",
       "      <td>21.959999</td>\n",
       "    </tr>\n",
       "    <tr>\n",
       "      <th>2010-07-02</th>\n",
       "      <td>2010-07-02</td>\n",
       "      <td>19.200001</td>\n",
       "    </tr>\n",
       "    <tr>\n",
       "      <th>2010-07-06</th>\n",
       "      <td>2010-07-06</td>\n",
       "      <td>16.110001</td>\n",
       "    </tr>\n",
       "    <tr>\n",
       "      <th>...</th>\n",
       "      <td>...</td>\n",
       "      <td>...</td>\n",
       "    </tr>\n",
       "    <tr>\n",
       "      <th>2020-01-28</th>\n",
       "      <td>2020-01-28</td>\n",
       "      <td>566.900024</td>\n",
       "    </tr>\n",
       "    <tr>\n",
       "      <th>2020-01-29</th>\n",
       "      <td>2020-01-29</td>\n",
       "      <td>580.989990</td>\n",
       "    </tr>\n",
       "    <tr>\n",
       "      <th>2020-01-30</th>\n",
       "      <td>2020-01-30</td>\n",
       "      <td>640.809998</td>\n",
       "    </tr>\n",
       "    <tr>\n",
       "      <th>2020-01-31</th>\n",
       "      <td>2020-01-31</td>\n",
       "      <td>650.570007</td>\n",
       "    </tr>\n",
       "    <tr>\n",
       "      <th>2020-02-03</th>\n",
       "      <td>2020-02-03</td>\n",
       "      <td>780.000000</td>\n",
       "    </tr>\n",
       "  </tbody>\n",
       "</table>\n",
       "<p>2416 rows × 2 columns</p>\n",
       "</div>"
      ],
      "text/plain": [
       "                 Date       Close\n",
       "Date                             \n",
       "2010-06-29 2010-06-29   23.889999\n",
       "2010-06-30 2010-06-30   23.830000\n",
       "2010-07-01 2010-07-01   21.959999\n",
       "2010-07-02 2010-07-02   19.200001\n",
       "2010-07-06 2010-07-06   16.110001\n",
       "...               ...         ...\n",
       "2020-01-28 2020-01-28  566.900024\n",
       "2020-01-29 2020-01-29  580.989990\n",
       "2020-01-30 2020-01-30  640.809998\n",
       "2020-01-31 2020-01-31  650.570007\n",
       "2020-02-03 2020-02-03  780.000000\n",
       "\n",
       "[2416 rows x 2 columns]"
      ]
     },
     "execution_count": 12,
     "metadata": {},
     "output_type": "execute_result"
    }
   ],
   "source": [
    "tesla_df"
   ]
  },
  {
   "cell_type": "code",
   "execution_count": 13,
   "id": "8d598265",
   "metadata": {
    "execution": {
     "iopub.execute_input": "2025-04-29T04:57:40.367532Z",
     "iopub.status.busy": "2025-04-29T04:57:40.367129Z",
     "iopub.status.idle": "2025-04-29T04:57:40.373204Z",
     "shell.execute_reply": "2025-04-29T04:57:40.372129Z"
    },
    "id": "tgPM31WBWvcH",
    "papermill": {
     "duration": 0.021557,
     "end_time": "2025-04-29T04:57:40.375198",
     "exception": false,
     "start_time": "2025-04-29T04:57:40.353641",
     "status": "completed"
    },
    "tags": []
   },
   "outputs": [],
   "source": [
    "tesla_df.drop(\"Date\", axis=1, inplace=True)"
   ]
  },
  {
   "cell_type": "code",
   "execution_count": 14,
   "id": "217a370e",
   "metadata": {
    "execution": {
     "iopub.execute_input": "2025-04-29T04:57:40.402389Z",
     "iopub.status.busy": "2025-04-29T04:57:40.401952Z",
     "iopub.status.idle": "2025-04-29T04:57:40.412556Z",
     "shell.execute_reply": "2025-04-29T04:57:40.411573Z"
    },
    "id": "17KdnKMGWwSm",
    "papermill": {
     "duration": 0.026945,
     "end_time": "2025-04-29T04:57:40.414651",
     "exception": false,
     "start_time": "2025-04-29T04:57:40.387706",
     "status": "completed"
    },
    "tags": []
   },
   "outputs": [
    {
     "data": {
      "text/html": [
       "<div>\n",
       "<style scoped>\n",
       "    .dataframe tbody tr th:only-of-type {\n",
       "        vertical-align: middle;\n",
       "    }\n",
       "\n",
       "    .dataframe tbody tr th {\n",
       "        vertical-align: top;\n",
       "    }\n",
       "\n",
       "    .dataframe thead th {\n",
       "        text-align: right;\n",
       "    }\n",
       "</style>\n",
       "<table border=\"1\" class=\"dataframe\">\n",
       "  <thead>\n",
       "    <tr style=\"text-align: right;\">\n",
       "      <th></th>\n",
       "      <th>Close</th>\n",
       "    </tr>\n",
       "    <tr>\n",
       "      <th>Date</th>\n",
       "      <th></th>\n",
       "    </tr>\n",
       "  </thead>\n",
       "  <tbody>\n",
       "    <tr>\n",
       "      <th>2010-06-29</th>\n",
       "      <td>23.889999</td>\n",
       "    </tr>\n",
       "    <tr>\n",
       "      <th>2010-06-30</th>\n",
       "      <td>23.830000</td>\n",
       "    </tr>\n",
       "    <tr>\n",
       "      <th>2010-07-01</th>\n",
       "      <td>21.959999</td>\n",
       "    </tr>\n",
       "    <tr>\n",
       "      <th>2010-07-02</th>\n",
       "      <td>19.200001</td>\n",
       "    </tr>\n",
       "    <tr>\n",
       "      <th>2010-07-06</th>\n",
       "      <td>16.110001</td>\n",
       "    </tr>\n",
       "    <tr>\n",
       "      <th>...</th>\n",
       "      <td>...</td>\n",
       "    </tr>\n",
       "    <tr>\n",
       "      <th>2020-01-28</th>\n",
       "      <td>566.900024</td>\n",
       "    </tr>\n",
       "    <tr>\n",
       "      <th>2020-01-29</th>\n",
       "      <td>580.989990</td>\n",
       "    </tr>\n",
       "    <tr>\n",
       "      <th>2020-01-30</th>\n",
       "      <td>640.809998</td>\n",
       "    </tr>\n",
       "    <tr>\n",
       "      <th>2020-01-31</th>\n",
       "      <td>650.570007</td>\n",
       "    </tr>\n",
       "    <tr>\n",
       "      <th>2020-02-03</th>\n",
       "      <td>780.000000</td>\n",
       "    </tr>\n",
       "  </tbody>\n",
       "</table>\n",
       "<p>2416 rows × 1 columns</p>\n",
       "</div>"
      ],
      "text/plain": [
       "                 Close\n",
       "Date                  \n",
       "2010-06-29   23.889999\n",
       "2010-06-30   23.830000\n",
       "2010-07-01   21.959999\n",
       "2010-07-02   19.200001\n",
       "2010-07-06   16.110001\n",
       "...                ...\n",
       "2020-01-28  566.900024\n",
       "2020-01-29  580.989990\n",
       "2020-01-30  640.809998\n",
       "2020-01-31  650.570007\n",
       "2020-02-03  780.000000\n",
       "\n",
       "[2416 rows x 1 columns]"
      ]
     },
     "execution_count": 14,
     "metadata": {},
     "output_type": "execute_result"
    }
   ],
   "source": [
    "tesla_df"
   ]
  },
  {
   "cell_type": "code",
   "execution_count": 15,
   "id": "94171ec5",
   "metadata": {
    "execution": {
     "iopub.execute_input": "2025-04-29T04:57:40.441218Z",
     "iopub.status.busy": "2025-04-29T04:57:40.440782Z",
     "iopub.status.idle": "2025-04-29T04:57:40.445596Z",
     "shell.execute_reply": "2025-04-29T04:57:40.444517Z"
    },
    "id": "PliZ5OcsWxsF",
    "papermill": {
     "duration": 0.020176,
     "end_time": "2025-04-29T04:57:40.447505",
     "exception": false,
     "start_time": "2025-04-29T04:57:40.427329",
     "status": "completed"
    },
    "tags": []
   },
   "outputs": [],
   "source": [
    "result_df = tesla_df.copy()"
   ]
  },
  {
   "cell_type": "code",
   "execution_count": 16,
   "id": "344a6e51",
   "metadata": {
    "execution": {
     "iopub.execute_input": "2025-04-29T04:57:40.474532Z",
     "iopub.status.busy": "2025-04-29T04:57:40.474185Z",
     "iopub.status.idle": "2025-04-29T04:57:40.836416Z",
     "shell.execute_reply": "2025-04-29T04:57:40.835409Z"
    },
    "id": "ObqHX6K2W0te",
    "papermill": {
     "duration": 0.37832,
     "end_time": "2025-04-29T04:57:40.838629",
     "exception": false,
     "start_time": "2025-04-29T04:57:40.460309",
     "status": "completed"
    },
    "tags": []
   },
   "outputs": [
    {
     "data": {
      "image/png": "[encoded data removed]",
      "text/plain": [
       "<Figure size 1400x500 with 1 Axes>"
      ]
     },
     "metadata": {},
     "output_type": "display_data"
    }
   ],
   "source": [
    "plt.figure(figsize=(14,5))\n",
    "plt.plot(tesla_df['Close'], color='blue')\n",
    "plt.title(\"Tesla Stock Price\")\n",
    "plt.xlabel(\"Time\")\n",
    "plt.ylabel(\"Stock Price\")\n",
    "plt.show()"
   ]
  },
  {
   "cell_type": "code",
   "execution_count": 17,
   "id": "8fdf6bab",
   "metadata": {
    "execution": {
     "iopub.execute_input": "2025-04-29T04:57:40.867823Z",
     "iopub.status.busy": "2025-04-29T04:57:40.867434Z",
     "iopub.status.idle": "2025-04-29T04:57:40.872114Z",
     "shell.execute_reply": "2025-04-29T04:57:40.871163Z"
    },
    "id": "5LWFDWjNW2z2",
    "papermill": {
     "duration": 0.02186,
     "end_time": "2025-04-29T04:57:40.874427",
     "exception": false,
     "start_time": "2025-04-29T04:57:40.852567",
     "status": "completed"
    },
    "tags": []
   },
   "outputs": [],
   "source": [
    "tesla_df = tesla_df.values"
   ]
  },
  {
   "cell_type": "code",
   "execution_count": 18,
   "id": "e351e77e",
   "metadata": {
    "execution": {
     "iopub.execute_input": "2025-04-29T04:57:40.903157Z",
     "iopub.status.busy": "2025-04-29T04:57:40.902759Z",
     "iopub.status.idle": "2025-04-29T04:57:40.909270Z",
     "shell.execute_reply": "2025-04-29T04:57:40.908293Z"
    },
    "id": "jxFZkTS-W9Mm",
    "papermill": {
     "duration": 0.023142,
     "end_time": "2025-04-29T04:57:40.911256",
     "exception": false,
     "start_time": "2025-04-29T04:57:40.888114",
     "status": "completed"
    },
    "tags": []
   },
   "outputs": [
    {
     "data": {
      "text/plain": [
       "array([[23.889999],\n",
       "       [23.83    ],\n",
       "       [21.959999],\n",
       "       [19.200001],\n",
       "       [16.110001]])"
      ]
     },
     "execution_count": 18,
     "metadata": {},
     "output_type": "execute_result"
    }
   ],
   "source": [
    "tesla_df[0:5]"
   ]
  },
  {
   "cell_type": "code",
   "execution_count": 19,
   "id": "667b8f5d",
   "metadata": {
    "execution": {
     "iopub.execute_input": "2025-04-29T04:57:40.940368Z",
     "iopub.status.busy": "2025-04-29T04:57:40.939388Z",
     "iopub.status.idle": "2025-04-29T04:57:40.944220Z",
     "shell.execute_reply": "2025-04-29T04:57:40.943272Z"
    },
    "id": "iU7KJlc4XAb2",
    "papermill": {
     "duration": 0.021601,
     "end_time": "2025-04-29T04:57:40.946319",
     "exception": false,
     "start_time": "2025-04-29T04:57:40.924718",
     "status": "completed"
    },
    "tags": []
   },
   "outputs": [],
   "source": [
    "tesla_df = tesla_df.astype(\"float32\")"
   ]
  },
  {
   "cell_type": "code",
   "execution_count": 20,
   "id": "41ae3e84",
   "metadata": {
    "execution": {
     "iopub.execute_input": "2025-04-29T04:57:40.974876Z",
     "iopub.status.busy": "2025-04-29T04:57:40.974487Z",
     "iopub.status.idle": "2025-04-29T04:57:40.979929Z",
     "shell.execute_reply": "2025-04-29T04:57:40.978950Z"
    },
    "id": "r7Cywk9oXBI-",
    "papermill": {
     "duration": 0.022175,
     "end_time": "2025-04-29T04:57:40.982046",
     "exception": false,
     "start_time": "2025-04-29T04:57:40.959871",
     "status": "completed"
    },
    "tags": []
   },
   "outputs": [],
   "source": [
    "def split_data(dataframe, test_size):\n",
    "  position = int(round(len(dataframe) * (1 - test_size)))\n",
    "  train = dataframe[:position]\n",
    "  test = dataframe[position:]\n",
    "  return train, test, position"
   ]
  },
  {
   "cell_type": "code",
   "execution_count": 21,
   "id": "1e320a98",
   "metadata": {
    "execution": {
     "iopub.execute_input": "2025-04-29T04:57:41.010788Z",
     "iopub.status.busy": "2025-04-29T04:57:41.010394Z",
     "iopub.status.idle": "2025-04-29T04:57:41.015186Z",
     "shell.execute_reply": "2025-04-29T04:57:41.014110Z"
    },
    "id": "COxqfz0SZvV_",
    "papermill": {
     "duration": 0.021875,
     "end_time": "2025-04-29T04:57:41.017513",
     "exception": false,
     "start_time": "2025-04-29T04:57:40.995638",
     "status": "completed"
    },
    "tags": []
   },
   "outputs": [],
   "source": [
    "train, test, position = split_data(tesla_df, 0.20)"
   ]
  },
  {
   "cell_type": "code",
   "execution_count": 22,
   "id": "f8b7691b",
   "metadata": {
    "execution": {
     "iopub.execute_input": "2025-04-29T04:57:41.046923Z",
     "iopub.status.busy": "2025-04-29T04:57:41.046535Z",
     "iopub.status.idle": "2025-04-29T04:57:41.052257Z",
     "shell.execute_reply": "2025-04-29T04:57:41.051090Z"
    },
    "id": "jESwxnt2Z1t5",
    "papermill": {
     "duration": 0.023027,
     "end_time": "2025-04-29T04:57:41.054480",
     "exception": false,
     "start_time": "2025-04-29T04:57:41.031453",
     "status": "completed"
    },
    "tags": []
   },
   "outputs": [
    {
     "name": "stdout",
     "output_type": "stream",
     "text": [
      "(1933, 1) (483, 1)\n"
     ]
    }
   ],
   "source": [
    "print(train.shape, test.shape)"
   ]
  },
  {
   "cell_type": "code",
   "execution_count": 23,
   "id": "c86e5620",
   "metadata": {
    "execution": {
     "iopub.execute_input": "2025-04-29T04:57:41.083600Z",
     "iopub.status.busy": "2025-04-29T04:57:41.083207Z",
     "iopub.status.idle": "2025-04-29T04:57:41.088181Z",
     "shell.execute_reply": "2025-04-29T04:57:41.087120Z"
    },
    "id": "wleQDdgSZ8NZ",
    "papermill": {
     "duration": 0.021842,
     "end_time": "2025-04-29T04:57:41.090203",
     "exception": false,
     "start_time": "2025-04-29T04:57:41.068361",
     "status": "completed"
    },
    "tags": []
   },
   "outputs": [],
   "source": [
    "scaler_train = MinMaxScaler(feature_range = (0,1))"
   ]
  },
  {
   "cell_type": "code",
   "execution_count": 24,
   "id": "8852f4ee",
   "metadata": {
    "execution": {
     "iopub.execute_input": "2025-04-29T04:57:41.119354Z",
     "iopub.status.busy": "2025-04-29T04:57:41.118442Z",
     "iopub.status.idle": "2025-04-29T04:57:41.123834Z",
     "shell.execute_reply": "2025-04-29T04:57:41.122906Z"
    },
    "id": "Enf8wikDaNZh",
    "papermill": {
     "duration": 0.022268,
     "end_time": "2025-04-29T04:57:41.126015",
     "exception": false,
     "start_time": "2025-04-29T04:57:41.103747",
     "status": "completed"
    },
    "tags": []
   },
   "outputs": [],
   "source": [
    "train = scaler_train.fit_transform(train)"
   ]
  },
  {
   "cell_type": "code",
   "execution_count": 25,
   "id": "d46f68e4",
   "metadata": {
    "execution": {
     "iopub.execute_input": "2025-04-29T04:57:41.154699Z",
     "iopub.status.busy": "2025-04-29T04:57:41.154320Z",
     "iopub.status.idle": "2025-04-29T04:57:41.158994Z",
     "shell.execute_reply": "2025-04-29T04:57:41.158169Z"
    },
    "id": "cg-7tCn_aXTc",
    "papermill": {
     "duration": 0.021395,
     "end_time": "2025-04-29T04:57:41.161084",
     "exception": false,
     "start_time": "2025-04-29T04:57:41.139689",
     "status": "completed"
    },
    "tags": []
   },
   "outputs": [],
   "source": [
    "scaler_test = MinMaxScaler(feature_range = (0,1))"
   ]
  },
  {
   "cell_type": "code",
   "execution_count": 26,
   "id": "be7d13b7",
   "metadata": {
    "execution": {
     "iopub.execute_input": "2025-04-29T04:57:41.190259Z",
     "iopub.status.busy": "2025-04-29T04:57:41.189508Z",
     "iopub.status.idle": "2025-04-29T04:57:41.194704Z",
     "shell.execute_reply": "2025-04-29T04:57:41.193741Z"
    },
    "id": "tSbuIifiabbC",
    "papermill": {
     "duration": 0.022024,
     "end_time": "2025-04-29T04:57:41.196845",
     "exception": false,
     "start_time": "2025-04-29T04:57:41.174821",
     "status": "completed"
    },
    "tags": []
   },
   "outputs": [],
   "source": [
    "test = scaler_test.fit_transform(test)"
   ]
  },
  {
   "cell_type": "code",
   "execution_count": 27,
   "id": "7ff28183",
   "metadata": {
    "execution": {
     "iopub.execute_input": "2025-04-29T04:57:41.226052Z",
     "iopub.status.busy": "2025-04-29T04:57:41.225187Z",
     "iopub.status.idle": "2025-04-29T04:57:41.231526Z",
     "shell.execute_reply": "2025-04-29T04:57:41.230603Z"
    },
    "id": "X5a7m_BEagaJ",
    "papermill": {
     "duration": 0.023256,
     "end_time": "2025-04-29T04:57:41.233689",
     "exception": false,
     "start_time": "2025-04-29T04:57:41.210433",
     "status": "completed"
    },
    "tags": []
   },
   "outputs": [
    {
     "data": {
      "text/plain": [
       "array([[0.02191224],\n",
       "       [0.02174973],\n",
       "       [0.01668472],\n",
       "       [0.0092091 ],\n",
       "       [0.00083966]], dtype=float32)"
      ]
     },
     "execution_count": 27,
     "metadata": {},
     "output_type": "execute_result"
    }
   ],
   "source": [
    "train[0:5]"
   ]
  },
  {
   "cell_type": "code",
   "execution_count": 28,
   "id": "30524e2e",
   "metadata": {
    "execution": {
     "iopub.execute_input": "2025-04-29T04:57:41.263126Z",
     "iopub.status.busy": "2025-04-29T04:57:41.262363Z",
     "iopub.status.idle": "2025-04-29T04:57:41.269118Z",
     "shell.execute_reply": "2025-04-29T04:57:41.268068Z"
    },
    "id": "AeVSy_ijahnh",
    "papermill": {
     "duration": 0.023519,
     "end_time": "2025-04-29T04:57:41.271137",
     "exception": false,
     "start_time": "2025-04-29T04:57:41.247618",
     "status": "completed"
    },
    "tags": []
   },
   "outputs": [
    {
     "data": {
      "text/plain": [
       "array([[0.25685903],\n",
       "       [0.24829045],\n",
       "       [0.25511202],\n",
       "       [0.24978784],\n",
       "       [0.2465767 ]], dtype=float32)"
      ]
     },
     "execution_count": 28,
     "metadata": {},
     "output_type": "execute_result"
    }
   ],
   "source": [
    "test[0:5]"
   ]
  },
  {
   "cell_type": "code",
   "execution_count": 29,
   "id": "eef2cff0",
   "metadata": {
    "execution": {
     "iopub.execute_input": "2025-04-29T04:57:41.300773Z",
     "iopub.status.busy": "2025-04-29T04:57:41.299846Z",
     "iopub.status.idle": "2025-04-29T04:57:41.305785Z",
     "shell.execute_reply": "2025-04-29T04:57:41.304758Z"
    },
    "id": "Gv95UqJWasHS",
    "papermill": {
     "duration": 0.022922,
     "end_time": "2025-04-29T04:57:41.307882",
     "exception": false,
     "start_time": "2025-04-29T04:57:41.284960",
     "status": "completed"
    },
    "tags": []
   },
   "outputs": [],
   "source": [
    "def create_features(data, lookback):\n",
    "  X, Y = [], []\n",
    "  for i in range(lookback, len(data)):\n",
    "    X.append(data[i-lookback:i,0])\n",
    "    Y.append(data[i,0])\n",
    "\n",
    "  return np.array(X), np.array(Y)"
   ]
  },
  {
   "cell_type": "code",
   "execution_count": 30,
   "id": "6b5a885e",
   "metadata": {
    "execution": {
     "iopub.execute_input": "2025-04-29T04:57:41.337428Z",
     "iopub.status.busy": "2025-04-29T04:57:41.336733Z",
     "iopub.status.idle": "2025-04-29T04:57:41.341414Z",
     "shell.execute_reply": "2025-04-29T04:57:41.340435Z"
    },
    "id": "e36Ux4_CbASm",
    "papermill": {
     "duration": 0.021745,
     "end_time": "2025-04-29T04:57:41.343478",
     "exception": false,
     "start_time": "2025-04-29T04:57:41.321733",
     "status": "completed"
    },
    "tags": []
   },
   "outputs": [],
   "source": [
    "lookback = 20"
   ]
  },
  {
   "cell_type": "code",
   "execution_count": 31,
   "id": "5ebe50a1",
   "metadata": {
    "execution": {
     "iopub.execute_input": "2025-04-29T04:57:41.373147Z",
     "iopub.status.busy": "2025-04-29T04:57:41.372243Z",
     "iopub.status.idle": "2025-04-29T04:57:41.379731Z",
     "shell.execute_reply": "2025-04-29T04:57:41.378738Z"
    },
    "id": "Xd8JMdaWbCzp",
    "papermill": {
     "duration": 0.024645,
     "end_time": "2025-04-29T04:57:41.382003",
     "exception": false,
     "start_time": "2025-04-29T04:57:41.357358",
     "status": "completed"
    },
    "tags": []
   },
   "outputs": [],
   "source": [
    "X_train, y_train = create_features(train, lookback)"
   ]
  },
  {
   "cell_type": "code",
   "execution_count": 32,
   "id": "b9eb3da8",
   "metadata": {
    "execution": {
     "iopub.execute_input": "2025-04-29T04:57:41.451799Z",
     "iopub.status.busy": "2025-04-29T04:57:41.451428Z",
     "iopub.status.idle": "2025-04-29T04:57:41.457336Z",
     "shell.execute_reply": "2025-04-29T04:57:41.456397Z"
    },
    "id": "wHgq8DT5bF_Z",
    "papermill": {
     "duration": 0.063308,
     "end_time": "2025-04-29T04:57:41.459522",
     "exception": false,
     "start_time": "2025-04-29T04:57:41.396214",
     "status": "completed"
    },
    "tags": []
   },
   "outputs": [],
   "source": [
    "X_test, y_test = create_features(test, lookback)"
   ]
  },
  {
   "cell_type": "code",
   "execution_count": 33,
   "id": "b35981ec",
   "metadata": {
    "execution": {
     "iopub.execute_input": "2025-04-29T04:57:41.489922Z",
     "iopub.status.busy": "2025-04-29T04:57:41.488995Z",
     "iopub.status.idle": "2025-04-29T04:57:41.494516Z",
     "shell.execute_reply": "2025-04-29T04:57:41.493467Z"
    },
    "id": "zYQy_33TbKdb",
    "papermill": {
     "duration": 0.023016,
     "end_time": "2025-04-29T04:57:41.496626",
     "exception": false,
     "start_time": "2025-04-29T04:57:41.473610",
     "status": "completed"
    },
    "tags": []
   },
   "outputs": [
    {
     "name": "stdout",
     "output_type": "stream",
     "text": [
      "(1913, 20) (1913,) (463, 20) (463,)\n"
     ]
    }
   ],
   "source": [
    "print(X_train.shape, y_train.shape, X_test.shape, y_test.shape)"
   ]
  },
  {
   "cell_type": "code",
   "execution_count": 34,
   "id": "4bea57b6",
   "metadata": {
    "execution": {
     "iopub.execute_input": "2025-04-29T04:57:41.526249Z",
     "iopub.status.busy": "2025-04-29T04:57:41.525850Z",
     "iopub.status.idle": "2025-04-29T04:57:41.533368Z",
     "shell.execute_reply": "2025-04-29T04:57:41.532374Z"
    },
    "id": "sI1k-K6bTKuw",
    "papermill": {
     "duration": 0.024659,
     "end_time": "2025-04-29T04:57:41.535267",
     "exception": false,
     "start_time": "2025-04-29T04:57:41.510608",
     "status": "completed"
    },
    "tags": []
   },
   "outputs": [
    {
     "data": {
      "text/plain": [
       "array([[0.02191224, 0.02174973, 0.01668472, 0.0092091 , 0.00083966,\n",
       "        0.        , 0.00449621, 0.00433369, 0.0033857 , 0.00633803,\n",
       "        0.01094258, 0.011078  , 0.01310942, 0.0165493 , 0.01218851,\n",
       "        0.01197183, 0.01408451, 0.01486999, 0.01394908, 0.01286566],\n",
       "       [0.02174973, 0.01668472, 0.0092091 , 0.00083966, 0.        ,\n",
       "        0.00449621, 0.00433369, 0.0033857 , 0.00633803, 0.01094258,\n",
       "        0.011078  , 0.01310942, 0.0165493 , 0.01218851, 0.01197183,\n",
       "        0.01408451, 0.01486999, 0.01394908, 0.01286566, 0.01332611],\n",
       "       [0.01668472, 0.0092091 , 0.00083966, 0.        , 0.00449621,\n",
       "        0.00433369, 0.0033857 , 0.00633803, 0.01094258, 0.011078  ,\n",
       "        0.01310942, 0.0165493 , 0.01218851, 0.01197183, 0.01408451,\n",
       "        0.01486999, 0.01394908, 0.01286566, 0.01332611, 0.01232395],\n",
       "       [0.0092091 , 0.00083966, 0.        , 0.00449621, 0.00433369,\n",
       "        0.0033857 , 0.00633803, 0.01094258, 0.011078  , 0.01310942,\n",
       "        0.0165493 , 0.01218851, 0.01197183, 0.01408451, 0.01486999,\n",
       "        0.01394908, 0.01286566, 0.01332611, 0.01232395, 0.01121344],\n",
       "       [0.00083966, 0.        , 0.00449621, 0.00433369, 0.0033857 ,\n",
       "        0.00633803, 0.01094258, 0.011078  , 0.01310942, 0.0165493 ,\n",
       "        0.01218851, 0.01197183, 0.01408451, 0.01486999, 0.01394908,\n",
       "        0.01286566, 0.01332611, 0.01232395, 0.01121344, 0.01386782]],\n",
       "      dtype=float32)"
      ]
     },
     "execution_count": 34,
     "metadata": {},
     "output_type": "execute_result"
    }
   ],
   "source": [
    "X_train[0:5]"
   ]
  },
  {
   "cell_type": "code",
   "execution_count": 35,
   "id": "0768f145",
   "metadata": {
    "execution": {
     "iopub.execute_input": "2025-04-29T04:57:41.564615Z",
     "iopub.status.busy": "2025-04-29T04:57:41.564272Z",
     "iopub.status.idle": "2025-04-29T04:57:41.570826Z",
     "shell.execute_reply": "2025-04-29T04:57:41.569845Z"
    },
    "id": "vY5hCVQHTg9u",
    "papermill": {
     "duration": 0.023496,
     "end_time": "2025-04-29T04:57:41.572752",
     "exception": false,
     "start_time": "2025-04-29T04:57:41.549256",
     "status": "completed"
    },
    "tags": []
   },
   "outputs": [
    {
     "data": {
      "text/plain": [
       "array([0.01332611, 0.01232395, 0.01121344, 0.01386782, 0.01665764],\n",
       "      dtype=float32)"
      ]
     },
     "execution_count": 35,
     "metadata": {},
     "output_type": "execute_result"
    }
   ],
   "source": [
    "y_train[0:5]"
   ]
  },
  {
   "cell_type": "code",
   "execution_count": 36,
   "id": "72dc0e91",
   "metadata": {
    "execution": {
     "iopub.execute_input": "2025-04-29T04:57:41.601744Z",
     "iopub.status.busy": "2025-04-29T04:57:41.601426Z",
     "iopub.status.idle": "2025-04-29T04:57:41.606748Z",
     "shell.execute_reply": "2025-04-29T04:57:41.605794Z"
    },
    "id": "yvf-4kLybad5",
    "papermill": {
     "duration": 0.022156,
     "end_time": "2025-04-29T04:57:41.608784",
     "exception": false,
     "start_time": "2025-04-29T04:57:41.586628",
     "status": "completed"
    },
    "tags": []
   },
   "outputs": [],
   "source": [
    "X_train = np.reshape(X_train, (X_train.shape[0], 1, X_train.shape[1]))\n",
    "X_test = np.reshape(X_test, (X_test.shape[0], 1, X_test.shape[1]))\n",
    "y_train = y_train.reshape(-1,1)\n",
    "y_test = y_test.reshape(-1,1)"
   ]
  },
  {
   "cell_type": "code",
   "execution_count": 37,
   "id": "d6e7ff59",
   "metadata": {
    "execution": {
     "iopub.execute_input": "2025-04-29T04:57:41.638404Z",
     "iopub.status.busy": "2025-04-29T04:57:41.638008Z",
     "iopub.status.idle": "2025-04-29T04:57:41.643195Z",
     "shell.execute_reply": "2025-04-29T04:57:41.642219Z"
    },
    "id": "D2ltv0Edb3wz",
    "papermill": {
     "duration": 0.022292,
     "end_time": "2025-04-29T04:57:41.645431",
     "exception": false,
     "start_time": "2025-04-29T04:57:41.623139",
     "status": "completed"
    },
    "tags": []
   },
   "outputs": [
    {
     "name": "stdout",
     "output_type": "stream",
     "text": [
      "(1913, 1, 20) (1913, 1) (463, 1, 20) (463, 1)\n"
     ]
    }
   ],
   "source": [
    "print(X_train.shape, y_train.shape, X_test.shape, y_test.shape)"
   ]
  },
  {
   "cell_type": "markdown",
   "id": "067824c6",
   "metadata": {
    "id": "DtsN3xazcIAn",
    "papermill": {
     "duration": 0.014806,
     "end_time": "2025-04-29T04:57:41.674186",
     "exception": false,
     "start_time": "2025-04-29T04:57:41.659380",
     "status": "completed"
    },
    "tags": []
   },
   "source": [
    "## Modelling"
   ]
  },
  {
   "cell_type": "code",
   "execution_count": 38,
   "id": "6bde4fc8",
   "metadata": {
    "execution": {
     "iopub.execute_input": "2025-04-29T04:57:41.703731Z",
     "iopub.status.busy": "2025-04-29T04:57:41.703346Z",
     "iopub.status.idle": "2025-04-29T04:57:41.811243Z",
     "shell.execute_reply": "2025-04-29T04:57:41.810411Z"
    },
    "id": "QtbQx4G9cI_z",
    "papermill": {
     "duration": 0.125318,
     "end_time": "2025-04-29T04:57:41.813398",
     "exception": false,
     "start_time": "2025-04-29T04:57:41.688080",
     "status": "completed"
    },
    "tags": []
   },
   "outputs": [],
   "source": [
    "model = Sequential()\n",
    "\n",
    "model.add(LSTM(units = 50,\n",
    "                    activation = 'relu',\n",
    "                    input_shape=(X_train.shape[1], lookback)))\n",
    "\n",
    "model.add(Dropout(0.2))\n",
    "\n",
    "model.add(Dense(1))\n"
   ]
  },
  {
   "cell_type": "code",
   "execution_count": 39,
   "id": "5a145561",
   "metadata": {
    "execution": {
     "iopub.execute_input": "2025-04-29T04:57:41.843367Z",
     "iopub.status.busy": "2025-04-29T04:57:41.842956Z",
     "iopub.status.idle": "2025-04-29T04:57:41.861055Z",
     "shell.execute_reply": "2025-04-29T04:57:41.860083Z"
    },
    "id": "RQFXIkDbciE6",
    "papermill": {
     "duration": 0.035346,
     "end_time": "2025-04-29T04:57:41.862975",
     "exception": false,
     "start_time": "2025-04-29T04:57:41.827629",
     "status": "completed"
    },
    "tags": []
   },
   "outputs": [
    {
     "data": {
      "text/html": [
       "<pre style=\"white-space:pre;overflow-x:auto;line-height:normal;font-family:Menlo,'DejaVu Sans Mono',consolas,'Courier New',monospace\"><span style=\"font-weight: bold\">Model: \"sequential\"</span>\n",
       "</pre>\n"
      ],
      "text/plain": [
       "\u001b[1mModel: \"sequential\"\u001b[0m\n"
      ]
     },
     "metadata": {},
     "output_type": "display_data"
    },
    {
     "data": {
      "text/html": [
       "<pre style=\"white-space:pre;overflow-x:auto;line-height:normal;font-family:Menlo,'DejaVu Sans Mono',consolas,'Courier New',monospace\">┏━━━━━━━━━━━━━━━━━━━━━━━━━━━━━━━━━┳━━━━━━━━━━━━━━━━━━━━━━━━┳━━━━━━━━━━━━━━━┓\n",
       "┃<span style=\"font-weight: bold\"> Layer (type)                    </span>┃<span style=\"font-weight: bold\"> Output Shape           </span>┃<span style=\"font-weight: bold\">       Param # </span>┃\n",
       "┡━━━━━━━━━━━━━━━━━━━━━━━━━━━━━━━━━╇━━━━━━━━━━━━━━━━━━━━━━━━╇━━━━━━━━━━━━━━━┩\n",
       "│ lstm (<span style=\"color: #0087ff; text-decoration-color: #0087ff\">LSTM</span>)                     │ (<span style=\"color: #00d7ff; text-decoration-color: #00d7ff\">None</span>, <span style=\"color: #00af00; text-decoration-color: #00af00\">50</span>)             │        <span style=\"color: #00af00; text-decoration-color: #00af00\">14,200</span> │\n",
       "├─────────────────────────────────┼────────────────────────┼───────────────┤\n",
       "│ dropout (<span style=\"color: #0087ff; text-decoration-color: #0087ff\">Dropout</span>)               │ (<span style=\"color: #00d7ff; text-decoration-color: #00d7ff\">None</span>, <span style=\"color: #00af00; text-decoration-color: #00af00\">50</span>)             │             <span style=\"color: #00af00; text-decoration-color: #00af00\">0</span> │\n",
       "├─────────────────────────────────┼────────────────────────┼───────────────┤\n",
       "│ dense (<span style=\"color: #0087ff; text-decoration-color: #0087ff\">Dense</span>)                   │ (<span style=\"color: #00d7ff; text-decoration-color: #00d7ff\">None</span>, <span style=\"color: #00af00; text-decoration-color: #00af00\">1</span>)              │            <span style=\"color: #00af00; text-decoration-color: #00af00\">51</span> │\n",
       "└─────────────────────────────────┴────────────────────────┴───────────────┘\n",
       "</pre>\n"
      ],
      "text/plain": [
       "┏━━━━━━━━━━━━━━━━━━━━━━━━━━━━━━━━━┳━━━━━━━━━━━━━━━━━━━━━━━━┳━━━━━━━━━━━━━━━┓\n",
       "┃\u001b[1m \u001b[0m\u001b[1mLayer (type)                   \u001b[0m\u001b[1m \u001b[0m┃\u001b[1m \u001b[0m\u001b[1mOutput Shape          \u001b[0m\u001b[1m \u001b[0m┃\u001b[1m \u001b[0m\u001b[1m      Param #\u001b[0m\u001b[1m \u001b[0m┃\n",
       "┡━━━━━━━━━━━━━━━━━━━━━━━━━━━━━━━━━╇━━━━━━━━━━━━━━━━━━━━━━━━╇━━━━━━━━━━━━━━━┩\n",
       "│ lstm (\u001b[38;5;33mLSTM\u001b[0m)                     │ (\u001b[38;5;45mNone\u001b[0m, \u001b[38;5;34m50\u001b[0m)             │        \u001b[38;5;34m14,200\u001b[0m │\n",
       "├─────────────────────────────────┼────────────────────────┼───────────────┤\n",
       "│ dropout (\u001b[38;5;33mDropout\u001b[0m)               │ (\u001b[38;5;45mNone\u001b[0m, \u001b[38;5;34m50\u001b[0m)             │             \u001b[38;5;34m0\u001b[0m │\n",
       "├─────────────────────────────────┼────────────────────────┼───────────────┤\n",
       "│ dense (\u001b[38;5;33mDense\u001b[0m)                   │ (\u001b[38;5;45mNone\u001b[0m, \u001b[38;5;34m1\u001b[0m)              │            \u001b[38;5;34m51\u001b[0m │\n",
       "└─────────────────────────────────┴────────────────────────┴───────────────┘\n"
      ]
     },
     "metadata": {},
     "output_type": "display_data"
    },
    {
     "data": {
      "text/html": [
       "<pre style=\"white-space:pre;overflow-x:auto;line-height:normal;font-family:Menlo,'DejaVu Sans Mono',consolas,'Courier New',monospace\"><span style=\"font-weight: bold\"> Total params: </span><span style=\"color: #00af00; text-decoration-color: #00af00\">14,251</span> (55.67 KB)\n",
       "</pre>\n"
      ],
      "text/plain": [
       "\u001b[1m Total params: \u001b[0m\u001b[38;5;34m14,251\u001b[0m (55.67 KB)\n"
      ]
     },
     "metadata": {},
     "output_type": "display_data"
    },
    {
     "data": {
      "text/html": [
       "<pre style=\"white-space:pre;overflow-x:auto;line-height:normal;font-family:Menlo,'DejaVu Sans Mono',consolas,'Courier New',monospace\"><span style=\"font-weight: bold\"> Trainable params: </span><span style=\"color: #00af00; text-decoration-color: #00af00\">14,251</span> (55.67 KB)\n",
       "</pre>\n"
      ],
      "text/plain": [
       "\u001b[1m Trainable params: \u001b[0m\u001b[38;5;34m14,251\u001b[0m (55.67 KB)\n"
      ]
     },
     "metadata": {},
     "output_type": "display_data"
    },
    {
     "data": {
      "text/html": [
       "<pre style=\"white-space:pre;overflow-x:auto;line-height:normal;font-family:Menlo,'DejaVu Sans Mono',consolas,'Courier New',monospace\"><span style=\"font-weight: bold\"> Non-trainable params: </span><span style=\"color: #00af00; text-decoration-color: #00af00\">0</span> (0.00 B)\n",
       "</pre>\n"
      ],
      "text/plain": [
       "\u001b[1m Non-trainable params: \u001b[0m\u001b[38;5;34m0\u001b[0m (0.00 B)\n"
      ]
     },
     "metadata": {},
     "output_type": "display_data"
    }
   ],
   "source": [
    "model.summary()"
   ]
  },
  {
   "cell_type": "code",
   "execution_count": 40,
   "id": "fa631d44",
   "metadata": {
    "execution": {
     "iopub.execute_input": "2025-04-29T04:57:41.893896Z",
     "iopub.status.busy": "2025-04-29T04:57:41.893531Z",
     "iopub.status.idle": "2025-04-29T04:57:41.907991Z",
     "shell.execute_reply": "2025-04-29T04:57:41.907165Z"
    },
    "id": "NE6_O7IwclkT",
    "papermill": {
     "duration": 0.032337,
     "end_time": "2025-04-29T04:57:41.910056",
     "exception": false,
     "start_time": "2025-04-29T04:57:41.877719",
     "status": "completed"
    },
    "tags": []
   },
   "outputs": [],
   "source": [
    "model.compile(loss='mean_squared_error', optimizer='adam')"
   ]
  },
  {
   "cell_type": "code",
   "execution_count": 41,
   "id": "fc8f769c",
   "metadata": {
    "execution": {
     "iopub.execute_input": "2025-04-29T04:57:41.940824Z",
     "iopub.status.busy": "2025-04-29T04:57:41.940464Z",
     "iopub.status.idle": "2025-04-29T04:57:41.945519Z",
     "shell.execute_reply": "2025-04-29T04:57:41.944685Z"
    },
    "id": "JLqjYZudc3Is",
    "papermill": {
     "duration": 0.022739,
     "end_time": "2025-04-29T04:57:41.947354",
     "exception": false,
     "start_time": "2025-04-29T04:57:41.924615",
     "status": "completed"
    },
    "tags": []
   },
   "outputs": [],
   "source": [
    "callbacks = (EarlyStopping(monitor='val_loss', patience=10, verbose=1, mode='min'),\n",
    "            ModelCheckpoint(filepath='mymodel.keras', monitor='val_loss', mode='min',\n",
    "            save_best_only = True, save_weights_only = False, verbose = 1))"
   ]
  },
  {
   "cell_type": "code",
   "execution_count": 42,
   "id": "87860f1f",
   "metadata": {
    "execution": {
     "iopub.execute_input": "2025-04-29T04:57:41.977856Z",
     "iopub.status.busy": "2025-04-29T04:57:41.977490Z",
     "iopub.status.idle": "2025-04-29T04:57:49.127836Z",
     "shell.execute_reply": "2025-04-29T04:57:49.126965Z"
    },
    "id": "7Pv-Fb9FdSf7",
    "papermill": {
     "duration": 7.168297,
     "end_time": "2025-04-29T04:57:49.130113",
     "exception": false,
     "start_time": "2025-04-29T04:57:41.961816",
     "status": "completed"
    },
    "tags": []
   },
   "outputs": [
    {
     "name": "stdout",
     "output_type": "stream",
     "text": [
      "Epoch 1/100\n",
      "\u001b[1m80/96\u001b[0m \u001b[32m━━━━━━━━━━━━━━━━\u001b[0m\u001b[37m━━━━\u001b[0m \u001b[1m0s\u001b[0m 2ms/step - loss: 0.0028\n",
      "Epoch 1: val_loss improved from inf to 0.00507, saving model to mymodel.keras\n",
      "\u001b[1m96/96\u001b[0m \u001b[32m━━━━━━━━━━━━━━━━━━━━\u001b[0m\u001b[37m\u001b[0m \u001b[1m2s\u001b[0m 6ms/step - loss: 0.0034 - val_loss: 0.0051\n",
      "Epoch 2/100\n",
      "\u001b[1m80/96\u001b[0m \u001b[32m━━━━━━━━━━━━━━━━\u001b[0m\u001b[37m━━━━\u001b[0m \u001b[1m0s\u001b[0m 2ms/step - loss: 0.0040\n",
      "Epoch 2: val_loss improved from 0.00507 to 0.00316, saving model to mymodel.keras\n",
      "\u001b[1m96/96\u001b[0m \u001b[32m━━━━━━━━━━━━━━━━━━━━\u001b[0m\u001b[37m\u001b[0m \u001b[1m0s\u001b[0m 3ms/step - loss: 0.0042 - val_loss: 0.0032\n",
      "Epoch 3/100\n",
      "\u001b[1m89/96\u001b[0m \u001b[32m━━━━━━━━━━━━━━━━━━\u001b[0m\u001b[37m━━\u001b[0m \u001b[1m0s\u001b[0m 2ms/step - loss: 0.0019\n",
      "Epoch 3: val_loss improved from 0.00316 to 0.00283, saving model to mymodel.keras\n",
      "\u001b[1m96/96\u001b[0m \u001b[32m━━━━━━━━━━━━━━━━━━━━\u001b[0m\u001b[37m\u001b[0m \u001b[1m0s\u001b[0m 2ms/step - loss: 0.0021 - val_loss: 0.0028\n",
      "Epoch 4/100\n",
      "\u001b[1m88/96\u001b[0m \u001b[32m━━━━━━━━━━━━━━━━━━\u001b[0m\u001b[37m━━\u001b[0m \u001b[1m0s\u001b[0m 2ms/step - loss: 0.0014    \n",
      "Epoch 4: val_loss did not improve from 0.00283\n",
      "\u001b[1m96/96\u001b[0m \u001b[32m━━━━━━━━━━━━━━━━━━━━\u001b[0m\u001b[37m\u001b[0m \u001b[1m0s\u001b[0m 2ms/step - loss: 0.0016 - val_loss: 0.0029\n",
      "Epoch 5/100\n",
      "\u001b[1m91/96\u001b[0m \u001b[32m━━━━━━━━━━━━━━━━━━\u001b[0m\u001b[37m━━\u001b[0m \u001b[1m0s\u001b[0m 2ms/step - loss: 0.0016    \n",
      "Epoch 5: val_loss improved from 0.00283 to 0.00250, saving model to mymodel.keras\n",
      "\u001b[1m96/96\u001b[0m \u001b[32m━━━━━━━━━━━━━━━━━━━━\u001b[0m\u001b[37m\u001b[0m \u001b[1m0s\u001b[0m 2ms/step - loss: 0.0018 - val_loss: 0.0025\n",
      "Epoch 6/100\n",
      "\u001b[1m90/96\u001b[0m \u001b[32m━━━━━━━━━━━━━━━━━━\u001b[0m\u001b[37m━━\u001b[0m \u001b[1m0s\u001b[0m 2ms/step - loss: 0.0013    \n",
      "Epoch 6: val_loss improved from 0.00250 to 0.00240, saving model to mymodel.keras\n",
      "\u001b[1m96/96\u001b[0m \u001b[32m━━━━━━━━━━━━━━━━━━━━\u001b[0m\u001b[37m\u001b[0m \u001b[1m0s\u001b[0m 2ms/step - loss: 0.0015 - val_loss: 0.0024\n",
      "Epoch 7/100\n",
      "\u001b[1m89/96\u001b[0m \u001b[32m━━━━━━━━━━━━━━━━━━\u001b[0m\u001b[37m━━\u001b[0m \u001b[1m0s\u001b[0m 2ms/step - loss: 0.0014    \n",
      "Epoch 7: val_loss did not improve from 0.00240\n",
      "\u001b[1m96/96\u001b[0m \u001b[32m━━━━━━━━━━━━━━━━━━━━\u001b[0m\u001b[37m\u001b[0m \u001b[1m0s\u001b[0m 2ms/step - loss: 0.0016 - val_loss: 0.0026\n",
      "Epoch 8/100\n",
      "\u001b[1m90/96\u001b[0m \u001b[32m━━━━━━━━━━━━━━━━━━\u001b[0m\u001b[37m━━\u001b[0m \u001b[1m0s\u001b[0m 2ms/step - loss: 0.0013    \n",
      "Epoch 8: val_loss improved from 0.00240 to 0.00234, saving model to mymodel.keras\n",
      "\u001b[1m96/96\u001b[0m \u001b[32m━━━━━━━━━━━━━━━━━━━━\u001b[0m\u001b[37m\u001b[0m \u001b[1m0s\u001b[0m 2ms/step - loss: 0.0015 - val_loss: 0.0023\n",
      "Epoch 9/100\n",
      "\u001b[1m92/96\u001b[0m \u001b[32m━━━━━━━━━━━━━━━━━━━\u001b[0m\u001b[37m━\u001b[0m \u001b[1m0s\u001b[0m 2ms/step - loss: 0.0015    \n",
      "Epoch 9: val_loss improved from 0.00234 to 0.00225, saving model to mymodel.keras\n",
      "\u001b[1m96/96\u001b[0m \u001b[32m━━━━━━━━━━━━━━━━━━━━\u001b[0m\u001b[37m\u001b[0m \u001b[1m0s\u001b[0m 2ms/step - loss: 0.0016 - val_loss: 0.0023\n",
      "Epoch 10/100\n",
      "\u001b[1m91/96\u001b[0m \u001b[32m━━━━━━━━━━━━━━━━━━\u001b[0m\u001b[37m━━\u001b[0m \u001b[1m0s\u001b[0m 2ms/step - loss: 0.0016\n",
      "Epoch 10: val_loss improved from 0.00225 to 0.00213, saving model to mymodel.keras\n",
      "\u001b[1m96/96\u001b[0m \u001b[32m━━━━━━━━━━━━━━━━━━━━\u001b[0m\u001b[37m\u001b[0m \u001b[1m0s\u001b[0m 2ms/step - loss: 0.0017 - val_loss: 0.0021\n",
      "Epoch 11/100\n",
      "\u001b[1m90/96\u001b[0m \u001b[32m━━━━━━━━━━━━━━━━━━\u001b[0m\u001b[37m━━\u001b[0m \u001b[1m0s\u001b[0m 2ms/step - loss: 0.0014    \n",
      "Epoch 11: val_loss did not improve from 0.00213\n",
      "\u001b[1m96/96\u001b[0m \u001b[32m━━━━━━━━━━━━━━━━━━━━\u001b[0m\u001b[37m\u001b[0m \u001b[1m0s\u001b[0m 2ms/step - loss: 0.0015 - val_loss: 0.0022\n",
      "Epoch 12/100\n",
      "\u001b[1m91/96\u001b[0m \u001b[32m━━━━━━━━━━━━━━━━━━\u001b[0m\u001b[37m━━\u001b[0m \u001b[1m0s\u001b[0m 2ms/step - loss: 0.0015\n",
      "Epoch 12: val_loss did not improve from 0.00213\n",
      "\u001b[1m96/96\u001b[0m \u001b[32m━━━━━━━━━━━━━━━━━━━━\u001b[0m\u001b[37m\u001b[0m \u001b[1m0s\u001b[0m 2ms/step - loss: 0.0016 - val_loss: 0.0022\n",
      "Epoch 13/100\n",
      "\u001b[1m90/96\u001b[0m \u001b[32m━━━━━━━━━━━━━━━━━━\u001b[0m\u001b[37m━━\u001b[0m \u001b[1m0s\u001b[0m 2ms/step - loss: 0.0016\n",
      "Epoch 13: val_loss did not improve from 0.00213\n",
      "\u001b[1m96/96\u001b[0m \u001b[32m━━━━━━━━━━━━━━━━━━━━\u001b[0m\u001b[37m\u001b[0m \u001b[1m0s\u001b[0m 2ms/step - loss: 0.0017 - val_loss: 0.0031\n",
      "Epoch 14/100\n",
      "\u001b[1m89/96\u001b[0m \u001b[32m━━━━━━━━━━━━━━━━━━\u001b[0m\u001b[37m━━\u001b[0m \u001b[1m0s\u001b[0m 2ms/step - loss: 0.0018\n",
      "Epoch 14: val_loss did not improve from 0.00213\n",
      "\u001b[1m96/96\u001b[0m \u001b[32m━━━━━━━━━━━━━━━━━━━━\u001b[0m\u001b[37m\u001b[0m \u001b[1m0s\u001b[0m 2ms/step - loss: 0.0020 - val_loss: 0.0029\n",
      "Epoch 15/100\n",
      "\u001b[1m83/96\u001b[0m \u001b[32m━━━━━━━━━━━━━━━━━\u001b[0m\u001b[37m━━━\u001b[0m \u001b[1m0s\u001b[0m 2ms/step - loss: 0.0016\n",
      "Epoch 15: val_loss did not improve from 0.00213\n",
      "\u001b[1m96/96\u001b[0m \u001b[32m━━━━━━━━━━━━━━━━━━━━\u001b[0m\u001b[37m\u001b[0m \u001b[1m0s\u001b[0m 2ms/step - loss: 0.0019 - val_loss: 0.0039\n",
      "Epoch 16/100\n",
      "\u001b[1m90/96\u001b[0m \u001b[32m━━━━━━━━━━━━━━━━━━\u001b[0m\u001b[37m━━\u001b[0m \u001b[1m0s\u001b[0m 2ms/step - loss: 0.0018\n",
      "Epoch 16: val_loss did not improve from 0.00213\n",
      "\u001b[1m96/96\u001b[0m \u001b[32m━━━━━━━━━━━━━━━━━━━━\u001b[0m\u001b[37m\u001b[0m \u001b[1m0s\u001b[0m 2ms/step - loss: 0.0020 - val_loss: 0.0037\n",
      "Epoch 17/100\n",
      "\u001b[1m89/96\u001b[0m \u001b[32m━━━━━━━━━━━━━━━━━━\u001b[0m\u001b[37m━━\u001b[0m \u001b[1m0s\u001b[0m 2ms/step - loss: 0.0018\n",
      "Epoch 17: val_loss did not improve from 0.00213\n",
      "\u001b[1m96/96\u001b[0m \u001b[32m━━━━━━━━━━━━━━━━━━━━\u001b[0m\u001b[37m\u001b[0m \u001b[1m0s\u001b[0m 2ms/step - loss: 0.0020 - val_loss: 0.0070\n",
      "Epoch 18/100\n",
      "\u001b[1m90/96\u001b[0m \u001b[32m━━━━━━━━━━━━━━━━━━\u001b[0m\u001b[37m━━\u001b[0m \u001b[1m0s\u001b[0m 2ms/step - loss: 0.0020\n",
      "Epoch 18: val_loss did not improve from 0.00213\n",
      "\u001b[1m96/96\u001b[0m \u001b[32m━━━━━━━━━━━━━━━━━━━━\u001b[0m\u001b[37m\u001b[0m \u001b[1m0s\u001b[0m 2ms/step - loss: 0.0021 - val_loss: 0.0038\n",
      "Epoch 19/100\n",
      "\u001b[1m88/96\u001b[0m \u001b[32m━━━━━━━━━━━━━━━━━━\u001b[0m\u001b[37m━━\u001b[0m \u001b[1m0s\u001b[0m 2ms/step - loss: 0.0016\n",
      "Epoch 19: val_loss did not improve from 0.00213\n",
      "\u001b[1m96/96\u001b[0m \u001b[32m━━━━━━━━━━━━━━━━━━━━\u001b[0m\u001b[37m\u001b[0m \u001b[1m0s\u001b[0m 2ms/step - loss: 0.0019 - val_loss: 0.0061\n",
      "Epoch 20/100\n",
      "\u001b[1m89/96\u001b[0m \u001b[32m━━━━━━━━━━━━━━━━━━\u001b[0m\u001b[37m━━\u001b[0m \u001b[1m0s\u001b[0m 2ms/step - loss: 0.0020\n",
      "Epoch 20: val_loss did not improve from 0.00213\n",
      "\u001b[1m96/96\u001b[0m \u001b[32m━━━━━━━━━━━━━━━━━━━━\u001b[0m\u001b[37m\u001b[0m \u001b[1m0s\u001b[0m 2ms/step - loss: 0.0023 - val_loss: 0.0110\n",
      "Epoch 20: early stopping\n"
     ]
    }
   ],
   "source": [
    "history = model.fit(x=X_train,\n",
    "                    y=y_train,\n",
    "                    epochs=100,\n",
    "                    batch_size=20,\n",
    "                    validation_data=(X_test, y_test),\n",
    "                    callbacks=[callbacks],\n",
    "                    shuffle=False)"
   ]
  },
  {
   "cell_type": "code",
   "execution_count": 43,
   "id": "1ad4758f",
   "metadata": {
    "execution": {
     "iopub.execute_input": "2025-04-29T04:57:49.178683Z",
     "iopub.status.busy": "2025-04-29T04:57:49.178304Z",
     "iopub.status.idle": "2025-04-29T04:57:49.420002Z",
     "shell.execute_reply": "2025-04-29T04:57:49.419003Z"
    },
    "id": "VzxR8n1yeGpV",
    "papermill": {
     "duration": 0.268149,
     "end_time": "2025-04-29T04:57:49.422162",
     "exception": false,
     "start_time": "2025-04-29T04:57:49.154013",
     "status": "completed"
    },
    "tags": []
   },
   "outputs": [
    {
     "data": {
      "image/png": "[encoded data removed]",
      "text/plain": [
       "<Figure size 2000x500 with 1 Axes>"
      ]
     },
     "metadata": {},
     "output_type": "display_data"
    }
   ],
   "source": [
    "plt.figure(figsize=(20,5))\n",
    "plt.subplot(1,2,1)\n",
    "plt.plot(history.history['loss'], label='Training Loss')\n",
    "plt.plot(history.history['val_loss'], label='Validation Loss')\n",
    "plt.legend(loc='upper right')\n",
    "plt.xlabel('Epoch', fontsize = 16)\n",
    "plt.ylabel('Loss', fontsize = 16)\n",
    "plt.ylim([0,max(plt.ylim())])\n",
    "plt.title('Training and Validation Loss', fontsize = 16)\n",
    "plt.show()"
   ]
  },
  {
   "cell_type": "markdown",
   "id": "d149789e",
   "metadata": {
    "id": "XO0NGWQWerLU",
    "papermill": {
     "duration": 0.02431,
     "end_time": "2025-04-29T04:57:49.470801",
     "exception": false,
     "start_time": "2025-04-29T04:57:49.446491",
     "status": "completed"
    },
    "tags": []
   },
   "source": [
    "## Evaluation"
   ]
  },
  {
   "cell_type": "code",
   "execution_count": 44,
   "id": "31cb1de0",
   "metadata": {
    "execution": {
     "iopub.execute_input": "2025-04-29T04:57:49.520301Z",
     "iopub.status.busy": "2025-04-29T04:57:49.519876Z",
     "iopub.status.idle": "2025-04-29T04:57:50.061839Z",
     "shell.execute_reply": "2025-04-29T04:57:50.060781Z"
    },
    "id": "hyeoNUjxetH-",
    "papermill": {
     "duration": 0.569215,
     "end_time": "2025-04-29T04:57:50.064228",
     "exception": false,
     "start_time": "2025-04-29T04:57:49.495013",
     "status": "completed"
    },
    "tags": []
   },
   "outputs": [
    {
     "name": "stdout",
     "output_type": "stream",
     "text": [
      "\u001b[1m463/463\u001b[0m \u001b[32m━━━━━━━━━━━━━━━━━━━━\u001b[0m\u001b[37m\u001b[0m \u001b[1m0s\u001b[0m 1ms/step - loss: 0.0128\n",
      "\n",
      "Test Loss: 1.1%\n"
     ]
    }
   ],
   "source": [
    "loss = model.evaluate(X_test, y_test, batch_size=1)\n",
    "print(\"\\nTest Loss: %.1f%%\" % (100.0 * loss))"
   ]
  },
  {
   "cell_type": "code",
   "execution_count": 45,
   "id": "5e0bc760",
   "metadata": {
    "execution": {
     "iopub.execute_input": "2025-04-29T04:57:50.115747Z",
     "iopub.status.busy": "2025-04-29T04:57:50.115365Z",
     "iopub.status.idle": "2025-04-29T04:57:50.569481Z",
     "shell.execute_reply": "2025-04-29T04:57:50.568622Z"
    },
    "id": "9e854j_NfFTV",
    "papermill": {
     "duration": 0.482577,
     "end_time": "2025-04-29T04:57:50.571810",
     "exception": false,
     "start_time": "2025-04-29T04:57:50.089233",
     "status": "completed"
    },
    "tags": []
   },
   "outputs": [
    {
     "name": "stdout",
     "output_type": "stream",
     "text": [
      "\u001b[1m60/60\u001b[0m \u001b[32m━━━━━━━━━━━━━━━━━━━━\u001b[0m\u001b[37m\u001b[0m \u001b[1m0s\u001b[0m 4ms/step\n"
     ]
    }
   ],
   "source": [
    "train_predict = model.predict(X_train)"
   ]
  },
  {
   "cell_type": "code",
   "execution_count": 46,
   "id": "a0119b6b",
   "metadata": {
    "execution": {
     "iopub.execute_input": "2025-04-29T04:57:50.622766Z",
     "iopub.status.busy": "2025-04-29T04:57:50.622385Z",
     "iopub.status.idle": "2025-04-29T04:57:50.720883Z",
     "shell.execute_reply": "2025-04-29T04:57:50.719846Z"
    },
    "id": "GZgJuMd-fqZW",
    "papermill": {
     "duration": 0.126737,
     "end_time": "2025-04-29T04:57:50.723412",
     "exception": false,
     "start_time": "2025-04-29T04:57:50.596675",
     "status": "completed"
    },
    "tags": []
   },
   "outputs": [
    {
     "name": "stdout",
     "output_type": "stream",
     "text": [
      "\u001b[1m15/15\u001b[0m \u001b[32m━━━━━━━━━━━━━━━━━━━━\u001b[0m\u001b[37m\u001b[0m \u001b[1m0s\u001b[0m 1ms/step \n"
     ]
    }
   ],
   "source": [
    "test_predict = model.predict(X_test)"
   ]
  },
  {
   "cell_type": "code",
   "execution_count": 47,
   "id": "4f6059c8",
   "metadata": {
    "execution": {
     "iopub.execute_input": "2025-04-29T04:57:50.775175Z",
     "iopub.status.busy": "2025-04-29T04:57:50.774772Z",
     "iopub.status.idle": "2025-04-29T04:57:50.780224Z",
     "shell.execute_reply": "2025-04-29T04:57:50.779110Z"
    },
    "id": "FcH_8U3tfsGm",
    "papermill": {
     "duration": 0.033736,
     "end_time": "2025-04-29T04:57:50.782501",
     "exception": false,
     "start_time": "2025-04-29T04:57:50.748765",
     "status": "completed"
    },
    "tags": []
   },
   "outputs": [],
   "source": [
    "train_predict = scaler_train.inverse_transform(train_predict)\n",
    "test_predict = scaler_test.inverse_transform(test_predict)"
   ]
  },
  {
   "cell_type": "code",
   "execution_count": 48,
   "id": "16933dcd",
   "metadata": {
    "execution": {
     "iopub.execute_input": "2025-04-29T04:57:50.834825Z",
     "iopub.status.busy": "2025-04-29T04:57:50.833898Z",
     "iopub.status.idle": "2025-04-29T04:57:50.839311Z",
     "shell.execute_reply": "2025-04-29T04:57:50.838322Z"
    },
    "id": "DsGDu-NKf912",
    "papermill": {
     "duration": 0.033995,
     "end_time": "2025-04-29T04:57:50.841635",
     "exception": false,
     "start_time": "2025-04-29T04:57:50.807640",
     "status": "completed"
    },
    "tags": []
   },
   "outputs": [],
   "source": [
    "y_train = scaler_train.inverse_transform(y_train)\n",
    "y_test = scaler_test.inverse_transform(y_test)"
   ]
  },
  {
   "cell_type": "code",
   "execution_count": 49,
   "id": "c1a48210",
   "metadata": {
    "execution": {
     "iopub.execute_input": "2025-04-29T04:57:50.893308Z",
     "iopub.status.busy": "2025-04-29T04:57:50.892886Z",
     "iopub.status.idle": "2025-04-29T04:57:50.898732Z",
     "shell.execute_reply": "2025-04-29T04:57:50.897712Z"
    },
    "id": "ZLXqwAU7gGW2",
    "papermill": {
     "duration": 0.034089,
     "end_time": "2025-04-29T04:57:50.900868",
     "exception": false,
     "start_time": "2025-04-29T04:57:50.866779",
     "status": "completed"
    },
    "tags": []
   },
   "outputs": [],
   "source": [
    "train_rmse = np.sqrt(mean_squared_error(y_train, train_predict))"
   ]
  },
  {
   "cell_type": "code",
   "execution_count": 50,
   "id": "2a24a094",
   "metadata": {
    "execution": {
     "iopub.execute_input": "2025-04-29T04:57:50.951758Z",
     "iopub.status.busy": "2025-04-29T04:57:50.951374Z",
     "iopub.status.idle": "2025-04-29T04:57:50.956715Z",
     "shell.execute_reply": "2025-04-29T04:57:50.955715Z"
    },
    "id": "76WbnJaIgJ4g",
    "papermill": {
     "duration": 0.033132,
     "end_time": "2025-04-29T04:57:50.958755",
     "exception": false,
     "start_time": "2025-04-29T04:57:50.925623",
     "status": "completed"
    },
    "tags": []
   },
   "outputs": [],
   "source": [
    "test_rmse = np.sqrt(mean_squared_error(y_test, test_predict))"
   ]
  },
  {
   "cell_type": "code",
   "execution_count": 51,
   "id": "978e2533",
   "metadata": {
    "execution": {
     "iopub.execute_input": "2025-04-29T04:57:51.010496Z",
     "iopub.status.busy": "2025-04-29T04:57:51.010117Z",
     "iopub.status.idle": "2025-04-29T04:57:51.015455Z",
     "shell.execute_reply": "2025-04-29T04:57:51.014391Z"
    },
    "id": "WcUBQBz7gMV2",
    "papermill": {
     "duration": 0.034284,
     "end_time": "2025-04-29T04:57:51.018093",
     "exception": false,
     "start_time": "2025-04-29T04:57:50.983809",
     "status": "completed"
    },
    "tags": []
   },
   "outputs": [
    {
     "name": "stdout",
     "output_type": "stream",
     "text": [
      "Train RMSE: 35.682456970214844\n",
      "Test RMSE: 63.14469528198242\n"
     ]
    }
   ],
   "source": [
    "print(f\"Train RMSE: {train_rmse}\")\n",
    "print(f\"Test RMSE: {test_rmse}\")"
   ]
  },
  {
   "cell_type": "code",
   "execution_count": 52,
   "id": "63b44a91",
   "metadata": {
    "execution": {
     "iopub.execute_input": "2025-04-29T04:57:51.070470Z",
     "iopub.status.busy": "2025-04-29T04:57:51.069672Z",
     "iopub.status.idle": "2025-04-29T04:57:51.099471Z",
     "shell.execute_reply": "2025-04-29T04:57:51.098404Z"
    },
    "id": "t_llof9mgYz_",
    "papermill": {
     "duration": 0.058066,
     "end_time": "2025-04-29T04:57:51.101708",
     "exception": false,
     "start_time": "2025-04-29T04:57:51.043642",
     "status": "completed"
    },
    "tags": []
   },
   "outputs": [
    {
     "data": {
      "text/html": [
       "<div>\n",
       "<style scoped>\n",
       "    .dataframe tbody tr th:only-of-type {\n",
       "        vertical-align: middle;\n",
       "    }\n",
       "\n",
       "    .dataframe tbody tr th {\n",
       "        vertical-align: top;\n",
       "    }\n",
       "\n",
       "    .dataframe thead th {\n",
       "        text-align: right;\n",
       "    }\n",
       "</style>\n",
       "<table border=\"1\" class=\"dataframe\">\n",
       "  <thead>\n",
       "    <tr style=\"text-align: right;\">\n",
       "      <th></th>\n",
       "      <th>count</th>\n",
       "      <th>mean</th>\n",
       "      <th>min</th>\n",
       "      <th>25%</th>\n",
       "      <th>50%</th>\n",
       "      <th>75%</th>\n",
       "      <th>max</th>\n",
       "      <th>std</th>\n",
       "    </tr>\n",
       "  </thead>\n",
       "  <tbody>\n",
       "    <tr>\n",
       "      <th>Date</th>\n",
       "      <td>2416</td>\n",
       "      <td>2015-04-15 11:09:56.026490112</td>\n",
       "      <td>2010-06-29 00:00:00</td>\n",
       "      <td>2012-11-19 18:00:00</td>\n",
       "      <td>2015-04-16 12:00:00</td>\n",
       "      <td>2017-09-07 06:00:00</td>\n",
       "      <td>2020-02-03 00:00:00</td>\n",
       "      <td>NaN</td>\n",
       "    </tr>\n",
       "    <tr>\n",
       "      <th>Open</th>\n",
       "      <td>2416.0</td>\n",
       "      <td>186.271147</td>\n",
       "      <td>16.139999</td>\n",
       "      <td>34.342498</td>\n",
       "      <td>213.035004</td>\n",
       "      <td>266.450012</td>\n",
       "      <td>673.690002</td>\n",
       "      <td>118.740163</td>\n",
       "    </tr>\n",
       "    <tr>\n",
       "      <th>High</th>\n",
       "      <td>2416.0</td>\n",
       "      <td>189.578224</td>\n",
       "      <td>16.629999</td>\n",
       "      <td>34.897501</td>\n",
       "      <td>216.745002</td>\n",
       "      <td>270.927513</td>\n",
       "      <td>786.140015</td>\n",
       "      <td>120.892329</td>\n",
       "    </tr>\n",
       "    <tr>\n",
       "      <th>Low</th>\n",
       "      <td>2416.0</td>\n",
       "      <td>182.916639</td>\n",
       "      <td>14.98</td>\n",
       "      <td>33.587501</td>\n",
       "      <td>208.870002</td>\n",
       "      <td>262.102501</td>\n",
       "      <td>673.52002</td>\n",
       "      <td>116.857591</td>\n",
       "    </tr>\n",
       "    <tr>\n",
       "      <th>Close</th>\n",
       "      <td>2416.0</td>\n",
       "      <td>186.403651</td>\n",
       "      <td>15.8</td>\n",
       "      <td>34.400002</td>\n",
       "      <td>212.960007</td>\n",
       "      <td>266.774994</td>\n",
       "      <td>780.0</td>\n",
       "      <td>119.13602</td>\n",
       "    </tr>\n",
       "    <tr>\n",
       "      <th>Adj Close</th>\n",
       "      <td>2416.0</td>\n",
       "      <td>186.403651</td>\n",
       "      <td>15.8</td>\n",
       "      <td>34.400002</td>\n",
       "      <td>212.960007</td>\n",
       "      <td>266.774994</td>\n",
       "      <td>780.0</td>\n",
       "      <td>119.13602</td>\n",
       "    </tr>\n",
       "    <tr>\n",
       "      <th>Volume</th>\n",
       "      <td>2416.0</td>\n",
       "      <td>5572721.688742</td>\n",
       "      <td>118500.0</td>\n",
       "      <td>1899275.0</td>\n",
       "      <td>4578400.0</td>\n",
       "      <td>7361150.0</td>\n",
       "      <td>47065000.0</td>\n",
       "      <td>4987809.151888</td>\n",
       "    </tr>\n",
       "  </tbody>\n",
       "</table>\n",
       "</div>"
      ],
      "text/plain": [
       "            count                           mean                  min  \\\n",
       "Date         2416  2015-04-15 11:09:56.026490112  2010-06-29 00:00:00   \n",
       "Open       2416.0                     186.271147            16.139999   \n",
       "High       2416.0                     189.578224            16.629999   \n",
       "Low        2416.0                     182.916639                14.98   \n",
       "Close      2416.0                     186.403651                 15.8   \n",
       "Adj Close  2416.0                     186.403651                 15.8   \n",
       "Volume     2416.0                 5572721.688742             118500.0   \n",
       "\n",
       "                           25%                  50%                  75%  \\\n",
       "Date       2012-11-19 18:00:00  2015-04-16 12:00:00  2017-09-07 06:00:00   \n",
       "Open                 34.342498           213.035004           266.450012   \n",
       "High                 34.897501           216.745002           270.927513   \n",
       "Low                  33.587501           208.870002           262.102501   \n",
       "Close                34.400002           212.960007           266.774994   \n",
       "Adj Close            34.400002           212.960007           266.774994   \n",
       "Volume               1899275.0            4578400.0            7361150.0   \n",
       "\n",
       "                           max             std  \n",
       "Date       2020-02-03 00:00:00             NaN  \n",
       "Open                673.690002      118.740163  \n",
       "High                786.140015      120.892329  \n",
       "Low                  673.52002      116.857591  \n",
       "Close                    780.0       119.13602  \n",
       "Adj Close                780.0       119.13602  \n",
       "Volume              47065000.0  4987809.151888  "
      ]
     },
     "execution_count": 52,
     "metadata": {},
     "output_type": "execute_result"
    }
   ],
   "source": [
    "df.describe().T"
   ]
  },
  {
   "cell_type": "code",
   "execution_count": 53,
   "id": "c9a22013",
   "metadata": {
    "execution": {
     "iopub.execute_input": "2025-04-29T04:57:51.153834Z",
     "iopub.status.busy": "2025-04-29T04:57:51.153183Z",
     "iopub.status.idle": "2025-04-29T04:57:51.164788Z",
     "shell.execute_reply": "2025-04-29T04:57:51.163750Z"
    },
    "id": "-PSGVpMzgz1O",
    "papermill": {
     "duration": 0.03992,
     "end_time": "2025-04-29T04:57:51.166993",
     "exception": false,
     "start_time": "2025-04-29T04:57:51.127073",
     "status": "completed"
    },
    "tags": []
   },
   "outputs": [
    {
     "data": {
      "text/html": [
       "<div>\n",
       "<style scoped>\n",
       "    .dataframe tbody tr th:only-of-type {\n",
       "        vertical-align: middle;\n",
       "    }\n",
       "\n",
       "    .dataframe tbody tr th {\n",
       "        vertical-align: top;\n",
       "    }\n",
       "\n",
       "    .dataframe thead th {\n",
       "        text-align: right;\n",
       "    }\n",
       "</style>\n",
       "<table border=\"1\" class=\"dataframe\">\n",
       "  <thead>\n",
       "    <tr style=\"text-align: right;\">\n",
       "      <th></th>\n",
       "      <th>Close</th>\n",
       "      <th>Predicted</th>\n",
       "    </tr>\n",
       "    <tr>\n",
       "      <th>Date</th>\n",
       "      <th></th>\n",
       "      <th></th>\n",
       "    </tr>\n",
       "  </thead>\n",
       "  <tbody>\n",
       "    <tr>\n",
       "      <th>2010-07-28</th>\n",
       "      <td>20.719999</td>\n",
       "      <td>40.534897</td>\n",
       "    </tr>\n",
       "    <tr>\n",
       "      <th>2010-07-29</th>\n",
       "      <td>20.350000</td>\n",
       "      <td>40.509579</td>\n",
       "    </tr>\n",
       "    <tr>\n",
       "      <th>2010-07-30</th>\n",
       "      <td>19.940001</td>\n",
       "      <td>40.509579</td>\n",
       "    </tr>\n",
       "    <tr>\n",
       "      <th>2010-08-02</th>\n",
       "      <td>20.920000</td>\n",
       "      <td>40.509579</td>\n",
       "    </tr>\n",
       "    <tr>\n",
       "      <th>2010-08-03</th>\n",
       "      <td>21.950001</td>\n",
       "      <td>40.509579</td>\n",
       "    </tr>\n",
       "  </tbody>\n",
       "</table>\n",
       "</div>"
      ],
      "text/plain": [
       "                Close  Predicted\n",
       "Date                            \n",
       "2010-07-28  20.719999  40.534897\n",
       "2010-07-29  20.350000  40.509579\n",
       "2010-07-30  19.940001  40.509579\n",
       "2010-08-02  20.920000  40.509579\n",
       "2010-08-03  21.950001  40.509579"
      ]
     },
     "execution_count": 53,
     "metadata": {},
     "output_type": "execute_result"
    }
   ],
   "source": [
    "train_prediction_df = result_df[lookback:position]\n",
    "train_prediction_df[\"Predicted\"] = train_predict\n",
    "train_prediction_df.head()"
   ]
  },
  {
   "cell_type": "code",
   "execution_count": 54,
   "id": "649760e4",
   "metadata": {
    "execution": {
     "iopub.execute_input": "2025-04-29T04:57:51.219667Z",
     "iopub.status.busy": "2025-04-29T04:57:51.218889Z",
     "iopub.status.idle": "2025-04-29T04:57:51.229821Z",
     "shell.execute_reply": "2025-04-29T04:57:51.228850Z"
    },
    "id": "o7tRAXwOhMSA",
    "papermill": {
     "duration": 0.039515,
     "end_time": "2025-04-29T04:57:51.231954",
     "exception": false,
     "start_time": "2025-04-29T04:57:51.192439",
     "status": "completed"
    },
    "tags": []
   },
   "outputs": [
    {
     "data": {
      "text/html": [
       "<div>\n",
       "<style scoped>\n",
       "    .dataframe tbody tr th:only-of-type {\n",
       "        vertical-align: middle;\n",
       "    }\n",
       "\n",
       "    .dataframe tbody tr th {\n",
       "        vertical-align: top;\n",
       "    }\n",
       "\n",
       "    .dataframe thead th {\n",
       "        text-align: right;\n",
       "    }\n",
       "</style>\n",
       "<table border=\"1\" class=\"dataframe\">\n",
       "  <thead>\n",
       "    <tr style=\"text-align: right;\">\n",
       "      <th></th>\n",
       "      <th>Close</th>\n",
       "      <th>Predicted</th>\n",
       "    </tr>\n",
       "    <tr>\n",
       "      <th>Date</th>\n",
       "      <th></th>\n",
       "      <th></th>\n",
       "    </tr>\n",
       "  </thead>\n",
       "  <tbody>\n",
       "    <tr>\n",
       "      <th>2018-04-03</th>\n",
       "      <td>267.529999</td>\n",
       "      <td>360.360962</td>\n",
       "    </tr>\n",
       "    <tr>\n",
       "      <th>2018-04-04</th>\n",
       "      <td>286.940002</td>\n",
       "      <td>354.084503</td>\n",
       "    </tr>\n",
       "    <tr>\n",
       "      <th>2018-04-05</th>\n",
       "      <td>305.720001</td>\n",
       "      <td>355.289124</td>\n",
       "    </tr>\n",
       "    <tr>\n",
       "      <th>2018-04-06</th>\n",
       "      <td>299.299988</td>\n",
       "      <td>354.547485</td>\n",
       "    </tr>\n",
       "    <tr>\n",
       "      <th>2018-04-09</th>\n",
       "      <td>289.660004</td>\n",
       "      <td>354.138184</td>\n",
       "    </tr>\n",
       "  </tbody>\n",
       "</table>\n",
       "</div>"
      ],
      "text/plain": [
       "                 Close   Predicted\n",
       "Date                              \n",
       "2018-04-03  267.529999  360.360962\n",
       "2018-04-04  286.940002  354.084503\n",
       "2018-04-05  305.720001  355.289124\n",
       "2018-04-06  299.299988  354.547485\n",
       "2018-04-09  289.660004  354.138184"
      ]
     },
     "execution_count": 54,
     "metadata": {},
     "output_type": "execute_result"
    }
   ],
   "source": [
    "test_prediction_df = result_df[position+lookback:]\n",
    "test_prediction_df[\"Predicted\"] = test_predict\n",
    "test_prediction_df.head()"
   ]
  },
  {
   "cell_type": "code",
   "execution_count": 55,
   "id": "24591f42",
   "metadata": {
    "execution": {
     "iopub.execute_input": "2025-04-29T04:57:51.285648Z",
     "iopub.status.busy": "2025-04-29T04:57:51.284719Z",
     "iopub.status.idle": "2025-04-29T04:57:51.679801Z",
     "shell.execute_reply": "2025-04-29T04:57:51.678686Z"
    },
    "id": "PJ_-znSchYO_",
    "papermill": {
     "duration": 0.423887,
     "end_time": "2025-04-29T04:57:51.682080",
     "exception": false,
     "start_time": "2025-04-29T04:57:51.258193",
     "status": "completed"
    },
    "tags": []
   },
   "outputs": [
    {
     "data": {
      "image/png": "[encoded data removed]",
      "text/plain": [
       "<Figure size 1400x500 with 1 Axes>"
      ]
     },
     "metadata": {},
     "output_type": "display_data"
    }
   ],
   "source": [
    "plt.figure(figsize=(14,5))\n",
    "plt.plot(result_df, label = \"Real Number of Passengers\")\n",
    "plt.plot(train_prediction_df[\"Predicted\"], color = 'blue', label = \"Train Predicted Number of Passengers\")\n",
    "plt.plot(test_prediction_df[\"Predicted\"],color = 'red', label = \"Test Predicted Number of Passengers\")\n",
    "plt.title(\"Number of Passengers Prediction\")\n",
    "plt.xlabel(\"Time\")\n",
    "plt.ylabel(\"Number of Passengers\")\n",
    "plt.legend()\n",
    "plt.show()"
   ]
  }
 ],
 "metadata": {
  "colab": {
   "provenance": []
  },
  "kaggle": {
   "accelerator": "none",
   "dataSources": [
    {
     "datasetId": 500872,
     "sourceId": 927894,
     "sourceType": "datasetVersion"
    }
   ],
   "dockerImageVersionId": 30761,
   "isGpuEnabled": false,
   "isInternetEnabled": true,
   "language": "python",
   "sourceType": "notebook"
  },
  "kernelspec": {
   "display_name": "Python 3",
   "language": "python",
   "name": "python3"
  },
  "language_info": {
   "codemirror_mode": {
    "name": "ipython",
    "version": 3
   },
   "file_extension": ".py",
   "mimetype": "text/x-python",
   "name": "python",
   "nbconvert_exporter": "python",
   "pygments_lexer": "ipython3",
   "version": "3.10.14"
  },
  "papermill": {
   "default_parameters": {},
   "duration": 31.647862,
   "end_time": "2025-04-29T04:57:53.031714",
   "environment_variables": {},
   "exception": null,
   "input_path": "__notebook__.ipynb",
   "output_path": "__notebook__.ipynb",
   "parameters": {},
   "start_time": "2025-04-29T04:57:21.383852",
   "version": "2.6.0"
  }
 },
 "nbformat": 4,
 "nbformat_minor": 5
}
