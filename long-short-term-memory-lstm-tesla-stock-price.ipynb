{
 "cells": [
  {
   "cell_type": "markdown",
   "id": "f791280e",
   "metadata": {
    "id": "4unSJJjsT8BM",
    "papermill": {
     "duration": 0.013702,
     "end_time": "2025-03-09T20:22:33.008581",
     "exception": false,
     "start_time": "2025-03-09T20:22:32.994879",
     "status": "completed"
    },
    "tags": []
   },
   "source": [
    "# Tesla - Stock Price Prediction\n",
    "\n",
    "---\n",
    "\n"
   ]
  },
  {
   "cell_type": "markdown",
   "id": "afd1f257",
   "metadata": {
    "id": "wkRLJL2XUAfT",
    "papermill": {
     "duration": 0.011356,
     "end_time": "2025-03-09T20:22:33.032308",
     "exception": false,
     "start_time": "2025-03-09T20:22:33.020952",
     "status": "completed"
    },
    "tags": []
   },
   "source": [
    "## Business Problem\n",
    "\n",
    "In this notebook, our purpose is to predict of tesla - stock price."
   ]
  },
  {
   "cell_type": "markdown",
   "id": "c8944ca2",
   "metadata": {
    "id": "0uxjphZsUwjz",
    "papermill": {
     "duration": 0.01108,
     "end_time": "2025-03-09T20:22:33.054810",
     "exception": false,
     "start_time": "2025-03-09T20:22:33.043730",
     "status": "completed"
    },
    "tags": []
   },
   "source": [
    "## Data Understanding"
   ]
  },
  {
   "cell_type": "code",
   "execution_count": 1,
   "id": "7824720b",
   "metadata": {
    "execution": {
     "iopub.execute_input": "2025-03-09T20:22:33.077750Z",
     "iopub.status.busy": "2025-03-09T20:22:33.077307Z",
     "iopub.status.idle": "2025-03-09T20:22:51.440466Z",
     "shell.execute_reply": "2025-03-09T20:22:51.439113Z"
    },
    "id": "40IR65rQUyWC",
    "outputId": "4562368d-970e-4fd6-b03e-be036efe4dcd",
    "papermill": {
     "duration": 18.377743,
     "end_time": "2025-03-09T20:22:51.443207",
     "exception": false,
     "start_time": "2025-03-09T20:22:33.065464",
     "status": "completed"
    },
    "tags": []
   },
   "outputs": [],
   "source": [
    "import numpy as np\n",
    "import pandas as pd\n",
    "import datetime as dt\n",
    "import tensorflow as tf\n",
    "import matplotlib.pyplot as plt\n",
    "\n",
    "from sklearn.preprocessing import MinMaxScaler\n",
    "from sklearn.metrics import mean_squared_error\n",
    "\n",
    "from tensorflow.keras.models import Sequential\n",
    "from tensorflow.keras.layers import Dense, LSTM, Dropout\n",
    "from tensorflow.keras.callbacks import ModelCheckpoint, EarlyStopping\n",
    "\n",
    "import warnings\n",
    "warnings.filterwarnings('ignore')\n",
    "\n",
    "import os\n",
    "os.environ['TF_CPP_MIN_LOG_LEVEL'] = '3'\n",
    "tf.compat.v1.logging.set_verbosity(tf.compat.v1.logging.ERROR)"
   ]
  },
  {
   "cell_type": "code",
   "execution_count": 2,
   "id": "3c140936",
   "metadata": {
    "execution": {
     "iopub.execute_input": "2025-03-09T20:22:51.468218Z",
     "iopub.status.busy": "2025-03-09T20:22:51.467115Z",
     "iopub.status.idle": "2025-03-09T20:22:51.530742Z",
     "shell.execute_reply": "2025-03-09T20:22:51.529389Z"
    },
    "id": "-be5_efvVpTV",
    "papermill": {
     "duration": 0.078934,
     "end_time": "2025-03-09T20:22:51.533357",
     "exception": false,
     "start_time": "2025-03-09T20:22:51.454423",
     "status": "completed"
    },
    "tags": []
   },
   "outputs": [
    {
     "data": {
      "text/html": [
       "<div>\n",
       "<style scoped>\n",
       "    .dataframe tbody tr th:only-of-type {\n",
       "        vertical-align: middle;\n",
       "    }\n",
       "\n",
       "    .dataframe tbody tr th {\n",
       "        vertical-align: top;\n",
       "    }\n",
       "\n",
       "    .dataframe thead th {\n",
       "        text-align: right;\n",
       "    }\n",
       "</style>\n",
       "<table border=\"1\" class=\"dataframe\">\n",
       "  <thead>\n",
       "    <tr style=\"text-align: right;\">\n",
       "      <th></th>\n",
       "      <th>Date</th>\n",
       "      <th>Open</th>\n",
       "      <th>High</th>\n",
       "      <th>Low</th>\n",
       "      <th>Close</th>\n",
       "      <th>Adj Close</th>\n",
       "      <th>Volume</th>\n",
       "    </tr>\n",
       "  </thead>\n",
       "  <tbody>\n",
       "    <tr>\n",
       "      <th>0</th>\n",
       "      <td>2010-06-29</td>\n",
       "      <td>19.000000</td>\n",
       "      <td>25.000000</td>\n",
       "      <td>17.540001</td>\n",
       "      <td>23.889999</td>\n",
       "      <td>23.889999</td>\n",
       "      <td>18766300</td>\n",
       "    </tr>\n",
       "    <tr>\n",
       "      <th>1</th>\n",
       "      <td>2010-06-30</td>\n",
       "      <td>25.790001</td>\n",
       "      <td>30.420000</td>\n",
       "      <td>23.299999</td>\n",
       "      <td>23.830000</td>\n",
       "      <td>23.830000</td>\n",
       "      <td>17187100</td>\n",
       "    </tr>\n",
       "    <tr>\n",
       "      <th>2</th>\n",
       "      <td>2010-07-01</td>\n",
       "      <td>25.000000</td>\n",
       "      <td>25.920000</td>\n",
       "      <td>20.270000</td>\n",
       "      <td>21.959999</td>\n",
       "      <td>21.959999</td>\n",
       "      <td>8218800</td>\n",
       "    </tr>\n",
       "    <tr>\n",
       "      <th>3</th>\n",
       "      <td>2010-07-02</td>\n",
       "      <td>23.000000</td>\n",
       "      <td>23.100000</td>\n",
       "      <td>18.709999</td>\n",
       "      <td>19.200001</td>\n",
       "      <td>19.200001</td>\n",
       "      <td>5139800</td>\n",
       "    </tr>\n",
       "    <tr>\n",
       "      <th>4</th>\n",
       "      <td>2010-07-06</td>\n",
       "      <td>20.000000</td>\n",
       "      <td>20.000000</td>\n",
       "      <td>15.830000</td>\n",
       "      <td>16.110001</td>\n",
       "      <td>16.110001</td>\n",
       "      <td>6866900</td>\n",
       "    </tr>\n",
       "    <tr>\n",
       "      <th>...</th>\n",
       "      <td>...</td>\n",
       "      <td>...</td>\n",
       "      <td>...</td>\n",
       "      <td>...</td>\n",
       "      <td>...</td>\n",
       "      <td>...</td>\n",
       "      <td>...</td>\n",
       "    </tr>\n",
       "    <tr>\n",
       "      <th>2411</th>\n",
       "      <td>2020-01-28</td>\n",
       "      <td>568.489990</td>\n",
       "      <td>576.809998</td>\n",
       "      <td>558.080017</td>\n",
       "      <td>566.900024</td>\n",
       "      <td>566.900024</td>\n",
       "      <td>11788500</td>\n",
       "    </tr>\n",
       "    <tr>\n",
       "      <th>2412</th>\n",
       "      <td>2020-01-29</td>\n",
       "      <td>575.690002</td>\n",
       "      <td>589.799988</td>\n",
       "      <td>567.429993</td>\n",
       "      <td>580.989990</td>\n",
       "      <td>580.989990</td>\n",
       "      <td>17801500</td>\n",
       "    </tr>\n",
       "    <tr>\n",
       "      <th>2413</th>\n",
       "      <td>2020-01-30</td>\n",
       "      <td>632.419983</td>\n",
       "      <td>650.880005</td>\n",
       "      <td>618.000000</td>\n",
       "      <td>640.809998</td>\n",
       "      <td>640.809998</td>\n",
       "      <td>29005700</td>\n",
       "    </tr>\n",
       "    <tr>\n",
       "      <th>2414</th>\n",
       "      <td>2020-01-31</td>\n",
       "      <td>640.000000</td>\n",
       "      <td>653.000000</td>\n",
       "      <td>632.520020</td>\n",
       "      <td>650.570007</td>\n",
       "      <td>650.570007</td>\n",
       "      <td>15719300</td>\n",
       "    </tr>\n",
       "    <tr>\n",
       "      <th>2415</th>\n",
       "      <td>2020-02-03</td>\n",
       "      <td>673.690002</td>\n",
       "      <td>786.140015</td>\n",
       "      <td>673.520020</td>\n",
       "      <td>780.000000</td>\n",
       "      <td>780.000000</td>\n",
       "      <td>47065000</td>\n",
       "    </tr>\n",
       "  </tbody>\n",
       "</table>\n",
       "<p>2416 rows × 7 columns</p>\n",
       "</div>"
      ],
      "text/plain": [
       "            Date        Open        High         Low       Close   Adj Close  \\\n",
       "0     2010-06-29   19.000000   25.000000   17.540001   23.889999   23.889999   \n",
       "1     2010-06-30   25.790001   30.420000   23.299999   23.830000   23.830000   \n",
       "2     2010-07-01   25.000000   25.920000   20.270000   21.959999   21.959999   \n",
       "3     2010-07-02   23.000000   23.100000   18.709999   19.200001   19.200001   \n",
       "4     2010-07-06   20.000000   20.000000   15.830000   16.110001   16.110001   \n",
       "...          ...         ...         ...         ...         ...         ...   \n",
       "2411  2020-01-28  568.489990  576.809998  558.080017  566.900024  566.900024   \n",
       "2412  2020-01-29  575.690002  589.799988  567.429993  580.989990  580.989990   \n",
       "2413  2020-01-30  632.419983  650.880005  618.000000  640.809998  640.809998   \n",
       "2414  2020-01-31  640.000000  653.000000  632.520020  650.570007  650.570007   \n",
       "2415  2020-02-03  673.690002  786.140015  673.520020  780.000000  780.000000   \n",
       "\n",
       "        Volume  \n",
       "0     18766300  \n",
       "1     17187100  \n",
       "2      8218800  \n",
       "3      5139800  \n",
       "4      6866900  \n",
       "...        ...  \n",
       "2411  11788500  \n",
       "2412  17801500  \n",
       "2413  29005700  \n",
       "2414  15719300  \n",
       "2415  47065000  \n",
       "\n",
       "[2416 rows x 7 columns]"
      ]
     },
     "execution_count": 2,
     "metadata": {},
     "output_type": "execute_result"
    }
   ],
   "source": [
    "df = pd.read_csv('/kaggle/input/tesla-stock-data-from-2010-to-2020/TSLA.csv')\n",
    "df"
   ]
  },
  {
   "cell_type": "code",
   "execution_count": 3,
   "id": "597f08f8",
   "metadata": {
    "execution": {
     "iopub.execute_input": "2025-03-09T20:22:51.559107Z",
     "iopub.status.busy": "2025-03-09T20:22:51.558682Z",
     "iopub.status.idle": "2025-03-09T20:22:51.572860Z",
     "shell.execute_reply": "2025-03-09T20:22:51.571621Z"
    },
    "id": "lG_AO3mdVv17",
    "papermill": {
     "duration": 0.028872,
     "end_time": "2025-03-09T20:22:51.575003",
     "exception": false,
     "start_time": "2025-03-09T20:22:51.546131",
     "status": "completed"
    },
    "tags": []
   },
   "outputs": [
    {
     "data": {
      "text/html": [
       "<div>\n",
       "<style scoped>\n",
       "    .dataframe tbody tr th:only-of-type {\n",
       "        vertical-align: middle;\n",
       "    }\n",
       "\n",
       "    .dataframe tbody tr th {\n",
       "        vertical-align: top;\n",
       "    }\n",
       "\n",
       "    .dataframe thead th {\n",
       "        text-align: right;\n",
       "    }\n",
       "</style>\n",
       "<table border=\"1\" class=\"dataframe\">\n",
       "  <thead>\n",
       "    <tr style=\"text-align: right;\">\n",
       "      <th></th>\n",
       "      <th>Date</th>\n",
       "      <th>Open</th>\n",
       "      <th>High</th>\n",
       "      <th>Low</th>\n",
       "      <th>Close</th>\n",
       "      <th>Adj Close</th>\n",
       "      <th>Volume</th>\n",
       "    </tr>\n",
       "  </thead>\n",
       "  <tbody>\n",
       "    <tr>\n",
       "      <th>0</th>\n",
       "      <td>2010-06-29</td>\n",
       "      <td>19.000000</td>\n",
       "      <td>25.00</td>\n",
       "      <td>17.540001</td>\n",
       "      <td>23.889999</td>\n",
       "      <td>23.889999</td>\n",
       "      <td>18766300</td>\n",
       "    </tr>\n",
       "    <tr>\n",
       "      <th>1</th>\n",
       "      <td>2010-06-30</td>\n",
       "      <td>25.790001</td>\n",
       "      <td>30.42</td>\n",
       "      <td>23.299999</td>\n",
       "      <td>23.830000</td>\n",
       "      <td>23.830000</td>\n",
       "      <td>17187100</td>\n",
       "    </tr>\n",
       "    <tr>\n",
       "      <th>2</th>\n",
       "      <td>2010-07-01</td>\n",
       "      <td>25.000000</td>\n",
       "      <td>25.92</td>\n",
       "      <td>20.270000</td>\n",
       "      <td>21.959999</td>\n",
       "      <td>21.959999</td>\n",
       "      <td>8218800</td>\n",
       "    </tr>\n",
       "    <tr>\n",
       "      <th>3</th>\n",
       "      <td>2010-07-02</td>\n",
       "      <td>23.000000</td>\n",
       "      <td>23.10</td>\n",
       "      <td>18.709999</td>\n",
       "      <td>19.200001</td>\n",
       "      <td>19.200001</td>\n",
       "      <td>5139800</td>\n",
       "    </tr>\n",
       "    <tr>\n",
       "      <th>4</th>\n",
       "      <td>2010-07-06</td>\n",
       "      <td>20.000000</td>\n",
       "      <td>20.00</td>\n",
       "      <td>15.830000</td>\n",
       "      <td>16.110001</td>\n",
       "      <td>16.110001</td>\n",
       "      <td>6866900</td>\n",
       "    </tr>\n",
       "  </tbody>\n",
       "</table>\n",
       "</div>"
      ],
      "text/plain": [
       "         Date       Open   High        Low      Close  Adj Close    Volume\n",
       "0  2010-06-29  19.000000  25.00  17.540001  23.889999  23.889999  18766300\n",
       "1  2010-06-30  25.790001  30.42  23.299999  23.830000  23.830000  17187100\n",
       "2  2010-07-01  25.000000  25.92  20.270000  21.959999  21.959999   8218800\n",
       "3  2010-07-02  23.000000  23.10  18.709999  19.200001  19.200001   5139800\n",
       "4  2010-07-06  20.000000  20.00  15.830000  16.110001  16.110001   6866900"
      ]
     },
     "execution_count": 3,
     "metadata": {},
     "output_type": "execute_result"
    }
   ],
   "source": [
    "df.head()"
   ]
  },
  {
   "cell_type": "code",
   "execution_count": 4,
   "id": "975dbf4c",
   "metadata": {
    "execution": {
     "iopub.execute_input": "2025-03-09T20:22:51.599664Z",
     "iopub.status.busy": "2025-03-09T20:22:51.599283Z",
     "iopub.status.idle": "2025-03-09T20:22:51.606188Z",
     "shell.execute_reply": "2025-03-09T20:22:51.605031Z"
    },
    "id": "TU5hlfyvVxY0",
    "papermill": {
     "duration": 0.022523,
     "end_time": "2025-03-09T20:22:51.608908",
     "exception": false,
     "start_time": "2025-03-09T20:22:51.586385",
     "status": "completed"
    },
    "tags": []
   },
   "outputs": [],
   "source": [
    "def check_df(dataframe, head=5):\n",
    "    print(\"##################### Shape #####################\")\n",
    "    print(dataframe.shape)\n",
    "    print(\"##################### Types #####################\")\n",
    "    print(dataframe.dtypes)\n",
    "    print(\"##################### Head #####################\")\n",
    "    print(dataframe.head(head))  # Fonksiyon çağrısına dikkat edin\n",
    "    print(\"##################### Tail #####################\")\n",
    "    print(dataframe.tail(head))\n",
    "    print(\"##################### NA #####################\")\n",
    "    print(dataframe.isnull().sum())\n",
    "    print(\"##################### Quantile #####################\")\n",
    "    print(dataframe.select_dtypes(include='number').quantile([0, 0.05, 0.5, 0.95, 0.99, 1]).T)\n"
   ]
  },
  {
   "cell_type": "code",
   "execution_count": 5,
   "id": "4f0487d5",
   "metadata": {
    "execution": {
     "iopub.execute_input": "2025-03-09T20:22:51.633841Z",
     "iopub.status.busy": "2025-03-09T20:22:51.633445Z",
     "iopub.status.idle": "2025-03-09T20:22:51.656433Z",
     "shell.execute_reply": "2025-03-09T20:22:51.655247Z"
    },
    "id": "t6iFP965V4vk",
    "papermill": {
     "duration": 0.038255,
     "end_time": "2025-03-09T20:22:51.659127",
     "exception": false,
     "start_time": "2025-03-09T20:22:51.620872",
     "status": "completed"
    },
    "tags": []
   },
   "outputs": [
    {
     "name": "stdout",
     "output_type": "stream",
     "text": [
      "##################### Shape #####################\n",
      "(2416, 7)\n",
      "##################### Types #####################\n",
      "Date          object\n",
      "Open         float64\n",
      "High         float64\n",
      "Low          float64\n",
      "Close        float64\n",
      "Adj Close    float64\n",
      "Volume         int64\n",
      "dtype: object\n",
      "##################### Head #####################\n",
      "         Date       Open   High        Low      Close  Adj Close    Volume\n",
      "0  2010-06-29  19.000000  25.00  17.540001  23.889999  23.889999  18766300\n",
      "1  2010-06-30  25.790001  30.42  23.299999  23.830000  23.830000  17187100\n",
      "2  2010-07-01  25.000000  25.92  20.270000  21.959999  21.959999   8218800\n",
      "3  2010-07-02  23.000000  23.10  18.709999  19.200001  19.200001   5139800\n",
      "4  2010-07-06  20.000000  20.00  15.830000  16.110001  16.110001   6866900\n",
      "##################### Tail #####################\n",
      "            Date        Open        High         Low       Close   Adj Close  \\\n",
      "2411  2020-01-28  568.489990  576.809998  558.080017  566.900024  566.900024   \n",
      "2412  2020-01-29  575.690002  589.799988  567.429993  580.989990  580.989990   \n",
      "2413  2020-01-30  632.419983  650.880005  618.000000  640.809998  640.809998   \n",
      "2414  2020-01-31  640.000000  653.000000  632.520020  650.570007  650.570007   \n",
      "2415  2020-02-03  673.690002  786.140015  673.520020  780.000000  780.000000   \n",
      "\n",
      "        Volume  \n",
      "2411  11788500  \n",
      "2412  17801500  \n",
      "2413  29005700  \n",
      "2414  15719300  \n",
      "2415  47065000  \n",
      "##################### NA #####################\n",
      "Date         0\n",
      "Open         0\n",
      "High         0\n",
      "Low          0\n",
      "Close        0\n",
      "Adj Close    0\n",
      "Volume       0\n",
      "dtype: int64\n",
      "##################### Quantile #####################\n",
      "                    0.00           0.05          0.50          0.95  \\\n",
      "Open           16.139999      23.384999  2.130350e+02  3.519100e+02   \n",
      "High           16.629999      24.022501  2.167450e+02  3.567500e+02   \n",
      "Low            14.980000      22.867499  2.088700e+02  3.460250e+02   \n",
      "Close          15.800000      23.565000  2.129600e+02  3.511675e+02   \n",
      "Adj Close      15.800000      23.565000  2.129600e+02  3.511675e+02   \n",
      "Volume     118500.000000  633825.000000  4.578400e+06  1.476090e+07   \n",
      "\n",
      "                   0.99          1.00  \n",
      "Open       4.235790e+02  6.736900e+02  \n",
      "High       4.284705e+02  7.861400e+02  \n",
      "Low        4.122865e+02  6.735200e+02  \n",
      "Close      4.243455e+02  7.800000e+02  \n",
      "Adj Close  4.243455e+02  7.800000e+02  \n",
      "Volume     2.459959e+07  4.706500e+07  \n"
     ]
    }
   ],
   "source": [
    "check_df(df)"
   ]
  },
  {
   "cell_type": "markdown",
   "id": "9c1dd57d",
   "metadata": {
    "id": "v2n2ONcpWlQl",
    "papermill": {
     "duration": 0.011034,
     "end_time": "2025-03-09T20:22:51.681579",
     "exception": false,
     "start_time": "2025-03-09T20:22:51.670545",
     "status": "completed"
    },
    "tags": []
   },
   "source": [
    "## Data Preparation"
   ]
  },
  {
   "cell_type": "code",
   "execution_count": 6,
   "id": "58e685bb",
   "metadata": {
    "execution": {
     "iopub.execute_input": "2025-03-09T20:22:51.706113Z",
     "iopub.status.busy": "2025-03-09T20:22:51.705700Z",
     "iopub.status.idle": "2025-03-09T20:22:51.717138Z",
     "shell.execute_reply": "2025-03-09T20:22:51.715716Z"
    },
    "id": "x-En8ormWAo8",
    "papermill": {
     "duration": 0.026444,
     "end_time": "2025-03-09T20:22:51.719568",
     "exception": false,
     "start_time": "2025-03-09T20:22:51.693124",
     "status": "completed"
    },
    "tags": []
   },
   "outputs": [],
   "source": [
    "df[\"Date\"] = pd.to_datetime(df[\"Date\"])"
   ]
  },
  {
   "cell_type": "code",
   "execution_count": 7,
   "id": "10cd74a3",
   "metadata": {
    "execution": {
     "iopub.execute_input": "2025-03-09T20:22:51.744510Z",
     "iopub.status.busy": "2025-03-09T20:22:51.744067Z",
     "iopub.status.idle": "2025-03-09T20:22:51.760171Z",
     "shell.execute_reply": "2025-03-09T20:22:51.759117Z"
    },
    "id": "Wk3C4MPkWBUG",
    "papermill": {
     "duration": 0.031609,
     "end_time": "2025-03-09T20:22:51.762443",
     "exception": false,
     "start_time": "2025-03-09T20:22:51.730834",
     "status": "completed"
    },
    "tags": []
   },
   "outputs": [
    {
     "data": {
      "text/html": [
       "<div>\n",
       "<style scoped>\n",
       "    .dataframe tbody tr th:only-of-type {\n",
       "        vertical-align: middle;\n",
       "    }\n",
       "\n",
       "    .dataframe tbody tr th {\n",
       "        vertical-align: top;\n",
       "    }\n",
       "\n",
       "    .dataframe thead th {\n",
       "        text-align: right;\n",
       "    }\n",
       "</style>\n",
       "<table border=\"1\" class=\"dataframe\">\n",
       "  <thead>\n",
       "    <tr style=\"text-align: right;\">\n",
       "      <th></th>\n",
       "      <th>Date</th>\n",
       "      <th>Open</th>\n",
       "      <th>High</th>\n",
       "      <th>Low</th>\n",
       "      <th>Close</th>\n",
       "      <th>Adj Close</th>\n",
       "      <th>Volume</th>\n",
       "    </tr>\n",
       "  </thead>\n",
       "  <tbody>\n",
       "    <tr>\n",
       "      <th>0</th>\n",
       "      <td>2010-06-29</td>\n",
       "      <td>19.000000</td>\n",
       "      <td>25.00</td>\n",
       "      <td>17.540001</td>\n",
       "      <td>23.889999</td>\n",
       "      <td>23.889999</td>\n",
       "      <td>18766300</td>\n",
       "    </tr>\n",
       "    <tr>\n",
       "      <th>1</th>\n",
       "      <td>2010-06-30</td>\n",
       "      <td>25.790001</td>\n",
       "      <td>30.42</td>\n",
       "      <td>23.299999</td>\n",
       "      <td>23.830000</td>\n",
       "      <td>23.830000</td>\n",
       "      <td>17187100</td>\n",
       "    </tr>\n",
       "    <tr>\n",
       "      <th>2</th>\n",
       "      <td>2010-07-01</td>\n",
       "      <td>25.000000</td>\n",
       "      <td>25.92</td>\n",
       "      <td>20.270000</td>\n",
       "      <td>21.959999</td>\n",
       "      <td>21.959999</td>\n",
       "      <td>8218800</td>\n",
       "    </tr>\n",
       "    <tr>\n",
       "      <th>3</th>\n",
       "      <td>2010-07-02</td>\n",
       "      <td>23.000000</td>\n",
       "      <td>23.10</td>\n",
       "      <td>18.709999</td>\n",
       "      <td>19.200001</td>\n",
       "      <td>19.200001</td>\n",
       "      <td>5139800</td>\n",
       "    </tr>\n",
       "    <tr>\n",
       "      <th>4</th>\n",
       "      <td>2010-07-06</td>\n",
       "      <td>20.000000</td>\n",
       "      <td>20.00</td>\n",
       "      <td>15.830000</td>\n",
       "      <td>16.110001</td>\n",
       "      <td>16.110001</td>\n",
       "      <td>6866900</td>\n",
       "    </tr>\n",
       "  </tbody>\n",
       "</table>\n",
       "</div>"
      ],
      "text/plain": [
       "        Date       Open   High        Low      Close  Adj Close    Volume\n",
       "0 2010-06-29  19.000000  25.00  17.540001  23.889999  23.889999  18766300\n",
       "1 2010-06-30  25.790001  30.42  23.299999  23.830000  23.830000  17187100\n",
       "2 2010-07-01  25.000000  25.92  20.270000  21.959999  21.959999   8218800\n",
       "3 2010-07-02  23.000000  23.10  18.709999  19.200001  19.200001   5139800\n",
       "4 2010-07-06  20.000000  20.00  15.830000  16.110001  16.110001   6866900"
      ]
     },
     "execution_count": 7,
     "metadata": {},
     "output_type": "execute_result"
    }
   ],
   "source": [
    "df.head()"
   ]
  },
  {
   "cell_type": "code",
   "execution_count": 8,
   "id": "b16a9f8c",
   "metadata": {
    "execution": {
     "iopub.execute_input": "2025-03-09T20:22:51.788041Z",
     "iopub.status.busy": "2025-03-09T20:22:51.786853Z",
     "iopub.status.idle": "2025-03-09T20:22:51.793971Z",
     "shell.execute_reply": "2025-03-09T20:22:51.792577Z"
    },
    "id": "ZOVzSrk1WCHu",
    "papermill": {
     "duration": 0.022054,
     "end_time": "2025-03-09T20:22:51.796141",
     "exception": false,
     "start_time": "2025-03-09T20:22:51.774087",
     "status": "completed"
    },
    "tags": []
   },
   "outputs": [],
   "source": [
    "tesla_df = df[[\"Date\", \"Close\"]]"
   ]
  },
  {
   "cell_type": "code",
   "execution_count": 9,
   "id": "512d1ac8",
   "metadata": {
    "execution": {
     "iopub.execute_input": "2025-03-09T20:22:51.821096Z",
     "iopub.status.busy": "2025-03-09T20:22:51.820674Z",
     "iopub.status.idle": "2025-03-09T20:22:51.831431Z",
     "shell.execute_reply": "2025-03-09T20:22:51.830396Z"
    },
    "id": "Tli5FuMBWF8l",
    "papermill": {
     "duration": 0.025969,
     "end_time": "2025-03-09T20:22:51.833822",
     "exception": false,
     "start_time": "2025-03-09T20:22:51.807853",
     "status": "completed"
    },
    "tags": []
   },
   "outputs": [
    {
     "data": {
      "text/html": [
       "<div>\n",
       "<style scoped>\n",
       "    .dataframe tbody tr th:only-of-type {\n",
       "        vertical-align: middle;\n",
       "    }\n",
       "\n",
       "    .dataframe tbody tr th {\n",
       "        vertical-align: top;\n",
       "    }\n",
       "\n",
       "    .dataframe thead th {\n",
       "        text-align: right;\n",
       "    }\n",
       "</style>\n",
       "<table border=\"1\" class=\"dataframe\">\n",
       "  <thead>\n",
       "    <tr style=\"text-align: right;\">\n",
       "      <th></th>\n",
       "      <th>Date</th>\n",
       "      <th>Close</th>\n",
       "    </tr>\n",
       "  </thead>\n",
       "  <tbody>\n",
       "    <tr>\n",
       "      <th>0</th>\n",
       "      <td>2010-06-29</td>\n",
       "      <td>23.889999</td>\n",
       "    </tr>\n",
       "    <tr>\n",
       "      <th>1</th>\n",
       "      <td>2010-06-30</td>\n",
       "      <td>23.830000</td>\n",
       "    </tr>\n",
       "    <tr>\n",
       "      <th>2</th>\n",
       "      <td>2010-07-01</td>\n",
       "      <td>21.959999</td>\n",
       "    </tr>\n",
       "    <tr>\n",
       "      <th>3</th>\n",
       "      <td>2010-07-02</td>\n",
       "      <td>19.200001</td>\n",
       "    </tr>\n",
       "    <tr>\n",
       "      <th>4</th>\n",
       "      <td>2010-07-06</td>\n",
       "      <td>16.110001</td>\n",
       "    </tr>\n",
       "  </tbody>\n",
       "</table>\n",
       "</div>"
      ],
      "text/plain": [
       "        Date      Close\n",
       "0 2010-06-29  23.889999\n",
       "1 2010-06-30  23.830000\n",
       "2 2010-07-01  21.959999\n",
       "3 2010-07-02  19.200001\n",
       "4 2010-07-06  16.110001"
      ]
     },
     "execution_count": 9,
     "metadata": {},
     "output_type": "execute_result"
    }
   ],
   "source": [
    "tesla_df.head()"
   ]
  },
  {
   "cell_type": "code",
   "execution_count": 10,
   "id": "b8d31bb9",
   "metadata": {
    "execution": {
     "iopub.execute_input": "2025-03-09T20:22:51.858863Z",
     "iopub.status.busy": "2025-03-09T20:22:51.858442Z",
     "iopub.status.idle": "2025-03-09T20:22:51.865597Z",
     "shell.execute_reply": "2025-03-09T20:22:51.864468Z"
    },
    "id": "Gsw5OQCAWLzn",
    "papermill": {
     "duration": 0.022073,
     "end_time": "2025-03-09T20:22:51.867743",
     "exception": false,
     "start_time": "2025-03-09T20:22:51.845670",
     "status": "completed"
    },
    "tags": []
   },
   "outputs": [
    {
     "name": "stdout",
     "output_type": "stream",
     "text": [
      "Min Date:  2010-06-29 00:00:00\n",
      "Max Date:  2020-02-03 00:00:00\n"
     ]
    }
   ],
   "source": [
    "print(\"Min Date: \", tesla_df[\"Date\"].min())\n",
    "print(\"Max Date: \", tesla_df[\"Date\"].max())"
   ]
  },
  {
   "cell_type": "code",
   "execution_count": 11,
   "id": "7a0d46ce",
   "metadata": {
    "execution": {
     "iopub.execute_input": "2025-03-09T20:22:51.893746Z",
     "iopub.status.busy": "2025-03-09T20:22:51.893326Z",
     "iopub.status.idle": "2025-03-09T20:22:51.898494Z",
     "shell.execute_reply": "2025-03-09T20:22:51.897542Z"
    },
    "id": "JGi8P08mWQO1",
    "papermill": {
     "duration": 0.020639,
     "end_time": "2025-03-09T20:22:51.900685",
     "exception": false,
     "start_time": "2025-03-09T20:22:51.880046",
     "status": "completed"
    },
    "tags": []
   },
   "outputs": [],
   "source": [
    "tesla_df.index = tesla_df[\"Date\"]"
   ]
  },
  {
   "cell_type": "code",
   "execution_count": 12,
   "id": "e9df39cd",
   "metadata": {
    "execution": {
     "iopub.execute_input": "2025-03-09T20:22:51.927126Z",
     "iopub.status.busy": "2025-03-09T20:22:51.926021Z",
     "iopub.status.idle": "2025-03-09T20:22:51.938597Z",
     "shell.execute_reply": "2025-03-09T20:22:51.937451Z"
    },
    "id": "YBWxX2IOWoL_",
    "papermill": {
     "duration": 0.028636,
     "end_time": "2025-03-09T20:22:51.941037",
     "exception": false,
     "start_time": "2025-03-09T20:22:51.912401",
     "status": "completed"
    },
    "tags": []
   },
   "outputs": [
    {
     "data": {
      "text/html": [
       "<div>\n",
       "<style scoped>\n",
       "    .dataframe tbody tr th:only-of-type {\n",
       "        vertical-align: middle;\n",
       "    }\n",
       "\n",
       "    .dataframe tbody tr th {\n",
       "        vertical-align: top;\n",
       "    }\n",
       "\n",
       "    .dataframe thead th {\n",
       "        text-align: right;\n",
       "    }\n",
       "</style>\n",
       "<table border=\"1\" class=\"dataframe\">\n",
       "  <thead>\n",
       "    <tr style=\"text-align: right;\">\n",
       "      <th></th>\n",
       "      <th>Date</th>\n",
       "      <th>Close</th>\n",
       "    </tr>\n",
       "    <tr>\n",
       "      <th>Date</th>\n",
       "      <th></th>\n",
       "      <th></th>\n",
       "    </tr>\n",
       "  </thead>\n",
       "  <tbody>\n",
       "    <tr>\n",
       "      <th>2010-06-29</th>\n",
       "      <td>2010-06-29</td>\n",
       "      <td>23.889999</td>\n",
       "    </tr>\n",
       "    <tr>\n",
       "      <th>2010-06-30</th>\n",
       "      <td>2010-06-30</td>\n",
       "      <td>23.830000</td>\n",
       "    </tr>\n",
       "    <tr>\n",
       "      <th>2010-07-01</th>\n",
       "      <td>2010-07-01</td>\n",
       "      <td>21.959999</td>\n",
       "    </tr>\n",
       "    <tr>\n",
       "      <th>2010-07-02</th>\n",
       "      <td>2010-07-02</td>\n",
       "      <td>19.200001</td>\n",
       "    </tr>\n",
       "    <tr>\n",
       "      <th>2010-07-06</th>\n",
       "      <td>2010-07-06</td>\n",
       "      <td>16.110001</td>\n",
       "    </tr>\n",
       "    <tr>\n",
       "      <th>...</th>\n",
       "      <td>...</td>\n",
       "      <td>...</td>\n",
       "    </tr>\n",
       "    <tr>\n",
       "      <th>2020-01-28</th>\n",
       "      <td>2020-01-28</td>\n",
       "      <td>566.900024</td>\n",
       "    </tr>\n",
       "    <tr>\n",
       "      <th>2020-01-29</th>\n",
       "      <td>2020-01-29</td>\n",
       "      <td>580.989990</td>\n",
       "    </tr>\n",
       "    <tr>\n",
       "      <th>2020-01-30</th>\n",
       "      <td>2020-01-30</td>\n",
       "      <td>640.809998</td>\n",
       "    </tr>\n",
       "    <tr>\n",
       "      <th>2020-01-31</th>\n",
       "      <td>2020-01-31</td>\n",
       "      <td>650.570007</td>\n",
       "    </tr>\n",
       "    <tr>\n",
       "      <th>2020-02-03</th>\n",
       "      <td>2020-02-03</td>\n",
       "      <td>780.000000</td>\n",
       "    </tr>\n",
       "  </tbody>\n",
       "</table>\n",
       "<p>2416 rows × 2 columns</p>\n",
       "</div>"
      ],
      "text/plain": [
       "                 Date       Close\n",
       "Date                             \n",
       "2010-06-29 2010-06-29   23.889999\n",
       "2010-06-30 2010-06-30   23.830000\n",
       "2010-07-01 2010-07-01   21.959999\n",
       "2010-07-02 2010-07-02   19.200001\n",
       "2010-07-06 2010-07-06   16.110001\n",
       "...               ...         ...\n",
       "2020-01-28 2020-01-28  566.900024\n",
       "2020-01-29 2020-01-29  580.989990\n",
       "2020-01-30 2020-01-30  640.809998\n",
       "2020-01-31 2020-01-31  650.570007\n",
       "2020-02-03 2020-02-03  780.000000\n",
       "\n",
       "[2416 rows x 2 columns]"
      ]
     },
     "execution_count": 12,
     "metadata": {},
     "output_type": "execute_result"
    }
   ],
   "source": [
    "tesla_df"
   ]
  },
  {
   "cell_type": "code",
   "execution_count": 13,
   "id": "c84615ea",
   "metadata": {
    "execution": {
     "iopub.execute_input": "2025-03-09T20:22:51.967545Z",
     "iopub.status.busy": "2025-03-09T20:22:51.967102Z",
     "iopub.status.idle": "2025-03-09T20:22:51.973501Z",
     "shell.execute_reply": "2025-03-09T20:22:51.972305Z"
    },
    "id": "tgPM31WBWvcH",
    "papermill": {
     "duration": 0.022317,
     "end_time": "2025-03-09T20:22:51.975752",
     "exception": false,
     "start_time": "2025-03-09T20:22:51.953435",
     "status": "completed"
    },
    "tags": []
   },
   "outputs": [],
   "source": [
    "tesla_df.drop(\"Date\", axis=1, inplace=True)"
   ]
  },
  {
   "cell_type": "code",
   "execution_count": 14,
   "id": "e04e5239",
   "metadata": {
    "execution": {
     "iopub.execute_input": "2025-03-09T20:22:52.002913Z",
     "iopub.status.busy": "2025-03-09T20:22:52.002452Z",
     "iopub.status.idle": "2025-03-09T20:22:52.015341Z",
     "shell.execute_reply": "2025-03-09T20:22:52.013863Z"
    },
    "id": "17KdnKMGWwSm",
    "papermill": {
     "duration": 0.029572,
     "end_time": "2025-03-09T20:22:52.017794",
     "exception": false,
     "start_time": "2025-03-09T20:22:51.988222",
     "status": "completed"
    },
    "tags": []
   },
   "outputs": [
    {
     "data": {
      "text/html": [
       "<div>\n",
       "<style scoped>\n",
       "    .dataframe tbody tr th:only-of-type {\n",
       "        vertical-align: middle;\n",
       "    }\n",
       "\n",
       "    .dataframe tbody tr th {\n",
       "        vertical-align: top;\n",
       "    }\n",
       "\n",
       "    .dataframe thead th {\n",
       "        text-align: right;\n",
       "    }\n",
       "</style>\n",
       "<table border=\"1\" class=\"dataframe\">\n",
       "  <thead>\n",
       "    <tr style=\"text-align: right;\">\n",
       "      <th></th>\n",
       "      <th>Close</th>\n",
       "    </tr>\n",
       "    <tr>\n",
       "      <th>Date</th>\n",
       "      <th></th>\n",
       "    </tr>\n",
       "  </thead>\n",
       "  <tbody>\n",
       "    <tr>\n",
       "      <th>2010-06-29</th>\n",
       "      <td>23.889999</td>\n",
       "    </tr>\n",
       "    <tr>\n",
       "      <th>2010-06-30</th>\n",
       "      <td>23.830000</td>\n",
       "    </tr>\n",
       "    <tr>\n",
       "      <th>2010-07-01</th>\n",
       "      <td>21.959999</td>\n",
       "    </tr>\n",
       "    <tr>\n",
       "      <th>2010-07-02</th>\n",
       "      <td>19.200001</td>\n",
       "    </tr>\n",
       "    <tr>\n",
       "      <th>2010-07-06</th>\n",
       "      <td>16.110001</td>\n",
       "    </tr>\n",
       "    <tr>\n",
       "      <th>...</th>\n",
       "      <td>...</td>\n",
       "    </tr>\n",
       "    <tr>\n",
       "      <th>2020-01-28</th>\n",
       "      <td>566.900024</td>\n",
       "    </tr>\n",
       "    <tr>\n",
       "      <th>2020-01-29</th>\n",
       "      <td>580.989990</td>\n",
       "    </tr>\n",
       "    <tr>\n",
       "      <th>2020-01-30</th>\n",
       "      <td>640.809998</td>\n",
       "    </tr>\n",
       "    <tr>\n",
       "      <th>2020-01-31</th>\n",
       "      <td>650.570007</td>\n",
       "    </tr>\n",
       "    <tr>\n",
       "      <th>2020-02-03</th>\n",
       "      <td>780.000000</td>\n",
       "    </tr>\n",
       "  </tbody>\n",
       "</table>\n",
       "<p>2416 rows × 1 columns</p>\n",
       "</div>"
      ],
      "text/plain": [
       "                 Close\n",
       "Date                  \n",
       "2010-06-29   23.889999\n",
       "2010-06-30   23.830000\n",
       "2010-07-01   21.959999\n",
       "2010-07-02   19.200001\n",
       "2010-07-06   16.110001\n",
       "...                ...\n",
       "2020-01-28  566.900024\n",
       "2020-01-29  580.989990\n",
       "2020-01-30  640.809998\n",
       "2020-01-31  650.570007\n",
       "2020-02-03  780.000000\n",
       "\n",
       "[2416 rows x 1 columns]"
      ]
     },
     "execution_count": 14,
     "metadata": {},
     "output_type": "execute_result"
    }
   ],
   "source": [
    "tesla_df"
   ]
  },
  {
   "cell_type": "code",
   "execution_count": 15,
   "id": "d4045a0f",
   "metadata": {
    "execution": {
     "iopub.execute_input": "2025-03-09T20:22:52.044168Z",
     "iopub.status.busy": "2025-03-09T20:22:52.043729Z",
     "iopub.status.idle": "2025-03-09T20:22:52.049123Z",
     "shell.execute_reply": "2025-03-09T20:22:52.047986Z"
    },
    "id": "PliZ5OcsWxsF",
    "papermill": {
     "duration": 0.021005,
     "end_time": "2025-03-09T20:22:52.051299",
     "exception": false,
     "start_time": "2025-03-09T20:22:52.030294",
     "status": "completed"
    },
    "tags": []
   },
   "outputs": [],
   "source": [
    "result_df = tesla_df.copy()"
   ]
  },
  {
   "cell_type": "code",
   "execution_count": 16,
   "id": "e4a9281d",
   "metadata": {
    "execution": {
     "iopub.execute_input": "2025-03-09T20:22:52.077887Z",
     "iopub.status.busy": "2025-03-09T20:22:52.077490Z",
     "iopub.status.idle": "2025-03-09T20:22:52.483795Z",
     "shell.execute_reply": "2025-03-09T20:22:52.482406Z"
    },
    "id": "ObqHX6K2W0te",
    "papermill": {
     "duration": 0.422436,
     "end_time": "2025-03-09T20:22:52.486298",
     "exception": false,
     "start_time": "2025-03-09T20:22:52.063862",
     "status": "completed"
    },
    "tags": []
   },
   "outputs": [
    {
     "data": {
      "image/png": "[encoded data removed]",
      "text/plain": [
       "<Figure size 1400x500 with 1 Axes>"
      ]
     },
     "metadata": {},
     "output_type": "display_data"
    }
   ],
   "source": [
    "plt.figure(figsize=(14,5))\n",
    "plt.plot(tesla_df['Close'], color='blue')\n",
    "plt.title(\"Tesla Stock Price\")\n",
    "plt.xlabel(\"Time\")\n",
    "plt.ylabel(\"Stock Price\")\n",
    "plt.show()"
   ]
  },
  {
   "cell_type": "code",
   "execution_count": 17,
   "id": "159714ff",
   "metadata": {
    "execution": {
     "iopub.execute_input": "2025-03-09T20:22:52.515109Z",
     "iopub.status.busy": "2025-03-09T20:22:52.514656Z",
     "iopub.status.idle": "2025-03-09T20:22:52.520282Z",
     "shell.execute_reply": "2025-03-09T20:22:52.518848Z"
    },
    "id": "5LWFDWjNW2z2",
    "papermill": {
     "duration": 0.022362,
     "end_time": "2025-03-09T20:22:52.522579",
     "exception": false,
     "start_time": "2025-03-09T20:22:52.500217",
     "status": "completed"
    },
    "tags": []
   },
   "outputs": [],
   "source": [
    "tesla_df = tesla_df.values"
   ]
  },
  {
   "cell_type": "code",
   "execution_count": 18,
   "id": "a22160b9",
   "metadata": {
    "execution": {
     "iopub.execute_input": "2025-03-09T20:22:52.551163Z",
     "iopub.status.busy": "2025-03-09T20:22:52.549876Z",
     "iopub.status.idle": "2025-03-09T20:22:52.557877Z",
     "shell.execute_reply": "2025-03-09T20:22:52.556801Z"
    },
    "id": "jxFZkTS-W9Mm",
    "papermill": {
     "duration": 0.024753,
     "end_time": "2025-03-09T20:22:52.560313",
     "exception": false,
     "start_time": "2025-03-09T20:22:52.535560",
     "status": "completed"
    },
    "tags": []
   },
   "outputs": [
    {
     "data": {
      "text/plain": [
       "array([[23.889999],\n",
       "       [23.83    ],\n",
       "       [21.959999],\n",
       "       [19.200001],\n",
       "       [16.110001]])"
      ]
     },
     "execution_count": 18,
     "metadata": {},
     "output_type": "execute_result"
    }
   ],
   "source": [
    "tesla_df[0:5]"
   ]
  },
  {
   "cell_type": "code",
   "execution_count": 19,
   "id": "67ae3f96",
   "metadata": {
    "execution": {
     "iopub.execute_input": "2025-03-09T20:22:52.588032Z",
     "iopub.status.busy": "2025-03-09T20:22:52.587638Z",
     "iopub.status.idle": "2025-03-09T20:22:52.592679Z",
     "shell.execute_reply": "2025-03-09T20:22:52.591642Z"
    },
    "id": "iU7KJlc4XAb2",
    "papermill": {
     "duration": 0.021556,
     "end_time": "2025-03-09T20:22:52.594840",
     "exception": false,
     "start_time": "2025-03-09T20:22:52.573284",
     "status": "completed"
    },
    "tags": []
   },
   "outputs": [],
   "source": [
    "tesla_df = tesla_df.astype(\"float32\")"
   ]
  },
  {
   "cell_type": "code",
   "execution_count": 20,
   "id": "0ce939de",
   "metadata": {
    "execution": {
     "iopub.execute_input": "2025-03-09T20:22:52.622912Z",
     "iopub.status.busy": "2025-03-09T20:22:52.622472Z",
     "iopub.status.idle": "2025-03-09T20:22:52.628780Z",
     "shell.execute_reply": "2025-03-09T20:22:52.627418Z"
    },
    "id": "r7Cywk9oXBI-",
    "papermill": {
     "duration": 0.023105,
     "end_time": "2025-03-09T20:22:52.631284",
     "exception": false,
     "start_time": "2025-03-09T20:22:52.608179",
     "status": "completed"
    },
    "tags": []
   },
   "outputs": [],
   "source": [
    "def split_data(dataframe, test_size):\n",
    "  position = int(round(len(dataframe) * (1 - test_size)))\n",
    "  train = dataframe[:position]\n",
    "  test = dataframe[position:]\n",
    "  return train, test, position"
   ]
  },
  {
   "cell_type": "code",
   "execution_count": 21,
   "id": "2d986ffe",
   "metadata": {
    "execution": {
     "iopub.execute_input": "2025-03-09T20:22:52.658886Z",
     "iopub.status.busy": "2025-03-09T20:22:52.658498Z",
     "iopub.status.idle": "2025-03-09T20:22:52.663582Z",
     "shell.execute_reply": "2025-03-09T20:22:52.662313Z"
    },
    "id": "COxqfz0SZvV_",
    "papermill": {
     "duration": 0.021506,
     "end_time": "2025-03-09T20:22:52.665859",
     "exception": false,
     "start_time": "2025-03-09T20:22:52.644353",
     "status": "completed"
    },
    "tags": []
   },
   "outputs": [],
   "source": [
    "train, test, position = split_data(tesla_df, 0.20)"
   ]
  },
  {
   "cell_type": "code",
   "execution_count": 22,
   "id": "c9215dce",
   "metadata": {
    "execution": {
     "iopub.execute_input": "2025-03-09T20:22:52.694471Z",
     "iopub.status.busy": "2025-03-09T20:22:52.693952Z",
     "iopub.status.idle": "2025-03-09T20:22:52.700200Z",
     "shell.execute_reply": "2025-03-09T20:22:52.698997Z"
    },
    "id": "jESwxnt2Z1t5",
    "papermill": {
     "duration": 0.022919,
     "end_time": "2025-03-09T20:22:52.702592",
     "exception": false,
     "start_time": "2025-03-09T20:22:52.679673",
     "status": "completed"
    },
    "tags": []
   },
   "outputs": [
    {
     "name": "stdout",
     "output_type": "stream",
     "text": [
      "(1933, 1) (483, 1)\n"
     ]
    }
   ],
   "source": [
    "print(train.shape, test.shape)"
   ]
  },
  {
   "cell_type": "code",
   "execution_count": 23,
   "id": "8cbb3394",
   "metadata": {
    "execution": {
     "iopub.execute_input": "2025-03-09T20:22:52.736626Z",
     "iopub.status.busy": "2025-03-09T20:22:52.736091Z",
     "iopub.status.idle": "2025-03-09T20:22:52.741990Z",
     "shell.execute_reply": "2025-03-09T20:22:52.740570Z"
    },
    "id": "wleQDdgSZ8NZ",
    "papermill": {
     "duration": 0.028924,
     "end_time": "2025-03-09T20:22:52.744754",
     "exception": false,
     "start_time": "2025-03-09T20:22:52.715830",
     "status": "completed"
    },
    "tags": []
   },
   "outputs": [],
   "source": [
    "scaler_train = MinMaxScaler(feature_range = (0,1))"
   ]
  },
  {
   "cell_type": "code",
   "execution_count": 24,
   "id": "3d2a1c41",
   "metadata": {
    "execution": {
     "iopub.execute_input": "2025-03-09T20:22:52.774851Z",
     "iopub.status.busy": "2025-03-09T20:22:52.774417Z",
     "iopub.status.idle": "2025-03-09T20:22:52.781145Z",
     "shell.execute_reply": "2025-03-09T20:22:52.779721Z"
    },
    "id": "Enf8wikDaNZh",
    "papermill": {
     "duration": 0.024388,
     "end_time": "2025-03-09T20:22:52.783628",
     "exception": false,
     "start_time": "2025-03-09T20:22:52.759240",
     "status": "completed"
    },
    "tags": []
   },
   "outputs": [],
   "source": [
    "train = scaler_train.fit_transform(train)"
   ]
  },
  {
   "cell_type": "code",
   "execution_count": 25,
   "id": "da303c86",
   "metadata": {
    "execution": {
     "iopub.execute_input": "2025-03-09T20:22:52.811279Z",
     "iopub.status.busy": "2025-03-09T20:22:52.810864Z",
     "iopub.status.idle": "2025-03-09T20:22:52.816143Z",
     "shell.execute_reply": "2025-03-09T20:22:52.815012Z"
    },
    "id": "cg-7tCn_aXTc",
    "papermill": {
     "duration": 0.022078,
     "end_time": "2025-03-09T20:22:52.818791",
     "exception": false,
     "start_time": "2025-03-09T20:22:52.796713",
     "status": "completed"
    },
    "tags": []
   },
   "outputs": [],
   "source": [
    "scaler_test = MinMaxScaler(feature_range = (0,1))"
   ]
  },
  {
   "cell_type": "code",
   "execution_count": 26,
   "id": "e27dacd5",
   "metadata": {
    "execution": {
     "iopub.execute_input": "2025-03-09T20:22:52.846838Z",
     "iopub.status.busy": "2025-03-09T20:22:52.846434Z",
     "iopub.status.idle": "2025-03-09T20:22:52.852370Z",
     "shell.execute_reply": "2025-03-09T20:22:52.851398Z"
    },
    "id": "tSbuIifiabbC",
    "papermill": {
     "duration": 0.022543,
     "end_time": "2025-03-09T20:22:52.854606",
     "exception": false,
     "start_time": "2025-03-09T20:22:52.832063",
     "status": "completed"
    },
    "tags": []
   },
   "outputs": [],
   "source": [
    "test = scaler_test.fit_transform(test)"
   ]
  },
  {
   "cell_type": "code",
   "execution_count": 27,
   "id": "eb70ba40",
   "metadata": {
    "execution": {
     "iopub.execute_input": "2025-03-09T20:22:52.882758Z",
     "iopub.status.busy": "2025-03-09T20:22:52.882365Z",
     "iopub.status.idle": "2025-03-09T20:22:52.889808Z",
     "shell.execute_reply": "2025-03-09T20:22:52.888738Z"
    },
    "id": "X5a7m_BEagaJ",
    "papermill": {
     "duration": 0.024512,
     "end_time": "2025-03-09T20:22:52.892189",
     "exception": false,
     "start_time": "2025-03-09T20:22:52.867677",
     "status": "completed"
    },
    "tags": []
   },
   "outputs": [
    {
     "data": {
      "text/plain": [
       "array([[0.02191224],\n",
       "       [0.02174973],\n",
       "       [0.01668472],\n",
       "       [0.0092091 ],\n",
       "       [0.00083966]], dtype=float32)"
      ]
     },
     "execution_count": 27,
     "metadata": {},
     "output_type": "execute_result"
    }
   ],
   "source": [
    "train[0:5]"
   ]
  },
  {
   "cell_type": "code",
   "execution_count": 28,
   "id": "790e0aaa",
   "metadata": {
    "execution": {
     "iopub.execute_input": "2025-03-09T20:22:52.920742Z",
     "iopub.status.busy": "2025-03-09T20:22:52.920348Z",
     "iopub.status.idle": "2025-03-09T20:22:52.928027Z",
     "shell.execute_reply": "2025-03-09T20:22:52.926797Z"
    },
    "id": "AeVSy_ijahnh",
    "papermill": {
     "duration": 0.024571,
     "end_time": "2025-03-09T20:22:52.930316",
     "exception": false,
     "start_time": "2025-03-09T20:22:52.905745",
     "status": "completed"
    },
    "tags": []
   },
   "outputs": [
    {
     "data": {
      "text/plain": [
       "array([[0.25685903],\n",
       "       [0.24829045],\n",
       "       [0.25511202],\n",
       "       [0.24978784],\n",
       "       [0.2465767 ]], dtype=float32)"
      ]
     },
     "execution_count": 28,
     "metadata": {},
     "output_type": "execute_result"
    }
   ],
   "source": [
    "test[0:5]"
   ]
  },
  {
   "cell_type": "code",
   "execution_count": 29,
   "id": "f704d20c",
   "metadata": {
    "execution": {
     "iopub.execute_input": "2025-03-09T20:22:52.959545Z",
     "iopub.status.busy": "2025-03-09T20:22:52.959143Z",
     "iopub.status.idle": "2025-03-09T20:22:52.965613Z",
     "shell.execute_reply": "2025-03-09T20:22:52.964314Z"
    },
    "id": "Gv95UqJWasHS",
    "papermill": {
     "duration": 0.023931,
     "end_time": "2025-03-09T20:22:52.967873",
     "exception": false,
     "start_time": "2025-03-09T20:22:52.943942",
     "status": "completed"
    },
    "tags": []
   },
   "outputs": [],
   "source": [
    "def create_features(data, lookback):\n",
    "  X, Y = [], []\n",
    "  for i in range(lookback, len(data)):\n",
    "    X.append(data[i-lookback:i,0])\n",
    "    Y.append(data[i,0])\n",
    "\n",
    "  return np.array(X), np.array(Y)"
   ]
  },
  {
   "cell_type": "code",
   "execution_count": 30,
   "id": "cb25c1e9",
   "metadata": {
    "execution": {
     "iopub.execute_input": "2025-03-09T20:22:52.996730Z",
     "iopub.status.busy": "2025-03-09T20:22:52.996310Z",
     "iopub.status.idle": "2025-03-09T20:22:53.001519Z",
     "shell.execute_reply": "2025-03-09T20:22:53.000310Z"
    },
    "id": "e36Ux4_CbASm",
    "papermill": {
     "duration": 0.022542,
     "end_time": "2025-03-09T20:22:53.004150",
     "exception": false,
     "start_time": "2025-03-09T20:22:52.981608",
     "status": "completed"
    },
    "tags": []
   },
   "outputs": [],
   "source": [
    "lookback = 20"
   ]
  },
  {
   "cell_type": "code",
   "execution_count": 31,
   "id": "d92a265c",
   "metadata": {
    "execution": {
     "iopub.execute_input": "2025-03-09T20:22:53.032686Z",
     "iopub.status.busy": "2025-03-09T20:22:53.032314Z",
     "iopub.status.idle": "2025-03-09T20:22:53.041075Z",
     "shell.execute_reply": "2025-03-09T20:22:53.039819Z"
    },
    "id": "Xd8JMdaWbCzp",
    "papermill": {
     "duration": 0.025951,
     "end_time": "2025-03-09T20:22:53.043450",
     "exception": false,
     "start_time": "2025-03-09T20:22:53.017499",
     "status": "completed"
    },
    "tags": []
   },
   "outputs": [],
   "source": [
    "X_train, y_train = create_features(train, lookback)"
   ]
  },
  {
   "cell_type": "code",
   "execution_count": 32,
   "id": "80026944",
   "metadata": {
    "execution": {
     "iopub.execute_input": "2025-03-09T20:22:53.132290Z",
     "iopub.status.busy": "2025-03-09T20:22:53.131823Z",
     "iopub.status.idle": "2025-03-09T20:22:53.138484Z",
     "shell.execute_reply": "2025-03-09T20:22:53.137302Z"
    },
    "id": "wHgq8DT5bF_Z",
    "papermill": {
     "duration": 0.079274,
     "end_time": "2025-03-09T20:22:53.140958",
     "exception": false,
     "start_time": "2025-03-09T20:22:53.061684",
     "status": "completed"
    },
    "tags": []
   },
   "outputs": [],
   "source": [
    "X_test, y_test = create_features(test, lookback)"
   ]
  },
  {
   "cell_type": "code",
   "execution_count": 33,
   "id": "391e1c53",
   "metadata": {
    "execution": {
     "iopub.execute_input": "2025-03-09T20:22:53.169803Z",
     "iopub.status.busy": "2025-03-09T20:22:53.169397Z",
     "iopub.status.idle": "2025-03-09T20:22:53.175486Z",
     "shell.execute_reply": "2025-03-09T20:22:53.174238Z"
    },
    "id": "zYQy_33TbKdb",
    "papermill": {
     "duration": 0.023186,
     "end_time": "2025-03-09T20:22:53.177600",
     "exception": false,
     "start_time": "2025-03-09T20:22:53.154414",
     "status": "completed"
    },
    "tags": []
   },
   "outputs": [
    {
     "name": "stdout",
     "output_type": "stream",
     "text": [
      "(1913, 20) (1913,) (463, 20) (463,)\n"
     ]
    }
   ],
   "source": [
    "print(X_train.shape, y_train.shape, X_test.shape, y_test.shape)"
   ]
  },
  {
   "cell_type": "code",
   "execution_count": 34,
   "id": "dc714ab8",
   "metadata": {
    "execution": {
     "iopub.execute_input": "2025-03-09T20:22:53.207460Z",
     "iopub.status.busy": "2025-03-09T20:22:53.206104Z",
     "iopub.status.idle": "2025-03-09T20:22:53.214876Z",
     "shell.execute_reply": "2025-03-09T20:22:53.213571Z"
    },
    "id": "sI1k-K6bTKuw",
    "papermill": {
     "duration": 0.02622,
     "end_time": "2025-03-09T20:22:53.217337",
     "exception": false,
     "start_time": "2025-03-09T20:22:53.191117",
     "status": "completed"
    },
    "tags": []
   },
   "outputs": [
    {
     "data": {
      "text/plain": [
       "array([[0.02191224, 0.02174973, 0.01668472, 0.0092091 , 0.00083966,\n",
       "        0.        , 0.00449621, 0.00433369, 0.0033857 , 0.00633803,\n",
       "        0.01094258, 0.011078  , 0.01310942, 0.0165493 , 0.01218851,\n",
       "        0.01197183, 0.01408451, 0.01486999, 0.01394908, 0.01286566],\n",
       "       [0.02174973, 0.01668472, 0.0092091 , 0.00083966, 0.        ,\n",
       "        0.00449621, 0.00433369, 0.0033857 , 0.00633803, 0.01094258,\n",
       "        0.011078  , 0.01310942, 0.0165493 , 0.01218851, 0.01197183,\n",
       "        0.01408451, 0.01486999, 0.01394908, 0.01286566, 0.01332611],\n",
       "       [0.01668472, 0.0092091 , 0.00083966, 0.        , 0.00449621,\n",
       "        0.00433369, 0.0033857 , 0.00633803, 0.01094258, 0.011078  ,\n",
       "        0.01310942, 0.0165493 , 0.01218851, 0.01197183, 0.01408451,\n",
       "        0.01486999, 0.01394908, 0.01286566, 0.01332611, 0.01232395],\n",
       "       [0.0092091 , 0.00083966, 0.        , 0.00449621, 0.00433369,\n",
       "        0.0033857 , 0.00633803, 0.01094258, 0.011078  , 0.01310942,\n",
       "        0.0165493 , 0.01218851, 0.01197183, 0.01408451, 0.01486999,\n",
       "        0.01394908, 0.01286566, 0.01332611, 0.01232395, 0.01121344],\n",
       "       [0.00083966, 0.        , 0.00449621, 0.00433369, 0.0033857 ,\n",
       "        0.00633803, 0.01094258, 0.011078  , 0.01310942, 0.0165493 ,\n",
       "        0.01218851, 0.01197183, 0.01408451, 0.01486999, 0.01394908,\n",
       "        0.01286566, 0.01332611, 0.01232395, 0.01121344, 0.01386782]],\n",
       "      dtype=float32)"
      ]
     },
     "execution_count": 34,
     "metadata": {},
     "output_type": "execute_result"
    }
   ],
   "source": [
    "X_train[0:5]"
   ]
  },
  {
   "cell_type": "code",
   "execution_count": 35,
   "id": "c7711b6f",
   "metadata": {
    "execution": {
     "iopub.execute_input": "2025-03-09T20:22:53.248533Z",
     "iopub.status.busy": "2025-03-09T20:22:53.248128Z",
     "iopub.status.idle": "2025-03-09T20:22:53.255765Z",
     "shell.execute_reply": "2025-03-09T20:22:53.254480Z"
    },
    "id": "vY5hCVQHTg9u",
    "papermill": {
     "duration": 0.02664,
     "end_time": "2025-03-09T20:22:53.258391",
     "exception": false,
     "start_time": "2025-03-09T20:22:53.231751",
     "status": "completed"
    },
    "tags": []
   },
   "outputs": [
    {
     "data": {
      "text/plain": [
       "array([0.01332611, 0.01232395, 0.01121344, 0.01386782, 0.01665764],\n",
       "      dtype=float32)"
      ]
     },
     "execution_count": 35,
     "metadata": {},
     "output_type": "execute_result"
    }
   ],
   "source": [
    "y_train[0:5]"
   ]
  },
  {
   "cell_type": "code",
   "execution_count": 36,
   "id": "3e49749d",
   "metadata": {
    "execution": {
     "iopub.execute_input": "2025-03-09T20:22:53.287757Z",
     "iopub.status.busy": "2025-03-09T20:22:53.287349Z",
     "iopub.status.idle": "2025-03-09T20:22:53.295188Z",
     "shell.execute_reply": "2025-03-09T20:22:53.293538Z"
    },
    "id": "yvf-4kLybad5",
    "papermill": {
     "duration": 0.025128,
     "end_time": "2025-03-09T20:22:53.297682",
     "exception": false,
     "start_time": "2025-03-09T20:22:53.272554",
     "status": "completed"
    },
    "tags": []
   },
   "outputs": [],
   "source": [
    "X_train = np.reshape(X_train, (X_train.shape[0], 1, X_train.shape[1]))\n",
    "X_test = np.reshape(X_test, (X_test.shape[0], 1, X_test.shape[1]))\n",
    "y_train = y_train.reshape(-1,1)\n",
    "y_test = y_test.reshape(-1,1)"
   ]
  },
  {
   "cell_type": "code",
   "execution_count": 37,
   "id": "985b9a91",
   "metadata": {
    "execution": {
     "iopub.execute_input": "2025-03-09T20:22:53.331904Z",
     "iopub.status.busy": "2025-03-09T20:22:53.331005Z",
     "iopub.status.idle": "2025-03-09T20:22:53.337421Z",
     "shell.execute_reply": "2025-03-09T20:22:53.336225Z"
    },
    "id": "D2ltv0Edb3wz",
    "papermill": {
     "duration": 0.023798,
     "end_time": "2025-03-09T20:22:53.339645",
     "exception": false,
     "start_time": "2025-03-09T20:22:53.315847",
     "status": "completed"
    },
    "tags": []
   },
   "outputs": [
    {
     "name": "stdout",
     "output_type": "stream",
     "text": [
      "(1913, 1, 20) (1913, 1) (463, 1, 20) (463, 1)\n"
     ]
    }
   ],
   "source": [
    "print(X_train.shape, y_train.shape, X_test.shape, y_test.shape)"
   ]
  },
  {
   "cell_type": "markdown",
   "id": "ac3cea60",
   "metadata": {
    "id": "DtsN3xazcIAn",
    "papermill": {
     "duration": 0.013295,
     "end_time": "2025-03-09T20:22:53.366699",
     "exception": false,
     "start_time": "2025-03-09T20:22:53.353404",
     "status": "completed"
    },
    "tags": []
   },
   "source": [
    "## Modelling"
   ]
  },
  {
   "cell_type": "code",
   "execution_count": 38,
   "id": "cb5b8c8a",
   "metadata": {
    "execution": {
     "iopub.execute_input": "2025-03-09T20:22:53.397281Z",
     "iopub.status.busy": "2025-03-09T20:22:53.396894Z",
     "iopub.status.idle": "2025-03-09T20:22:53.543686Z",
     "shell.execute_reply": "2025-03-09T20:22:53.542485Z"
    },
    "id": "QtbQx4G9cI_z",
    "papermill": {
     "duration": 0.165646,
     "end_time": "2025-03-09T20:22:53.546495",
     "exception": false,
     "start_time": "2025-03-09T20:22:53.380849",
     "status": "completed"
    },
    "tags": []
   },
   "outputs": [],
   "source": [
    "model = Sequential()\n",
    "\n",
    "model.add(LSTM(units = 50,\n",
    "                    activation = 'relu',\n",
    "                    input_shape=(X_train.shape[1], lookback)))\n",
    "\n",
    "model.add(Dropout(0.2))\n",
    "\n",
    "model.add(Dense(1))\n"
   ]
  },
  {
   "cell_type": "code",
   "execution_count": 39,
   "id": "031a054a",
   "metadata": {
    "execution": {
     "iopub.execute_input": "2025-03-09T20:22:53.576715Z",
     "iopub.status.busy": "2025-03-09T20:22:53.576318Z",
     "iopub.status.idle": "2025-03-09T20:22:53.595978Z",
     "shell.execute_reply": "2025-03-09T20:22:53.595011Z"
    },
    "id": "RQFXIkDbciE6",
    "papermill": {
     "duration": 0.037169,
     "end_time": "2025-03-09T20:22:53.598138",
     "exception": false,
     "start_time": "2025-03-09T20:22:53.560969",
     "status": "completed"
    },
    "tags": []
   },
   "outputs": [
    {
     "data": {
      "text/html": [
       "<pre style=\"white-space:pre;overflow-x:auto;line-height:normal;font-family:Menlo,'DejaVu Sans Mono',consolas,'Courier New',monospace\"><span style=\"font-weight: bold\">Model: \"sequential\"</span>\n",
       "</pre>\n"
      ],
      "text/plain": [
       "\u001b[1mModel: \"sequential\"\u001b[0m\n"
      ]
     },
     "metadata": {},
     "output_type": "display_data"
    },
    {
     "data": {
      "text/html": [
       "<pre style=\"white-space:pre;overflow-x:auto;line-height:normal;font-family:Menlo,'DejaVu Sans Mono',consolas,'Courier New',monospace\">┏━━━━━━━━━━━━━━━━━━━━━━━━━━━━━━━━━┳━━━━━━━━━━━━━━━━━━━━━━━━┳━━━━━━━━━━━━━━━┓\n",
       "┃<span style=\"font-weight: bold\"> Layer (type)                    </span>┃<span style=\"font-weight: bold\"> Output Shape           </span>┃<span style=\"font-weight: bold\">       Param # </span>┃\n",
       "┡━━━━━━━━━━━━━━━━━━━━━━━━━━━━━━━━━╇━━━━━━━━━━━━━━━━━━━━━━━━╇━━━━━━━━━━━━━━━┩\n",
       "│ lstm (<span style=\"color: #0087ff; text-decoration-color: #0087ff\">LSTM</span>)                     │ (<span style=\"color: #00d7ff; text-decoration-color: #00d7ff\">None</span>, <span style=\"color: #00af00; text-decoration-color: #00af00\">50</span>)             │        <span style=\"color: #00af00; text-decoration-color: #00af00\">14,200</span> │\n",
       "├─────────────────────────────────┼────────────────────────┼───────────────┤\n",
       "│ dropout (<span style=\"color: #0087ff; text-decoration-color: #0087ff\">Dropout</span>)               │ (<span style=\"color: #00d7ff; text-decoration-color: #00d7ff\">None</span>, <span style=\"color: #00af00; text-decoration-color: #00af00\">50</span>)             │             <span style=\"color: #00af00; text-decoration-color: #00af00\">0</span> │\n",
       "├─────────────────────────────────┼────────────────────────┼───────────────┤\n",
       "│ dense (<span style=\"color: #0087ff; text-decoration-color: #0087ff\">Dense</span>)                   │ (<span style=\"color: #00d7ff; text-decoration-color: #00d7ff\">None</span>, <span style=\"color: #00af00; text-decoration-color: #00af00\">1</span>)              │            <span style=\"color: #00af00; text-decoration-color: #00af00\">51</span> │\n",
       "└─────────────────────────────────┴────────────────────────┴───────────────┘\n",
       "</pre>\n"
      ],
      "text/plain": [
       "┏━━━━━━━━━━━━━━━━━━━━━━━━━━━━━━━━━┳━━━━━━━━━━━━━━━━━━━━━━━━┳━━━━━━━━━━━━━━━┓\n",
       "┃\u001b[1m \u001b[0m\u001b[1mLayer (type)                   \u001b[0m\u001b[1m \u001b[0m┃\u001b[1m \u001b[0m\u001b[1mOutput Shape          \u001b[0m\u001b[1m \u001b[0m┃\u001b[1m \u001b[0m\u001b[1m      Param #\u001b[0m\u001b[1m \u001b[0m┃\n",
       "┡━━━━━━━━━━━━━━━━━━━━━━━━━━━━━━━━━╇━━━━━━━━━━━━━━━━━━━━━━━━╇━━━━━━━━━━━━━━━┩\n",
       "│ lstm (\u001b[38;5;33mLSTM\u001b[0m)                     │ (\u001b[38;5;45mNone\u001b[0m, \u001b[38;5;34m50\u001b[0m)             │        \u001b[38;5;34m14,200\u001b[0m │\n",
       "├─────────────────────────────────┼────────────────────────┼───────────────┤\n",
       "│ dropout (\u001b[38;5;33mDropout\u001b[0m)               │ (\u001b[38;5;45mNone\u001b[0m, \u001b[38;5;34m50\u001b[0m)             │             \u001b[38;5;34m0\u001b[0m │\n",
       "├─────────────────────────────────┼────────────────────────┼───────────────┤\n",
       "│ dense (\u001b[38;5;33mDense\u001b[0m)                   │ (\u001b[38;5;45mNone\u001b[0m, \u001b[38;5;34m1\u001b[0m)              │            \u001b[38;5;34m51\u001b[0m │\n",
       "└─────────────────────────────────┴────────────────────────┴───────────────┘\n"
      ]
     },
     "metadata": {},
     "output_type": "display_data"
    },
    {
     "data": {
      "text/html": [
       "<pre style=\"white-space:pre;overflow-x:auto;line-height:normal;font-family:Menlo,'DejaVu Sans Mono',consolas,'Courier New',monospace\"><span style=\"font-weight: bold\"> Total params: </span><span style=\"color: #00af00; text-decoration-color: #00af00\">14,251</span> (55.67 KB)\n",
       "</pre>\n"
      ],
      "text/plain": [
       "\u001b[1m Total params: \u001b[0m\u001b[38;5;34m14,251\u001b[0m (55.67 KB)\n"
      ]
     },
     "metadata": {},
     "output_type": "display_data"
    },
    {
     "data": {
      "text/html": [
       "<pre style=\"white-space:pre;overflow-x:auto;line-height:normal;font-family:Menlo,'DejaVu Sans Mono',consolas,'Courier New',monospace\"><span style=\"font-weight: bold\"> Trainable params: </span><span style=\"color: #00af00; text-decoration-color: #00af00\">14,251</span> (55.67 KB)\n",
       "</pre>\n"
      ],
      "text/plain": [
       "\u001b[1m Trainable params: \u001b[0m\u001b[38;5;34m14,251\u001b[0m (55.67 KB)\n"
      ]
     },
     "metadata": {},
     "output_type": "display_data"
    },
    {
     "data": {
      "text/html": [
       "<pre style=\"white-space:pre;overflow-x:auto;line-height:normal;font-family:Menlo,'DejaVu Sans Mono',consolas,'Courier New',monospace\"><span style=\"font-weight: bold\"> Non-trainable params: </span><span style=\"color: #00af00; text-decoration-color: #00af00\">0</span> (0.00 B)\n",
       "</pre>\n"
      ],
      "text/plain": [
       "\u001b[1m Non-trainable params: \u001b[0m\u001b[38;5;34m0\u001b[0m (0.00 B)\n"
      ]
     },
     "metadata": {},
     "output_type": "display_data"
    }
   ],
   "source": [
    "model.summary()"
   ]
  },
  {
   "cell_type": "code",
   "execution_count": 40,
   "id": "1528e100",
   "metadata": {
    "execution": {
     "iopub.execute_input": "2025-03-09T20:22:53.628660Z",
     "iopub.status.busy": "2025-03-09T20:22:53.628220Z",
     "iopub.status.idle": "2025-03-09T20:22:53.645371Z",
     "shell.execute_reply": "2025-03-09T20:22:53.644243Z"
    },
    "id": "NE6_O7IwclkT",
    "papermill": {
     "duration": 0.03552,
     "end_time": "2025-03-09T20:22:53.647991",
     "exception": false,
     "start_time": "2025-03-09T20:22:53.612471",
     "status": "completed"
    },
    "tags": []
   },
   "outputs": [],
   "source": [
    "model.compile(loss='mean_squared_error', optimizer='adam')"
   ]
  },
  {
   "cell_type": "code",
   "execution_count": 41,
   "id": "5c36f893",
   "metadata": {
    "execution": {
     "iopub.execute_input": "2025-03-09T20:22:53.679524Z",
     "iopub.status.busy": "2025-03-09T20:22:53.679136Z",
     "iopub.status.idle": "2025-03-09T20:22:53.685499Z",
     "shell.execute_reply": "2025-03-09T20:22:53.684232Z"
    },
    "id": "JLqjYZudc3Is",
    "papermill": {
     "duration": 0.02511,
     "end_time": "2025-03-09T20:22:53.687966",
     "exception": false,
     "start_time": "2025-03-09T20:22:53.662856",
     "status": "completed"
    },
    "tags": []
   },
   "outputs": [],
   "source": [
    "callbacks = (EarlyStopping(monitor='val_loss', patience=10, verbose=1, mode='min'),\n",
    "            ModelCheckpoint(filepath='mymodel.keras', monitor='val_loss', mode='min',\n",
    "            save_best_only = True, save_weights_only = False, verbose = 1))"
   ]
  },
  {
   "cell_type": "code",
   "execution_count": 42,
   "id": "aea4a526",
   "metadata": {
    "execution": {
     "iopub.execute_input": "2025-03-09T20:22:53.719127Z",
     "iopub.status.busy": "2025-03-09T20:22:53.718676Z",
     "iopub.status.idle": "2025-03-09T20:23:04.585579Z",
     "shell.execute_reply": "2025-03-09T20:23:04.584354Z"
    },
    "id": "7Pv-Fb9FdSf7",
    "papermill": {
     "duration": 10.885838,
     "end_time": "2025-03-09T20:23:04.588138",
     "exception": false,
     "start_time": "2025-03-09T20:22:53.702300",
     "status": "completed"
    },
    "tags": []
   },
   "outputs": [
    {
     "name": "stdout",
     "output_type": "stream",
     "text": [
      "Epoch 1/100\n",
      "\u001b[1m82/96\u001b[0m \u001b[32m━━━━━━━━━━━━━━━━━\u001b[0m\u001b[37m━━━\u001b[0m \u001b[1m0s\u001b[0m 3ms/step - loss: 0.0041\n",
      "Epoch 1: val_loss improved from inf to 0.00417, saving model to mymodel.keras\n",
      "\u001b[1m96/96\u001b[0m \u001b[32m━━━━━━━━━━━━━━━━━━━━\u001b[0m\u001b[37m\u001b[0m \u001b[1m3s\u001b[0m 6ms/step - loss: 0.0047 - val_loss: 0.0042\n",
      "Epoch 2/100\n",
      "\u001b[1m83/96\u001b[0m \u001b[32m━━━━━━━━━━━━━━━━━\u001b[0m\u001b[37m━━━\u001b[0m \u001b[1m0s\u001b[0m 3ms/step - loss: 0.0043\n",
      "Epoch 2: val_loss improved from 0.00417 to 0.00370, saving model to mymodel.keras\n",
      "\u001b[1m96/96\u001b[0m \u001b[32m━━━━━━━━━━━━━━━━━━━━\u001b[0m\u001b[37m\u001b[0m \u001b[1m0s\u001b[0m 3ms/step - loss: 0.0045 - val_loss: 0.0037\n",
      "Epoch 3/100\n",
      "\u001b[1m79/96\u001b[0m \u001b[32m━━━━━━━━━━━━━━━━\u001b[0m\u001b[37m━━━━\u001b[0m \u001b[1m0s\u001b[0m 3ms/step - loss: 0.0027\n",
      "Epoch 3: val_loss improved from 0.00370 to 0.00367, saving model to mymodel.keras\n",
      "\u001b[1m96/96\u001b[0m \u001b[32m━━━━━━━━━━━━━━━━━━━━\u001b[0m\u001b[37m\u001b[0m \u001b[1m0s\u001b[0m 3ms/step - loss: 0.0031 - val_loss: 0.0037\n",
      "Epoch 4/100\n",
      "\u001b[1m85/96\u001b[0m \u001b[32m━━━━━━━━━━━━━━━━━\u001b[0m\u001b[37m━━━\u001b[0m \u001b[1m0s\u001b[0m 2ms/step - loss: 0.0024\n",
      "Epoch 4: val_loss improved from 0.00367 to 0.00337, saving model to mymodel.keras\n",
      "\u001b[1m96/96\u001b[0m \u001b[32m━━━━━━━━━━━━━━━━━━━━\u001b[0m\u001b[37m\u001b[0m \u001b[1m0s\u001b[0m 3ms/step - loss: 0.0027 - val_loss: 0.0034\n",
      "Epoch 5/100\n",
      "\u001b[1m84/96\u001b[0m \u001b[32m━━━━━━━━━━━━━━━━━\u001b[0m\u001b[37m━━━\u001b[0m \u001b[1m0s\u001b[0m 2ms/step - loss: 0.0020\n",
      "Epoch 5: val_loss improved from 0.00337 to 0.00307, saving model to mymodel.keras\n",
      "\u001b[1m96/96\u001b[0m \u001b[32m━━━━━━━━━━━━━━━━━━━━\u001b[0m\u001b[37m\u001b[0m \u001b[1m0s\u001b[0m 3ms/step - loss: 0.0023 - val_loss: 0.0031\n",
      "Epoch 6/100\n",
      "\u001b[1m92/96\u001b[0m \u001b[32m━━━━━━━━━━━━━━━━━━━\u001b[0m\u001b[37m━\u001b[0m \u001b[1m0s\u001b[0m 2ms/step - loss: 0.0021\n",
      "Epoch 6: val_loss improved from 0.00307 to 0.00268, saving model to mymodel.keras\n",
      "\u001b[1m96/96\u001b[0m \u001b[32m━━━━━━━━━━━━━━━━━━━━\u001b[0m\u001b[37m\u001b[0m \u001b[1m0s\u001b[0m 3ms/step - loss: 0.0022 - val_loss: 0.0027\n",
      "Epoch 7/100\n",
      "\u001b[1m88/96\u001b[0m \u001b[32m━━━━━━━━━━━━━━━━━━\u001b[0m\u001b[37m━━\u001b[0m \u001b[1m0s\u001b[0m 2ms/step - loss: 0.0019\n",
      "Epoch 7: val_loss did not improve from 0.00268\n",
      "\u001b[1m96/96\u001b[0m \u001b[32m━━━━━━━━━━━━━━━━━━━━\u001b[0m\u001b[37m\u001b[0m \u001b[1m0s\u001b[0m 3ms/step - loss: 0.0021 - val_loss: 0.0028\n",
      "Epoch 8/100\n",
      "\u001b[1m86/96\u001b[0m \u001b[32m━━━━━━━━━━━━━━━━━\u001b[0m\u001b[37m━━━\u001b[0m \u001b[1m0s\u001b[0m 2ms/step - loss: 0.0015    \n",
      "Epoch 8: val_loss improved from 0.00268 to 0.00253, saving model to mymodel.keras\n",
      "\u001b[1m96/96\u001b[0m \u001b[32m━━━━━━━━━━━━━━━━━━━━\u001b[0m\u001b[37m\u001b[0m \u001b[1m0s\u001b[0m 3ms/step - loss: 0.0018 - val_loss: 0.0025\n",
      "Epoch 9/100\n",
      "\u001b[1m90/96\u001b[0m \u001b[32m━━━━━━━━━━━━━━━━━━\u001b[0m\u001b[37m━━\u001b[0m \u001b[1m0s\u001b[0m 2ms/step - loss: 0.0015\n",
      "Epoch 9: val_loss improved from 0.00253 to 0.00249, saving model to mymodel.keras\n",
      "\u001b[1m96/96\u001b[0m \u001b[32m━━━━━━━━━━━━━━━━━━━━\u001b[0m\u001b[37m\u001b[0m \u001b[1m0s\u001b[0m 3ms/step - loss: 0.0016 - val_loss: 0.0025\n",
      "Epoch 10/100\n",
      "\u001b[1m89/96\u001b[0m \u001b[32m━━━━━━━━━━━━━━━━━━\u001b[0m\u001b[37m━━\u001b[0m \u001b[1m0s\u001b[0m 2ms/step - loss: 0.0015\n",
      "Epoch 10: val_loss improved from 0.00249 to 0.00223, saving model to mymodel.keras\n",
      "\u001b[1m96/96\u001b[0m \u001b[32m━━━━━━━━━━━━━━━━━━━━\u001b[0m\u001b[37m\u001b[0m \u001b[1m0s\u001b[0m 3ms/step - loss: 0.0017 - val_loss: 0.0022\n",
      "Epoch 11/100\n",
      "\u001b[1m90/96\u001b[0m \u001b[32m━━━━━━━━━━━━━━━━━━\u001b[0m\u001b[37m━━\u001b[0m \u001b[1m0s\u001b[0m 2ms/step - loss: 0.0015\n",
      "Epoch 11: val_loss improved from 0.00223 to 0.00221, saving model to mymodel.keras\n",
      "\u001b[1m96/96\u001b[0m \u001b[32m━━━━━━━━━━━━━━━━━━━━\u001b[0m\u001b[37m\u001b[0m \u001b[1m0s\u001b[0m 3ms/step - loss: 0.0016 - val_loss: 0.0022\n",
      "Epoch 12/100\n",
      "\u001b[1m84/96\u001b[0m \u001b[32m━━━━━━━━━━━━━━━━━\u001b[0m\u001b[37m━━━\u001b[0m \u001b[1m0s\u001b[0m 2ms/step - loss: 0.0014\n",
      "Epoch 12: val_loss improved from 0.00221 to 0.00216, saving model to mymodel.keras\n",
      "\u001b[1m96/96\u001b[0m \u001b[32m━━━━━━━━━━━━━━━━━━━━\u001b[0m\u001b[37m\u001b[0m \u001b[1m0s\u001b[0m 3ms/step - loss: 0.0017 - val_loss: 0.0022\n",
      "Epoch 13/100\n",
      "\u001b[1m86/96\u001b[0m \u001b[32m━━━━━━━━━━━━━━━━━\u001b[0m\u001b[37m━━━\u001b[0m \u001b[1m0s\u001b[0m 2ms/step - loss: 0.0015\n",
      "Epoch 13: val_loss improved from 0.00216 to 0.00199, saving model to mymodel.keras\n",
      "\u001b[1m96/96\u001b[0m \u001b[32m━━━━━━━━━━━━━━━━━━━━\u001b[0m\u001b[37m\u001b[0m \u001b[1m0s\u001b[0m 3ms/step - loss: 0.0017 - val_loss: 0.0020\n",
      "Epoch 14/100\n",
      "\u001b[1m90/96\u001b[0m \u001b[32m━━━━━━━━━━━━━━━━━━\u001b[0m\u001b[37m━━\u001b[0m \u001b[1m0s\u001b[0m 2ms/step - loss: 0.0014\n",
      "Epoch 14: val_loss improved from 0.00199 to 0.00195, saving model to mymodel.keras\n",
      "\u001b[1m96/96\u001b[0m \u001b[32m━━━━━━━━━━━━━━━━━━━━\u001b[0m\u001b[37m\u001b[0m \u001b[1m0s\u001b[0m 3ms/step - loss: 0.0016 - val_loss: 0.0020\n",
      "Epoch 15/100\n",
      "\u001b[1m88/96\u001b[0m \u001b[32m━━━━━━━━━━━━━━━━━━\u001b[0m\u001b[37m━━\u001b[0m \u001b[1m0s\u001b[0m 2ms/step - loss: 0.0013    \n",
      "Epoch 15: val_loss improved from 0.00195 to 0.00189, saving model to mymodel.keras\n",
      "\u001b[1m96/96\u001b[0m \u001b[32m━━━━━━━━━━━━━━━━━━━━\u001b[0m\u001b[37m\u001b[0m \u001b[1m0s\u001b[0m 3ms/step - loss: 0.0015 - val_loss: 0.0019\n",
      "Epoch 16/100\n",
      "\u001b[1m82/96\u001b[0m \u001b[32m━━━━━━━━━━━━━━━━━\u001b[0m\u001b[37m━━━\u001b[0m \u001b[1m0s\u001b[0m 3ms/step - loss: 0.0013    \n",
      "Epoch 16: val_loss did not improve from 0.00189\n",
      "\u001b[1m96/96\u001b[0m \u001b[32m━━━━━━━━━━━━━━━━━━━━\u001b[0m\u001b[37m\u001b[0m \u001b[1m0s\u001b[0m 3ms/step - loss: 0.0016 - val_loss: 0.0022\n",
      "Epoch 17/100\n",
      "\u001b[1m81/96\u001b[0m \u001b[32m━━━━━━━━━━━━━━━━\u001b[0m\u001b[37m━━━━\u001b[0m \u001b[1m0s\u001b[0m 3ms/step - loss: 0.0015\n",
      "Epoch 17: val_loss did not improve from 0.00189\n",
      "\u001b[1m96/96\u001b[0m \u001b[32m━━━━━━━━━━━━━━━━━━━━\u001b[0m\u001b[37m\u001b[0m \u001b[1m0s\u001b[0m 3ms/step - loss: 0.0017 - val_loss: 0.0025\n",
      "Epoch 18/100\n",
      "\u001b[1m85/96\u001b[0m \u001b[32m━━━━━━━━━━━━━━━━━\u001b[0m\u001b[37m━━━\u001b[0m \u001b[1m0s\u001b[0m 2ms/step - loss: 0.0014\n",
      "Epoch 18: val_loss did not improve from 0.00189\n",
      "\u001b[1m96/96\u001b[0m \u001b[32m━━━━━━━━━━━━━━━━━━━━\u001b[0m\u001b[37m\u001b[0m \u001b[1m0s\u001b[0m 3ms/step - loss: 0.0017 - val_loss: 0.0020\n",
      "Epoch 19/100\n",
      "\u001b[1m91/96\u001b[0m \u001b[32m━━━━━━━━━━━━━━━━━━\u001b[0m\u001b[37m━━\u001b[0m \u001b[1m0s\u001b[0m 3ms/step - loss: 0.0014\n",
      "Epoch 19: val_loss did not improve from 0.00189\n",
      "\u001b[1m96/96\u001b[0m \u001b[32m━━━━━━━━━━━━━━━━━━━━\u001b[0m\u001b[37m\u001b[0m \u001b[1m0s\u001b[0m 4ms/step - loss: 0.0015 - val_loss: 0.0020\n",
      "Epoch 20/100\n",
      "\u001b[1m83/96\u001b[0m \u001b[32m━━━━━━━━━━━━━━━━━\u001b[0m\u001b[37m━━━\u001b[0m \u001b[1m0s\u001b[0m 2ms/step - loss: 0.0014\n",
      "Epoch 20: val_loss did not improve from 0.00189\n",
      "\u001b[1m96/96\u001b[0m \u001b[32m━━━━━━━━━━━━━━━━━━━━\u001b[0m\u001b[37m\u001b[0m \u001b[1m0s\u001b[0m 3ms/step - loss: 0.0017 - val_loss: 0.0024\n",
      "Epoch 21/100\n",
      "\u001b[1m83/96\u001b[0m \u001b[32m━━━━━━━━━━━━━━━━━\u001b[0m\u001b[37m━━━\u001b[0m \u001b[1m0s\u001b[0m 3ms/step - loss: 0.0015\n",
      "Epoch 21: val_loss did not improve from 0.00189\n",
      "\u001b[1m96/96\u001b[0m \u001b[32m━━━━━━━━━━━━━━━━━━━━\u001b[0m\u001b[37m\u001b[0m \u001b[1m0s\u001b[0m 3ms/step - loss: 0.0018 - val_loss: 0.0038\n",
      "Epoch 22/100\n",
      "\u001b[1m95/96\u001b[0m \u001b[32m━━━━━━━━━━━━━━━━━━━\u001b[0m\u001b[37m━\u001b[0m \u001b[1m0s\u001b[0m 3ms/step - loss: 0.0020\n",
      "Epoch 22: val_loss did not improve from 0.00189\n",
      "\u001b[1m96/96\u001b[0m \u001b[32m━━━━━━━━━━━━━━━━━━━━\u001b[0m\u001b[37m\u001b[0m \u001b[1m0s\u001b[0m 4ms/step - loss: 0.0020 - val_loss: 0.0047\n",
      "Epoch 23/100\n",
      "\u001b[1m85/96\u001b[0m \u001b[32m━━━━━━━━━━━━━━━━━\u001b[0m\u001b[37m━━━\u001b[0m \u001b[1m0s\u001b[0m 2ms/step - loss: 0.0017\n",
      "Epoch 23: val_loss did not improve from 0.00189\n",
      "\u001b[1m96/96\u001b[0m \u001b[32m━━━━━━━━━━━━━━━━━━━━\u001b[0m\u001b[37m\u001b[0m \u001b[1m0s\u001b[0m 3ms/step - loss: 0.0020 - val_loss: 0.0053\n",
      "Epoch 24/100\n",
      "\u001b[1m79/96\u001b[0m \u001b[32m━━━━━━━━━━━━━━━━\u001b[0m\u001b[37m━━━━\u001b[0m \u001b[1m0s\u001b[0m 3ms/step - loss: 0.0016\n",
      "Epoch 24: val_loss did not improve from 0.00189\n",
      "\u001b[1m96/96\u001b[0m \u001b[32m━━━━━━━━━━━━━━━━━━━━\u001b[0m\u001b[37m\u001b[0m \u001b[1m0s\u001b[0m 3ms/step - loss: 0.0020 - val_loss: 0.0056\n",
      "Epoch 25/100\n",
      "\u001b[1m86/96\u001b[0m \u001b[32m━━━━━━━━━━━━━━━━━\u001b[0m\u001b[37m━━━\u001b[0m \u001b[1m0s\u001b[0m 2ms/step - loss: 0.0016\n",
      "Epoch 25: val_loss did not improve from 0.00189\n",
      "\u001b[1m96/96\u001b[0m \u001b[32m━━━━━━━━━━━━━━━━━━━━\u001b[0m\u001b[37m\u001b[0m \u001b[1m0s\u001b[0m 3ms/step - loss: 0.0020 - val_loss: 0.0080\n",
      "Epoch 25: early stopping\n"
     ]
    }
   ],
   "source": [
    "history = model.fit(x=X_train,\n",
    "                    y=y_train,\n",
    "                    epochs=100,\n",
    "                    batch_size=20,\n",
    "                    validation_data=(X_test, y_test),\n",
    "                    callbacks=[callbacks],\n",
    "                    shuffle=False)"
   ]
  },
  {
   "cell_type": "code",
   "execution_count": 43,
   "id": "6fd55a8a",
   "metadata": {
    "execution": {
     "iopub.execute_input": "2025-03-09T20:23:04.643250Z",
     "iopub.status.busy": "2025-03-09T20:23:04.642825Z",
     "iopub.status.idle": "2025-03-09T20:23:04.878146Z",
     "shell.execute_reply": "2025-03-09T20:23:04.877014Z"
    },
    "id": "VzxR8n1yeGpV",
    "papermill": {
     "duration": 0.264651,
     "end_time": "2025-03-09T20:23:04.880805",
     "exception": false,
     "start_time": "2025-03-09T20:23:04.616154",
     "status": "completed"
    },
    "tags": []
   },
   "outputs": [
    {
     "data": {
      "image/png": "[encoded data removed]",
      "text/plain": [
       "<Figure size 2000x500 with 1 Axes>"
      ]
     },
     "metadata": {},
     "output_type": "display_data"
    }
   ],
   "source": [
    "plt.figure(figsize=(20,5))\n",
    "plt.subplot(1,2,1)\n",
    "plt.plot(history.history['loss'], label='Training Loss')\n",
    "plt.plot(history.history['val_loss'], label='Validation Loss')\n",
    "plt.legend(loc='upper right')\n",
    "plt.xlabel('Epoch', fontsize = 16)\n",
    "plt.ylabel('Loss', fontsize = 16)\n",
    "plt.ylim([0,max(plt.ylim())])\n",
    "plt.title('Training and Validation Loss', fontsize = 16)\n",
    "plt.show()"
   ]
  },
  {
   "cell_type": "markdown",
   "id": "82569213",
   "metadata": {
    "id": "XO0NGWQWerLU",
    "papermill": {
     "duration": 0.026062,
     "end_time": "2025-03-09T20:23:04.935413",
     "exception": false,
     "start_time": "2025-03-09T20:23:04.909351",
     "status": "completed"
    },
    "tags": []
   },
   "source": [
    "## Evaluation"
   ]
  },
  {
   "cell_type": "code",
   "execution_count": 44,
   "id": "a8485ae9",
   "metadata": {
    "execution": {
     "iopub.execute_input": "2025-03-09T20:23:04.992668Z",
     "iopub.status.busy": "2025-03-09T20:23:04.991340Z",
     "iopub.status.idle": "2025-03-09T20:23:05.695837Z",
     "shell.execute_reply": "2025-03-09T20:23:05.694438Z"
    },
    "id": "hyeoNUjxetH-",
    "papermill": {
     "duration": 0.73532,
     "end_time": "2025-03-09T20:23:05.698214",
     "exception": false,
     "start_time": "2025-03-09T20:23:04.962894",
     "status": "completed"
    },
    "tags": []
   },
   "outputs": [
    {
     "name": "stdout",
     "output_type": "stream",
     "text": [
      "\u001b[1m463/463\u001b[0m \u001b[32m━━━━━━━━━━━━━━━━━━━━\u001b[0m\u001b[37m\u001b[0m \u001b[1m1s\u001b[0m 1ms/step - loss: 0.0092\n",
      "\n",
      "Test Loss: 0.8%\n"
     ]
    }
   ],
   "source": [
    "loss = model.evaluate(X_test, y_test, batch_size=1)\n",
    "print(\"\\nTest Loss: %.1f%%\" % (100.0 * loss))"
   ]
  },
  {
   "cell_type": "code",
   "execution_count": 45,
   "id": "53b2e1f9",
   "metadata": {
    "execution": {
     "iopub.execute_input": "2025-03-09T20:23:05.756040Z",
     "iopub.status.busy": "2025-03-09T20:23:05.755518Z",
     "iopub.status.idle": "2025-03-09T20:23:06.286671Z",
     "shell.execute_reply": "2025-03-09T20:23:06.285499Z"
    },
    "id": "9e854j_NfFTV",
    "papermill": {
     "duration": 0.562937,
     "end_time": "2025-03-09T20:23:06.289158",
     "exception": false,
     "start_time": "2025-03-09T20:23:05.726221",
     "status": "completed"
    },
    "tags": []
   },
   "outputs": [
    {
     "name": "stdout",
     "output_type": "stream",
     "text": [
      "\u001b[1m60/60\u001b[0m \u001b[32m━━━━━━━━━━━━━━━━━━━━\u001b[0m\u001b[37m\u001b[0m \u001b[1m0s\u001b[0m 4ms/step\n"
     ]
    }
   ],
   "source": [
    "train_predict = model.predict(X_train)"
   ]
  },
  {
   "cell_type": "code",
   "execution_count": 46,
   "id": "7c085e81",
   "metadata": {
    "execution": {
     "iopub.execute_input": "2025-03-09T20:23:06.348313Z",
     "iopub.status.busy": "2025-03-09T20:23:06.347862Z",
     "iopub.status.idle": "2025-03-09T20:23:06.461589Z",
     "shell.execute_reply": "2025-03-09T20:23:06.460050Z"
    },
    "id": "GZgJuMd-fqZW",
    "papermill": {
     "duration": 0.145718,
     "end_time": "2025-03-09T20:23:06.464331",
     "exception": false,
     "start_time": "2025-03-09T20:23:06.318613",
     "status": "completed"
    },
    "tags": []
   },
   "outputs": [
    {
     "name": "stdout",
     "output_type": "stream",
     "text": [
      "\u001b[1m15/15\u001b[0m \u001b[32m━━━━━━━━━━━━━━━━━━━━\u001b[0m\u001b[37m\u001b[0m \u001b[1m0s\u001b[0m 2ms/step \n"
     ]
    }
   ],
   "source": [
    "test_predict = model.predict(X_test)"
   ]
  },
  {
   "cell_type": "code",
   "execution_count": 47,
   "id": "873b7e77",
   "metadata": {
    "execution": {
     "iopub.execute_input": "2025-03-09T20:23:06.523187Z",
     "iopub.status.busy": "2025-03-09T20:23:06.522752Z",
     "iopub.status.idle": "2025-03-09T20:23:06.529130Z",
     "shell.execute_reply": "2025-03-09T20:23:06.527535Z"
    },
    "id": "FcH_8U3tfsGm",
    "papermill": {
     "duration": 0.038295,
     "end_time": "2025-03-09T20:23:06.531609",
     "exception": false,
     "start_time": "2025-03-09T20:23:06.493314",
     "status": "completed"
    },
    "tags": []
   },
   "outputs": [],
   "source": [
    "train_predict = scaler_train.inverse_transform(train_predict)\n",
    "test_predict = scaler_test.inverse_transform(test_predict)"
   ]
  },
  {
   "cell_type": "code",
   "execution_count": 48,
   "id": "3a7edf29",
   "metadata": {
    "execution": {
     "iopub.execute_input": "2025-03-09T20:23:06.587366Z",
     "iopub.status.busy": "2025-03-09T20:23:06.586872Z",
     "iopub.status.idle": "2025-03-09T20:23:06.593776Z",
     "shell.execute_reply": "2025-03-09T20:23:06.592423Z"
    },
    "id": "DsGDu-NKf912",
    "papermill": {
     "duration": 0.037642,
     "end_time": "2025-03-09T20:23:06.596208",
     "exception": false,
     "start_time": "2025-03-09T20:23:06.558566",
     "status": "completed"
    },
    "tags": []
   },
   "outputs": [],
   "source": [
    "y_train = scaler_train.inverse_transform(y_train)\n",
    "y_test = scaler_test.inverse_transform(y_test)"
   ]
  },
  {
   "cell_type": "code",
   "execution_count": 49,
   "id": "64274e6f",
   "metadata": {
    "execution": {
     "iopub.execute_input": "2025-03-09T20:23:06.654294Z",
     "iopub.status.busy": "2025-03-09T20:23:06.653856Z",
     "iopub.status.idle": "2025-03-09T20:23:06.660060Z",
     "shell.execute_reply": "2025-03-09T20:23:06.658896Z"
    },
    "id": "ZLXqwAU7gGW2",
    "papermill": {
     "duration": 0.037965,
     "end_time": "2025-03-09T20:23:06.662442",
     "exception": false,
     "start_time": "2025-03-09T20:23:06.624477",
     "status": "completed"
    },
    "tags": []
   },
   "outputs": [],
   "source": [
    "train_rmse = np.sqrt(mean_squared_error(y_train, train_predict))"
   ]
  },
  {
   "cell_type": "code",
   "execution_count": 50,
   "id": "e2971267",
   "metadata": {
    "execution": {
     "iopub.execute_input": "2025-03-09T20:23:06.720296Z",
     "iopub.status.busy": "2025-03-09T20:23:06.719836Z",
     "iopub.status.idle": "2025-03-09T20:23:06.726564Z",
     "shell.execute_reply": "2025-03-09T20:23:06.725367Z"
    },
    "id": "76WbnJaIgJ4g",
    "papermill": {
     "duration": 0.039133,
     "end_time": "2025-03-09T20:23:06.729136",
     "exception": false,
     "start_time": "2025-03-09T20:23:06.690003",
     "status": "completed"
    },
    "tags": []
   },
   "outputs": [],
   "source": [
    "test_rmse = np.sqrt(mean_squared_error(y_test, test_predict))"
   ]
  },
  {
   "cell_type": "code",
   "execution_count": 51,
   "id": "1afc566d",
   "metadata": {
    "execution": {
     "iopub.execute_input": "2025-03-09T20:23:06.787036Z",
     "iopub.status.busy": "2025-03-09T20:23:06.786570Z",
     "iopub.status.idle": "2025-03-09T20:23:06.792588Z",
     "shell.execute_reply": "2025-03-09T20:23:06.791283Z"
    },
    "id": "WcUBQBz7gMV2",
    "papermill": {
     "duration": 0.037598,
     "end_time": "2025-03-09T20:23:06.795054",
     "exception": false,
     "start_time": "2025-03-09T20:23:06.757456",
     "status": "completed"
    },
    "tags": []
   },
   "outputs": [
    {
     "name": "stdout",
     "output_type": "stream",
     "text": [
      "Train RMSE: 29.069528579711914\n",
      "Test RMSE: 53.590694427490234\n"
     ]
    }
   ],
   "source": [
    "print(f\"Train RMSE: {train_rmse}\")\n",
    "print(f\"Test RMSE: {test_rmse}\")"
   ]
  },
  {
   "cell_type": "code",
   "execution_count": 52,
   "id": "c3f00a4d",
   "metadata": {
    "execution": {
     "iopub.execute_input": "2025-03-09T20:23:06.853002Z",
     "iopub.status.busy": "2025-03-09T20:23:06.852537Z",
     "iopub.status.idle": "2025-03-09T20:23:06.889234Z",
     "shell.execute_reply": "2025-03-09T20:23:06.887787Z"
    },
    "id": "t_llof9mgYz_",
    "papermill": {
     "duration": 0.06905,
     "end_time": "2025-03-09T20:23:06.891824",
     "exception": false,
     "start_time": "2025-03-09T20:23:06.822774",
     "status": "completed"
    },
    "tags": []
   },
   "outputs": [
    {
     "data": {
      "text/html": [
       "<div>\n",
       "<style scoped>\n",
       "    .dataframe tbody tr th:only-of-type {\n",
       "        vertical-align: middle;\n",
       "    }\n",
       "\n",
       "    .dataframe tbody tr th {\n",
       "        vertical-align: top;\n",
       "    }\n",
       "\n",
       "    .dataframe thead th {\n",
       "        text-align: right;\n",
       "    }\n",
       "</style>\n",
       "<table border=\"1\" class=\"dataframe\">\n",
       "  <thead>\n",
       "    <tr style=\"text-align: right;\">\n",
       "      <th></th>\n",
       "      <th>count</th>\n",
       "      <th>mean</th>\n",
       "      <th>min</th>\n",
       "      <th>25%</th>\n",
       "      <th>50%</th>\n",
       "      <th>75%</th>\n",
       "      <th>max</th>\n",
       "      <th>std</th>\n",
       "    </tr>\n",
       "  </thead>\n",
       "  <tbody>\n",
       "    <tr>\n",
       "      <th>Date</th>\n",
       "      <td>2416</td>\n",
       "      <td>2015-04-15 11:09:56.026490112</td>\n",
       "      <td>2010-06-29 00:00:00</td>\n",
       "      <td>2012-11-19 18:00:00</td>\n",
       "      <td>2015-04-16 12:00:00</td>\n",
       "      <td>2017-09-07 06:00:00</td>\n",
       "      <td>2020-02-03 00:00:00</td>\n",
       "      <td>NaN</td>\n",
       "    </tr>\n",
       "    <tr>\n",
       "      <th>Open</th>\n",
       "      <td>2416.0</td>\n",
       "      <td>186.271147</td>\n",
       "      <td>16.139999</td>\n",
       "      <td>34.342498</td>\n",
       "      <td>213.035004</td>\n",
       "      <td>266.450012</td>\n",
       "      <td>673.690002</td>\n",
       "      <td>118.740163</td>\n",
       "    </tr>\n",
       "    <tr>\n",
       "      <th>High</th>\n",
       "      <td>2416.0</td>\n",
       "      <td>189.578224</td>\n",
       "      <td>16.629999</td>\n",
       "      <td>34.897501</td>\n",
       "      <td>216.745002</td>\n",
       "      <td>270.927513</td>\n",
       "      <td>786.140015</td>\n",
       "      <td>120.892329</td>\n",
       "    </tr>\n",
       "    <tr>\n",
       "      <th>Low</th>\n",
       "      <td>2416.0</td>\n",
       "      <td>182.916639</td>\n",
       "      <td>14.98</td>\n",
       "      <td>33.587501</td>\n",
       "      <td>208.870002</td>\n",
       "      <td>262.102501</td>\n",
       "      <td>673.52002</td>\n",
       "      <td>116.857591</td>\n",
       "    </tr>\n",
       "    <tr>\n",
       "      <th>Close</th>\n",
       "      <td>2416.0</td>\n",
       "      <td>186.403651</td>\n",
       "      <td>15.8</td>\n",
       "      <td>34.400002</td>\n",
       "      <td>212.960007</td>\n",
       "      <td>266.774994</td>\n",
       "      <td>780.0</td>\n",
       "      <td>119.13602</td>\n",
       "    </tr>\n",
       "    <tr>\n",
       "      <th>Adj Close</th>\n",
       "      <td>2416.0</td>\n",
       "      <td>186.403651</td>\n",
       "      <td>15.8</td>\n",
       "      <td>34.400002</td>\n",
       "      <td>212.960007</td>\n",
       "      <td>266.774994</td>\n",
       "      <td>780.0</td>\n",
       "      <td>119.13602</td>\n",
       "    </tr>\n",
       "    <tr>\n",
       "      <th>Volume</th>\n",
       "      <td>2416.0</td>\n",
       "      <td>5572721.688742</td>\n",
       "      <td>118500.0</td>\n",
       "      <td>1899275.0</td>\n",
       "      <td>4578400.0</td>\n",
       "      <td>7361150.0</td>\n",
       "      <td>47065000.0</td>\n",
       "      <td>4987809.151888</td>\n",
       "    </tr>\n",
       "  </tbody>\n",
       "</table>\n",
       "</div>"
      ],
      "text/plain": [
       "            count                           mean                  min  \\\n",
       "Date         2416  2015-04-15 11:09:56.026490112  2010-06-29 00:00:00   \n",
       "Open       2416.0                     186.271147            16.139999   \n",
       "High       2416.0                     189.578224            16.629999   \n",
       "Low        2416.0                     182.916639                14.98   \n",
       "Close      2416.0                     186.403651                 15.8   \n",
       "Adj Close  2416.0                     186.403651                 15.8   \n",
       "Volume     2416.0                 5572721.688742             118500.0   \n",
       "\n",
       "                           25%                  50%                  75%  \\\n",
       "Date       2012-11-19 18:00:00  2015-04-16 12:00:00  2017-09-07 06:00:00   \n",
       "Open                 34.342498           213.035004           266.450012   \n",
       "High                 34.897501           216.745002           270.927513   \n",
       "Low                  33.587501           208.870002           262.102501   \n",
       "Close                34.400002           212.960007           266.774994   \n",
       "Adj Close            34.400002           212.960007           266.774994   \n",
       "Volume               1899275.0            4578400.0            7361150.0   \n",
       "\n",
       "                           max             std  \n",
       "Date       2020-02-03 00:00:00             NaN  \n",
       "Open                673.690002      118.740163  \n",
       "High                786.140015      120.892329  \n",
       "Low                  673.52002      116.857591  \n",
       "Close                    780.0       119.13602  \n",
       "Adj Close                780.0       119.13602  \n",
       "Volume              47065000.0  4987809.151888  "
      ]
     },
     "execution_count": 52,
     "metadata": {},
     "output_type": "execute_result"
    }
   ],
   "source": [
    "df.describe().T"
   ]
  },
  {
   "cell_type": "code",
   "execution_count": 53,
   "id": "3381225c",
   "metadata": {
    "execution": {
     "iopub.execute_input": "2025-03-09T20:23:06.950273Z",
     "iopub.status.busy": "2025-03-09T20:23:06.949799Z",
     "iopub.status.idle": "2025-03-09T20:23:06.963400Z",
     "shell.execute_reply": "2025-03-09T20:23:06.962163Z"
    },
    "id": "-PSGVpMzgz1O",
    "papermill": {
     "duration": 0.045792,
     "end_time": "2025-03-09T20:23:06.965652",
     "exception": false,
     "start_time": "2025-03-09T20:23:06.919860",
     "status": "completed"
    },
    "tags": []
   },
   "outputs": [
    {
     "data": {
      "text/html": [
       "<div>\n",
       "<style scoped>\n",
       "    .dataframe tbody tr th:only-of-type {\n",
       "        vertical-align: middle;\n",
       "    }\n",
       "\n",
       "    .dataframe tbody tr th {\n",
       "        vertical-align: top;\n",
       "    }\n",
       "\n",
       "    .dataframe thead th {\n",
       "        text-align: right;\n",
       "    }\n",
       "</style>\n",
       "<table border=\"1\" class=\"dataframe\">\n",
       "  <thead>\n",
       "    <tr style=\"text-align: right;\">\n",
       "      <th></th>\n",
       "      <th>Close</th>\n",
       "      <th>Predicted</th>\n",
       "    </tr>\n",
       "    <tr>\n",
       "      <th>Date</th>\n",
       "      <th></th>\n",
       "      <th></th>\n",
       "    </tr>\n",
       "  </thead>\n",
       "  <tbody>\n",
       "    <tr>\n",
       "      <th>2010-07-28</th>\n",
       "      <td>20.719999</td>\n",
       "      <td>39.509212</td>\n",
       "    </tr>\n",
       "    <tr>\n",
       "      <th>2010-07-29</th>\n",
       "      <td>20.350000</td>\n",
       "      <td>39.509212</td>\n",
       "    </tr>\n",
       "    <tr>\n",
       "      <th>2010-07-30</th>\n",
       "      <td>19.940001</td>\n",
       "      <td>39.509212</td>\n",
       "    </tr>\n",
       "    <tr>\n",
       "      <th>2010-08-02</th>\n",
       "      <td>20.920000</td>\n",
       "      <td>39.509212</td>\n",
       "    </tr>\n",
       "    <tr>\n",
       "      <th>2010-08-03</th>\n",
       "      <td>21.950001</td>\n",
       "      <td>39.509212</td>\n",
       "    </tr>\n",
       "  </tbody>\n",
       "</table>\n",
       "</div>"
      ],
      "text/plain": [
       "                Close  Predicted\n",
       "Date                            \n",
       "2010-07-28  20.719999  39.509212\n",
       "2010-07-29  20.350000  39.509212\n",
       "2010-07-30  19.940001  39.509212\n",
       "2010-08-02  20.920000  39.509212\n",
       "2010-08-03  21.950001  39.509212"
      ]
     },
     "execution_count": 53,
     "metadata": {},
     "output_type": "execute_result"
    }
   ],
   "source": [
    "train_prediction_df = result_df[lookback:position]\n",
    "train_prediction_df[\"Predicted\"] = train_predict\n",
    "train_prediction_df.head()"
   ]
  },
  {
   "cell_type": "code",
   "execution_count": 54,
   "id": "8b060e22",
   "metadata": {
    "execution": {
     "iopub.execute_input": "2025-03-09T20:23:07.025802Z",
     "iopub.status.busy": "2025-03-09T20:23:07.025369Z",
     "iopub.status.idle": "2025-03-09T20:23:07.038316Z",
     "shell.execute_reply": "2025-03-09T20:23:07.036965Z"
    },
    "id": "o7tRAXwOhMSA",
    "papermill": {
     "duration": 0.04692,
     "end_time": "2025-03-09T20:23:07.040663",
     "exception": false,
     "start_time": "2025-03-09T20:23:06.993743",
     "status": "completed"
    },
    "tags": []
   },
   "outputs": [
    {
     "data": {
      "text/html": [
       "<div>\n",
       "<style scoped>\n",
       "    .dataframe tbody tr th:only-of-type {\n",
       "        vertical-align: middle;\n",
       "    }\n",
       "\n",
       "    .dataframe tbody tr th {\n",
       "        vertical-align: top;\n",
       "    }\n",
       "\n",
       "    .dataframe thead th {\n",
       "        text-align: right;\n",
       "    }\n",
       "</style>\n",
       "<table border=\"1\" class=\"dataframe\">\n",
       "  <thead>\n",
       "    <tr style=\"text-align: right;\">\n",
       "      <th></th>\n",
       "      <th>Close</th>\n",
       "      <th>Predicted</th>\n",
       "    </tr>\n",
       "    <tr>\n",
       "      <th>Date</th>\n",
       "      <th></th>\n",
       "      <th></th>\n",
       "    </tr>\n",
       "  </thead>\n",
       "  <tbody>\n",
       "    <tr>\n",
       "      <th>2018-04-03</th>\n",
       "      <td>267.529999</td>\n",
       "      <td>346.602509</td>\n",
       "    </tr>\n",
       "    <tr>\n",
       "      <th>2018-04-04</th>\n",
       "      <td>286.940002</td>\n",
       "      <td>341.638031</td>\n",
       "    </tr>\n",
       "    <tr>\n",
       "      <th>2018-04-05</th>\n",
       "      <td>305.720001</td>\n",
       "      <td>342.505463</td>\n",
       "    </tr>\n",
       "    <tr>\n",
       "      <th>2018-04-06</th>\n",
       "      <td>299.299988</td>\n",
       "      <td>345.377655</td>\n",
       "    </tr>\n",
       "    <tr>\n",
       "      <th>2018-04-09</th>\n",
       "      <td>289.660004</td>\n",
       "      <td>346.394653</td>\n",
       "    </tr>\n",
       "  </tbody>\n",
       "</table>\n",
       "</div>"
      ],
      "text/plain": [
       "                 Close   Predicted\n",
       "Date                              \n",
       "2018-04-03  267.529999  346.602509\n",
       "2018-04-04  286.940002  341.638031\n",
       "2018-04-05  305.720001  342.505463\n",
       "2018-04-06  299.299988  345.377655\n",
       "2018-04-09  289.660004  346.394653"
      ]
     },
     "execution_count": 54,
     "metadata": {},
     "output_type": "execute_result"
    }
   ],
   "source": [
    "test_prediction_df = result_df[position+lookback:]\n",
    "test_prediction_df[\"Predicted\"] = test_predict\n",
    "test_prediction_df.head()"
   ]
  },
  {
   "cell_type": "code",
   "execution_count": 55,
   "id": "a269a52c",
   "metadata": {
    "execution": {
     "iopub.execute_input": "2025-03-09T20:23:07.100798Z",
     "iopub.status.busy": "2025-03-09T20:23:07.100396Z",
     "iopub.status.idle": "2025-03-09T20:23:07.566383Z",
     "shell.execute_reply": "2025-03-09T20:23:07.565042Z"
    },
    "id": "PJ_-znSchYO_",
    "papermill": {
     "duration": 0.498942,
     "end_time": "2025-03-09T20:23:07.568803",
     "exception": false,
     "start_time": "2025-03-09T20:23:07.069861",
     "status": "completed"
    },
    "tags": []
   },
   "outputs": [
    {
     "data": {
      "image/png": "[encoded data removed]",
      "text/plain": [
       "<Figure size 1400x500 with 1 Axes>"
      ]
     },
     "metadata": {},
     "output_type": "display_data"
    }
   ],
   "source": [
    "plt.figure(figsize=(14,5))\n",
    "plt.plot(result_df, label = \"Real Number of Passengers\")\n",
    "plt.plot(train_prediction_df[\"Predicted\"], color = 'blue', label = \"Train Predicted Number of Passengers\")\n",
    "plt.plot(test_prediction_df[\"Predicted\"],color = 'red', label = \"Test Predicted Number of Passengers\")\n",
    "plt.title(\"Number of Passengers Prediction\")\n",
    "plt.xlabel(\"Time\")\n",
    "plt.ylabel(\"Number of Passengers\")\n",
    "plt.legend()\n",
    "plt.show()"
   ]
  }
 ],
 "metadata": {
  "colab": {
   "provenance": []
  },
  "kaggle": {
   "accelerator": "none",
   "dataSources": [
    {
     "datasetId": 500872,
     "sourceId": 927894,
     "sourceType": "datasetVersion"
    }
   ],
   "dockerImageVersionId": 30761,
   "isGpuEnabled": false,
   "isInternetEnabled": true,
   "language": "python",
   "sourceType": "notebook"
  },
  "kernelspec": {
   "display_name": "Python 3",
   "language": "python",
   "name": "python3"
  },
  "language_info": {
   "codemirror_mode": {
    "name": "ipython",
    "version": 3
   },
   "file_extension": ".py",
   "mimetype": "text/x-python",
   "name": "python",
   "nbconvert_exporter": "python",
   "pygments_lexer": "ipython3",
   "version": "3.10.14"
  },
  "papermill": {
   "default_parameters": {},
   "duration": 40.126416,
   "end_time": "2025-03-09T20:23:09.426661",
   "environment_variables": {},
   "exception": null,
   "input_path": "__notebook__.ipynb",
   "output_path": "__notebook__.ipynb",
   "parameters": {},
   "start_time": "2025-03-09T20:22:29.300245",
   "version": "2.6.0"
  }
 },
 "nbformat": 4,
 "nbformat_minor": 5
}
