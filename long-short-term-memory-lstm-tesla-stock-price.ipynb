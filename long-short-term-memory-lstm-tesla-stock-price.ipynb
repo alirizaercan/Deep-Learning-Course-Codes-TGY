{
 "cells": [
  {
   "cell_type": "markdown",
   "id": "096f4b59",
   "metadata": {
    "id": "4unSJJjsT8BM",
    "papermill": {
     "duration": 0.011591,
     "end_time": "2025-03-25T00:45:39.699818",
     "exception": false,
     "start_time": "2025-03-25T00:45:39.688227",
     "status": "completed"
    },
    "tags": []
   },
   "source": [
    "# Tesla - Stock Price Prediction\n",
    "\n",
    "---\n",
    "\n"
   ]
  },
  {
   "cell_type": "markdown",
   "id": "5d0c66ac",
   "metadata": {
    "id": "wkRLJL2XUAfT",
    "papermill": {
     "duration": 0.009724,
     "end_time": "2025-03-25T00:45:39.719826",
     "exception": false,
     "start_time": "2025-03-25T00:45:39.710102",
     "status": "completed"
    },
    "tags": []
   },
   "source": [
    "## Business Problem\n",
    "\n",
    "In this notebook, our purpose is to predict of tesla - stock price."
   ]
  },
  {
   "cell_type": "markdown",
   "id": "3fc6a373",
   "metadata": {
    "id": "0uxjphZsUwjz",
    "papermill": {
     "duration": 0.009742,
     "end_time": "2025-03-25T00:45:39.739542",
     "exception": false,
     "start_time": "2025-03-25T00:45:39.729800",
     "status": "completed"
    },
    "tags": []
   },
   "source": [
    "## Data Understanding"
   ]
  },
  {
   "cell_type": "code",
   "execution_count": 1,
   "id": "938cfaf2",
   "metadata": {
    "execution": {
     "iopub.execute_input": "2025-03-25T00:45:39.761297Z",
     "iopub.status.busy": "2025-03-25T00:45:39.760895Z",
     "iopub.status.idle": "2025-03-25T00:45:54.638140Z",
     "shell.execute_reply": "2025-03-25T00:45:54.637325Z"
    },
    "id": "40IR65rQUyWC",
    "outputId": "4562368d-970e-4fd6-b03e-be036efe4dcd",
    "papermill": {
     "duration": 14.890836,
     "end_time": "2025-03-25T00:45:54.640535",
     "exception": false,
     "start_time": "2025-03-25T00:45:39.749699",
     "status": "completed"
    },
    "tags": []
   },
   "outputs": [],
   "source": [
    "import numpy as np\n",
    "import pandas as pd\n",
    "import datetime as dt\n",
    "import tensorflow as tf\n",
    "import matplotlib.pyplot as plt\n",
    "\n",
    "from sklearn.preprocessing import MinMaxScaler\n",
    "from sklearn.metrics import mean_squared_error\n",
    "\n",
    "from tensorflow.keras.models import Sequential\n",
    "from tensorflow.keras.layers import Dense, LSTM, Dropout\n",
    "from tensorflow.keras.callbacks import ModelCheckpoint, EarlyStopping\n",
    "\n",
    "import warnings\n",
    "warnings.filterwarnings('ignore')\n",
    "\n",
    "import os\n",
    "os.environ['TF_CPP_MIN_LOG_LEVEL'] = '3'\n",
    "tf.compat.v1.logging.set_verbosity(tf.compat.v1.logging.ERROR)"
   ]
  },
  {
   "cell_type": "code",
   "execution_count": 2,
   "id": "0d29817d",
   "metadata": {
    "execution": {
     "iopub.execute_input": "2025-03-25T00:45:54.664438Z",
     "iopub.status.busy": "2025-03-25T00:45:54.663210Z",
     "iopub.status.idle": "2025-03-25T00:45:54.723733Z",
     "shell.execute_reply": "2025-03-25T00:45:54.722606Z"
    },
    "id": "-be5_efvVpTV",
    "papermill": {
     "duration": 0.074559,
     "end_time": "2025-03-25T00:45:54.725752",
     "exception": false,
     "start_time": "2025-03-25T00:45:54.651193",
     "status": "completed"
    },
    "tags": []
   },
   "outputs": [
    {
     "data": {
      "text/html": [
       "<div>\n",
       "<style scoped>\n",
       "    .dataframe tbody tr th:only-of-type {\n",
       "        vertical-align: middle;\n",
       "    }\n",
       "\n",
       "    .dataframe tbody tr th {\n",
       "        vertical-align: top;\n",
       "    }\n",
       "\n",
       "    .dataframe thead th {\n",
       "        text-align: right;\n",
       "    }\n",
       "</style>\n",
       "<table border=\"1\" class=\"dataframe\">\n",
       "  <thead>\n",
       "    <tr style=\"text-align: right;\">\n",
       "      <th></th>\n",
       "      <th>Date</th>\n",
       "      <th>Open</th>\n",
       "      <th>High</th>\n",
       "      <th>Low</th>\n",
       "      <th>Close</th>\n",
       "      <th>Adj Close</th>\n",
       "      <th>Volume</th>\n",
       "    </tr>\n",
       "  </thead>\n",
       "  <tbody>\n",
       "    <tr>\n",
       "      <th>0</th>\n",
       "      <td>2010-06-29</td>\n",
       "      <td>19.000000</td>\n",
       "      <td>25.000000</td>\n",
       "      <td>17.540001</td>\n",
       "      <td>23.889999</td>\n",
       "      <td>23.889999</td>\n",
       "      <td>18766300</td>\n",
       "    </tr>\n",
       "    <tr>\n",
       "      <th>1</th>\n",
       "      <td>2010-06-30</td>\n",
       "      <td>25.790001</td>\n",
       "      <td>30.420000</td>\n",
       "      <td>23.299999</td>\n",
       "      <td>23.830000</td>\n",
       "      <td>23.830000</td>\n",
       "      <td>17187100</td>\n",
       "    </tr>\n",
       "    <tr>\n",
       "      <th>2</th>\n",
       "      <td>2010-07-01</td>\n",
       "      <td>25.000000</td>\n",
       "      <td>25.920000</td>\n",
       "      <td>20.270000</td>\n",
       "      <td>21.959999</td>\n",
       "      <td>21.959999</td>\n",
       "      <td>8218800</td>\n",
       "    </tr>\n",
       "    <tr>\n",
       "      <th>3</th>\n",
       "      <td>2010-07-02</td>\n",
       "      <td>23.000000</td>\n",
       "      <td>23.100000</td>\n",
       "      <td>18.709999</td>\n",
       "      <td>19.200001</td>\n",
       "      <td>19.200001</td>\n",
       "      <td>5139800</td>\n",
       "    </tr>\n",
       "    <tr>\n",
       "      <th>4</th>\n",
       "      <td>2010-07-06</td>\n",
       "      <td>20.000000</td>\n",
       "      <td>20.000000</td>\n",
       "      <td>15.830000</td>\n",
       "      <td>16.110001</td>\n",
       "      <td>16.110001</td>\n",
       "      <td>6866900</td>\n",
       "    </tr>\n",
       "    <tr>\n",
       "      <th>...</th>\n",
       "      <td>...</td>\n",
       "      <td>...</td>\n",
       "      <td>...</td>\n",
       "      <td>...</td>\n",
       "      <td>...</td>\n",
       "      <td>...</td>\n",
       "      <td>...</td>\n",
       "    </tr>\n",
       "    <tr>\n",
       "      <th>2411</th>\n",
       "      <td>2020-01-28</td>\n",
       "      <td>568.489990</td>\n",
       "      <td>576.809998</td>\n",
       "      <td>558.080017</td>\n",
       "      <td>566.900024</td>\n",
       "      <td>566.900024</td>\n",
       "      <td>11788500</td>\n",
       "    </tr>\n",
       "    <tr>\n",
       "      <th>2412</th>\n",
       "      <td>2020-01-29</td>\n",
       "      <td>575.690002</td>\n",
       "      <td>589.799988</td>\n",
       "      <td>567.429993</td>\n",
       "      <td>580.989990</td>\n",
       "      <td>580.989990</td>\n",
       "      <td>17801500</td>\n",
       "    </tr>\n",
       "    <tr>\n",
       "      <th>2413</th>\n",
       "      <td>2020-01-30</td>\n",
       "      <td>632.419983</td>\n",
       "      <td>650.880005</td>\n",
       "      <td>618.000000</td>\n",
       "      <td>640.809998</td>\n",
       "      <td>640.809998</td>\n",
       "      <td>29005700</td>\n",
       "    </tr>\n",
       "    <tr>\n",
       "      <th>2414</th>\n",
       "      <td>2020-01-31</td>\n",
       "      <td>640.000000</td>\n",
       "      <td>653.000000</td>\n",
       "      <td>632.520020</td>\n",
       "      <td>650.570007</td>\n",
       "      <td>650.570007</td>\n",
       "      <td>15719300</td>\n",
       "    </tr>\n",
       "    <tr>\n",
       "      <th>2415</th>\n",
       "      <td>2020-02-03</td>\n",
       "      <td>673.690002</td>\n",
       "      <td>786.140015</td>\n",
       "      <td>673.520020</td>\n",
       "      <td>780.000000</td>\n",
       "      <td>780.000000</td>\n",
       "      <td>47065000</td>\n",
       "    </tr>\n",
       "  </tbody>\n",
       "</table>\n",
       "<p>2416 rows × 7 columns</p>\n",
       "</div>"
      ],
      "text/plain": [
       "            Date        Open        High         Low       Close   Adj Close  \\\n",
       "0     2010-06-29   19.000000   25.000000   17.540001   23.889999   23.889999   \n",
       "1     2010-06-30   25.790001   30.420000   23.299999   23.830000   23.830000   \n",
       "2     2010-07-01   25.000000   25.920000   20.270000   21.959999   21.959999   \n",
       "3     2010-07-02   23.000000   23.100000   18.709999   19.200001   19.200001   \n",
       "4     2010-07-06   20.000000   20.000000   15.830000   16.110001   16.110001   \n",
       "...          ...         ...         ...         ...         ...         ...   \n",
       "2411  2020-01-28  568.489990  576.809998  558.080017  566.900024  566.900024   \n",
       "2412  2020-01-29  575.690002  589.799988  567.429993  580.989990  580.989990   \n",
       "2413  2020-01-30  632.419983  650.880005  618.000000  640.809998  640.809998   \n",
       "2414  2020-01-31  640.000000  653.000000  632.520020  650.570007  650.570007   \n",
       "2415  2020-02-03  673.690002  786.140015  673.520020  780.000000  780.000000   \n",
       "\n",
       "        Volume  \n",
       "0     18766300  \n",
       "1     17187100  \n",
       "2      8218800  \n",
       "3      5139800  \n",
       "4      6866900  \n",
       "...        ...  \n",
       "2411  11788500  \n",
       "2412  17801500  \n",
       "2413  29005700  \n",
       "2414  15719300  \n",
       "2415  47065000  \n",
       "\n",
       "[2416 rows x 7 columns]"
      ]
     },
     "execution_count": 2,
     "metadata": {},
     "output_type": "execute_result"
    }
   ],
   "source": [
    "df = pd.read_csv('/kaggle/input/tesla-stock-data-from-2010-to-2020/TSLA.csv')\n",
    "df"
   ]
  },
  {
   "cell_type": "code",
   "execution_count": 3,
   "id": "eb51b957",
   "metadata": {
    "execution": {
     "iopub.execute_input": "2025-03-25T00:45:54.749611Z",
     "iopub.status.busy": "2025-03-25T00:45:54.748686Z",
     "iopub.status.idle": "2025-03-25T00:45:54.761382Z",
     "shell.execute_reply": "2025-03-25T00:45:54.760199Z"
    },
    "id": "lG_AO3mdVv17",
    "papermill": {
     "duration": 0.026452,
     "end_time": "2025-03-25T00:45:54.763199",
     "exception": false,
     "start_time": "2025-03-25T00:45:54.736747",
     "status": "completed"
    },
    "tags": []
   },
   "outputs": [
    {
     "data": {
      "text/html": [
       "<div>\n",
       "<style scoped>\n",
       "    .dataframe tbody tr th:only-of-type {\n",
       "        vertical-align: middle;\n",
       "    }\n",
       "\n",
       "    .dataframe tbody tr th {\n",
       "        vertical-align: top;\n",
       "    }\n",
       "\n",
       "    .dataframe thead th {\n",
       "        text-align: right;\n",
       "    }\n",
       "</style>\n",
       "<table border=\"1\" class=\"dataframe\">\n",
       "  <thead>\n",
       "    <tr style=\"text-align: right;\">\n",
       "      <th></th>\n",
       "      <th>Date</th>\n",
       "      <th>Open</th>\n",
       "      <th>High</th>\n",
       "      <th>Low</th>\n",
       "      <th>Close</th>\n",
       "      <th>Adj Close</th>\n",
       "      <th>Volume</th>\n",
       "    </tr>\n",
       "  </thead>\n",
       "  <tbody>\n",
       "    <tr>\n",
       "      <th>0</th>\n",
       "      <td>2010-06-29</td>\n",
       "      <td>19.000000</td>\n",
       "      <td>25.00</td>\n",
       "      <td>17.540001</td>\n",
       "      <td>23.889999</td>\n",
       "      <td>23.889999</td>\n",
       "      <td>18766300</td>\n",
       "    </tr>\n",
       "    <tr>\n",
       "      <th>1</th>\n",
       "      <td>2010-06-30</td>\n",
       "      <td>25.790001</td>\n",
       "      <td>30.42</td>\n",
       "      <td>23.299999</td>\n",
       "      <td>23.830000</td>\n",
       "      <td>23.830000</td>\n",
       "      <td>17187100</td>\n",
       "    </tr>\n",
       "    <tr>\n",
       "      <th>2</th>\n",
       "      <td>2010-07-01</td>\n",
       "      <td>25.000000</td>\n",
       "      <td>25.92</td>\n",
       "      <td>20.270000</td>\n",
       "      <td>21.959999</td>\n",
       "      <td>21.959999</td>\n",
       "      <td>8218800</td>\n",
       "    </tr>\n",
       "    <tr>\n",
       "      <th>3</th>\n",
       "      <td>2010-07-02</td>\n",
       "      <td>23.000000</td>\n",
       "      <td>23.10</td>\n",
       "      <td>18.709999</td>\n",
       "      <td>19.200001</td>\n",
       "      <td>19.200001</td>\n",
       "      <td>5139800</td>\n",
       "    </tr>\n",
       "    <tr>\n",
       "      <th>4</th>\n",
       "      <td>2010-07-06</td>\n",
       "      <td>20.000000</td>\n",
       "      <td>20.00</td>\n",
       "      <td>15.830000</td>\n",
       "      <td>16.110001</td>\n",
       "      <td>16.110001</td>\n",
       "      <td>6866900</td>\n",
       "    </tr>\n",
       "  </tbody>\n",
       "</table>\n",
       "</div>"
      ],
      "text/plain": [
       "         Date       Open   High        Low      Close  Adj Close    Volume\n",
       "0  2010-06-29  19.000000  25.00  17.540001  23.889999  23.889999  18766300\n",
       "1  2010-06-30  25.790001  30.42  23.299999  23.830000  23.830000  17187100\n",
       "2  2010-07-01  25.000000  25.92  20.270000  21.959999  21.959999   8218800\n",
       "3  2010-07-02  23.000000  23.10  18.709999  19.200001  19.200001   5139800\n",
       "4  2010-07-06  20.000000  20.00  15.830000  16.110001  16.110001   6866900"
      ]
     },
     "execution_count": 3,
     "metadata": {},
     "output_type": "execute_result"
    }
   ],
   "source": [
    "df.head()"
   ]
  },
  {
   "cell_type": "code",
   "execution_count": 4,
   "id": "613f0188",
   "metadata": {
    "execution": {
     "iopub.execute_input": "2025-03-25T00:45:54.786180Z",
     "iopub.status.busy": "2025-03-25T00:45:54.785822Z",
     "iopub.status.idle": "2025-03-25T00:45:54.792190Z",
     "shell.execute_reply": "2025-03-25T00:45:54.791018Z"
    },
    "id": "TU5hlfyvVxY0",
    "papermill": {
     "duration": 0.020294,
     "end_time": "2025-03-25T00:45:54.794208",
     "exception": false,
     "start_time": "2025-03-25T00:45:54.773914",
     "status": "completed"
    },
    "tags": []
   },
   "outputs": [],
   "source": [
    "def check_df(dataframe, head=5):\n",
    "    print(\"##################### Shape #####################\")\n",
    "    print(dataframe.shape)\n",
    "    print(\"##################### Types #####################\")\n",
    "    print(dataframe.dtypes)\n",
    "    print(\"##################### Head #####################\")\n",
    "    print(dataframe.head(head))  # Fonksiyon çağrısına dikkat edin\n",
    "    print(\"##################### Tail #####################\")\n",
    "    print(dataframe.tail(head))\n",
    "    print(\"##################### NA #####################\")\n",
    "    print(dataframe.isnull().sum())\n",
    "    print(\"##################### Quantile #####################\")\n",
    "    print(dataframe.select_dtypes(include='number').quantile([0, 0.05, 0.5, 0.95, 0.99, 1]).T)\n"
   ]
  },
  {
   "cell_type": "code",
   "execution_count": 5,
   "id": "02b0a01b",
   "metadata": {
    "execution": {
     "iopub.execute_input": "2025-03-25T00:45:54.818642Z",
     "iopub.status.busy": "2025-03-25T00:45:54.817909Z",
     "iopub.status.idle": "2025-03-25T00:45:54.839102Z",
     "shell.execute_reply": "2025-03-25T00:45:54.837950Z"
    },
    "id": "t6iFP965V4vk",
    "papermill": {
     "duration": 0.036014,
     "end_time": "2025-03-25T00:45:54.841541",
     "exception": false,
     "start_time": "2025-03-25T00:45:54.805527",
     "status": "completed"
    },
    "tags": []
   },
   "outputs": [
    {
     "name": "stdout",
     "output_type": "stream",
     "text": [
      "##################### Shape #####################\n",
      "(2416, 7)\n",
      "##################### Types #####################\n",
      "Date          object\n",
      "Open         float64\n",
      "High         float64\n",
      "Low          float64\n",
      "Close        float64\n",
      "Adj Close    float64\n",
      "Volume         int64\n",
      "dtype: object\n",
      "##################### Head #####################\n",
      "         Date       Open   High        Low      Close  Adj Close    Volume\n",
      "0  2010-06-29  19.000000  25.00  17.540001  23.889999  23.889999  18766300\n",
      "1  2010-06-30  25.790001  30.42  23.299999  23.830000  23.830000  17187100\n",
      "2  2010-07-01  25.000000  25.92  20.270000  21.959999  21.959999   8218800\n",
      "3  2010-07-02  23.000000  23.10  18.709999  19.200001  19.200001   5139800\n",
      "4  2010-07-06  20.000000  20.00  15.830000  16.110001  16.110001   6866900\n",
      "##################### Tail #####################\n",
      "            Date        Open        High         Low       Close   Adj Close  \\\n",
      "2411  2020-01-28  568.489990  576.809998  558.080017  566.900024  566.900024   \n",
      "2412  2020-01-29  575.690002  589.799988  567.429993  580.989990  580.989990   \n",
      "2413  2020-01-30  632.419983  650.880005  618.000000  640.809998  640.809998   \n",
      "2414  2020-01-31  640.000000  653.000000  632.520020  650.570007  650.570007   \n",
      "2415  2020-02-03  673.690002  786.140015  673.520020  780.000000  780.000000   \n",
      "\n",
      "        Volume  \n",
      "2411  11788500  \n",
      "2412  17801500  \n",
      "2413  29005700  \n",
      "2414  15719300  \n",
      "2415  47065000  \n",
      "##################### NA #####################\n",
      "Date         0\n",
      "Open         0\n",
      "High         0\n",
      "Low          0\n",
      "Close        0\n",
      "Adj Close    0\n",
      "Volume       0\n",
      "dtype: int64\n",
      "##################### Quantile #####################\n",
      "                    0.00           0.05          0.50          0.95  \\\n",
      "Open           16.139999      23.384999  2.130350e+02  3.519100e+02   \n",
      "High           16.629999      24.022501  2.167450e+02  3.567500e+02   \n",
      "Low            14.980000      22.867499  2.088700e+02  3.460250e+02   \n",
      "Close          15.800000      23.565000  2.129600e+02  3.511675e+02   \n",
      "Adj Close      15.800000      23.565000  2.129600e+02  3.511675e+02   \n",
      "Volume     118500.000000  633825.000000  4.578400e+06  1.476090e+07   \n",
      "\n",
      "                   0.99          1.00  \n",
      "Open       4.235790e+02  6.736900e+02  \n",
      "High       4.284705e+02  7.861400e+02  \n",
      "Low        4.122865e+02  6.735200e+02  \n",
      "Close      4.243455e+02  7.800000e+02  \n",
      "Adj Close  4.243455e+02  7.800000e+02  \n",
      "Volume     2.459959e+07  4.706500e+07  \n"
     ]
    }
   ],
   "source": [
    "check_df(df)"
   ]
  },
  {
   "cell_type": "markdown",
   "id": "032cd3ae",
   "metadata": {
    "id": "v2n2ONcpWlQl",
    "papermill": {
     "duration": 0.010406,
     "end_time": "2025-03-25T00:45:54.862858",
     "exception": false,
     "start_time": "2025-03-25T00:45:54.852452",
     "status": "completed"
    },
    "tags": []
   },
   "source": [
    "## Data Preparation"
   ]
  },
  {
   "cell_type": "code",
   "execution_count": 6,
   "id": "129174b2",
   "metadata": {
    "execution": {
     "iopub.execute_input": "2025-03-25T00:45:54.885791Z",
     "iopub.status.busy": "2025-03-25T00:45:54.885413Z",
     "iopub.status.idle": "2025-03-25T00:45:54.895676Z",
     "shell.execute_reply": "2025-03-25T00:45:54.894673Z"
    },
    "id": "x-En8ormWAo8",
    "papermill": {
     "duration": 0.024183,
     "end_time": "2025-03-25T00:45:54.897682",
     "exception": false,
     "start_time": "2025-03-25T00:45:54.873499",
     "status": "completed"
    },
    "tags": []
   },
   "outputs": [],
   "source": [
    "df[\"Date\"] = pd.to_datetime(df[\"Date\"])"
   ]
  },
  {
   "cell_type": "code",
   "execution_count": 7,
   "id": "3d939d75",
   "metadata": {
    "execution": {
     "iopub.execute_input": "2025-03-25T00:45:54.921252Z",
     "iopub.status.busy": "2025-03-25T00:45:54.920419Z",
     "iopub.status.idle": "2025-03-25T00:45:54.934723Z",
     "shell.execute_reply": "2025-03-25T00:45:54.933756Z"
    },
    "id": "Wk3C4MPkWBUG",
    "papermill": {
     "duration": 0.028345,
     "end_time": "2025-03-25T00:45:54.936649",
     "exception": false,
     "start_time": "2025-03-25T00:45:54.908304",
     "status": "completed"
    },
    "tags": []
   },
   "outputs": [
    {
     "data": {
      "text/html": [
       "<div>\n",
       "<style scoped>\n",
       "    .dataframe tbody tr th:only-of-type {\n",
       "        vertical-align: middle;\n",
       "    }\n",
       "\n",
       "    .dataframe tbody tr th {\n",
       "        vertical-align: top;\n",
       "    }\n",
       "\n",
       "    .dataframe thead th {\n",
       "        text-align: right;\n",
       "    }\n",
       "</style>\n",
       "<table border=\"1\" class=\"dataframe\">\n",
       "  <thead>\n",
       "    <tr style=\"text-align: right;\">\n",
       "      <th></th>\n",
       "      <th>Date</th>\n",
       "      <th>Open</th>\n",
       "      <th>High</th>\n",
       "      <th>Low</th>\n",
       "      <th>Close</th>\n",
       "      <th>Adj Close</th>\n",
       "      <th>Volume</th>\n",
       "    </tr>\n",
       "  </thead>\n",
       "  <tbody>\n",
       "    <tr>\n",
       "      <th>0</th>\n",
       "      <td>2010-06-29</td>\n",
       "      <td>19.000000</td>\n",
       "      <td>25.00</td>\n",
       "      <td>17.540001</td>\n",
       "      <td>23.889999</td>\n",
       "      <td>23.889999</td>\n",
       "      <td>18766300</td>\n",
       "    </tr>\n",
       "    <tr>\n",
       "      <th>1</th>\n",
       "      <td>2010-06-30</td>\n",
       "      <td>25.790001</td>\n",
       "      <td>30.42</td>\n",
       "      <td>23.299999</td>\n",
       "      <td>23.830000</td>\n",
       "      <td>23.830000</td>\n",
       "      <td>17187100</td>\n",
       "    </tr>\n",
       "    <tr>\n",
       "      <th>2</th>\n",
       "      <td>2010-07-01</td>\n",
       "      <td>25.000000</td>\n",
       "      <td>25.92</td>\n",
       "      <td>20.270000</td>\n",
       "      <td>21.959999</td>\n",
       "      <td>21.959999</td>\n",
       "      <td>8218800</td>\n",
       "    </tr>\n",
       "    <tr>\n",
       "      <th>3</th>\n",
       "      <td>2010-07-02</td>\n",
       "      <td>23.000000</td>\n",
       "      <td>23.10</td>\n",
       "      <td>18.709999</td>\n",
       "      <td>19.200001</td>\n",
       "      <td>19.200001</td>\n",
       "      <td>5139800</td>\n",
       "    </tr>\n",
       "    <tr>\n",
       "      <th>4</th>\n",
       "      <td>2010-07-06</td>\n",
       "      <td>20.000000</td>\n",
       "      <td>20.00</td>\n",
       "      <td>15.830000</td>\n",
       "      <td>16.110001</td>\n",
       "      <td>16.110001</td>\n",
       "      <td>6866900</td>\n",
       "    </tr>\n",
       "  </tbody>\n",
       "</table>\n",
       "</div>"
      ],
      "text/plain": [
       "        Date       Open   High        Low      Close  Adj Close    Volume\n",
       "0 2010-06-29  19.000000  25.00  17.540001  23.889999  23.889999  18766300\n",
       "1 2010-06-30  25.790001  30.42  23.299999  23.830000  23.830000  17187100\n",
       "2 2010-07-01  25.000000  25.92  20.270000  21.959999  21.959999   8218800\n",
       "3 2010-07-02  23.000000  23.10  18.709999  19.200001  19.200001   5139800\n",
       "4 2010-07-06  20.000000  20.00  15.830000  16.110001  16.110001   6866900"
      ]
     },
     "execution_count": 7,
     "metadata": {},
     "output_type": "execute_result"
    }
   ],
   "source": [
    "df.head()"
   ]
  },
  {
   "cell_type": "code",
   "execution_count": 8,
   "id": "b405eb35",
   "metadata": {
    "execution": {
     "iopub.execute_input": "2025-03-25T00:45:54.960233Z",
     "iopub.status.busy": "2025-03-25T00:45:54.959525Z",
     "iopub.status.idle": "2025-03-25T00:45:54.965178Z",
     "shell.execute_reply": "2025-03-25T00:45:54.964163Z"
    },
    "id": "ZOVzSrk1WCHu",
    "papermill": {
     "duration": 0.019441,
     "end_time": "2025-03-25T00:45:54.967118",
     "exception": false,
     "start_time": "2025-03-25T00:45:54.947677",
     "status": "completed"
    },
    "tags": []
   },
   "outputs": [],
   "source": [
    "tesla_df = df[[\"Date\", \"Close\"]]"
   ]
  },
  {
   "cell_type": "code",
   "execution_count": 9,
   "id": "dcb40c09",
   "metadata": {
    "execution": {
     "iopub.execute_input": "2025-03-25T00:45:54.990609Z",
     "iopub.status.busy": "2025-03-25T00:45:54.989830Z",
     "iopub.status.idle": "2025-03-25T00:45:54.999248Z",
     "shell.execute_reply": "2025-03-25T00:45:54.998298Z"
    },
    "id": "Tli5FuMBWF8l",
    "papermill": {
     "duration": 0.023364,
     "end_time": "2025-03-25T00:45:55.001354",
     "exception": false,
     "start_time": "2025-03-25T00:45:54.977990",
     "status": "completed"
    },
    "tags": []
   },
   "outputs": [
    {
     "data": {
      "text/html": [
       "<div>\n",
       "<style scoped>\n",
       "    .dataframe tbody tr th:only-of-type {\n",
       "        vertical-align: middle;\n",
       "    }\n",
       "\n",
       "    .dataframe tbody tr th {\n",
       "        vertical-align: top;\n",
       "    }\n",
       "\n",
       "    .dataframe thead th {\n",
       "        text-align: right;\n",
       "    }\n",
       "</style>\n",
       "<table border=\"1\" class=\"dataframe\">\n",
       "  <thead>\n",
       "    <tr style=\"text-align: right;\">\n",
       "      <th></th>\n",
       "      <th>Date</th>\n",
       "      <th>Close</th>\n",
       "    </tr>\n",
       "  </thead>\n",
       "  <tbody>\n",
       "    <tr>\n",
       "      <th>0</th>\n",
       "      <td>2010-06-29</td>\n",
       "      <td>23.889999</td>\n",
       "    </tr>\n",
       "    <tr>\n",
       "      <th>1</th>\n",
       "      <td>2010-06-30</td>\n",
       "      <td>23.830000</td>\n",
       "    </tr>\n",
       "    <tr>\n",
       "      <th>2</th>\n",
       "      <td>2010-07-01</td>\n",
       "      <td>21.959999</td>\n",
       "    </tr>\n",
       "    <tr>\n",
       "      <th>3</th>\n",
       "      <td>2010-07-02</td>\n",
       "      <td>19.200001</td>\n",
       "    </tr>\n",
       "    <tr>\n",
       "      <th>4</th>\n",
       "      <td>2010-07-06</td>\n",
       "      <td>16.110001</td>\n",
       "    </tr>\n",
       "  </tbody>\n",
       "</table>\n",
       "</div>"
      ],
      "text/plain": [
       "        Date      Close\n",
       "0 2010-06-29  23.889999\n",
       "1 2010-06-30  23.830000\n",
       "2 2010-07-01  21.959999\n",
       "3 2010-07-02  19.200001\n",
       "4 2010-07-06  16.110001"
      ]
     },
     "execution_count": 9,
     "metadata": {},
     "output_type": "execute_result"
    }
   ],
   "source": [
    "tesla_df.head()"
   ]
  },
  {
   "cell_type": "code",
   "execution_count": 10,
   "id": "e1c96eb5",
   "metadata": {
    "execution": {
     "iopub.execute_input": "2025-03-25T00:45:55.024693Z",
     "iopub.status.busy": "2025-03-25T00:45:55.024335Z",
     "iopub.status.idle": "2025-03-25T00:45:55.030813Z",
     "shell.execute_reply": "2025-03-25T00:45:55.029651Z"
    },
    "id": "Gsw5OQCAWLzn",
    "papermill": {
     "duration": 0.02045,
     "end_time": "2025-03-25T00:45:55.032813",
     "exception": false,
     "start_time": "2025-03-25T00:45:55.012363",
     "status": "completed"
    },
    "tags": []
   },
   "outputs": [
    {
     "name": "stdout",
     "output_type": "stream",
     "text": [
      "Min Date:  2010-06-29 00:00:00\n",
      "Max Date:  2020-02-03 00:00:00\n"
     ]
    }
   ],
   "source": [
    "print(\"Min Date: \", tesla_df[\"Date\"].min())\n",
    "print(\"Max Date: \", tesla_df[\"Date\"].max())"
   ]
  },
  {
   "cell_type": "code",
   "execution_count": 11,
   "id": "80064e77",
   "metadata": {
    "execution": {
     "iopub.execute_input": "2025-03-25T00:45:55.058154Z",
     "iopub.status.busy": "2025-03-25T00:45:55.057767Z",
     "iopub.status.idle": "2025-03-25T00:45:55.062489Z",
     "shell.execute_reply": "2025-03-25T00:45:55.061519Z"
    },
    "id": "JGi8P08mWQO1",
    "papermill": {
     "duration": 0.019453,
     "end_time": "2025-03-25T00:45:55.064459",
     "exception": false,
     "start_time": "2025-03-25T00:45:55.045006",
     "status": "completed"
    },
    "tags": []
   },
   "outputs": [],
   "source": [
    "tesla_df.index = tesla_df[\"Date\"]"
   ]
  },
  {
   "cell_type": "code",
   "execution_count": 12,
   "id": "f44b05ea",
   "metadata": {
    "execution": {
     "iopub.execute_input": "2025-03-25T00:45:55.088075Z",
     "iopub.status.busy": "2025-03-25T00:45:55.087713Z",
     "iopub.status.idle": "2025-03-25T00:45:55.098846Z",
     "shell.execute_reply": "2025-03-25T00:45:55.097747Z"
    },
    "id": "YBWxX2IOWoL_",
    "papermill": {
     "duration": 0.025385,
     "end_time": "2025-03-25T00:45:55.100965",
     "exception": false,
     "start_time": "2025-03-25T00:45:55.075580",
     "status": "completed"
    },
    "tags": []
   },
   "outputs": [
    {
     "data": {
      "text/html": [
       "<div>\n",
       "<style scoped>\n",
       "    .dataframe tbody tr th:only-of-type {\n",
       "        vertical-align: middle;\n",
       "    }\n",
       "\n",
       "    .dataframe tbody tr th {\n",
       "        vertical-align: top;\n",
       "    }\n",
       "\n",
       "    .dataframe thead th {\n",
       "        text-align: right;\n",
       "    }\n",
       "</style>\n",
       "<table border=\"1\" class=\"dataframe\">\n",
       "  <thead>\n",
       "    <tr style=\"text-align: right;\">\n",
       "      <th></th>\n",
       "      <th>Date</th>\n",
       "      <th>Close</th>\n",
       "    </tr>\n",
       "    <tr>\n",
       "      <th>Date</th>\n",
       "      <th></th>\n",
       "      <th></th>\n",
       "    </tr>\n",
       "  </thead>\n",
       "  <tbody>\n",
       "    <tr>\n",
       "      <th>2010-06-29</th>\n",
       "      <td>2010-06-29</td>\n",
       "      <td>23.889999</td>\n",
       "    </tr>\n",
       "    <tr>\n",
       "      <th>2010-06-30</th>\n",
       "      <td>2010-06-30</td>\n",
       "      <td>23.830000</td>\n",
       "    </tr>\n",
       "    <tr>\n",
       "      <th>2010-07-01</th>\n",
       "      <td>2010-07-01</td>\n",
       "      <td>21.959999</td>\n",
       "    </tr>\n",
       "    <tr>\n",
       "      <th>2010-07-02</th>\n",
       "      <td>2010-07-02</td>\n",
       "      <td>19.200001</td>\n",
       "    </tr>\n",
       "    <tr>\n",
       "      <th>2010-07-06</th>\n",
       "      <td>2010-07-06</td>\n",
       "      <td>16.110001</td>\n",
       "    </tr>\n",
       "    <tr>\n",
       "      <th>...</th>\n",
       "      <td>...</td>\n",
       "      <td>...</td>\n",
       "    </tr>\n",
       "    <tr>\n",
       "      <th>2020-01-28</th>\n",
       "      <td>2020-01-28</td>\n",
       "      <td>566.900024</td>\n",
       "    </tr>\n",
       "    <tr>\n",
       "      <th>2020-01-29</th>\n",
       "      <td>2020-01-29</td>\n",
       "      <td>580.989990</td>\n",
       "    </tr>\n",
       "    <tr>\n",
       "      <th>2020-01-30</th>\n",
       "      <td>2020-01-30</td>\n",
       "      <td>640.809998</td>\n",
       "    </tr>\n",
       "    <tr>\n",
       "      <th>2020-01-31</th>\n",
       "      <td>2020-01-31</td>\n",
       "      <td>650.570007</td>\n",
       "    </tr>\n",
       "    <tr>\n",
       "      <th>2020-02-03</th>\n",
       "      <td>2020-02-03</td>\n",
       "      <td>780.000000</td>\n",
       "    </tr>\n",
       "  </tbody>\n",
       "</table>\n",
       "<p>2416 rows × 2 columns</p>\n",
       "</div>"
      ],
      "text/plain": [
       "                 Date       Close\n",
       "Date                             \n",
       "2010-06-29 2010-06-29   23.889999\n",
       "2010-06-30 2010-06-30   23.830000\n",
       "2010-07-01 2010-07-01   21.959999\n",
       "2010-07-02 2010-07-02   19.200001\n",
       "2010-07-06 2010-07-06   16.110001\n",
       "...               ...         ...\n",
       "2020-01-28 2020-01-28  566.900024\n",
       "2020-01-29 2020-01-29  580.989990\n",
       "2020-01-30 2020-01-30  640.809998\n",
       "2020-01-31 2020-01-31  650.570007\n",
       "2020-02-03 2020-02-03  780.000000\n",
       "\n",
       "[2416 rows x 2 columns]"
      ]
     },
     "execution_count": 12,
     "metadata": {},
     "output_type": "execute_result"
    }
   ],
   "source": [
    "tesla_df"
   ]
  },
  {
   "cell_type": "code",
   "execution_count": 13,
   "id": "b5b96860",
   "metadata": {
    "execution": {
     "iopub.execute_input": "2025-03-25T00:45:55.127676Z",
     "iopub.status.busy": "2025-03-25T00:45:55.126719Z",
     "iopub.status.idle": "2025-03-25T00:45:55.132553Z",
     "shell.execute_reply": "2025-03-25T00:45:55.131531Z"
    },
    "id": "tgPM31WBWvcH",
    "papermill": {
     "duration": 0.021684,
     "end_time": "2025-03-25T00:45:55.134467",
     "exception": false,
     "start_time": "2025-03-25T00:45:55.112783",
     "status": "completed"
    },
    "tags": []
   },
   "outputs": [],
   "source": [
    "tesla_df.drop(\"Date\", axis=1, inplace=True)"
   ]
  },
  {
   "cell_type": "code",
   "execution_count": 14,
   "id": "9e9de955",
   "metadata": {
    "execution": {
     "iopub.execute_input": "2025-03-25T00:45:55.159160Z",
     "iopub.status.busy": "2025-03-25T00:45:55.158788Z",
     "iopub.status.idle": "2025-03-25T00:45:55.168856Z",
     "shell.execute_reply": "2025-03-25T00:45:55.167860Z"
    },
    "id": "17KdnKMGWwSm",
    "papermill": {
     "duration": 0.024914,
     "end_time": "2025-03-25T00:45:55.170755",
     "exception": false,
     "start_time": "2025-03-25T00:45:55.145841",
     "status": "completed"
    },
    "tags": []
   },
   "outputs": [
    {
     "data": {
      "text/html": [
       "<div>\n",
       "<style scoped>\n",
       "    .dataframe tbody tr th:only-of-type {\n",
       "        vertical-align: middle;\n",
       "    }\n",
       "\n",
       "    .dataframe tbody tr th {\n",
       "        vertical-align: top;\n",
       "    }\n",
       "\n",
       "    .dataframe thead th {\n",
       "        text-align: right;\n",
       "    }\n",
       "</style>\n",
       "<table border=\"1\" class=\"dataframe\">\n",
       "  <thead>\n",
       "    <tr style=\"text-align: right;\">\n",
       "      <th></th>\n",
       "      <th>Close</th>\n",
       "    </tr>\n",
       "    <tr>\n",
       "      <th>Date</th>\n",
       "      <th></th>\n",
       "    </tr>\n",
       "  </thead>\n",
       "  <tbody>\n",
       "    <tr>\n",
       "      <th>2010-06-29</th>\n",
       "      <td>23.889999</td>\n",
       "    </tr>\n",
       "    <tr>\n",
       "      <th>2010-06-30</th>\n",
       "      <td>23.830000</td>\n",
       "    </tr>\n",
       "    <tr>\n",
       "      <th>2010-07-01</th>\n",
       "      <td>21.959999</td>\n",
       "    </tr>\n",
       "    <tr>\n",
       "      <th>2010-07-02</th>\n",
       "      <td>19.200001</td>\n",
       "    </tr>\n",
       "    <tr>\n",
       "      <th>2010-07-06</th>\n",
       "      <td>16.110001</td>\n",
       "    </tr>\n",
       "    <tr>\n",
       "      <th>...</th>\n",
       "      <td>...</td>\n",
       "    </tr>\n",
       "    <tr>\n",
       "      <th>2020-01-28</th>\n",
       "      <td>566.900024</td>\n",
       "    </tr>\n",
       "    <tr>\n",
       "      <th>2020-01-29</th>\n",
       "      <td>580.989990</td>\n",
       "    </tr>\n",
       "    <tr>\n",
       "      <th>2020-01-30</th>\n",
       "      <td>640.809998</td>\n",
       "    </tr>\n",
       "    <tr>\n",
       "      <th>2020-01-31</th>\n",
       "      <td>650.570007</td>\n",
       "    </tr>\n",
       "    <tr>\n",
       "      <th>2020-02-03</th>\n",
       "      <td>780.000000</td>\n",
       "    </tr>\n",
       "  </tbody>\n",
       "</table>\n",
       "<p>2416 rows × 1 columns</p>\n",
       "</div>"
      ],
      "text/plain": [
       "                 Close\n",
       "Date                  \n",
       "2010-06-29   23.889999\n",
       "2010-06-30   23.830000\n",
       "2010-07-01   21.959999\n",
       "2010-07-02   19.200001\n",
       "2010-07-06   16.110001\n",
       "...                ...\n",
       "2020-01-28  566.900024\n",
       "2020-01-29  580.989990\n",
       "2020-01-30  640.809998\n",
       "2020-01-31  650.570007\n",
       "2020-02-03  780.000000\n",
       "\n",
       "[2416 rows x 1 columns]"
      ]
     },
     "execution_count": 14,
     "metadata": {},
     "output_type": "execute_result"
    }
   ],
   "source": [
    "tesla_df"
   ]
  },
  {
   "cell_type": "code",
   "execution_count": 15,
   "id": "43bfce79",
   "metadata": {
    "execution": {
     "iopub.execute_input": "2025-03-25T00:45:55.195311Z",
     "iopub.status.busy": "2025-03-25T00:45:55.194905Z",
     "iopub.status.idle": "2025-03-25T00:45:55.199518Z",
     "shell.execute_reply": "2025-03-25T00:45:55.198527Z"
    },
    "id": "PliZ5OcsWxsF",
    "papermill": {
     "duration": 0.019072,
     "end_time": "2025-03-25T00:45:55.201438",
     "exception": false,
     "start_time": "2025-03-25T00:45:55.182366",
     "status": "completed"
    },
    "tags": []
   },
   "outputs": [],
   "source": [
    "result_df = tesla_df.copy()"
   ]
  },
  {
   "cell_type": "code",
   "execution_count": 16,
   "id": "36837b88",
   "metadata": {
    "execution": {
     "iopub.execute_input": "2025-03-25T00:45:55.225781Z",
     "iopub.status.busy": "2025-03-25T00:45:55.225403Z",
     "iopub.status.idle": "2025-03-25T00:45:55.613631Z",
     "shell.execute_reply": "2025-03-25T00:45:55.612471Z"
    },
    "id": "ObqHX6K2W0te",
    "papermill": {
     "duration": 0.402939,
     "end_time": "2025-03-25T00:45:55.615812",
     "exception": false,
     "start_time": "2025-03-25T00:45:55.212873",
     "status": "completed"
    },
    "tags": []
   },
   "outputs": [
    {
     "data": {
      "image/png": "[encoded data removed]",
      "text/plain": [
       "<Figure size 1400x500 with 1 Axes>"
      ]
     },
     "metadata": {},
     "output_type": "display_data"
    }
   ],
   "source": [
    "plt.figure(figsize=(14,5))\n",
    "plt.plot(tesla_df['Close'], color='blue')\n",
    "plt.title(\"Tesla Stock Price\")\n",
    "plt.xlabel(\"Time\")\n",
    "plt.ylabel(\"Stock Price\")\n",
    "plt.show()"
   ]
  },
  {
   "cell_type": "code",
   "execution_count": 17,
   "id": "0f2d1698",
   "metadata": {
    "execution": {
     "iopub.execute_input": "2025-03-25T00:45:55.642218Z",
     "iopub.status.busy": "2025-03-25T00:45:55.641822Z",
     "iopub.status.idle": "2025-03-25T00:45:55.646816Z",
     "shell.execute_reply": "2025-03-25T00:45:55.645662Z"
    },
    "id": "5LWFDWjNW2z2",
    "papermill": {
     "duration": 0.020649,
     "end_time": "2025-03-25T00:45:55.648852",
     "exception": false,
     "start_time": "2025-03-25T00:45:55.628203",
     "status": "completed"
    },
    "tags": []
   },
   "outputs": [],
   "source": [
    "tesla_df = tesla_df.values"
   ]
  },
  {
   "cell_type": "code",
   "execution_count": 18,
   "id": "2bf1bba9",
   "metadata": {
    "execution": {
     "iopub.execute_input": "2025-03-25T00:45:55.678620Z",
     "iopub.status.busy": "2025-03-25T00:45:55.676017Z",
     "iopub.status.idle": "2025-03-25T00:45:55.691004Z",
     "shell.execute_reply": "2025-03-25T00:45:55.689836Z"
    },
    "id": "jxFZkTS-W9Mm",
    "papermill": {
     "duration": 0.031575,
     "end_time": "2025-03-25T00:45:55.693072",
     "exception": false,
     "start_time": "2025-03-25T00:45:55.661497",
     "status": "completed"
    },
    "tags": []
   },
   "outputs": [
    {
     "data": {
      "text/plain": [
       "array([[23.889999],\n",
       "       [23.83    ],\n",
       "       [21.959999],\n",
       "       [19.200001],\n",
       "       [16.110001]])"
      ]
     },
     "execution_count": 18,
     "metadata": {},
     "output_type": "execute_result"
    }
   ],
   "source": [
    "tesla_df[0:5]"
   ]
  },
  {
   "cell_type": "code",
   "execution_count": 19,
   "id": "35ba4749",
   "metadata": {
    "execution": {
     "iopub.execute_input": "2025-03-25T00:45:55.720308Z",
     "iopub.status.busy": "2025-03-25T00:45:55.719419Z",
     "iopub.status.idle": "2025-03-25T00:45:55.724597Z",
     "shell.execute_reply": "2025-03-25T00:45:55.723633Z"
    },
    "id": "iU7KJlc4XAb2",
    "papermill": {
     "duration": 0.02087,
     "end_time": "2025-03-25T00:45:55.726613",
     "exception": false,
     "start_time": "2025-03-25T00:45:55.705743",
     "status": "completed"
    },
    "tags": []
   },
   "outputs": [],
   "source": [
    "tesla_df = tesla_df.astype(\"float32\")"
   ]
  },
  {
   "cell_type": "code",
   "execution_count": 20,
   "id": "e8459871",
   "metadata": {
    "execution": {
     "iopub.execute_input": "2025-03-25T00:45:55.760893Z",
     "iopub.status.busy": "2025-03-25T00:45:55.759851Z",
     "iopub.status.idle": "2025-03-25T00:45:55.766504Z",
     "shell.execute_reply": "2025-03-25T00:45:55.765337Z"
    },
    "id": "r7Cywk9oXBI-",
    "papermill": {
     "duration": 0.029698,
     "end_time": "2025-03-25T00:45:55.769083",
     "exception": false,
     "start_time": "2025-03-25T00:45:55.739385",
     "status": "completed"
    },
    "tags": []
   },
   "outputs": [],
   "source": [
    "def split_data(dataframe, test_size):\n",
    "  position = int(round(len(dataframe) * (1 - test_size)))\n",
    "  train = dataframe[:position]\n",
    "  test = dataframe[position:]\n",
    "  return train, test, position"
   ]
  },
  {
   "cell_type": "code",
   "execution_count": 21,
   "id": "d8802bd4",
   "metadata": {
    "execution": {
     "iopub.execute_input": "2025-03-25T00:45:55.798046Z",
     "iopub.status.busy": "2025-03-25T00:45:55.797177Z",
     "iopub.status.idle": "2025-03-25T00:45:55.802401Z",
     "shell.execute_reply": "2025-03-25T00:45:55.801394Z"
    },
    "id": "COxqfz0SZvV_",
    "papermill": {
     "duration": 0.021121,
     "end_time": "2025-03-25T00:45:55.804441",
     "exception": false,
     "start_time": "2025-03-25T00:45:55.783320",
     "status": "completed"
    },
    "tags": []
   },
   "outputs": [],
   "source": [
    "train, test, position = split_data(tesla_df, 0.20)"
   ]
  },
  {
   "cell_type": "code",
   "execution_count": 22,
   "id": "69b94433",
   "metadata": {
    "execution": {
     "iopub.execute_input": "2025-03-25T00:45:55.831511Z",
     "iopub.status.busy": "2025-03-25T00:45:55.830490Z",
     "iopub.status.idle": "2025-03-25T00:45:55.836649Z",
     "shell.execute_reply": "2025-03-25T00:45:55.835475Z"
    },
    "id": "jESwxnt2Z1t5",
    "papermill": {
     "duration": 0.022128,
     "end_time": "2025-03-25T00:45:55.838802",
     "exception": false,
     "start_time": "2025-03-25T00:45:55.816674",
     "status": "completed"
    },
    "tags": []
   },
   "outputs": [
    {
     "name": "stdout",
     "output_type": "stream",
     "text": [
      "(1933, 1) (483, 1)\n"
     ]
    }
   ],
   "source": [
    "print(train.shape, test.shape)"
   ]
  },
  {
   "cell_type": "code",
   "execution_count": 23,
   "id": "e284fde2",
   "metadata": {
    "execution": {
     "iopub.execute_input": "2025-03-25T00:45:55.866359Z",
     "iopub.status.busy": "2025-03-25T00:45:55.865209Z",
     "iopub.status.idle": "2025-03-25T00:45:55.871070Z",
     "shell.execute_reply": "2025-03-25T00:45:55.870002Z"
    },
    "id": "wleQDdgSZ8NZ",
    "papermill": {
     "duration": 0.022372,
     "end_time": "2025-03-25T00:45:55.873672",
     "exception": false,
     "start_time": "2025-03-25T00:45:55.851300",
     "status": "completed"
    },
    "tags": []
   },
   "outputs": [],
   "source": [
    "scaler_train = MinMaxScaler(feature_range = (0,1))"
   ]
  },
  {
   "cell_type": "code",
   "execution_count": 24,
   "id": "751b91e1",
   "metadata": {
    "execution": {
     "iopub.execute_input": "2025-03-25T00:45:55.906475Z",
     "iopub.status.busy": "2025-03-25T00:45:55.905617Z",
     "iopub.status.idle": "2025-03-25T00:45:55.912359Z",
     "shell.execute_reply": "2025-03-25T00:45:55.911171Z"
    },
    "id": "Enf8wikDaNZh",
    "papermill": {
     "duration": 0.023263,
     "end_time": "2025-03-25T00:45:55.914952",
     "exception": false,
     "start_time": "2025-03-25T00:45:55.891689",
     "status": "completed"
    },
    "tags": []
   },
   "outputs": [],
   "source": [
    "train = scaler_train.fit_transform(train)"
   ]
  },
  {
   "cell_type": "code",
   "execution_count": 25,
   "id": "4ad8da6f",
   "metadata": {
    "execution": {
     "iopub.execute_input": "2025-03-25T00:45:55.947491Z",
     "iopub.status.busy": "2025-03-25T00:45:55.946477Z",
     "iopub.status.idle": "2025-03-25T00:45:55.951401Z",
     "shell.execute_reply": "2025-03-25T00:45:55.950406Z"
    },
    "id": "cg-7tCn_aXTc",
    "papermill": {
     "duration": 0.020667,
     "end_time": "2025-03-25T00:45:55.953406",
     "exception": false,
     "start_time": "2025-03-25T00:45:55.932739",
     "status": "completed"
    },
    "tags": []
   },
   "outputs": [],
   "source": [
    "scaler_test = MinMaxScaler(feature_range = (0,1))"
   ]
  },
  {
   "cell_type": "code",
   "execution_count": 26,
   "id": "dea901f6",
   "metadata": {
    "execution": {
     "iopub.execute_input": "2025-03-25T00:45:55.980383Z",
     "iopub.status.busy": "2025-03-25T00:45:55.979448Z",
     "iopub.status.idle": "2025-03-25T00:45:55.985487Z",
     "shell.execute_reply": "2025-03-25T00:45:55.984507Z"
    },
    "id": "tSbuIifiabbC",
    "papermill": {
     "duration": 0.022483,
     "end_time": "2025-03-25T00:45:55.988241",
     "exception": false,
     "start_time": "2025-03-25T00:45:55.965758",
     "status": "completed"
    },
    "tags": []
   },
   "outputs": [],
   "source": [
    "test = scaler_test.fit_transform(test)"
   ]
  },
  {
   "cell_type": "code",
   "execution_count": 27,
   "id": "3664901f",
   "metadata": {
    "execution": {
     "iopub.execute_input": "2025-03-25T00:45:56.017234Z",
     "iopub.status.busy": "2025-03-25T00:45:56.016581Z",
     "iopub.status.idle": "2025-03-25T00:45:56.024480Z",
     "shell.execute_reply": "2025-03-25T00:45:56.023344Z"
    },
    "id": "X5a7m_BEagaJ",
    "papermill": {
     "duration": 0.024045,
     "end_time": "2025-03-25T00:45:56.026712",
     "exception": false,
     "start_time": "2025-03-25T00:45:56.002667",
     "status": "completed"
    },
    "tags": []
   },
   "outputs": [
    {
     "data": {
      "text/plain": [
       "array([[0.02191224],\n",
       "       [0.02174973],\n",
       "       [0.01668472],\n",
       "       [0.0092091 ],\n",
       "       [0.00083966]], dtype=float32)"
      ]
     },
     "execution_count": 27,
     "metadata": {},
     "output_type": "execute_result"
    }
   ],
   "source": [
    "train[0:5]"
   ]
  },
  {
   "cell_type": "code",
   "execution_count": 28,
   "id": "7cbe2643",
   "metadata": {
    "execution": {
     "iopub.execute_input": "2025-03-25T00:45:56.054872Z",
     "iopub.status.busy": "2025-03-25T00:45:56.053834Z",
     "iopub.status.idle": "2025-03-25T00:45:56.061341Z",
     "shell.execute_reply": "2025-03-25T00:45:56.060389Z"
    },
    "id": "AeVSy_ijahnh",
    "papermill": {
     "duration": 0.023907,
     "end_time": "2025-03-25T00:45:56.063723",
     "exception": false,
     "start_time": "2025-03-25T00:45:56.039816",
     "status": "completed"
    },
    "tags": []
   },
   "outputs": [
    {
     "data": {
      "text/plain": [
       "array([[0.25685903],\n",
       "       [0.24829045],\n",
       "       [0.25511202],\n",
       "       [0.24978784],\n",
       "       [0.2465767 ]], dtype=float32)"
      ]
     },
     "execution_count": 28,
     "metadata": {},
     "output_type": "execute_result"
    }
   ],
   "source": [
    "test[0:5]"
   ]
  },
  {
   "cell_type": "code",
   "execution_count": 29,
   "id": "2857e7bd",
   "metadata": {
    "execution": {
     "iopub.execute_input": "2025-03-25T00:45:56.096729Z",
     "iopub.status.busy": "2025-03-25T00:45:56.095912Z",
     "iopub.status.idle": "2025-03-25T00:45:56.101595Z",
     "shell.execute_reply": "2025-03-25T00:45:56.100540Z"
    },
    "id": "Gv95UqJWasHS",
    "papermill": {
     "duration": 0.02218,
     "end_time": "2025-03-25T00:45:56.104125",
     "exception": false,
     "start_time": "2025-03-25T00:45:56.081945",
     "status": "completed"
    },
    "tags": []
   },
   "outputs": [],
   "source": [
    "def create_features(data, lookback):\n",
    "  X, Y = [], []\n",
    "  for i in range(lookback, len(data)):\n",
    "    X.append(data[i-lookback:i,0])\n",
    "    Y.append(data[i,0])\n",
    "\n",
    "  return np.array(X), np.array(Y)"
   ]
  },
  {
   "cell_type": "code",
   "execution_count": 30,
   "id": "a890e3e3",
   "metadata": {
    "execution": {
     "iopub.execute_input": "2025-03-25T00:45:56.139209Z",
     "iopub.status.busy": "2025-03-25T00:45:56.138061Z",
     "iopub.status.idle": "2025-03-25T00:45:56.143236Z",
     "shell.execute_reply": "2025-03-25T00:45:56.142156Z"
    },
    "id": "e36Ux4_CbASm",
    "papermill": {
     "duration": 0.021807,
     "end_time": "2025-03-25T00:45:56.145572",
     "exception": false,
     "start_time": "2025-03-25T00:45:56.123765",
     "status": "completed"
    },
    "tags": []
   },
   "outputs": [],
   "source": [
    "lookback = 20"
   ]
  },
  {
   "cell_type": "code",
   "execution_count": 31,
   "id": "eaf7e6f3",
   "metadata": {
    "execution": {
     "iopub.execute_input": "2025-03-25T00:45:56.173627Z",
     "iopub.status.busy": "2025-03-25T00:45:56.172532Z",
     "iopub.status.idle": "2025-03-25T00:45:56.181937Z",
     "shell.execute_reply": "2025-03-25T00:45:56.180907Z"
    },
    "id": "Xd8JMdaWbCzp",
    "papermill": {
     "duration": 0.026312,
     "end_time": "2025-03-25T00:45:56.184767",
     "exception": false,
     "start_time": "2025-03-25T00:45:56.158455",
     "status": "completed"
    },
    "tags": []
   },
   "outputs": [],
   "source": [
    "X_train, y_train = create_features(train, lookback)"
   ]
  },
  {
   "cell_type": "code",
   "execution_count": 32,
   "id": "eafd9b55",
   "metadata": {
    "execution": {
     "iopub.execute_input": "2025-03-25T00:45:56.273247Z",
     "iopub.status.busy": "2025-03-25T00:45:56.272029Z",
     "iopub.status.idle": "2025-03-25T00:45:56.278400Z",
     "shell.execute_reply": "2025-03-25T00:45:56.277317Z"
    },
    "id": "wHgq8DT5bF_Z",
    "papermill": {
     "duration": 0.074587,
     "end_time": "2025-03-25T00:45:56.280795",
     "exception": false,
     "start_time": "2025-03-25T00:45:56.206208",
     "status": "completed"
    },
    "tags": []
   },
   "outputs": [],
   "source": [
    "X_test, y_test = create_features(test, lookback)"
   ]
  },
  {
   "cell_type": "code",
   "execution_count": 33,
   "id": "0c72c246",
   "metadata": {
    "execution": {
     "iopub.execute_input": "2025-03-25T00:45:56.308723Z",
     "iopub.status.busy": "2025-03-25T00:45:56.307689Z",
     "iopub.status.idle": "2025-03-25T00:45:56.314291Z",
     "shell.execute_reply": "2025-03-25T00:45:56.313212Z"
    },
    "id": "zYQy_33TbKdb",
    "papermill": {
     "duration": 0.023219,
     "end_time": "2025-03-25T00:45:56.316930",
     "exception": false,
     "start_time": "2025-03-25T00:45:56.293711",
     "status": "completed"
    },
    "tags": []
   },
   "outputs": [
    {
     "name": "stdout",
     "output_type": "stream",
     "text": [
      "(1913, 20) (1913,) (463, 20) (463,)\n"
     ]
    }
   ],
   "source": [
    "print(X_train.shape, y_train.shape, X_test.shape, y_test.shape)"
   ]
  },
  {
   "cell_type": "code",
   "execution_count": 34,
   "id": "0d5af129",
   "metadata": {
    "execution": {
     "iopub.execute_input": "2025-03-25T00:45:56.350323Z",
     "iopub.status.busy": "2025-03-25T00:45:56.349808Z",
     "iopub.status.idle": "2025-03-25T00:45:56.358951Z",
     "shell.execute_reply": "2025-03-25T00:45:56.357895Z"
    },
    "id": "sI1k-K6bTKuw",
    "papermill": {
     "duration": 0.025406,
     "end_time": "2025-03-25T00:45:56.361061",
     "exception": false,
     "start_time": "2025-03-25T00:45:56.335655",
     "status": "completed"
    },
    "tags": []
   },
   "outputs": [
    {
     "data": {
      "text/plain": [
       "array([[0.02191224, 0.02174973, 0.01668472, 0.0092091 , 0.00083966,\n",
       "        0.        , 0.00449621, 0.00433369, 0.0033857 , 0.00633803,\n",
       "        0.01094258, 0.011078  , 0.01310942, 0.0165493 , 0.01218851,\n",
       "        0.01197183, 0.01408451, 0.01486999, 0.01394908, 0.01286566],\n",
       "       [0.02174973, 0.01668472, 0.0092091 , 0.00083966, 0.        ,\n",
       "        0.00449621, 0.00433369, 0.0033857 , 0.00633803, 0.01094258,\n",
       "        0.011078  , 0.01310942, 0.0165493 , 0.01218851, 0.01197183,\n",
       "        0.01408451, 0.01486999, 0.01394908, 0.01286566, 0.01332611],\n",
       "       [0.01668472, 0.0092091 , 0.00083966, 0.        , 0.00449621,\n",
       "        0.00433369, 0.0033857 , 0.00633803, 0.01094258, 0.011078  ,\n",
       "        0.01310942, 0.0165493 , 0.01218851, 0.01197183, 0.01408451,\n",
       "        0.01486999, 0.01394908, 0.01286566, 0.01332611, 0.01232395],\n",
       "       [0.0092091 , 0.00083966, 0.        , 0.00449621, 0.00433369,\n",
       "        0.0033857 , 0.00633803, 0.01094258, 0.011078  , 0.01310942,\n",
       "        0.0165493 , 0.01218851, 0.01197183, 0.01408451, 0.01486999,\n",
       "        0.01394908, 0.01286566, 0.01332611, 0.01232395, 0.01121344],\n",
       "       [0.00083966, 0.        , 0.00449621, 0.00433369, 0.0033857 ,\n",
       "        0.00633803, 0.01094258, 0.011078  , 0.01310942, 0.0165493 ,\n",
       "        0.01218851, 0.01197183, 0.01408451, 0.01486999, 0.01394908,\n",
       "        0.01286566, 0.01332611, 0.01232395, 0.01121344, 0.01386782]],\n",
       "      dtype=float32)"
      ]
     },
     "execution_count": 34,
     "metadata": {},
     "output_type": "execute_result"
    }
   ],
   "source": [
    "X_train[0:5]"
   ]
  },
  {
   "cell_type": "code",
   "execution_count": 35,
   "id": "1ac84a40",
   "metadata": {
    "execution": {
     "iopub.execute_input": "2025-03-25T00:45:56.388429Z",
     "iopub.status.busy": "2025-03-25T00:45:56.388014Z",
     "iopub.status.idle": "2025-03-25T00:45:56.395014Z",
     "shell.execute_reply": "2025-03-25T00:45:56.394059Z"
    },
    "id": "vY5hCVQHTg9u",
    "papermill": {
     "duration": 0.02312,
     "end_time": "2025-03-25T00:45:56.397023",
     "exception": false,
     "start_time": "2025-03-25T00:45:56.373903",
     "status": "completed"
    },
    "tags": []
   },
   "outputs": [
    {
     "data": {
      "text/plain": [
       "array([0.01332611, 0.01232395, 0.01121344, 0.01386782, 0.01665764],\n",
       "      dtype=float32)"
      ]
     },
     "execution_count": 35,
     "metadata": {},
     "output_type": "execute_result"
    }
   ],
   "source": [
    "y_train[0:5]"
   ]
  },
  {
   "cell_type": "code",
   "execution_count": 36,
   "id": "da738a0a",
   "metadata": {
    "execution": {
     "iopub.execute_input": "2025-03-25T00:45:56.425504Z",
     "iopub.status.busy": "2025-03-25T00:45:56.424598Z",
     "iopub.status.idle": "2025-03-25T00:45:56.431065Z",
     "shell.execute_reply": "2025-03-25T00:45:56.430103Z"
    },
    "id": "yvf-4kLybad5",
    "papermill": {
     "duration": 0.022963,
     "end_time": "2025-03-25T00:45:56.433104",
     "exception": false,
     "start_time": "2025-03-25T00:45:56.410141",
     "status": "completed"
    },
    "tags": []
   },
   "outputs": [],
   "source": [
    "X_train = np.reshape(X_train, (X_train.shape[0], 1, X_train.shape[1]))\n",
    "X_test = np.reshape(X_test, (X_test.shape[0], 1, X_test.shape[1]))\n",
    "y_train = y_train.reshape(-1,1)\n",
    "y_test = y_test.reshape(-1,1)"
   ]
  },
  {
   "cell_type": "code",
   "execution_count": 37,
   "id": "974c3332",
   "metadata": {
    "execution": {
     "iopub.execute_input": "2025-03-25T00:45:56.460096Z",
     "iopub.status.busy": "2025-03-25T00:45:56.459728Z",
     "iopub.status.idle": "2025-03-25T00:45:56.465455Z",
     "shell.execute_reply": "2025-03-25T00:45:56.464453Z"
    },
    "id": "D2ltv0Edb3wz",
    "papermill": {
     "duration": 0.022081,
     "end_time": "2025-03-25T00:45:56.467860",
     "exception": false,
     "start_time": "2025-03-25T00:45:56.445779",
     "status": "completed"
    },
    "tags": []
   },
   "outputs": [
    {
     "name": "stdout",
     "output_type": "stream",
     "text": [
      "(1913, 1, 20) (1913, 1) (463, 1, 20) (463, 1)\n"
     ]
    }
   ],
   "source": [
    "print(X_train.shape, y_train.shape, X_test.shape, y_test.shape)"
   ]
  },
  {
   "cell_type": "markdown",
   "id": "4f9abbe4",
   "metadata": {
    "id": "DtsN3xazcIAn",
    "papermill": {
     "duration": 0.012728,
     "end_time": "2025-03-25T00:45:56.500959",
     "exception": false,
     "start_time": "2025-03-25T00:45:56.488231",
     "status": "completed"
    },
    "tags": []
   },
   "source": [
    "## Modelling"
   ]
  },
  {
   "cell_type": "code",
   "execution_count": 38,
   "id": "fb55b2e3",
   "metadata": {
    "execution": {
     "iopub.execute_input": "2025-03-25T00:45:56.528189Z",
     "iopub.status.busy": "2025-03-25T00:45:56.527800Z",
     "iopub.status.idle": "2025-03-25T00:45:56.634586Z",
     "shell.execute_reply": "2025-03-25T00:45:56.633554Z"
    },
    "id": "QtbQx4G9cI_z",
    "papermill": {
     "duration": 0.123536,
     "end_time": "2025-03-25T00:45:56.637378",
     "exception": false,
     "start_time": "2025-03-25T00:45:56.513842",
     "status": "completed"
    },
    "tags": []
   },
   "outputs": [],
   "source": [
    "model = Sequential()\n",
    "\n",
    "model.add(LSTM(units = 50,\n",
    "                    activation = 'relu',\n",
    "                    input_shape=(X_train.shape[1], lookback)))\n",
    "\n",
    "model.add(Dropout(0.2))\n",
    "\n",
    "model.add(Dense(1))\n"
   ]
  },
  {
   "cell_type": "code",
   "execution_count": 39,
   "id": "32f6ba7d",
   "metadata": {
    "execution": {
     "iopub.execute_input": "2025-03-25T00:45:56.672708Z",
     "iopub.status.busy": "2025-03-25T00:45:56.671728Z",
     "iopub.status.idle": "2025-03-25T00:45:56.689475Z",
     "shell.execute_reply": "2025-03-25T00:45:56.688498Z"
    },
    "id": "RQFXIkDbciE6",
    "papermill": {
     "duration": 0.034799,
     "end_time": "2025-03-25T00:45:56.692179",
     "exception": false,
     "start_time": "2025-03-25T00:45:56.657380",
     "status": "completed"
    },
    "tags": []
   },
   "outputs": [
    {
     "data": {
      "text/html": [
       "<pre style=\"white-space:pre;overflow-x:auto;line-height:normal;font-family:Menlo,'DejaVu Sans Mono',consolas,'Courier New',monospace\"><span style=\"font-weight: bold\">Model: \"sequential\"</span>\n",
       "</pre>\n"
      ],
      "text/plain": [
       "\u001b[1mModel: \"sequential\"\u001b[0m\n"
      ]
     },
     "metadata": {},
     "output_type": "display_data"
    },
    {
     "data": {
      "text/html": [
       "<pre style=\"white-space:pre;overflow-x:auto;line-height:normal;font-family:Menlo,'DejaVu Sans Mono',consolas,'Courier New',monospace\">┏━━━━━━━━━━━━━━━━━━━━━━━━━━━━━━━━━┳━━━━━━━━━━━━━━━━━━━━━━━━┳━━━━━━━━━━━━━━━┓\n",
       "┃<span style=\"font-weight: bold\"> Layer (type)                    </span>┃<span style=\"font-weight: bold\"> Output Shape           </span>┃<span style=\"font-weight: bold\">       Param # </span>┃\n",
       "┡━━━━━━━━━━━━━━━━━━━━━━━━━━━━━━━━━╇━━━━━━━━━━━━━━━━━━━━━━━━╇━━━━━━━━━━━━━━━┩\n",
       "│ lstm (<span style=\"color: #0087ff; text-decoration-color: #0087ff\">LSTM</span>)                     │ (<span style=\"color: #00d7ff; text-decoration-color: #00d7ff\">None</span>, <span style=\"color: #00af00; text-decoration-color: #00af00\">50</span>)             │        <span style=\"color: #00af00; text-decoration-color: #00af00\">14,200</span> │\n",
       "├─────────────────────────────────┼────────────────────────┼───────────────┤\n",
       "│ dropout (<span style=\"color: #0087ff; text-decoration-color: #0087ff\">Dropout</span>)               │ (<span style=\"color: #00d7ff; text-decoration-color: #00d7ff\">None</span>, <span style=\"color: #00af00; text-decoration-color: #00af00\">50</span>)             │             <span style=\"color: #00af00; text-decoration-color: #00af00\">0</span> │\n",
       "├─────────────────────────────────┼────────────────────────┼───────────────┤\n",
       "│ dense (<span style=\"color: #0087ff; text-decoration-color: #0087ff\">Dense</span>)                   │ (<span style=\"color: #00d7ff; text-decoration-color: #00d7ff\">None</span>, <span style=\"color: #00af00; text-decoration-color: #00af00\">1</span>)              │            <span style=\"color: #00af00; text-decoration-color: #00af00\">51</span> │\n",
       "└─────────────────────────────────┴────────────────────────┴───────────────┘\n",
       "</pre>\n"
      ],
      "text/plain": [
       "┏━━━━━━━━━━━━━━━━━━━━━━━━━━━━━━━━━┳━━━━━━━━━━━━━━━━━━━━━━━━┳━━━━━━━━━━━━━━━┓\n",
       "┃\u001b[1m \u001b[0m\u001b[1mLayer (type)                   \u001b[0m\u001b[1m \u001b[0m┃\u001b[1m \u001b[0m\u001b[1mOutput Shape          \u001b[0m\u001b[1m \u001b[0m┃\u001b[1m \u001b[0m\u001b[1m      Param #\u001b[0m\u001b[1m \u001b[0m┃\n",
       "┡━━━━━━━━━━━━━━━━━━━━━━━━━━━━━━━━━╇━━━━━━━━━━━━━━━━━━━━━━━━╇━━━━━━━━━━━━━━━┩\n",
       "│ lstm (\u001b[38;5;33mLSTM\u001b[0m)                     │ (\u001b[38;5;45mNone\u001b[0m, \u001b[38;5;34m50\u001b[0m)             │        \u001b[38;5;34m14,200\u001b[0m │\n",
       "├─────────────────────────────────┼────────────────────────┼───────────────┤\n",
       "│ dropout (\u001b[38;5;33mDropout\u001b[0m)               │ (\u001b[38;5;45mNone\u001b[0m, \u001b[38;5;34m50\u001b[0m)             │             \u001b[38;5;34m0\u001b[0m │\n",
       "├─────────────────────────────────┼────────────────────────┼───────────────┤\n",
       "│ dense (\u001b[38;5;33mDense\u001b[0m)                   │ (\u001b[38;5;45mNone\u001b[0m, \u001b[38;5;34m1\u001b[0m)              │            \u001b[38;5;34m51\u001b[0m │\n",
       "└─────────────────────────────────┴────────────────────────┴───────────────┘\n"
      ]
     },
     "metadata": {},
     "output_type": "display_data"
    },
    {
     "data": {
      "text/html": [
       "<pre style=\"white-space:pre;overflow-x:auto;line-height:normal;font-family:Menlo,'DejaVu Sans Mono',consolas,'Courier New',monospace\"><span style=\"font-weight: bold\"> Total params: </span><span style=\"color: #00af00; text-decoration-color: #00af00\">14,251</span> (55.67 KB)\n",
       "</pre>\n"
      ],
      "text/plain": [
       "\u001b[1m Total params: \u001b[0m\u001b[38;5;34m14,251\u001b[0m (55.67 KB)\n"
      ]
     },
     "metadata": {},
     "output_type": "display_data"
    },
    {
     "data": {
      "text/html": [
       "<pre style=\"white-space:pre;overflow-x:auto;line-height:normal;font-family:Menlo,'DejaVu Sans Mono',consolas,'Courier New',monospace\"><span style=\"font-weight: bold\"> Trainable params: </span><span style=\"color: #00af00; text-decoration-color: #00af00\">14,251</span> (55.67 KB)\n",
       "</pre>\n"
      ],
      "text/plain": [
       "\u001b[1m Trainable params: \u001b[0m\u001b[38;5;34m14,251\u001b[0m (55.67 KB)\n"
      ]
     },
     "metadata": {},
     "output_type": "display_data"
    },
    {
     "data": {
      "text/html": [
       "<pre style=\"white-space:pre;overflow-x:auto;line-height:normal;font-family:Menlo,'DejaVu Sans Mono',consolas,'Courier New',monospace\"><span style=\"font-weight: bold\"> Non-trainable params: </span><span style=\"color: #00af00; text-decoration-color: #00af00\">0</span> (0.00 B)\n",
       "</pre>\n"
      ],
      "text/plain": [
       "\u001b[1m Non-trainable params: \u001b[0m\u001b[38;5;34m0\u001b[0m (0.00 B)\n"
      ]
     },
     "metadata": {},
     "output_type": "display_data"
    }
   ],
   "source": [
    "model.summary()"
   ]
  },
  {
   "cell_type": "code",
   "execution_count": 40,
   "id": "c851ef44",
   "metadata": {
    "execution": {
     "iopub.execute_input": "2025-03-25T00:45:56.730246Z",
     "iopub.status.busy": "2025-03-25T00:45:56.729372Z",
     "iopub.status.idle": "2025-03-25T00:45:56.747142Z",
     "shell.execute_reply": "2025-03-25T00:45:56.746192Z"
    },
    "id": "NE6_O7IwclkT",
    "papermill": {
     "duration": 0.034809,
     "end_time": "2025-03-25T00:45:56.749330",
     "exception": false,
     "start_time": "2025-03-25T00:45:56.714521",
     "status": "completed"
    },
    "tags": []
   },
   "outputs": [],
   "source": [
    "model.compile(loss='mean_squared_error', optimizer='adam')"
   ]
  },
  {
   "cell_type": "code",
   "execution_count": 41,
   "id": "f5a446e9",
   "metadata": {
    "execution": {
     "iopub.execute_input": "2025-03-25T00:45:56.778040Z",
     "iopub.status.busy": "2025-03-25T00:45:56.777649Z",
     "iopub.status.idle": "2025-03-25T00:45:56.782864Z",
     "shell.execute_reply": "2025-03-25T00:45:56.781892Z"
    },
    "id": "JLqjYZudc3Is",
    "papermill": {
     "duration": 0.022172,
     "end_time": "2025-03-25T00:45:56.784946",
     "exception": false,
     "start_time": "2025-03-25T00:45:56.762774",
     "status": "completed"
    },
    "tags": []
   },
   "outputs": [],
   "source": [
    "callbacks = (EarlyStopping(monitor='val_loss', patience=10, verbose=1, mode='min'),\n",
    "            ModelCheckpoint(filepath='mymodel.keras', monitor='val_loss', mode='min',\n",
    "            save_best_only = True, save_weights_only = False, verbose = 1))"
   ]
  },
  {
   "cell_type": "code",
   "execution_count": 42,
   "id": "9fe1b10a",
   "metadata": {
    "execution": {
     "iopub.execute_input": "2025-03-25T00:45:56.813521Z",
     "iopub.status.busy": "2025-03-25T00:45:56.812763Z",
     "iopub.status.idle": "2025-03-25T00:46:03.169529Z",
     "shell.execute_reply": "2025-03-25T00:46:03.168504Z"
    },
    "id": "7Pv-Fb9FdSf7",
    "papermill": {
     "duration": 6.373395,
     "end_time": "2025-03-25T00:46:03.171776",
     "exception": false,
     "start_time": "2025-03-25T00:45:56.798381",
     "status": "completed"
    },
    "tags": []
   },
   "outputs": [
    {
     "name": "stdout",
     "output_type": "stream",
     "text": [
      "Epoch 1/100\n",
      "\u001b[1m96/96\u001b[0m \u001b[32m━━━━━━━━━━━━━━━━━━━━\u001b[0m\u001b[37m\u001b[0m \u001b[1m0s\u001b[0m 2ms/step - loss: 0.0027\n",
      "Epoch 1: val_loss improved from inf to 0.00400, saving model to mymodel.keras\n",
      "\u001b[1m96/96\u001b[0m \u001b[32m━━━━━━━━━━━━━━━━━━━━\u001b[0m\u001b[37m\u001b[0m \u001b[1m2s\u001b[0m 5ms/step - loss: 0.0027 - val_loss: 0.0040\n",
      "Epoch 2/100\n",
      "\u001b[1m95/96\u001b[0m \u001b[32m━━━━━━━━━━━━━━━━━━━\u001b[0m\u001b[37m━\u001b[0m \u001b[1m0s\u001b[0m 2ms/step - loss: 0.0036\n",
      "Epoch 2: val_loss improved from 0.00400 to 0.00337, saving model to mymodel.keras\n",
      "\u001b[1m96/96\u001b[0m \u001b[32m━━━━━━━━━━━━━━━━━━━━\u001b[0m\u001b[37m\u001b[0m \u001b[1m0s\u001b[0m 2ms/step - loss: 0.0036 - val_loss: 0.0034\n",
      "Epoch 3/100\n",
      "\u001b[1m65/96\u001b[0m \u001b[32m━━━━━━━━━━━━━\u001b[0m\u001b[37m━━━━━━━\u001b[0m \u001b[1m0s\u001b[0m 2ms/step - loss: 0.0019\n",
      "Epoch 3: val_loss improved from 0.00337 to 0.00275, saving model to mymodel.keras\n",
      "\u001b[1m96/96\u001b[0m \u001b[32m━━━━━━━━━━━━━━━━━━━━\u001b[0m\u001b[37m\u001b[0m \u001b[1m0s\u001b[0m 2ms/step - loss: 0.0025 - val_loss: 0.0028\n",
      "Epoch 4/100\n",
      "\u001b[1m66/96\u001b[0m \u001b[32m━━━━━━━━━━━━━\u001b[0m\u001b[37m━━━━━━━\u001b[0m \u001b[1m0s\u001b[0m 2ms/step - loss: 0.0012    \n",
      "Epoch 4: val_loss did not improve from 0.00275\n",
      "\u001b[1m96/96\u001b[0m \u001b[32m━━━━━━━━━━━━━━━━━━━━\u001b[0m\u001b[37m\u001b[0m \u001b[1m0s\u001b[0m 2ms/step - loss: 0.0018 - val_loss: 0.0029\n",
      "Epoch 5/100\n",
      "\u001b[1m65/96\u001b[0m \u001b[32m━━━━━━━━━━━━━\u001b[0m\u001b[37m━━━━━━━\u001b[0m \u001b[1m0s\u001b[0m 2ms/step - loss: 0.0012    \n",
      "Epoch 5: val_loss improved from 0.00275 to 0.00275, saving model to mymodel.keras\n",
      "\u001b[1m96/96\u001b[0m \u001b[32m━━━━━━━━━━━━━━━━━━━━\u001b[0m\u001b[37m\u001b[0m \u001b[1m0s\u001b[0m 2ms/step - loss: 0.0019 - val_loss: 0.0027\n",
      "Epoch 6/100\n",
      "\u001b[1m66/96\u001b[0m \u001b[32m━━━━━━━━━━━━━\u001b[0m\u001b[37m━━━━━━━\u001b[0m \u001b[1m0s\u001b[0m 2ms/step - loss: 0.0011    \n",
      "Epoch 6: val_loss improved from 0.00275 to 0.00227, saving model to mymodel.keras\n",
      "\u001b[1m96/96\u001b[0m \u001b[32m━━━━━━━━━━━━━━━━━━━━\u001b[0m\u001b[37m\u001b[0m \u001b[1m0s\u001b[0m 2ms/step - loss: 0.0016 - val_loss: 0.0023\n",
      "Epoch 7/100\n",
      "\u001b[1m65/96\u001b[0m \u001b[32m━━━━━━━━━━━━━\u001b[0m\u001b[37m━━━━━━━\u001b[0m \u001b[1m0s\u001b[0m 2ms/step - loss: 6.7748e-04\n",
      "Epoch 7: val_loss did not improve from 0.00227\n",
      "\u001b[1m96/96\u001b[0m \u001b[32m━━━━━━━━━━━━━━━━━━━━\u001b[0m\u001b[37m\u001b[0m \u001b[1m0s\u001b[0m 2ms/step - loss: 0.0013 - val_loss: 0.0023\n",
      "Epoch 8/100\n",
      "\u001b[1m66/96\u001b[0m \u001b[32m━━━━━━━━━━━━━\u001b[0m\u001b[37m━━━━━━━\u001b[0m \u001b[1m0s\u001b[0m 2ms/step - loss: 8.4562e-04\n",
      "Epoch 8: val_loss did not improve from 0.00227\n",
      "\u001b[1m96/96\u001b[0m \u001b[32m━━━━━━━━━━━━━━━━━━━━\u001b[0m\u001b[37m\u001b[0m \u001b[1m0s\u001b[0m 2ms/step - loss: 0.0014 - val_loss: 0.0024\n",
      "Epoch 9/100\n",
      "\u001b[1m66/96\u001b[0m \u001b[32m━━━━━━━━━━━━━\u001b[0m\u001b[37m━━━━━━━\u001b[0m \u001b[1m0s\u001b[0m 2ms/step - loss: 8.6613e-04\n",
      "Epoch 9: val_loss improved from 0.00227 to 0.00205, saving model to mymodel.keras\n",
      "\u001b[1m96/96\u001b[0m \u001b[32m━━━━━━━━━━━━━━━━━━━━\u001b[0m\u001b[37m\u001b[0m \u001b[1m0s\u001b[0m 2ms/step - loss: 0.0014 - val_loss: 0.0021\n",
      "Epoch 10/100\n",
      "\u001b[1m96/96\u001b[0m \u001b[32m━━━━━━━━━━━━━━━━━━━━\u001b[0m\u001b[37m\u001b[0m \u001b[1m0s\u001b[0m 2ms/step - loss: 0.0012    \n",
      "Epoch 10: val_loss did not improve from 0.00205\n",
      "\u001b[1m96/96\u001b[0m \u001b[32m━━━━━━━━━━━━━━━━━━━━\u001b[0m\u001b[37m\u001b[0m \u001b[1m0s\u001b[0m 2ms/step - loss: 0.0013 - val_loss: 0.0024\n",
      "Epoch 11/100\n",
      "\u001b[1m92/96\u001b[0m \u001b[32m━━━━━━━━━━━━━━━━━━━\u001b[0m\u001b[37m━\u001b[0m \u001b[1m0s\u001b[0m 2ms/step - loss: 0.0013    \n",
      "Epoch 11: val_loss did not improve from 0.00205\n",
      "\u001b[1m96/96\u001b[0m \u001b[32m━━━━━━━━━━━━━━━━━━━━\u001b[0m\u001b[37m\u001b[0m \u001b[1m0s\u001b[0m 2ms/step - loss: 0.0014 - val_loss: 0.0027\n",
      "Epoch 12/100\n",
      "\u001b[1m94/96\u001b[0m \u001b[32m━━━━━━━━━━━━━━━━━━━\u001b[0m\u001b[37m━\u001b[0m \u001b[1m0s\u001b[0m 2ms/step - loss: 0.0015    \n",
      "Epoch 12: val_loss did not improve from 0.00205\n",
      "\u001b[1m96/96\u001b[0m \u001b[32m━━━━━━━━━━━━━━━━━━━━\u001b[0m\u001b[37m\u001b[0m \u001b[1m0s\u001b[0m 2ms/step - loss: 0.0016 - val_loss: 0.0046\n",
      "Epoch 13/100\n",
      "\u001b[1m64/96\u001b[0m \u001b[32m━━━━━━━━━━━━━\u001b[0m\u001b[37m━━━━━━━\u001b[0m \u001b[1m0s\u001b[0m 2ms/step - loss: 0.0014\n",
      "Epoch 13: val_loss did not improve from 0.00205\n",
      "\u001b[1m96/96\u001b[0m \u001b[32m━━━━━━━━━━━━━━━━━━━━\u001b[0m\u001b[37m\u001b[0m \u001b[1m0s\u001b[0m 2ms/step - loss: 0.0020 - val_loss: 0.0065\n",
      "Epoch 14/100\n",
      "\u001b[1m65/96\u001b[0m \u001b[32m━━━━━━━━━━━━━\u001b[0m\u001b[37m━━━━━━━\u001b[0m \u001b[1m0s\u001b[0m 2ms/step - loss: 0.0015\n",
      "Epoch 14: val_loss did not improve from 0.00205\n",
      "\u001b[1m96/96\u001b[0m \u001b[32m━━━━━━━━━━━━━━━━━━━━\u001b[0m\u001b[37m\u001b[0m \u001b[1m0s\u001b[0m 2ms/step - loss: 0.0020 - val_loss: 0.0043\n",
      "Epoch 15/100\n",
      "\u001b[1m66/96\u001b[0m \u001b[32m━━━━━━━━━━━━━\u001b[0m\u001b[37m━━━━━━━\u001b[0m \u001b[1m0s\u001b[0m 2ms/step - loss: 9.8286e-04\n",
      "Epoch 15: val_loss did not improve from 0.00205\n",
      "\u001b[1m96/96\u001b[0m \u001b[32m━━━━━━━━━━━━━━━━━━━━\u001b[0m\u001b[37m\u001b[0m \u001b[1m0s\u001b[0m 2ms/step - loss: 0.0015 - val_loss: 0.0045\n",
      "Epoch 16/100\n",
      "\u001b[1m67/96\u001b[0m \u001b[32m━━━━━━━━━━━━━\u001b[0m\u001b[37m━━━━━━━\u001b[0m \u001b[1m0s\u001b[0m 2ms/step - loss: 9.9722e-04\n",
      "Epoch 16: val_loss did not improve from 0.00205\n",
      "\u001b[1m96/96\u001b[0m \u001b[32m━━━━━━━━━━━━━━━━━━━━\u001b[0m\u001b[37m\u001b[0m \u001b[1m0s\u001b[0m 2ms/step - loss: 0.0016 - val_loss: 0.0039\n",
      "Epoch 17/100\n",
      "\u001b[1m66/96\u001b[0m \u001b[32m━━━━━━━━━━━━━\u001b[0m\u001b[37m━━━━━━━\u001b[0m \u001b[1m0s\u001b[0m 2ms/step - loss: 9.4800e-04\n",
      "Epoch 17: val_loss did not improve from 0.00205\n",
      "\u001b[1m96/96\u001b[0m \u001b[32m━━━━━━━━━━━━━━━━━━━━\u001b[0m\u001b[37m\u001b[0m \u001b[1m0s\u001b[0m 2ms/step - loss: 0.0016 - val_loss: 0.0075\n",
      "Epoch 18/100\n",
      "\u001b[1m65/96\u001b[0m \u001b[32m━━━━━━━━━━━━━\u001b[0m\u001b[37m━━━━━━━\u001b[0m \u001b[1m0s\u001b[0m 2ms/step - loss: 0.0013\n",
      "Epoch 18: val_loss did not improve from 0.00205\n",
      "\u001b[1m96/96\u001b[0m \u001b[32m━━━━━━━━━━━━━━━━━━━━\u001b[0m\u001b[37m\u001b[0m \u001b[1m0s\u001b[0m 2ms/step - loss: 0.0019 - val_loss: 0.0084\n",
      "Epoch 19/100\n",
      "\u001b[1m66/96\u001b[0m \u001b[32m━━━━━━━━━━━━━\u001b[0m\u001b[37m━━━━━━━\u001b[0m \u001b[1m0s\u001b[0m 2ms/step - loss: 0.0013\n",
      "Epoch 19: val_loss did not improve from 0.00205\n",
      "\u001b[1m96/96\u001b[0m \u001b[32m━━━━━━━━━━━━━━━━━━━━\u001b[0m\u001b[37m\u001b[0m \u001b[1m0s\u001b[0m 2ms/step - loss: 0.0020 - val_loss: 0.0112\n",
      "Epoch 19: early stopping\n"
     ]
    }
   ],
   "source": [
    "history = model.fit(x=X_train,\n",
    "                    y=y_train,\n",
    "                    epochs=100,\n",
    "                    batch_size=20,\n",
    "                    validation_data=(X_test, y_test),\n",
    "                    callbacks=[callbacks],\n",
    "                    shuffle=False)"
   ]
  },
  {
   "cell_type": "code",
   "execution_count": 43,
   "id": "23759bb1",
   "metadata": {
    "execution": {
     "iopub.execute_input": "2025-03-25T00:46:03.213215Z",
     "iopub.status.busy": "2025-03-25T00:46:03.212525Z",
     "iopub.status.idle": "2025-03-25T00:46:03.474906Z",
     "shell.execute_reply": "2025-03-25T00:46:03.473938Z"
    },
    "id": "VzxR8n1yeGpV",
    "papermill": {
     "duration": 0.28476,
     "end_time": "2025-03-25T00:46:03.476905",
     "exception": false,
     "start_time": "2025-03-25T00:46:03.192145",
     "status": "completed"
    },
    "tags": []
   },
   "outputs": [
    {
     "data": {
      "image/png": "[encoded data removed]",
      "text/plain": [
       "<Figure size 2000x500 with 1 Axes>"
      ]
     },
     "metadata": {},
     "output_type": "display_data"
    }
   ],
   "source": [
    "plt.figure(figsize=(20,5))\n",
    "plt.subplot(1,2,1)\n",
    "plt.plot(history.history['loss'], label='Training Loss')\n",
    "plt.plot(history.history['val_loss'], label='Validation Loss')\n",
    "plt.legend(loc='upper right')\n",
    "plt.xlabel('Epoch', fontsize = 16)\n",
    "plt.ylabel('Loss', fontsize = 16)\n",
    "plt.ylim([0,max(plt.ylim())])\n",
    "plt.title('Training and Validation Loss', fontsize = 16)\n",
    "plt.show()"
   ]
  },
  {
   "cell_type": "markdown",
   "id": "2f62bb88",
   "metadata": {
    "id": "XO0NGWQWerLU",
    "papermill": {
     "duration": 0.019852,
     "end_time": "2025-03-25T00:46:03.516888",
     "exception": false,
     "start_time": "2025-03-25T00:46:03.497036",
     "status": "completed"
    },
    "tags": []
   },
   "source": [
    "## Evaluation"
   ]
  },
  {
   "cell_type": "code",
   "execution_count": 44,
   "id": "17891cc1",
   "metadata": {
    "execution": {
     "iopub.execute_input": "2025-03-25T00:46:03.559213Z",
     "iopub.status.busy": "2025-03-25T00:46:03.558306Z",
     "iopub.status.idle": "2025-03-25T00:46:04.059083Z",
     "shell.execute_reply": "2025-03-25T00:46:04.058130Z"
    },
    "id": "hyeoNUjxetH-",
    "papermill": {
     "duration": 0.523921,
     "end_time": "2025-03-25T00:46:04.061053",
     "exception": false,
     "start_time": "2025-03-25T00:46:03.537132",
     "status": "completed"
    },
    "tags": []
   },
   "outputs": [
    {
     "name": "stdout",
     "output_type": "stream",
     "text": [
      "\u001b[1m463/463\u001b[0m \u001b[32m━━━━━━━━━━━━━━━━━━━━\u001b[0m\u001b[37m\u001b[0m \u001b[1m0s\u001b[0m 936us/step - loss: 0.0130\n",
      "\n",
      "Test Loss: 1.1%\n"
     ]
    }
   ],
   "source": [
    "loss = model.evaluate(X_test, y_test, batch_size=1)\n",
    "print(\"\\nTest Loss: %.1f%%\" % (100.0 * loss))"
   ]
  },
  {
   "cell_type": "code",
   "execution_count": 45,
   "id": "96b15348",
   "metadata": {
    "execution": {
     "iopub.execute_input": "2025-03-25T00:46:04.104221Z",
     "iopub.status.busy": "2025-03-25T00:46:04.103863Z",
     "iopub.status.idle": "2025-03-25T00:46:04.548716Z",
     "shell.execute_reply": "2025-03-25T00:46:04.547664Z"
    },
    "id": "9e854j_NfFTV",
    "papermill": {
     "duration": 0.469073,
     "end_time": "2025-03-25T00:46:04.551139",
     "exception": false,
     "start_time": "2025-03-25T00:46:04.082066",
     "status": "completed"
    },
    "tags": []
   },
   "outputs": [
    {
     "name": "stdout",
     "output_type": "stream",
     "text": [
      "\u001b[1m60/60\u001b[0m \u001b[32m━━━━━━━━━━━━━━━━━━━━\u001b[0m\u001b[37m\u001b[0m \u001b[1m0s\u001b[0m 4ms/step\n"
     ]
    }
   ],
   "source": [
    "train_predict = model.predict(X_train)"
   ]
  },
  {
   "cell_type": "code",
   "execution_count": 46,
   "id": "e7d555d2",
   "metadata": {
    "execution": {
     "iopub.execute_input": "2025-03-25T00:46:04.595788Z",
     "iopub.status.busy": "2025-03-25T00:46:04.595424Z",
     "iopub.status.idle": "2025-03-25T00:46:04.692212Z",
     "shell.execute_reply": "2025-03-25T00:46:04.691410Z"
    },
    "id": "GZgJuMd-fqZW",
    "papermill": {
     "duration": 0.121638,
     "end_time": "2025-03-25T00:46:04.694434",
     "exception": false,
     "start_time": "2025-03-25T00:46:04.572796",
     "status": "completed"
    },
    "tags": []
   },
   "outputs": [
    {
     "name": "stdout",
     "output_type": "stream",
     "text": [
      "\u001b[1m15/15\u001b[0m \u001b[32m━━━━━━━━━━━━━━━━━━━━\u001b[0m\u001b[37m\u001b[0m \u001b[1m0s\u001b[0m 1ms/step \n"
     ]
    }
   ],
   "source": [
    "test_predict = model.predict(X_test)"
   ]
  },
  {
   "cell_type": "code",
   "execution_count": 47,
   "id": "dfffb2e8",
   "metadata": {
    "execution": {
     "iopub.execute_input": "2025-03-25T00:46:04.739732Z",
     "iopub.status.busy": "2025-03-25T00:46:04.738799Z",
     "iopub.status.idle": "2025-03-25T00:46:04.744051Z",
     "shell.execute_reply": "2025-03-25T00:46:04.743119Z"
    },
    "id": "FcH_8U3tfsGm",
    "papermill": {
     "duration": 0.029711,
     "end_time": "2025-03-25T00:46:04.746013",
     "exception": false,
     "start_time": "2025-03-25T00:46:04.716302",
     "status": "completed"
    },
    "tags": []
   },
   "outputs": [],
   "source": [
    "train_predict = scaler_train.inverse_transform(train_predict)\n",
    "test_predict = scaler_test.inverse_transform(test_predict)"
   ]
  },
  {
   "cell_type": "code",
   "execution_count": 48,
   "id": "8c30262f",
   "metadata": {
    "execution": {
     "iopub.execute_input": "2025-03-25T00:46:04.789497Z",
     "iopub.status.busy": "2025-03-25T00:46:04.788980Z",
     "iopub.status.idle": "2025-03-25T00:46:04.794485Z",
     "shell.execute_reply": "2025-03-25T00:46:04.793560Z"
    },
    "id": "DsGDu-NKf912",
    "papermill": {
     "duration": 0.029522,
     "end_time": "2025-03-25T00:46:04.796447",
     "exception": false,
     "start_time": "2025-03-25T00:46:04.766925",
     "status": "completed"
    },
    "tags": []
   },
   "outputs": [],
   "source": [
    "y_train = scaler_train.inverse_transform(y_train)\n",
    "y_test = scaler_test.inverse_transform(y_test)"
   ]
  },
  {
   "cell_type": "code",
   "execution_count": 49,
   "id": "5c05b857",
   "metadata": {
    "execution": {
     "iopub.execute_input": "2025-03-25T00:46:04.840385Z",
     "iopub.status.busy": "2025-03-25T00:46:04.839608Z",
     "iopub.status.idle": "2025-03-25T00:46:04.844934Z",
     "shell.execute_reply": "2025-03-25T00:46:04.843970Z"
    },
    "id": "ZLXqwAU7gGW2",
    "papermill": {
     "duration": 0.029259,
     "end_time": "2025-03-25T00:46:04.846812",
     "exception": false,
     "start_time": "2025-03-25T00:46:04.817553",
     "status": "completed"
    },
    "tags": []
   },
   "outputs": [],
   "source": [
    "train_rmse = np.sqrt(mean_squared_error(y_train, train_predict))"
   ]
  },
  {
   "cell_type": "code",
   "execution_count": 50,
   "id": "2ce01d1f",
   "metadata": {
    "execution": {
     "iopub.execute_input": "2025-03-25T00:46:04.890884Z",
     "iopub.status.busy": "2025-03-25T00:46:04.890003Z",
     "iopub.status.idle": "2025-03-25T00:46:04.895178Z",
     "shell.execute_reply": "2025-03-25T00:46:04.894243Z"
    },
    "id": "76WbnJaIgJ4g",
    "papermill": {
     "duration": 0.029122,
     "end_time": "2025-03-25T00:46:04.897045",
     "exception": false,
     "start_time": "2025-03-25T00:46:04.867923",
     "status": "completed"
    },
    "tags": []
   },
   "outputs": [],
   "source": [
    "test_rmse = np.sqrt(mean_squared_error(y_test, test_predict))"
   ]
  },
  {
   "cell_type": "code",
   "execution_count": 51,
   "id": "2b2ad8ab",
   "metadata": {
    "execution": {
     "iopub.execute_input": "2025-03-25T00:46:04.940787Z",
     "iopub.status.busy": "2025-03-25T00:46:04.939928Z",
     "iopub.status.idle": "2025-03-25T00:46:04.945214Z",
     "shell.execute_reply": "2025-03-25T00:46:04.944302Z"
    },
    "id": "WcUBQBz7gMV2",
    "papermill": {
     "duration": 0.029221,
     "end_time": "2025-03-25T00:46:04.947249",
     "exception": false,
     "start_time": "2025-03-25T00:46:04.918028",
     "status": "completed"
    },
    "tags": []
   },
   "outputs": [
    {
     "name": "stdout",
     "output_type": "stream",
     "text": [
      "Train RMSE: 38.43584442138672\n",
      "Test RMSE: 63.57950210571289\n"
     ]
    }
   ],
   "source": [
    "print(f\"Train RMSE: {train_rmse}\")\n",
    "print(f\"Test RMSE: {test_rmse}\")"
   ]
  },
  {
   "cell_type": "code",
   "execution_count": 52,
   "id": "e4dd1992",
   "metadata": {
    "execution": {
     "iopub.execute_input": "2025-03-25T00:46:04.991637Z",
     "iopub.status.busy": "2025-03-25T00:46:04.990631Z",
     "iopub.status.idle": "2025-03-25T00:46:05.018881Z",
     "shell.execute_reply": "2025-03-25T00:46:05.017895Z"
    },
    "id": "t_llof9mgYz_",
    "papermill": {
     "duration": 0.05263,
     "end_time": "2025-03-25T00:46:05.020942",
     "exception": false,
     "start_time": "2025-03-25T00:46:04.968312",
     "status": "completed"
    },
    "tags": []
   },
   "outputs": [
    {
     "data": {
      "text/html": [
       "<div>\n",
       "<style scoped>\n",
       "    .dataframe tbody tr th:only-of-type {\n",
       "        vertical-align: middle;\n",
       "    }\n",
       "\n",
       "    .dataframe tbody tr th {\n",
       "        vertical-align: top;\n",
       "    }\n",
       "\n",
       "    .dataframe thead th {\n",
       "        text-align: right;\n",
       "    }\n",
       "</style>\n",
       "<table border=\"1\" class=\"dataframe\">\n",
       "  <thead>\n",
       "    <tr style=\"text-align: right;\">\n",
       "      <th></th>\n",
       "      <th>count</th>\n",
       "      <th>mean</th>\n",
       "      <th>min</th>\n",
       "      <th>25%</th>\n",
       "      <th>50%</th>\n",
       "      <th>75%</th>\n",
       "      <th>max</th>\n",
       "      <th>std</th>\n",
       "    </tr>\n",
       "  </thead>\n",
       "  <tbody>\n",
       "    <tr>\n",
       "      <th>Date</th>\n",
       "      <td>2416</td>\n",
       "      <td>2015-04-15 11:09:56.026490112</td>\n",
       "      <td>2010-06-29 00:00:00</td>\n",
       "      <td>2012-11-19 18:00:00</td>\n",
       "      <td>2015-04-16 12:00:00</td>\n",
       "      <td>2017-09-07 06:00:00</td>\n",
       "      <td>2020-02-03 00:00:00</td>\n",
       "      <td>NaN</td>\n",
       "    </tr>\n",
       "    <tr>\n",
       "      <th>Open</th>\n",
       "      <td>2416.0</td>\n",
       "      <td>186.271147</td>\n",
       "      <td>16.139999</td>\n",
       "      <td>34.342498</td>\n",
       "      <td>213.035004</td>\n",
       "      <td>266.450012</td>\n",
       "      <td>673.690002</td>\n",
       "      <td>118.740163</td>\n",
       "    </tr>\n",
       "    <tr>\n",
       "      <th>High</th>\n",
       "      <td>2416.0</td>\n",
       "      <td>189.578224</td>\n",
       "      <td>16.629999</td>\n",
       "      <td>34.897501</td>\n",
       "      <td>216.745002</td>\n",
       "      <td>270.927513</td>\n",
       "      <td>786.140015</td>\n",
       "      <td>120.892329</td>\n",
       "    </tr>\n",
       "    <tr>\n",
       "      <th>Low</th>\n",
       "      <td>2416.0</td>\n",
       "      <td>182.916639</td>\n",
       "      <td>14.98</td>\n",
       "      <td>33.587501</td>\n",
       "      <td>208.870002</td>\n",
       "      <td>262.102501</td>\n",
       "      <td>673.52002</td>\n",
       "      <td>116.857591</td>\n",
       "    </tr>\n",
       "    <tr>\n",
       "      <th>Close</th>\n",
       "      <td>2416.0</td>\n",
       "      <td>186.403651</td>\n",
       "      <td>15.8</td>\n",
       "      <td>34.400002</td>\n",
       "      <td>212.960007</td>\n",
       "      <td>266.774994</td>\n",
       "      <td>780.0</td>\n",
       "      <td>119.13602</td>\n",
       "    </tr>\n",
       "    <tr>\n",
       "      <th>Adj Close</th>\n",
       "      <td>2416.0</td>\n",
       "      <td>186.403651</td>\n",
       "      <td>15.8</td>\n",
       "      <td>34.400002</td>\n",
       "      <td>212.960007</td>\n",
       "      <td>266.774994</td>\n",
       "      <td>780.0</td>\n",
       "      <td>119.13602</td>\n",
       "    </tr>\n",
       "    <tr>\n",
       "      <th>Volume</th>\n",
       "      <td>2416.0</td>\n",
       "      <td>5572721.688742</td>\n",
       "      <td>118500.0</td>\n",
       "      <td>1899275.0</td>\n",
       "      <td>4578400.0</td>\n",
       "      <td>7361150.0</td>\n",
       "      <td>47065000.0</td>\n",
       "      <td>4987809.151888</td>\n",
       "    </tr>\n",
       "  </tbody>\n",
       "</table>\n",
       "</div>"
      ],
      "text/plain": [
       "            count                           mean                  min  \\\n",
       "Date         2416  2015-04-15 11:09:56.026490112  2010-06-29 00:00:00   \n",
       "Open       2416.0                     186.271147            16.139999   \n",
       "High       2416.0                     189.578224            16.629999   \n",
       "Low        2416.0                     182.916639                14.98   \n",
       "Close      2416.0                     186.403651                 15.8   \n",
       "Adj Close  2416.0                     186.403651                 15.8   \n",
       "Volume     2416.0                 5572721.688742             118500.0   \n",
       "\n",
       "                           25%                  50%                  75%  \\\n",
       "Date       2012-11-19 18:00:00  2015-04-16 12:00:00  2017-09-07 06:00:00   \n",
       "Open                 34.342498           213.035004           266.450012   \n",
       "High                 34.897501           216.745002           270.927513   \n",
       "Low                  33.587501           208.870002           262.102501   \n",
       "Close                34.400002           212.960007           266.774994   \n",
       "Adj Close            34.400002           212.960007           266.774994   \n",
       "Volume               1899275.0            4578400.0            7361150.0   \n",
       "\n",
       "                           max             std  \n",
       "Date       2020-02-03 00:00:00             NaN  \n",
       "Open                673.690002      118.740163  \n",
       "High                786.140015      120.892329  \n",
       "Low                  673.52002      116.857591  \n",
       "Close                    780.0       119.13602  \n",
       "Adj Close                780.0       119.13602  \n",
       "Volume              47065000.0  4987809.151888  "
      ]
     },
     "execution_count": 52,
     "metadata": {},
     "output_type": "execute_result"
    }
   ],
   "source": [
    "df.describe().T"
   ]
  },
  {
   "cell_type": "code",
   "execution_count": 53,
   "id": "d999adb2",
   "metadata": {
    "execution": {
     "iopub.execute_input": "2025-03-25T00:46:05.065468Z",
     "iopub.status.busy": "2025-03-25T00:46:05.064551Z",
     "iopub.status.idle": "2025-03-25T00:46:05.075494Z",
     "shell.execute_reply": "2025-03-25T00:46:05.074525Z"
    },
    "id": "-PSGVpMzgz1O",
    "papermill": {
     "duration": 0.035376,
     "end_time": "2025-03-25T00:46:05.077600",
     "exception": false,
     "start_time": "2025-03-25T00:46:05.042224",
     "status": "completed"
    },
    "tags": []
   },
   "outputs": [
    {
     "data": {
      "text/html": [
       "<div>\n",
       "<style scoped>\n",
       "    .dataframe tbody tr th:only-of-type {\n",
       "        vertical-align: middle;\n",
       "    }\n",
       "\n",
       "    .dataframe tbody tr th {\n",
       "        vertical-align: top;\n",
       "    }\n",
       "\n",
       "    .dataframe thead th {\n",
       "        text-align: right;\n",
       "    }\n",
       "</style>\n",
       "<table border=\"1\" class=\"dataframe\">\n",
       "  <thead>\n",
       "    <tr style=\"text-align: right;\">\n",
       "      <th></th>\n",
       "      <th>Close</th>\n",
       "      <th>Predicted</th>\n",
       "    </tr>\n",
       "    <tr>\n",
       "      <th>Date</th>\n",
       "      <th></th>\n",
       "      <th></th>\n",
       "    </tr>\n",
       "  </thead>\n",
       "  <tbody>\n",
       "    <tr>\n",
       "      <th>2010-07-28</th>\n",
       "      <td>20.719999</td>\n",
       "      <td>38.591217</td>\n",
       "    </tr>\n",
       "    <tr>\n",
       "      <th>2010-07-29</th>\n",
       "      <td>20.350000</td>\n",
       "      <td>38.591217</td>\n",
       "    </tr>\n",
       "    <tr>\n",
       "      <th>2010-07-30</th>\n",
       "      <td>19.940001</td>\n",
       "      <td>38.591217</td>\n",
       "    </tr>\n",
       "    <tr>\n",
       "      <th>2010-08-02</th>\n",
       "      <td>20.920000</td>\n",
       "      <td>38.591217</td>\n",
       "    </tr>\n",
       "    <tr>\n",
       "      <th>2010-08-03</th>\n",
       "      <td>21.950001</td>\n",
       "      <td>38.591217</td>\n",
       "    </tr>\n",
       "  </tbody>\n",
       "</table>\n",
       "</div>"
      ],
      "text/plain": [
       "                Close  Predicted\n",
       "Date                            \n",
       "2010-07-28  20.719999  38.591217\n",
       "2010-07-29  20.350000  38.591217\n",
       "2010-07-30  19.940001  38.591217\n",
       "2010-08-02  20.920000  38.591217\n",
       "2010-08-03  21.950001  38.591217"
      ]
     },
     "execution_count": 53,
     "metadata": {},
     "output_type": "execute_result"
    }
   ],
   "source": [
    "train_prediction_df = result_df[lookback:position]\n",
    "train_prediction_df[\"Predicted\"] = train_predict\n",
    "train_prediction_df.head()"
   ]
  },
  {
   "cell_type": "code",
   "execution_count": 54,
   "id": "8d85d114",
   "metadata": {
    "execution": {
     "iopub.execute_input": "2025-03-25T00:46:05.123017Z",
     "iopub.status.busy": "2025-03-25T00:46:05.122169Z",
     "iopub.status.idle": "2025-03-25T00:46:05.133073Z",
     "shell.execute_reply": "2025-03-25T00:46:05.131968Z"
    },
    "id": "o7tRAXwOhMSA",
    "papermill": {
     "duration": 0.035517,
     "end_time": "2025-03-25T00:46:05.135085",
     "exception": false,
     "start_time": "2025-03-25T00:46:05.099568",
     "status": "completed"
    },
    "tags": []
   },
   "outputs": [
    {
     "data": {
      "text/html": [
       "<div>\n",
       "<style scoped>\n",
       "    .dataframe tbody tr th:only-of-type {\n",
       "        vertical-align: middle;\n",
       "    }\n",
       "\n",
       "    .dataframe tbody tr th {\n",
       "        vertical-align: top;\n",
       "    }\n",
       "\n",
       "    .dataframe thead th {\n",
       "        text-align: right;\n",
       "    }\n",
       "</style>\n",
       "<table border=\"1\" class=\"dataframe\">\n",
       "  <thead>\n",
       "    <tr style=\"text-align: right;\">\n",
       "      <th></th>\n",
       "      <th>Close</th>\n",
       "      <th>Predicted</th>\n",
       "    </tr>\n",
       "    <tr>\n",
       "      <th>Date</th>\n",
       "      <th></th>\n",
       "      <th></th>\n",
       "    </tr>\n",
       "  </thead>\n",
       "  <tbody>\n",
       "    <tr>\n",
       "      <th>2018-04-03</th>\n",
       "      <td>267.529999</td>\n",
       "      <td>360.260864</td>\n",
       "    </tr>\n",
       "    <tr>\n",
       "      <th>2018-04-04</th>\n",
       "      <td>286.940002</td>\n",
       "      <td>356.058777</td>\n",
       "    </tr>\n",
       "    <tr>\n",
       "      <th>2018-04-05</th>\n",
       "      <td>305.720001</td>\n",
       "      <td>355.395172</td>\n",
       "    </tr>\n",
       "    <tr>\n",
       "      <th>2018-04-06</th>\n",
       "      <td>299.299988</td>\n",
       "      <td>356.595703</td>\n",
       "    </tr>\n",
       "    <tr>\n",
       "      <th>2018-04-09</th>\n",
       "      <td>289.660004</td>\n",
       "      <td>356.675232</td>\n",
       "    </tr>\n",
       "  </tbody>\n",
       "</table>\n",
       "</div>"
      ],
      "text/plain": [
       "                 Close   Predicted\n",
       "Date                              \n",
       "2018-04-03  267.529999  360.260864\n",
       "2018-04-04  286.940002  356.058777\n",
       "2018-04-05  305.720001  355.395172\n",
       "2018-04-06  299.299988  356.595703\n",
       "2018-04-09  289.660004  356.675232"
      ]
     },
     "execution_count": 54,
     "metadata": {},
     "output_type": "execute_result"
    }
   ],
   "source": [
    "test_prediction_df = result_df[position+lookback:]\n",
    "test_prediction_df[\"Predicted\"] = test_predict\n",
    "test_prediction_df.head()"
   ]
  },
  {
   "cell_type": "code",
   "execution_count": 55,
   "id": "c320a171",
   "metadata": {
    "execution": {
     "iopub.execute_input": "2025-03-25T00:46:05.181380Z",
     "iopub.status.busy": "2025-03-25T00:46:05.180944Z",
     "iopub.status.idle": "2025-03-25T00:46:05.564676Z",
     "shell.execute_reply": "2025-03-25T00:46:05.563606Z"
    },
    "id": "PJ_-znSchYO_",
    "papermill": {
     "duration": 0.408962,
     "end_time": "2025-03-25T00:46:05.567023",
     "exception": false,
     "start_time": "2025-03-25T00:46:05.158061",
     "status": "completed"
    },
    "tags": []
   },
   "outputs": [
    {
     "data": {
      "image/png": "[encoded data removed]",
      "text/plain": [
       "<Figure size 1400x500 with 1 Axes>"
      ]
     },
     "metadata": {},
     "output_type": "display_data"
    }
   ],
   "source": [
    "plt.figure(figsize=(14,5))\n",
    "plt.plot(result_df, label = \"Real Number of Passengers\")\n",
    "plt.plot(train_prediction_df[\"Predicted\"], color = 'blue', label = \"Train Predicted Number of Passengers\")\n",
    "plt.plot(test_prediction_df[\"Predicted\"],color = 'red', label = \"Test Predicted Number of Passengers\")\n",
    "plt.title(\"Number of Passengers Prediction\")\n",
    "plt.xlabel(\"Time\")\n",
    "plt.ylabel(\"Number of Passengers\")\n",
    "plt.legend()\n",
    "plt.show()"
   ]
  }
 ],
 "metadata": {
  "colab": {
   "provenance": []
  },
  "kaggle": {
   "accelerator": "none",
   "dataSources": [
    {
     "datasetId": 500872,
     "sourceId": 927894,
     "sourceType": "datasetVersion"
    }
   ],
   "dockerImageVersionId": 30761,
   "isGpuEnabled": false,
   "isInternetEnabled": true,
   "language": "python",
   "sourceType": "notebook"
  },
  "kernelspec": {
   "display_name": "Python 3",
   "language": "python",
   "name": "python3"
  },
  "language_info": {
   "codemirror_mode": {
    "name": "ipython",
    "version": 3
   },
   "file_extension": ".py",
   "mimetype": "text/x-python",
   "name": "python",
   "nbconvert_exporter": "python",
   "pygments_lexer": "ipython3",
   "version": "3.10.14"
  },
  "papermill": {
   "default_parameters": {},
   "duration": 30.414627,
   "end_time": "2025-03-25T00:46:07.114101",
   "environment_variables": {},
   "exception": null,
   "input_path": "__notebook__.ipynb",
   "output_path": "__notebook__.ipynb",
   "parameters": {},
   "start_time": "2025-03-25T00:45:36.699474",
   "version": "2.6.0"
  }
 },
 "nbformat": 4,
 "nbformat_minor": 5
}
