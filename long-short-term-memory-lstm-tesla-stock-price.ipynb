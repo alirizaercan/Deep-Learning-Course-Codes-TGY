{
 "cells": [
  {
   "cell_type": "markdown",
   "id": "0dfbd679",
   "metadata": {
    "id": "4unSJJjsT8BM",
    "papermill": {
     "duration": 0.011691,
     "end_time": "2025-03-16T00:37:50.445684",
     "exception": false,
     "start_time": "2025-03-16T00:37:50.433993",
     "status": "completed"
    },
    "tags": []
   },
   "source": [
    "# Tesla - Stock Price Prediction\n",
    "\n",
    "---\n",
    "\n"
   ]
  },
  {
   "cell_type": "markdown",
   "id": "06d92f8f",
   "metadata": {
    "id": "wkRLJL2XUAfT",
    "papermill": {
     "duration": 0.010662,
     "end_time": "2025-03-16T00:37:50.467151",
     "exception": false,
     "start_time": "2025-03-16T00:37:50.456489",
     "status": "completed"
    },
    "tags": []
   },
   "source": [
    "## Business Problem\n",
    "\n",
    "In this notebook, our purpose is to predict of tesla - stock price."
   ]
  },
  {
   "cell_type": "markdown",
   "id": "a41ea7d4",
   "metadata": {
    "id": "0uxjphZsUwjz",
    "papermill": {
     "duration": 0.010805,
     "end_time": "2025-03-16T00:37:50.488509",
     "exception": false,
     "start_time": "2025-03-16T00:37:50.477704",
     "status": "completed"
    },
    "tags": []
   },
   "source": [
    "## Data Understanding"
   ]
  },
  {
   "cell_type": "code",
   "execution_count": 1,
   "id": "a2f6c8d4",
   "metadata": {
    "execution": {
     "iopub.execute_input": "2025-03-16T00:37:50.512028Z",
     "iopub.status.busy": "2025-03-16T00:37:50.511602Z",
     "iopub.status.idle": "2025-03-16T00:38:07.680476Z",
     "shell.execute_reply": "2025-03-16T00:38:07.679330Z"
    },
    "id": "40IR65rQUyWC",
    "outputId": "4562368d-970e-4fd6-b03e-be036efe4dcd",
    "papermill": {
     "duration": 17.183813,
     "end_time": "2025-03-16T00:38:07.683003",
     "exception": false,
     "start_time": "2025-03-16T00:37:50.499190",
     "status": "completed"
    },
    "tags": []
   },
   "outputs": [],
   "source": [
    "import numpy as np\n",
    "import pandas as pd\n",
    "import datetime as dt\n",
    "import tensorflow as tf\n",
    "import matplotlib.pyplot as plt\n",
    "\n",
    "from sklearn.preprocessing import MinMaxScaler\n",
    "from sklearn.metrics import mean_squared_error\n",
    "\n",
    "from tensorflow.keras.models import Sequential\n",
    "from tensorflow.keras.layers import Dense, LSTM, Dropout\n",
    "from tensorflow.keras.callbacks import ModelCheckpoint, EarlyStopping\n",
    "\n",
    "import warnings\n",
    "warnings.filterwarnings('ignore')\n",
    "\n",
    "import os\n",
    "os.environ['TF_CPP_MIN_LOG_LEVEL'] = '3'\n",
    "tf.compat.v1.logging.set_verbosity(tf.compat.v1.logging.ERROR)"
   ]
  },
  {
   "cell_type": "code",
   "execution_count": 2,
   "id": "4f98c36f",
   "metadata": {
    "execution": {
     "iopub.execute_input": "2025-03-16T00:38:07.706196Z",
     "iopub.status.busy": "2025-03-16T00:38:07.705575Z",
     "iopub.status.idle": "2025-03-16T00:38:07.778877Z",
     "shell.execute_reply": "2025-03-16T00:38:07.777575Z"
    },
    "id": "-be5_efvVpTV",
    "papermill": {
     "duration": 0.087476,
     "end_time": "2025-03-16T00:38:07.781262",
     "exception": false,
     "start_time": "2025-03-16T00:38:07.693786",
     "status": "completed"
    },
    "tags": []
   },
   "outputs": [
    {
     "data": {
      "text/html": [
       "<div>\n",
       "<style scoped>\n",
       "    .dataframe tbody tr th:only-of-type {\n",
       "        vertical-align: middle;\n",
       "    }\n",
       "\n",
       "    .dataframe tbody tr th {\n",
       "        vertical-align: top;\n",
       "    }\n",
       "\n",
       "    .dataframe thead th {\n",
       "        text-align: right;\n",
       "    }\n",
       "</style>\n",
       "<table border=\"1\" class=\"dataframe\">\n",
       "  <thead>\n",
       "    <tr style=\"text-align: right;\">\n",
       "      <th></th>\n",
       "      <th>Date</th>\n",
       "      <th>Open</th>\n",
       "      <th>High</th>\n",
       "      <th>Low</th>\n",
       "      <th>Close</th>\n",
       "      <th>Adj Close</th>\n",
       "      <th>Volume</th>\n",
       "    </tr>\n",
       "  </thead>\n",
       "  <tbody>\n",
       "    <tr>\n",
       "      <th>0</th>\n",
       "      <td>2010-06-29</td>\n",
       "      <td>19.000000</td>\n",
       "      <td>25.000000</td>\n",
       "      <td>17.540001</td>\n",
       "      <td>23.889999</td>\n",
       "      <td>23.889999</td>\n",
       "      <td>18766300</td>\n",
       "    </tr>\n",
       "    <tr>\n",
       "      <th>1</th>\n",
       "      <td>2010-06-30</td>\n",
       "      <td>25.790001</td>\n",
       "      <td>30.420000</td>\n",
       "      <td>23.299999</td>\n",
       "      <td>23.830000</td>\n",
       "      <td>23.830000</td>\n",
       "      <td>17187100</td>\n",
       "    </tr>\n",
       "    <tr>\n",
       "      <th>2</th>\n",
       "      <td>2010-07-01</td>\n",
       "      <td>25.000000</td>\n",
       "      <td>25.920000</td>\n",
       "      <td>20.270000</td>\n",
       "      <td>21.959999</td>\n",
       "      <td>21.959999</td>\n",
       "      <td>8218800</td>\n",
       "    </tr>\n",
       "    <tr>\n",
       "      <th>3</th>\n",
       "      <td>2010-07-02</td>\n",
       "      <td>23.000000</td>\n",
       "      <td>23.100000</td>\n",
       "      <td>18.709999</td>\n",
       "      <td>19.200001</td>\n",
       "      <td>19.200001</td>\n",
       "      <td>5139800</td>\n",
       "    </tr>\n",
       "    <tr>\n",
       "      <th>4</th>\n",
       "      <td>2010-07-06</td>\n",
       "      <td>20.000000</td>\n",
       "      <td>20.000000</td>\n",
       "      <td>15.830000</td>\n",
       "      <td>16.110001</td>\n",
       "      <td>16.110001</td>\n",
       "      <td>6866900</td>\n",
       "    </tr>\n",
       "    <tr>\n",
       "      <th>...</th>\n",
       "      <td>...</td>\n",
       "      <td>...</td>\n",
       "      <td>...</td>\n",
       "      <td>...</td>\n",
       "      <td>...</td>\n",
       "      <td>...</td>\n",
       "      <td>...</td>\n",
       "    </tr>\n",
       "    <tr>\n",
       "      <th>2411</th>\n",
       "      <td>2020-01-28</td>\n",
       "      <td>568.489990</td>\n",
       "      <td>576.809998</td>\n",
       "      <td>558.080017</td>\n",
       "      <td>566.900024</td>\n",
       "      <td>566.900024</td>\n",
       "      <td>11788500</td>\n",
       "    </tr>\n",
       "    <tr>\n",
       "      <th>2412</th>\n",
       "      <td>2020-01-29</td>\n",
       "      <td>575.690002</td>\n",
       "      <td>589.799988</td>\n",
       "      <td>567.429993</td>\n",
       "      <td>580.989990</td>\n",
       "      <td>580.989990</td>\n",
       "      <td>17801500</td>\n",
       "    </tr>\n",
       "    <tr>\n",
       "      <th>2413</th>\n",
       "      <td>2020-01-30</td>\n",
       "      <td>632.419983</td>\n",
       "      <td>650.880005</td>\n",
       "      <td>618.000000</td>\n",
       "      <td>640.809998</td>\n",
       "      <td>640.809998</td>\n",
       "      <td>29005700</td>\n",
       "    </tr>\n",
       "    <tr>\n",
       "      <th>2414</th>\n",
       "      <td>2020-01-31</td>\n",
       "      <td>640.000000</td>\n",
       "      <td>653.000000</td>\n",
       "      <td>632.520020</td>\n",
       "      <td>650.570007</td>\n",
       "      <td>650.570007</td>\n",
       "      <td>15719300</td>\n",
       "    </tr>\n",
       "    <tr>\n",
       "      <th>2415</th>\n",
       "      <td>2020-02-03</td>\n",
       "      <td>673.690002</td>\n",
       "      <td>786.140015</td>\n",
       "      <td>673.520020</td>\n",
       "      <td>780.000000</td>\n",
       "      <td>780.000000</td>\n",
       "      <td>47065000</td>\n",
       "    </tr>\n",
       "  </tbody>\n",
       "</table>\n",
       "<p>2416 rows × 7 columns</p>\n",
       "</div>"
      ],
      "text/plain": [
       "            Date        Open        High         Low       Close   Adj Close  \\\n",
       "0     2010-06-29   19.000000   25.000000   17.540001   23.889999   23.889999   \n",
       "1     2010-06-30   25.790001   30.420000   23.299999   23.830000   23.830000   \n",
       "2     2010-07-01   25.000000   25.920000   20.270000   21.959999   21.959999   \n",
       "3     2010-07-02   23.000000   23.100000   18.709999   19.200001   19.200001   \n",
       "4     2010-07-06   20.000000   20.000000   15.830000   16.110001   16.110001   \n",
       "...          ...         ...         ...         ...         ...         ...   \n",
       "2411  2020-01-28  568.489990  576.809998  558.080017  566.900024  566.900024   \n",
       "2412  2020-01-29  575.690002  589.799988  567.429993  580.989990  580.989990   \n",
       "2413  2020-01-30  632.419983  650.880005  618.000000  640.809998  640.809998   \n",
       "2414  2020-01-31  640.000000  653.000000  632.520020  650.570007  650.570007   \n",
       "2415  2020-02-03  673.690002  786.140015  673.520020  780.000000  780.000000   \n",
       "\n",
       "        Volume  \n",
       "0     18766300  \n",
       "1     17187100  \n",
       "2      8218800  \n",
       "3      5139800  \n",
       "4      6866900  \n",
       "...        ...  \n",
       "2411  11788500  \n",
       "2412  17801500  \n",
       "2413  29005700  \n",
       "2414  15719300  \n",
       "2415  47065000  \n",
       "\n",
       "[2416 rows x 7 columns]"
      ]
     },
     "execution_count": 2,
     "metadata": {},
     "output_type": "execute_result"
    }
   ],
   "source": [
    "df = pd.read_csv('/kaggle/input/tesla-stock-data-from-2010-to-2020/TSLA.csv')\n",
    "df"
   ]
  },
  {
   "cell_type": "code",
   "execution_count": 3,
   "id": "74b1db5f",
   "metadata": {
    "execution": {
     "iopub.execute_input": "2025-03-16T00:38:07.805425Z",
     "iopub.status.busy": "2025-03-16T00:38:07.805002Z",
     "iopub.status.idle": "2025-03-16T00:38:07.818829Z",
     "shell.execute_reply": "2025-03-16T00:38:07.817714Z"
    },
    "id": "lG_AO3mdVv17",
    "papermill": {
     "duration": 0.028573,
     "end_time": "2025-03-16T00:38:07.821204",
     "exception": false,
     "start_time": "2025-03-16T00:38:07.792631",
     "status": "completed"
    },
    "tags": []
   },
   "outputs": [
    {
     "data": {
      "text/html": [
       "<div>\n",
       "<style scoped>\n",
       "    .dataframe tbody tr th:only-of-type {\n",
       "        vertical-align: middle;\n",
       "    }\n",
       "\n",
       "    .dataframe tbody tr th {\n",
       "        vertical-align: top;\n",
       "    }\n",
       "\n",
       "    .dataframe thead th {\n",
       "        text-align: right;\n",
       "    }\n",
       "</style>\n",
       "<table border=\"1\" class=\"dataframe\">\n",
       "  <thead>\n",
       "    <tr style=\"text-align: right;\">\n",
       "      <th></th>\n",
       "      <th>Date</th>\n",
       "      <th>Open</th>\n",
       "      <th>High</th>\n",
       "      <th>Low</th>\n",
       "      <th>Close</th>\n",
       "      <th>Adj Close</th>\n",
       "      <th>Volume</th>\n",
       "    </tr>\n",
       "  </thead>\n",
       "  <tbody>\n",
       "    <tr>\n",
       "      <th>0</th>\n",
       "      <td>2010-06-29</td>\n",
       "      <td>19.000000</td>\n",
       "      <td>25.00</td>\n",
       "      <td>17.540001</td>\n",
       "      <td>23.889999</td>\n",
       "      <td>23.889999</td>\n",
       "      <td>18766300</td>\n",
       "    </tr>\n",
       "    <tr>\n",
       "      <th>1</th>\n",
       "      <td>2010-06-30</td>\n",
       "      <td>25.790001</td>\n",
       "      <td>30.42</td>\n",
       "      <td>23.299999</td>\n",
       "      <td>23.830000</td>\n",
       "      <td>23.830000</td>\n",
       "      <td>17187100</td>\n",
       "    </tr>\n",
       "    <tr>\n",
       "      <th>2</th>\n",
       "      <td>2010-07-01</td>\n",
       "      <td>25.000000</td>\n",
       "      <td>25.92</td>\n",
       "      <td>20.270000</td>\n",
       "      <td>21.959999</td>\n",
       "      <td>21.959999</td>\n",
       "      <td>8218800</td>\n",
       "    </tr>\n",
       "    <tr>\n",
       "      <th>3</th>\n",
       "      <td>2010-07-02</td>\n",
       "      <td>23.000000</td>\n",
       "      <td>23.10</td>\n",
       "      <td>18.709999</td>\n",
       "      <td>19.200001</td>\n",
       "      <td>19.200001</td>\n",
       "      <td>5139800</td>\n",
       "    </tr>\n",
       "    <tr>\n",
       "      <th>4</th>\n",
       "      <td>2010-07-06</td>\n",
       "      <td>20.000000</td>\n",
       "      <td>20.00</td>\n",
       "      <td>15.830000</td>\n",
       "      <td>16.110001</td>\n",
       "      <td>16.110001</td>\n",
       "      <td>6866900</td>\n",
       "    </tr>\n",
       "  </tbody>\n",
       "</table>\n",
       "</div>"
      ],
      "text/plain": [
       "         Date       Open   High        Low      Close  Adj Close    Volume\n",
       "0  2010-06-29  19.000000  25.00  17.540001  23.889999  23.889999  18766300\n",
       "1  2010-06-30  25.790001  30.42  23.299999  23.830000  23.830000  17187100\n",
       "2  2010-07-01  25.000000  25.92  20.270000  21.959999  21.959999   8218800\n",
       "3  2010-07-02  23.000000  23.10  18.709999  19.200001  19.200001   5139800\n",
       "4  2010-07-06  20.000000  20.00  15.830000  16.110001  16.110001   6866900"
      ]
     },
     "execution_count": 3,
     "metadata": {},
     "output_type": "execute_result"
    }
   ],
   "source": [
    "df.head()"
   ]
  },
  {
   "cell_type": "code",
   "execution_count": 4,
   "id": "85ae43fb",
   "metadata": {
    "execution": {
     "iopub.execute_input": "2025-03-16T00:38:07.846004Z",
     "iopub.status.busy": "2025-03-16T00:38:07.845603Z",
     "iopub.status.idle": "2025-03-16T00:38:07.852285Z",
     "shell.execute_reply": "2025-03-16T00:38:07.851130Z"
    },
    "id": "TU5hlfyvVxY0",
    "papermill": {
     "duration": 0.021753,
     "end_time": "2025-03-16T00:38:07.854499",
     "exception": false,
     "start_time": "2025-03-16T00:38:07.832746",
     "status": "completed"
    },
    "tags": []
   },
   "outputs": [],
   "source": [
    "def check_df(dataframe, head=5):\n",
    "    print(\"##################### Shape #####################\")\n",
    "    print(dataframe.shape)\n",
    "    print(\"##################### Types #####################\")\n",
    "    print(dataframe.dtypes)\n",
    "    print(\"##################### Head #####################\")\n",
    "    print(dataframe.head(head))  # Fonksiyon çağrısına dikkat edin\n",
    "    print(\"##################### Tail #####################\")\n",
    "    print(dataframe.tail(head))\n",
    "    print(\"##################### NA #####################\")\n",
    "    print(dataframe.isnull().sum())\n",
    "    print(\"##################### Quantile #####################\")\n",
    "    print(dataframe.select_dtypes(include='number').quantile([0, 0.05, 0.5, 0.95, 0.99, 1]).T)\n"
   ]
  },
  {
   "cell_type": "code",
   "execution_count": 5,
   "id": "43f78123",
   "metadata": {
    "execution": {
     "iopub.execute_input": "2025-03-16T00:38:07.879451Z",
     "iopub.status.busy": "2025-03-16T00:38:07.878194Z",
     "iopub.status.idle": "2025-03-16T00:38:07.901398Z",
     "shell.execute_reply": "2025-03-16T00:38:07.900135Z"
    },
    "id": "t6iFP965V4vk",
    "papermill": {
     "duration": 0.037987,
     "end_time": "2025-03-16T00:38:07.903806",
     "exception": false,
     "start_time": "2025-03-16T00:38:07.865819",
     "status": "completed"
    },
    "tags": []
   },
   "outputs": [
    {
     "name": "stdout",
     "output_type": "stream",
     "text": [
      "##################### Shape #####################\n",
      "(2416, 7)\n",
      "##################### Types #####################\n",
      "Date          object\n",
      "Open         float64\n",
      "High         float64\n",
      "Low          float64\n",
      "Close        float64\n",
      "Adj Close    float64\n",
      "Volume         int64\n",
      "dtype: object\n",
      "##################### Head #####################\n",
      "         Date       Open   High        Low      Close  Adj Close    Volume\n",
      "0  2010-06-29  19.000000  25.00  17.540001  23.889999  23.889999  18766300\n",
      "1  2010-06-30  25.790001  30.42  23.299999  23.830000  23.830000  17187100\n",
      "2  2010-07-01  25.000000  25.92  20.270000  21.959999  21.959999   8218800\n",
      "3  2010-07-02  23.000000  23.10  18.709999  19.200001  19.200001   5139800\n",
      "4  2010-07-06  20.000000  20.00  15.830000  16.110001  16.110001   6866900\n",
      "##################### Tail #####################\n",
      "            Date        Open        High         Low       Close   Adj Close  \\\n",
      "2411  2020-01-28  568.489990  576.809998  558.080017  566.900024  566.900024   \n",
      "2412  2020-01-29  575.690002  589.799988  567.429993  580.989990  580.989990   \n",
      "2413  2020-01-30  632.419983  650.880005  618.000000  640.809998  640.809998   \n",
      "2414  2020-01-31  640.000000  653.000000  632.520020  650.570007  650.570007   \n",
      "2415  2020-02-03  673.690002  786.140015  673.520020  780.000000  780.000000   \n",
      "\n",
      "        Volume  \n",
      "2411  11788500  \n",
      "2412  17801500  \n",
      "2413  29005700  \n",
      "2414  15719300  \n",
      "2415  47065000  \n",
      "##################### NA #####################\n",
      "Date         0\n",
      "Open         0\n",
      "High         0\n",
      "Low          0\n",
      "Close        0\n",
      "Adj Close    0\n",
      "Volume       0\n",
      "dtype: int64\n",
      "##################### Quantile #####################\n",
      "                    0.00           0.05          0.50          0.95  \\\n",
      "Open           16.139999      23.384999  2.130350e+02  3.519100e+02   \n",
      "High           16.629999      24.022501  2.167450e+02  3.567500e+02   \n",
      "Low            14.980000      22.867499  2.088700e+02  3.460250e+02   \n",
      "Close          15.800000      23.565000  2.129600e+02  3.511675e+02   \n",
      "Adj Close      15.800000      23.565000  2.129600e+02  3.511675e+02   \n",
      "Volume     118500.000000  633825.000000  4.578400e+06  1.476090e+07   \n",
      "\n",
      "                   0.99          1.00  \n",
      "Open       4.235790e+02  6.736900e+02  \n",
      "High       4.284705e+02  7.861400e+02  \n",
      "Low        4.122865e+02  6.735200e+02  \n",
      "Close      4.243455e+02  7.800000e+02  \n",
      "Adj Close  4.243455e+02  7.800000e+02  \n",
      "Volume     2.459959e+07  4.706500e+07  \n"
     ]
    }
   ],
   "source": [
    "check_df(df)"
   ]
  },
  {
   "cell_type": "markdown",
   "id": "6b629208",
   "metadata": {
    "id": "v2n2ONcpWlQl",
    "papermill": {
     "duration": 0.010828,
     "end_time": "2025-03-16T00:38:07.926031",
     "exception": false,
     "start_time": "2025-03-16T00:38:07.915203",
     "status": "completed"
    },
    "tags": []
   },
   "source": [
    "## Data Preparation"
   ]
  },
  {
   "cell_type": "code",
   "execution_count": 6,
   "id": "60b27031",
   "metadata": {
    "execution": {
     "iopub.execute_input": "2025-03-16T00:38:07.949660Z",
     "iopub.status.busy": "2025-03-16T00:38:07.949257Z",
     "iopub.status.idle": "2025-03-16T00:38:07.959893Z",
     "shell.execute_reply": "2025-03-16T00:38:07.958997Z"
    },
    "id": "x-En8ormWAo8",
    "papermill": {
     "duration": 0.024954,
     "end_time": "2025-03-16T00:38:07.961886",
     "exception": false,
     "start_time": "2025-03-16T00:38:07.936932",
     "status": "completed"
    },
    "tags": []
   },
   "outputs": [],
   "source": [
    "df[\"Date\"] = pd.to_datetime(df[\"Date\"])"
   ]
  },
  {
   "cell_type": "code",
   "execution_count": 7,
   "id": "8043663b",
   "metadata": {
    "execution": {
     "iopub.execute_input": "2025-03-16T00:38:07.985731Z",
     "iopub.status.busy": "2025-03-16T00:38:07.985357Z",
     "iopub.status.idle": "2025-03-16T00:38:08.000411Z",
     "shell.execute_reply": "2025-03-16T00:38:07.999297Z"
    },
    "id": "Wk3C4MPkWBUG",
    "papermill": {
     "duration": 0.029634,
     "end_time": "2025-03-16T00:38:08.002717",
     "exception": false,
     "start_time": "2025-03-16T00:38:07.973083",
     "status": "completed"
    },
    "tags": []
   },
   "outputs": [
    {
     "data": {
      "text/html": [
       "<div>\n",
       "<style scoped>\n",
       "    .dataframe tbody tr th:only-of-type {\n",
       "        vertical-align: middle;\n",
       "    }\n",
       "\n",
       "    .dataframe tbody tr th {\n",
       "        vertical-align: top;\n",
       "    }\n",
       "\n",
       "    .dataframe thead th {\n",
       "        text-align: right;\n",
       "    }\n",
       "</style>\n",
       "<table border=\"1\" class=\"dataframe\">\n",
       "  <thead>\n",
       "    <tr style=\"text-align: right;\">\n",
       "      <th></th>\n",
       "      <th>Date</th>\n",
       "      <th>Open</th>\n",
       "      <th>High</th>\n",
       "      <th>Low</th>\n",
       "      <th>Close</th>\n",
       "      <th>Adj Close</th>\n",
       "      <th>Volume</th>\n",
       "    </tr>\n",
       "  </thead>\n",
       "  <tbody>\n",
       "    <tr>\n",
       "      <th>0</th>\n",
       "      <td>2010-06-29</td>\n",
       "      <td>19.000000</td>\n",
       "      <td>25.00</td>\n",
       "      <td>17.540001</td>\n",
       "      <td>23.889999</td>\n",
       "      <td>23.889999</td>\n",
       "      <td>18766300</td>\n",
       "    </tr>\n",
       "    <tr>\n",
       "      <th>1</th>\n",
       "      <td>2010-06-30</td>\n",
       "      <td>25.790001</td>\n",
       "      <td>30.42</td>\n",
       "      <td>23.299999</td>\n",
       "      <td>23.830000</td>\n",
       "      <td>23.830000</td>\n",
       "      <td>17187100</td>\n",
       "    </tr>\n",
       "    <tr>\n",
       "      <th>2</th>\n",
       "      <td>2010-07-01</td>\n",
       "      <td>25.000000</td>\n",
       "      <td>25.92</td>\n",
       "      <td>20.270000</td>\n",
       "      <td>21.959999</td>\n",
       "      <td>21.959999</td>\n",
       "      <td>8218800</td>\n",
       "    </tr>\n",
       "    <tr>\n",
       "      <th>3</th>\n",
       "      <td>2010-07-02</td>\n",
       "      <td>23.000000</td>\n",
       "      <td>23.10</td>\n",
       "      <td>18.709999</td>\n",
       "      <td>19.200001</td>\n",
       "      <td>19.200001</td>\n",
       "      <td>5139800</td>\n",
       "    </tr>\n",
       "    <tr>\n",
       "      <th>4</th>\n",
       "      <td>2010-07-06</td>\n",
       "      <td>20.000000</td>\n",
       "      <td>20.00</td>\n",
       "      <td>15.830000</td>\n",
       "      <td>16.110001</td>\n",
       "      <td>16.110001</td>\n",
       "      <td>6866900</td>\n",
       "    </tr>\n",
       "  </tbody>\n",
       "</table>\n",
       "</div>"
      ],
      "text/plain": [
       "        Date       Open   High        Low      Close  Adj Close    Volume\n",
       "0 2010-06-29  19.000000  25.00  17.540001  23.889999  23.889999  18766300\n",
       "1 2010-06-30  25.790001  30.42  23.299999  23.830000  23.830000  17187100\n",
       "2 2010-07-01  25.000000  25.92  20.270000  21.959999  21.959999   8218800\n",
       "3 2010-07-02  23.000000  23.10  18.709999  19.200001  19.200001   5139800\n",
       "4 2010-07-06  20.000000  20.00  15.830000  16.110001  16.110001   6866900"
      ]
     },
     "execution_count": 7,
     "metadata": {},
     "output_type": "execute_result"
    }
   ],
   "source": [
    "df.head()"
   ]
  },
  {
   "cell_type": "code",
   "execution_count": 8,
   "id": "436acf7b",
   "metadata": {
    "execution": {
     "iopub.execute_input": "2025-03-16T00:38:08.027334Z",
     "iopub.status.busy": "2025-03-16T00:38:08.026915Z",
     "iopub.status.idle": "2025-03-16T00:38:08.033061Z",
     "shell.execute_reply": "2025-03-16T00:38:08.032060Z"
    },
    "id": "ZOVzSrk1WCHu",
    "papermill": {
     "duration": 0.021186,
     "end_time": "2025-03-16T00:38:08.035296",
     "exception": false,
     "start_time": "2025-03-16T00:38:08.014110",
     "status": "completed"
    },
    "tags": []
   },
   "outputs": [],
   "source": [
    "tesla_df = df[[\"Date\", \"Close\"]]"
   ]
  },
  {
   "cell_type": "code",
   "execution_count": 9,
   "id": "4be27143",
   "metadata": {
    "execution": {
     "iopub.execute_input": "2025-03-16T00:38:08.060178Z",
     "iopub.status.busy": "2025-03-16T00:38:08.059767Z",
     "iopub.status.idle": "2025-03-16T00:38:08.070448Z",
     "shell.execute_reply": "2025-03-16T00:38:08.069281Z"
    },
    "id": "Tli5FuMBWF8l",
    "papermill": {
     "duration": 0.025893,
     "end_time": "2025-03-16T00:38:08.072538",
     "exception": false,
     "start_time": "2025-03-16T00:38:08.046645",
     "status": "completed"
    },
    "tags": []
   },
   "outputs": [
    {
     "data": {
      "text/html": [
       "<div>\n",
       "<style scoped>\n",
       "    .dataframe tbody tr th:only-of-type {\n",
       "        vertical-align: middle;\n",
       "    }\n",
       "\n",
       "    .dataframe tbody tr th {\n",
       "        vertical-align: top;\n",
       "    }\n",
       "\n",
       "    .dataframe thead th {\n",
       "        text-align: right;\n",
       "    }\n",
       "</style>\n",
       "<table border=\"1\" class=\"dataframe\">\n",
       "  <thead>\n",
       "    <tr style=\"text-align: right;\">\n",
       "      <th></th>\n",
       "      <th>Date</th>\n",
       "      <th>Close</th>\n",
       "    </tr>\n",
       "  </thead>\n",
       "  <tbody>\n",
       "    <tr>\n",
       "      <th>0</th>\n",
       "      <td>2010-06-29</td>\n",
       "      <td>23.889999</td>\n",
       "    </tr>\n",
       "    <tr>\n",
       "      <th>1</th>\n",
       "      <td>2010-06-30</td>\n",
       "      <td>23.830000</td>\n",
       "    </tr>\n",
       "    <tr>\n",
       "      <th>2</th>\n",
       "      <td>2010-07-01</td>\n",
       "      <td>21.959999</td>\n",
       "    </tr>\n",
       "    <tr>\n",
       "      <th>3</th>\n",
       "      <td>2010-07-02</td>\n",
       "      <td>19.200001</td>\n",
       "    </tr>\n",
       "    <tr>\n",
       "      <th>4</th>\n",
       "      <td>2010-07-06</td>\n",
       "      <td>16.110001</td>\n",
       "    </tr>\n",
       "  </tbody>\n",
       "</table>\n",
       "</div>"
      ],
      "text/plain": [
       "        Date      Close\n",
       "0 2010-06-29  23.889999\n",
       "1 2010-06-30  23.830000\n",
       "2 2010-07-01  21.959999\n",
       "3 2010-07-02  19.200001\n",
       "4 2010-07-06  16.110001"
      ]
     },
     "execution_count": 9,
     "metadata": {},
     "output_type": "execute_result"
    }
   ],
   "source": [
    "tesla_df.head()"
   ]
  },
  {
   "cell_type": "code",
   "execution_count": 10,
   "id": "fd3a8d0b",
   "metadata": {
    "execution": {
     "iopub.execute_input": "2025-03-16T00:38:08.097823Z",
     "iopub.status.busy": "2025-03-16T00:38:08.097428Z",
     "iopub.status.idle": "2025-03-16T00:38:08.103916Z",
     "shell.execute_reply": "2025-03-16T00:38:08.102885Z"
    },
    "id": "Gsw5OQCAWLzn",
    "papermill": {
     "duration": 0.021771,
     "end_time": "2025-03-16T00:38:08.106356",
     "exception": false,
     "start_time": "2025-03-16T00:38:08.084585",
     "status": "completed"
    },
    "tags": []
   },
   "outputs": [
    {
     "name": "stdout",
     "output_type": "stream",
     "text": [
      "Min Date:  2010-06-29 00:00:00\n",
      "Max Date:  2020-02-03 00:00:00\n"
     ]
    }
   ],
   "source": [
    "print(\"Min Date: \", tesla_df[\"Date\"].min())\n",
    "print(\"Max Date: \", tesla_df[\"Date\"].max())"
   ]
  },
  {
   "cell_type": "code",
   "execution_count": 11,
   "id": "6489fac2",
   "metadata": {
    "execution": {
     "iopub.execute_input": "2025-03-16T00:38:08.132060Z",
     "iopub.status.busy": "2025-03-16T00:38:08.131069Z",
     "iopub.status.idle": "2025-03-16T00:38:08.136086Z",
     "shell.execute_reply": "2025-03-16T00:38:08.135084Z"
    },
    "id": "JGi8P08mWQO1",
    "papermill": {
     "duration": 0.019894,
     "end_time": "2025-03-16T00:38:08.138030",
     "exception": false,
     "start_time": "2025-03-16T00:38:08.118136",
     "status": "completed"
    },
    "tags": []
   },
   "outputs": [],
   "source": [
    "tesla_df.index = tesla_df[\"Date\"]"
   ]
  },
  {
   "cell_type": "code",
   "execution_count": 12,
   "id": "8d3476a6",
   "metadata": {
    "execution": {
     "iopub.execute_input": "2025-03-16T00:38:08.162884Z",
     "iopub.status.busy": "2025-03-16T00:38:08.162483Z",
     "iopub.status.idle": "2025-03-16T00:38:08.174453Z",
     "shell.execute_reply": "2025-03-16T00:38:08.173360Z"
    },
    "id": "YBWxX2IOWoL_",
    "papermill": {
     "duration": 0.026875,
     "end_time": "2025-03-16T00:38:08.176607",
     "exception": false,
     "start_time": "2025-03-16T00:38:08.149732",
     "status": "completed"
    },
    "tags": []
   },
   "outputs": [
    {
     "data": {
      "text/html": [
       "<div>\n",
       "<style scoped>\n",
       "    .dataframe tbody tr th:only-of-type {\n",
       "        vertical-align: middle;\n",
       "    }\n",
       "\n",
       "    .dataframe tbody tr th {\n",
       "        vertical-align: top;\n",
       "    }\n",
       "\n",
       "    .dataframe thead th {\n",
       "        text-align: right;\n",
       "    }\n",
       "</style>\n",
       "<table border=\"1\" class=\"dataframe\">\n",
       "  <thead>\n",
       "    <tr style=\"text-align: right;\">\n",
       "      <th></th>\n",
       "      <th>Date</th>\n",
       "      <th>Close</th>\n",
       "    </tr>\n",
       "    <tr>\n",
       "      <th>Date</th>\n",
       "      <th></th>\n",
       "      <th></th>\n",
       "    </tr>\n",
       "  </thead>\n",
       "  <tbody>\n",
       "    <tr>\n",
       "      <th>2010-06-29</th>\n",
       "      <td>2010-06-29</td>\n",
       "      <td>23.889999</td>\n",
       "    </tr>\n",
       "    <tr>\n",
       "      <th>2010-06-30</th>\n",
       "      <td>2010-06-30</td>\n",
       "      <td>23.830000</td>\n",
       "    </tr>\n",
       "    <tr>\n",
       "      <th>2010-07-01</th>\n",
       "      <td>2010-07-01</td>\n",
       "      <td>21.959999</td>\n",
       "    </tr>\n",
       "    <tr>\n",
       "      <th>2010-07-02</th>\n",
       "      <td>2010-07-02</td>\n",
       "      <td>19.200001</td>\n",
       "    </tr>\n",
       "    <tr>\n",
       "      <th>2010-07-06</th>\n",
       "      <td>2010-07-06</td>\n",
       "      <td>16.110001</td>\n",
       "    </tr>\n",
       "    <tr>\n",
       "      <th>...</th>\n",
       "      <td>...</td>\n",
       "      <td>...</td>\n",
       "    </tr>\n",
       "    <tr>\n",
       "      <th>2020-01-28</th>\n",
       "      <td>2020-01-28</td>\n",
       "      <td>566.900024</td>\n",
       "    </tr>\n",
       "    <tr>\n",
       "      <th>2020-01-29</th>\n",
       "      <td>2020-01-29</td>\n",
       "      <td>580.989990</td>\n",
       "    </tr>\n",
       "    <tr>\n",
       "      <th>2020-01-30</th>\n",
       "      <td>2020-01-30</td>\n",
       "      <td>640.809998</td>\n",
       "    </tr>\n",
       "    <tr>\n",
       "      <th>2020-01-31</th>\n",
       "      <td>2020-01-31</td>\n",
       "      <td>650.570007</td>\n",
       "    </tr>\n",
       "    <tr>\n",
       "      <th>2020-02-03</th>\n",
       "      <td>2020-02-03</td>\n",
       "      <td>780.000000</td>\n",
       "    </tr>\n",
       "  </tbody>\n",
       "</table>\n",
       "<p>2416 rows × 2 columns</p>\n",
       "</div>"
      ],
      "text/plain": [
       "                 Date       Close\n",
       "Date                             \n",
       "2010-06-29 2010-06-29   23.889999\n",
       "2010-06-30 2010-06-30   23.830000\n",
       "2010-07-01 2010-07-01   21.959999\n",
       "2010-07-02 2010-07-02   19.200001\n",
       "2010-07-06 2010-07-06   16.110001\n",
       "...               ...         ...\n",
       "2020-01-28 2020-01-28  566.900024\n",
       "2020-01-29 2020-01-29  580.989990\n",
       "2020-01-30 2020-01-30  640.809998\n",
       "2020-01-31 2020-01-31  650.570007\n",
       "2020-02-03 2020-02-03  780.000000\n",
       "\n",
       "[2416 rows x 2 columns]"
      ]
     },
     "execution_count": 12,
     "metadata": {},
     "output_type": "execute_result"
    }
   ],
   "source": [
    "tesla_df"
   ]
  },
  {
   "cell_type": "code",
   "execution_count": 13,
   "id": "add3ae23",
   "metadata": {
    "execution": {
     "iopub.execute_input": "2025-03-16T00:38:08.202442Z",
     "iopub.status.busy": "2025-03-16T00:38:08.201535Z",
     "iopub.status.idle": "2025-03-16T00:38:08.207285Z",
     "shell.execute_reply": "2025-03-16T00:38:08.206296Z"
    },
    "id": "tgPM31WBWvcH",
    "papermill": {
     "duration": 0.020857,
     "end_time": "2025-03-16T00:38:08.209372",
     "exception": false,
     "start_time": "2025-03-16T00:38:08.188515",
     "status": "completed"
    },
    "tags": []
   },
   "outputs": [],
   "source": [
    "tesla_df.drop(\"Date\", axis=1, inplace=True)"
   ]
  },
  {
   "cell_type": "code",
   "execution_count": 14,
   "id": "0bdc4d83",
   "metadata": {
    "execution": {
     "iopub.execute_input": "2025-03-16T00:38:08.234377Z",
     "iopub.status.busy": "2025-03-16T00:38:08.233971Z",
     "iopub.status.idle": "2025-03-16T00:38:08.244111Z",
     "shell.execute_reply": "2025-03-16T00:38:08.243096Z"
    },
    "id": "17KdnKMGWwSm",
    "papermill": {
     "duration": 0.02504,
     "end_time": "2025-03-16T00:38:08.246183",
     "exception": false,
     "start_time": "2025-03-16T00:38:08.221143",
     "status": "completed"
    },
    "tags": []
   },
   "outputs": [
    {
     "data": {
      "text/html": [
       "<div>\n",
       "<style scoped>\n",
       "    .dataframe tbody tr th:only-of-type {\n",
       "        vertical-align: middle;\n",
       "    }\n",
       "\n",
       "    .dataframe tbody tr th {\n",
       "        vertical-align: top;\n",
       "    }\n",
       "\n",
       "    .dataframe thead th {\n",
       "        text-align: right;\n",
       "    }\n",
       "</style>\n",
       "<table border=\"1\" class=\"dataframe\">\n",
       "  <thead>\n",
       "    <tr style=\"text-align: right;\">\n",
       "      <th></th>\n",
       "      <th>Close</th>\n",
       "    </tr>\n",
       "    <tr>\n",
       "      <th>Date</th>\n",
       "      <th></th>\n",
       "    </tr>\n",
       "  </thead>\n",
       "  <tbody>\n",
       "    <tr>\n",
       "      <th>2010-06-29</th>\n",
       "      <td>23.889999</td>\n",
       "    </tr>\n",
       "    <tr>\n",
       "      <th>2010-06-30</th>\n",
       "      <td>23.830000</td>\n",
       "    </tr>\n",
       "    <tr>\n",
       "      <th>2010-07-01</th>\n",
       "      <td>21.959999</td>\n",
       "    </tr>\n",
       "    <tr>\n",
       "      <th>2010-07-02</th>\n",
       "      <td>19.200001</td>\n",
       "    </tr>\n",
       "    <tr>\n",
       "      <th>2010-07-06</th>\n",
       "      <td>16.110001</td>\n",
       "    </tr>\n",
       "    <tr>\n",
       "      <th>...</th>\n",
       "      <td>...</td>\n",
       "    </tr>\n",
       "    <tr>\n",
       "      <th>2020-01-28</th>\n",
       "      <td>566.900024</td>\n",
       "    </tr>\n",
       "    <tr>\n",
       "      <th>2020-01-29</th>\n",
       "      <td>580.989990</td>\n",
       "    </tr>\n",
       "    <tr>\n",
       "      <th>2020-01-30</th>\n",
       "      <td>640.809998</td>\n",
       "    </tr>\n",
       "    <tr>\n",
       "      <th>2020-01-31</th>\n",
       "      <td>650.570007</td>\n",
       "    </tr>\n",
       "    <tr>\n",
       "      <th>2020-02-03</th>\n",
       "      <td>780.000000</td>\n",
       "    </tr>\n",
       "  </tbody>\n",
       "</table>\n",
       "<p>2416 rows × 1 columns</p>\n",
       "</div>"
      ],
      "text/plain": [
       "                 Close\n",
       "Date                  \n",
       "2010-06-29   23.889999\n",
       "2010-06-30   23.830000\n",
       "2010-07-01   21.959999\n",
       "2010-07-02   19.200001\n",
       "2010-07-06   16.110001\n",
       "...                ...\n",
       "2020-01-28  566.900024\n",
       "2020-01-29  580.989990\n",
       "2020-01-30  640.809998\n",
       "2020-01-31  650.570007\n",
       "2020-02-03  780.000000\n",
       "\n",
       "[2416 rows x 1 columns]"
      ]
     },
     "execution_count": 14,
     "metadata": {},
     "output_type": "execute_result"
    }
   ],
   "source": [
    "tesla_df"
   ]
  },
  {
   "cell_type": "code",
   "execution_count": 15,
   "id": "12bfb884",
   "metadata": {
    "execution": {
     "iopub.execute_input": "2025-03-16T00:38:08.272367Z",
     "iopub.status.busy": "2025-03-16T00:38:08.271181Z",
     "iopub.status.idle": "2025-03-16T00:38:08.276158Z",
     "shell.execute_reply": "2025-03-16T00:38:08.275361Z"
    },
    "id": "PliZ5OcsWxsF",
    "papermill": {
     "duration": 0.019935,
     "end_time": "2025-03-16T00:38:08.278180",
     "exception": false,
     "start_time": "2025-03-16T00:38:08.258245",
     "status": "completed"
    },
    "tags": []
   },
   "outputs": [],
   "source": [
    "result_df = tesla_df.copy()"
   ]
  },
  {
   "cell_type": "code",
   "execution_count": 16,
   "id": "4264b066",
   "metadata": {
    "execution": {
     "iopub.execute_input": "2025-03-16T00:38:08.304032Z",
     "iopub.status.busy": "2025-03-16T00:38:08.303118Z",
     "iopub.status.idle": "2025-03-16T00:38:08.694929Z",
     "shell.execute_reply": "2025-03-16T00:38:08.693852Z"
    },
    "id": "ObqHX6K2W0te",
    "papermill": {
     "duration": 0.406964,
     "end_time": "2025-03-16T00:38:08.697087",
     "exception": false,
     "start_time": "2025-03-16T00:38:08.290123",
     "status": "completed"
    },
    "tags": []
   },
   "outputs": [
    {
     "data": {
      "image/png": "[encoded data removed]",
      "text/plain": [
       "<Figure size 1400x500 with 1 Axes>"
      ]
     },
     "metadata": {},
     "output_type": "display_data"
    }
   ],
   "source": [
    "plt.figure(figsize=(14,5))\n",
    "plt.plot(tesla_df['Close'], color='blue')\n",
    "plt.title(\"Tesla Stock Price\")\n",
    "plt.xlabel(\"Time\")\n",
    "plt.ylabel(\"Stock Price\")\n",
    "plt.show()"
   ]
  },
  {
   "cell_type": "code",
   "execution_count": 17,
   "id": "7ffed52f",
   "metadata": {
    "execution": {
     "iopub.execute_input": "2025-03-16T00:38:08.724528Z",
     "iopub.status.busy": "2025-03-16T00:38:08.724075Z",
     "iopub.status.idle": "2025-03-16T00:38:08.729567Z",
     "shell.execute_reply": "2025-03-16T00:38:08.728334Z"
    },
    "id": "5LWFDWjNW2z2",
    "papermill": {
     "duration": 0.021555,
     "end_time": "2025-03-16T00:38:08.731772",
     "exception": false,
     "start_time": "2025-03-16T00:38:08.710217",
     "status": "completed"
    },
    "tags": []
   },
   "outputs": [],
   "source": [
    "tesla_df = tesla_df.values"
   ]
  },
  {
   "cell_type": "code",
   "execution_count": 18,
   "id": "2247ff14",
   "metadata": {
    "execution": {
     "iopub.execute_input": "2025-03-16T00:38:08.761064Z",
     "iopub.status.busy": "2025-03-16T00:38:08.760701Z",
     "iopub.status.idle": "2025-03-16T00:38:08.768098Z",
     "shell.execute_reply": "2025-03-16T00:38:08.766867Z"
    },
    "id": "jxFZkTS-W9Mm",
    "papermill": {
     "duration": 0.025319,
     "end_time": "2025-03-16T00:38:08.770319",
     "exception": false,
     "start_time": "2025-03-16T00:38:08.745000",
     "status": "completed"
    },
    "tags": []
   },
   "outputs": [
    {
     "data": {
      "text/plain": [
       "array([[23.889999],\n",
       "       [23.83    ],\n",
       "       [21.959999],\n",
       "       [19.200001],\n",
       "       [16.110001]])"
      ]
     },
     "execution_count": 18,
     "metadata": {},
     "output_type": "execute_result"
    }
   ],
   "source": [
    "tesla_df[0:5]"
   ]
  },
  {
   "cell_type": "code",
   "execution_count": 19,
   "id": "d5d21796",
   "metadata": {
    "execution": {
     "iopub.execute_input": "2025-03-16T00:38:08.798054Z",
     "iopub.status.busy": "2025-03-16T00:38:08.797660Z",
     "iopub.status.idle": "2025-03-16T00:38:08.802852Z",
     "shell.execute_reply": "2025-03-16T00:38:08.801532Z"
    },
    "id": "iU7KJlc4XAb2",
    "papermill": {
     "duration": 0.021639,
     "end_time": "2025-03-16T00:38:08.804954",
     "exception": false,
     "start_time": "2025-03-16T00:38:08.783315",
     "status": "completed"
    },
    "tags": []
   },
   "outputs": [],
   "source": [
    "tesla_df = tesla_df.astype(\"float32\")"
   ]
  },
  {
   "cell_type": "code",
   "execution_count": 20,
   "id": "44e6cf2d",
   "metadata": {
    "execution": {
     "iopub.execute_input": "2025-03-16T00:38:08.832044Z",
     "iopub.status.busy": "2025-03-16T00:38:08.831677Z",
     "iopub.status.idle": "2025-03-16T00:38:08.837088Z",
     "shell.execute_reply": "2025-03-16T00:38:08.836138Z"
    },
    "id": "r7Cywk9oXBI-",
    "papermill": {
     "duration": 0.021779,
     "end_time": "2025-03-16T00:38:08.839516",
     "exception": false,
     "start_time": "2025-03-16T00:38:08.817737",
     "status": "completed"
    },
    "tags": []
   },
   "outputs": [],
   "source": [
    "def split_data(dataframe, test_size):\n",
    "  position = int(round(len(dataframe) * (1 - test_size)))\n",
    "  train = dataframe[:position]\n",
    "  test = dataframe[position:]\n",
    "  return train, test, position"
   ]
  },
  {
   "cell_type": "code",
   "execution_count": 21,
   "id": "611ae5a2",
   "metadata": {
    "execution": {
     "iopub.execute_input": "2025-03-16T00:38:08.867079Z",
     "iopub.status.busy": "2025-03-16T00:38:08.866718Z",
     "iopub.status.idle": "2025-03-16T00:38:08.872073Z",
     "shell.execute_reply": "2025-03-16T00:38:08.870901Z"
    },
    "id": "COxqfz0SZvV_",
    "papermill": {
     "duration": 0.021961,
     "end_time": "2025-03-16T00:38:08.874430",
     "exception": false,
     "start_time": "2025-03-16T00:38:08.852469",
     "status": "completed"
    },
    "tags": []
   },
   "outputs": [],
   "source": [
    "train, test, position = split_data(tesla_df, 0.20)"
   ]
  },
  {
   "cell_type": "code",
   "execution_count": 22,
   "id": "c3cc8d1e",
   "metadata": {
    "execution": {
     "iopub.execute_input": "2025-03-16T00:38:08.902264Z",
     "iopub.status.busy": "2025-03-16T00:38:08.901796Z",
     "iopub.status.idle": "2025-03-16T00:38:08.907320Z",
     "shell.execute_reply": "2025-03-16T00:38:08.906218Z"
    },
    "id": "jESwxnt2Z1t5",
    "papermill": {
     "duration": 0.022071,
     "end_time": "2025-03-16T00:38:08.909441",
     "exception": false,
     "start_time": "2025-03-16T00:38:08.887370",
     "status": "completed"
    },
    "tags": []
   },
   "outputs": [
    {
     "name": "stdout",
     "output_type": "stream",
     "text": [
      "(1933, 1) (483, 1)\n"
     ]
    }
   ],
   "source": [
    "print(train.shape, test.shape)"
   ]
  },
  {
   "cell_type": "code",
   "execution_count": 23,
   "id": "2d651327",
   "metadata": {
    "execution": {
     "iopub.execute_input": "2025-03-16T00:38:08.936489Z",
     "iopub.status.busy": "2025-03-16T00:38:08.936093Z",
     "iopub.status.idle": "2025-03-16T00:38:08.941735Z",
     "shell.execute_reply": "2025-03-16T00:38:08.940533Z"
    },
    "id": "wleQDdgSZ8NZ",
    "papermill": {
     "duration": 0.022054,
     "end_time": "2025-03-16T00:38:08.944325",
     "exception": false,
     "start_time": "2025-03-16T00:38:08.922271",
     "status": "completed"
    },
    "tags": []
   },
   "outputs": [],
   "source": [
    "scaler_train = MinMaxScaler(feature_range = (0,1))"
   ]
  },
  {
   "cell_type": "code",
   "execution_count": 24,
   "id": "f1aaa272",
   "metadata": {
    "execution": {
     "iopub.execute_input": "2025-03-16T00:38:08.972994Z",
     "iopub.status.busy": "2025-03-16T00:38:08.972618Z",
     "iopub.status.idle": "2025-03-16T00:38:08.979003Z",
     "shell.execute_reply": "2025-03-16T00:38:08.977726Z"
    },
    "id": "Enf8wikDaNZh",
    "papermill": {
     "duration": 0.023873,
     "end_time": "2025-03-16T00:38:08.981309",
     "exception": false,
     "start_time": "2025-03-16T00:38:08.957436",
     "status": "completed"
    },
    "tags": []
   },
   "outputs": [],
   "source": [
    "train = scaler_train.fit_transform(train)"
   ]
  },
  {
   "cell_type": "code",
   "execution_count": 25,
   "id": "5f64bee2",
   "metadata": {
    "execution": {
     "iopub.execute_input": "2025-03-16T00:38:09.009045Z",
     "iopub.status.busy": "2025-03-16T00:38:09.008643Z",
     "iopub.status.idle": "2025-03-16T00:38:09.013926Z",
     "shell.execute_reply": "2025-03-16T00:38:09.012641Z"
    },
    "id": "cg-7tCn_aXTc",
    "papermill": {
     "duration": 0.022003,
     "end_time": "2025-03-16T00:38:09.016209",
     "exception": false,
     "start_time": "2025-03-16T00:38:08.994206",
     "status": "completed"
    },
    "tags": []
   },
   "outputs": [],
   "source": [
    "scaler_test = MinMaxScaler(feature_range = (0,1))"
   ]
  },
  {
   "cell_type": "code",
   "execution_count": 26,
   "id": "cd255894",
   "metadata": {
    "execution": {
     "iopub.execute_input": "2025-03-16T00:38:09.044133Z",
     "iopub.status.busy": "2025-03-16T00:38:09.043589Z",
     "iopub.status.idle": "2025-03-16T00:38:09.049471Z",
     "shell.execute_reply": "2025-03-16T00:38:09.048328Z"
    },
    "id": "tSbuIifiabbC",
    "papermill": {
     "duration": 0.022384,
     "end_time": "2025-03-16T00:38:09.051691",
     "exception": false,
     "start_time": "2025-03-16T00:38:09.029307",
     "status": "completed"
    },
    "tags": []
   },
   "outputs": [],
   "source": [
    "test = scaler_test.fit_transform(test)"
   ]
  },
  {
   "cell_type": "code",
   "execution_count": 27,
   "id": "f7ade122",
   "metadata": {
    "execution": {
     "iopub.execute_input": "2025-03-16T00:38:09.079071Z",
     "iopub.status.busy": "2025-03-16T00:38:09.078661Z",
     "iopub.status.idle": "2025-03-16T00:38:09.086375Z",
     "shell.execute_reply": "2025-03-16T00:38:09.085101Z"
    },
    "id": "X5a7m_BEagaJ",
    "papermill": {
     "duration": 0.024046,
     "end_time": "2025-03-16T00:38:09.088698",
     "exception": false,
     "start_time": "2025-03-16T00:38:09.064652",
     "status": "completed"
    },
    "tags": []
   },
   "outputs": [
    {
     "data": {
      "text/plain": [
       "array([[0.02191224],\n",
       "       [0.02174973],\n",
       "       [0.01668472],\n",
       "       [0.0092091 ],\n",
       "       [0.00083966]], dtype=float32)"
      ]
     },
     "execution_count": 27,
     "metadata": {},
     "output_type": "execute_result"
    }
   ],
   "source": [
    "train[0:5]"
   ]
  },
  {
   "cell_type": "code",
   "execution_count": 28,
   "id": "dd849467",
   "metadata": {
    "execution": {
     "iopub.execute_input": "2025-03-16T00:38:09.117337Z",
     "iopub.status.busy": "2025-03-16T00:38:09.116899Z",
     "iopub.status.idle": "2025-03-16T00:38:09.124319Z",
     "shell.execute_reply": "2025-03-16T00:38:09.123114Z"
    },
    "id": "AeVSy_ijahnh",
    "papermill": {
     "duration": 0.024555,
     "end_time": "2025-03-16T00:38:09.126690",
     "exception": false,
     "start_time": "2025-03-16T00:38:09.102135",
     "status": "completed"
    },
    "tags": []
   },
   "outputs": [
    {
     "data": {
      "text/plain": [
       "array([[0.25685903],\n",
       "       [0.24829045],\n",
       "       [0.25511202],\n",
       "       [0.24978784],\n",
       "       [0.2465767 ]], dtype=float32)"
      ]
     },
     "execution_count": 28,
     "metadata": {},
     "output_type": "execute_result"
    }
   ],
   "source": [
    "test[0:5]"
   ]
  },
  {
   "cell_type": "code",
   "execution_count": 29,
   "id": "0caf1f4b",
   "metadata": {
    "execution": {
     "iopub.execute_input": "2025-03-16T00:38:09.156118Z",
     "iopub.status.busy": "2025-03-16T00:38:09.155166Z",
     "iopub.status.idle": "2025-03-16T00:38:09.161274Z",
     "shell.execute_reply": "2025-03-16T00:38:09.160136Z"
    },
    "id": "Gv95UqJWasHS",
    "papermill": {
     "duration": 0.023445,
     "end_time": "2025-03-16T00:38:09.163316",
     "exception": false,
     "start_time": "2025-03-16T00:38:09.139871",
     "status": "completed"
    },
    "tags": []
   },
   "outputs": [],
   "source": [
    "def create_features(data, lookback):\n",
    "  X, Y = [], []\n",
    "  for i in range(lookback, len(data)):\n",
    "    X.append(data[i-lookback:i,0])\n",
    "    Y.append(data[i,0])\n",
    "\n",
    "  return np.array(X), np.array(Y)"
   ]
  },
  {
   "cell_type": "code",
   "execution_count": 30,
   "id": "1e44a68f",
   "metadata": {
    "execution": {
     "iopub.execute_input": "2025-03-16T00:38:09.192057Z",
     "iopub.status.busy": "2025-03-16T00:38:09.191648Z",
     "iopub.status.idle": "2025-03-16T00:38:09.196790Z",
     "shell.execute_reply": "2025-03-16T00:38:09.195715Z"
    },
    "id": "e36Ux4_CbASm",
    "papermill": {
     "duration": 0.022262,
     "end_time": "2025-03-16T00:38:09.198941",
     "exception": false,
     "start_time": "2025-03-16T00:38:09.176679",
     "status": "completed"
    },
    "tags": []
   },
   "outputs": [],
   "source": [
    "lookback = 20"
   ]
  },
  {
   "cell_type": "code",
   "execution_count": 31,
   "id": "419810ab",
   "metadata": {
    "execution": {
     "iopub.execute_input": "2025-03-16T00:38:09.228164Z",
     "iopub.status.busy": "2025-03-16T00:38:09.227423Z",
     "iopub.status.idle": "2025-03-16T00:38:09.236115Z",
     "shell.execute_reply": "2025-03-16T00:38:09.235063Z"
    },
    "id": "Xd8JMdaWbCzp",
    "papermill": {
     "duration": 0.026333,
     "end_time": "2025-03-16T00:38:09.238451",
     "exception": false,
     "start_time": "2025-03-16T00:38:09.212118",
     "status": "completed"
    },
    "tags": []
   },
   "outputs": [],
   "source": [
    "X_train, y_train = create_features(train, lookback)"
   ]
  },
  {
   "cell_type": "code",
   "execution_count": 32,
   "id": "14b0cc94",
   "metadata": {
    "execution": {
     "iopub.execute_input": "2025-03-16T00:38:09.321375Z",
     "iopub.status.busy": "2025-03-16T00:38:09.320507Z",
     "iopub.status.idle": "2025-03-16T00:38:09.326307Z",
     "shell.execute_reply": "2025-03-16T00:38:09.325314Z"
    },
    "id": "wHgq8DT5bF_Z",
    "papermill": {
     "duration": 0.076605,
     "end_time": "2025-03-16T00:38:09.328150",
     "exception": false,
     "start_time": "2025-03-16T00:38:09.251545",
     "status": "completed"
    },
    "tags": []
   },
   "outputs": [],
   "source": [
    "X_test, y_test = create_features(test, lookback)"
   ]
  },
  {
   "cell_type": "code",
   "execution_count": 33,
   "id": "731820ae",
   "metadata": {
    "execution": {
     "iopub.execute_input": "2025-03-16T00:38:09.357076Z",
     "iopub.status.busy": "2025-03-16T00:38:09.356711Z",
     "iopub.status.idle": "2025-03-16T00:38:09.362629Z",
     "shell.execute_reply": "2025-03-16T00:38:09.361314Z"
    },
    "id": "zYQy_33TbKdb",
    "papermill": {
     "duration": 0.023426,
     "end_time": "2025-03-16T00:38:09.365461",
     "exception": false,
     "start_time": "2025-03-16T00:38:09.342035",
     "status": "completed"
    },
    "tags": []
   },
   "outputs": [
    {
     "name": "stdout",
     "output_type": "stream",
     "text": [
      "(1913, 20) (1913,) (463, 20) (463,)\n"
     ]
    }
   ],
   "source": [
    "print(X_train.shape, y_train.shape, X_test.shape, y_test.shape)"
   ]
  },
  {
   "cell_type": "code",
   "execution_count": 34,
   "id": "0b20bc18",
   "metadata": {
    "execution": {
     "iopub.execute_input": "2025-03-16T00:38:09.393828Z",
     "iopub.status.busy": "2025-03-16T00:38:09.393141Z",
     "iopub.status.idle": "2025-03-16T00:38:09.401094Z",
     "shell.execute_reply": "2025-03-16T00:38:09.399976Z"
    },
    "id": "sI1k-K6bTKuw",
    "papermill": {
     "duration": 0.024625,
     "end_time": "2025-03-16T00:38:09.403339",
     "exception": false,
     "start_time": "2025-03-16T00:38:09.378714",
     "status": "completed"
    },
    "tags": []
   },
   "outputs": [
    {
     "data": {
      "text/plain": [
       "array([[0.02191224, 0.02174973, 0.01668472, 0.0092091 , 0.00083966,\n",
       "        0.        , 0.00449621, 0.00433369, 0.0033857 , 0.00633803,\n",
       "        0.01094258, 0.011078  , 0.01310942, 0.0165493 , 0.01218851,\n",
       "        0.01197183, 0.01408451, 0.01486999, 0.01394908, 0.01286566],\n",
       "       [0.02174973, 0.01668472, 0.0092091 , 0.00083966, 0.        ,\n",
       "        0.00449621, 0.00433369, 0.0033857 , 0.00633803, 0.01094258,\n",
       "        0.011078  , 0.01310942, 0.0165493 , 0.01218851, 0.01197183,\n",
       "        0.01408451, 0.01486999, 0.01394908, 0.01286566, 0.01332611],\n",
       "       [0.01668472, 0.0092091 , 0.00083966, 0.        , 0.00449621,\n",
       "        0.00433369, 0.0033857 , 0.00633803, 0.01094258, 0.011078  ,\n",
       "        0.01310942, 0.0165493 , 0.01218851, 0.01197183, 0.01408451,\n",
       "        0.01486999, 0.01394908, 0.01286566, 0.01332611, 0.01232395],\n",
       "       [0.0092091 , 0.00083966, 0.        , 0.00449621, 0.00433369,\n",
       "        0.0033857 , 0.00633803, 0.01094258, 0.011078  , 0.01310942,\n",
       "        0.0165493 , 0.01218851, 0.01197183, 0.01408451, 0.01486999,\n",
       "        0.01394908, 0.01286566, 0.01332611, 0.01232395, 0.01121344],\n",
       "       [0.00083966, 0.        , 0.00449621, 0.00433369, 0.0033857 ,\n",
       "        0.00633803, 0.01094258, 0.011078  , 0.01310942, 0.0165493 ,\n",
       "        0.01218851, 0.01197183, 0.01408451, 0.01486999, 0.01394908,\n",
       "        0.01286566, 0.01332611, 0.01232395, 0.01121344, 0.01386782]],\n",
       "      dtype=float32)"
      ]
     },
     "execution_count": 34,
     "metadata": {},
     "output_type": "execute_result"
    }
   ],
   "source": [
    "X_train[0:5]"
   ]
  },
  {
   "cell_type": "code",
   "execution_count": 35,
   "id": "81a2384e",
   "metadata": {
    "execution": {
     "iopub.execute_input": "2025-03-16T00:38:09.432565Z",
     "iopub.status.busy": "2025-03-16T00:38:09.431387Z",
     "iopub.status.idle": "2025-03-16T00:38:09.438695Z",
     "shell.execute_reply": "2025-03-16T00:38:09.437685Z"
    },
    "id": "vY5hCVQHTg9u",
    "papermill": {
     "duration": 0.024075,
     "end_time": "2025-03-16T00:38:09.440868",
     "exception": false,
     "start_time": "2025-03-16T00:38:09.416793",
     "status": "completed"
    },
    "tags": []
   },
   "outputs": [
    {
     "data": {
      "text/plain": [
       "array([0.01332611, 0.01232395, 0.01121344, 0.01386782, 0.01665764],\n",
       "      dtype=float32)"
      ]
     },
     "execution_count": 35,
     "metadata": {},
     "output_type": "execute_result"
    }
   ],
   "source": [
    "y_train[0:5]"
   ]
  },
  {
   "cell_type": "code",
   "execution_count": 36,
   "id": "ea5736b9",
   "metadata": {
    "execution": {
     "iopub.execute_input": "2025-03-16T00:38:09.470349Z",
     "iopub.status.busy": "2025-03-16T00:38:09.469643Z",
     "iopub.status.idle": "2025-03-16T00:38:09.475763Z",
     "shell.execute_reply": "2025-03-16T00:38:09.474617Z"
    },
    "id": "yvf-4kLybad5",
    "papermill": {
     "duration": 0.023632,
     "end_time": "2025-03-16T00:38:09.478067",
     "exception": false,
     "start_time": "2025-03-16T00:38:09.454435",
     "status": "completed"
    },
    "tags": []
   },
   "outputs": [],
   "source": [
    "X_train = np.reshape(X_train, (X_train.shape[0], 1, X_train.shape[1]))\n",
    "X_test = np.reshape(X_test, (X_test.shape[0], 1, X_test.shape[1]))\n",
    "y_train = y_train.reshape(-1,1)\n",
    "y_test = y_test.reshape(-1,1)"
   ]
  },
  {
   "cell_type": "code",
   "execution_count": 37,
   "id": "b9d1aa8e",
   "metadata": {
    "execution": {
     "iopub.execute_input": "2025-03-16T00:38:09.507536Z",
     "iopub.status.busy": "2025-03-16T00:38:09.506441Z",
     "iopub.status.idle": "2025-03-16T00:38:09.512546Z",
     "shell.execute_reply": "2025-03-16T00:38:09.511424Z"
    },
    "id": "D2ltv0Edb3wz",
    "papermill": {
     "duration": 0.02326,
     "end_time": "2025-03-16T00:38:09.514790",
     "exception": false,
     "start_time": "2025-03-16T00:38:09.491530",
     "status": "completed"
    },
    "tags": []
   },
   "outputs": [
    {
     "name": "stdout",
     "output_type": "stream",
     "text": [
      "(1913, 1, 20) (1913, 1) (463, 1, 20) (463, 1)\n"
     ]
    }
   ],
   "source": [
    "print(X_train.shape, y_train.shape, X_test.shape, y_test.shape)"
   ]
  },
  {
   "cell_type": "markdown",
   "id": "f2109043",
   "metadata": {
    "id": "DtsN3xazcIAn",
    "papermill": {
     "duration": 0.014125,
     "end_time": "2025-03-16T00:38:09.542989",
     "exception": false,
     "start_time": "2025-03-16T00:38:09.528864",
     "status": "completed"
    },
    "tags": []
   },
   "source": [
    "## Modelling"
   ]
  },
  {
   "cell_type": "code",
   "execution_count": 38,
   "id": "1121fb1f",
   "metadata": {
    "execution": {
     "iopub.execute_input": "2025-03-16T00:38:09.571653Z",
     "iopub.status.busy": "2025-03-16T00:38:09.571293Z",
     "iopub.status.idle": "2025-03-16T00:38:09.692179Z",
     "shell.execute_reply": "2025-03-16T00:38:09.691046Z"
    },
    "id": "QtbQx4G9cI_z",
    "papermill": {
     "duration": 0.138167,
     "end_time": "2025-03-16T00:38:09.694662",
     "exception": false,
     "start_time": "2025-03-16T00:38:09.556495",
     "status": "completed"
    },
    "tags": []
   },
   "outputs": [],
   "source": [
    "model = Sequential()\n",
    "\n",
    "model.add(LSTM(units = 50,\n",
    "                    activation = 'relu',\n",
    "                    input_shape=(X_train.shape[1], lookback)))\n",
    "\n",
    "model.add(Dropout(0.2))\n",
    "\n",
    "model.add(Dense(1))\n"
   ]
  },
  {
   "cell_type": "code",
   "execution_count": 39,
   "id": "1d368fea",
   "metadata": {
    "execution": {
     "iopub.execute_input": "2025-03-16T00:38:09.723902Z",
     "iopub.status.busy": "2025-03-16T00:38:09.723501Z",
     "iopub.status.idle": "2025-03-16T00:38:09.742928Z",
     "shell.execute_reply": "2025-03-16T00:38:09.741903Z"
    },
    "id": "RQFXIkDbciE6",
    "papermill": {
     "duration": 0.036486,
     "end_time": "2025-03-16T00:38:09.745194",
     "exception": false,
     "start_time": "2025-03-16T00:38:09.708708",
     "status": "completed"
    },
    "tags": []
   },
   "outputs": [
    {
     "data": {
      "text/html": [
       "<pre style=\"white-space:pre;overflow-x:auto;line-height:normal;font-family:Menlo,'DejaVu Sans Mono',consolas,'Courier New',monospace\"><span style=\"font-weight: bold\">Model: \"sequential\"</span>\n",
       "</pre>\n"
      ],
      "text/plain": [
       "\u001b[1mModel: \"sequential\"\u001b[0m\n"
      ]
     },
     "metadata": {},
     "output_type": "display_data"
    },
    {
     "data": {
      "text/html": [
       "<pre style=\"white-space:pre;overflow-x:auto;line-height:normal;font-family:Menlo,'DejaVu Sans Mono',consolas,'Courier New',monospace\">┏━━━━━━━━━━━━━━━━━━━━━━━━━━━━━━━━━┳━━━━━━━━━━━━━━━━━━━━━━━━┳━━━━━━━━━━━━━━━┓\n",
       "┃<span style=\"font-weight: bold\"> Layer (type)                    </span>┃<span style=\"font-weight: bold\"> Output Shape           </span>┃<span style=\"font-weight: bold\">       Param # </span>┃\n",
       "┡━━━━━━━━━━━━━━━━━━━━━━━━━━━━━━━━━╇━━━━━━━━━━━━━━━━━━━━━━━━╇━━━━━━━━━━━━━━━┩\n",
       "│ lstm (<span style=\"color: #0087ff; text-decoration-color: #0087ff\">LSTM</span>)                     │ (<span style=\"color: #00d7ff; text-decoration-color: #00d7ff\">None</span>, <span style=\"color: #00af00; text-decoration-color: #00af00\">50</span>)             │        <span style=\"color: #00af00; text-decoration-color: #00af00\">14,200</span> │\n",
       "├─────────────────────────────────┼────────────────────────┼───────────────┤\n",
       "│ dropout (<span style=\"color: #0087ff; text-decoration-color: #0087ff\">Dropout</span>)               │ (<span style=\"color: #00d7ff; text-decoration-color: #00d7ff\">None</span>, <span style=\"color: #00af00; text-decoration-color: #00af00\">50</span>)             │             <span style=\"color: #00af00; text-decoration-color: #00af00\">0</span> │\n",
       "├─────────────────────────────────┼────────────────────────┼───────────────┤\n",
       "│ dense (<span style=\"color: #0087ff; text-decoration-color: #0087ff\">Dense</span>)                   │ (<span style=\"color: #00d7ff; text-decoration-color: #00d7ff\">None</span>, <span style=\"color: #00af00; text-decoration-color: #00af00\">1</span>)              │            <span style=\"color: #00af00; text-decoration-color: #00af00\">51</span> │\n",
       "└─────────────────────────────────┴────────────────────────┴───────────────┘\n",
       "</pre>\n"
      ],
      "text/plain": [
       "┏━━━━━━━━━━━━━━━━━━━━━━━━━━━━━━━━━┳━━━━━━━━━━━━━━━━━━━━━━━━┳━━━━━━━━━━━━━━━┓\n",
       "┃\u001b[1m \u001b[0m\u001b[1mLayer (type)                   \u001b[0m\u001b[1m \u001b[0m┃\u001b[1m \u001b[0m\u001b[1mOutput Shape          \u001b[0m\u001b[1m \u001b[0m┃\u001b[1m \u001b[0m\u001b[1m      Param #\u001b[0m\u001b[1m \u001b[0m┃\n",
       "┡━━━━━━━━━━━━━━━━━━━━━━━━━━━━━━━━━╇━━━━━━━━━━━━━━━━━━━━━━━━╇━━━━━━━━━━━━━━━┩\n",
       "│ lstm (\u001b[38;5;33mLSTM\u001b[0m)                     │ (\u001b[38;5;45mNone\u001b[0m, \u001b[38;5;34m50\u001b[0m)             │        \u001b[38;5;34m14,200\u001b[0m │\n",
       "├─────────────────────────────────┼────────────────────────┼───────────────┤\n",
       "│ dropout (\u001b[38;5;33mDropout\u001b[0m)               │ (\u001b[38;5;45mNone\u001b[0m, \u001b[38;5;34m50\u001b[0m)             │             \u001b[38;5;34m0\u001b[0m │\n",
       "├─────────────────────────────────┼────────────────────────┼───────────────┤\n",
       "│ dense (\u001b[38;5;33mDense\u001b[0m)                   │ (\u001b[38;5;45mNone\u001b[0m, \u001b[38;5;34m1\u001b[0m)              │            \u001b[38;5;34m51\u001b[0m │\n",
       "└─────────────────────────────────┴────────────────────────┴───────────────┘\n"
      ]
     },
     "metadata": {},
     "output_type": "display_data"
    },
    {
     "data": {
      "text/html": [
       "<pre style=\"white-space:pre;overflow-x:auto;line-height:normal;font-family:Menlo,'DejaVu Sans Mono',consolas,'Courier New',monospace\"><span style=\"font-weight: bold\"> Total params: </span><span style=\"color: #00af00; text-decoration-color: #00af00\">14,251</span> (55.67 KB)\n",
       "</pre>\n"
      ],
      "text/plain": [
       "\u001b[1m Total params: \u001b[0m\u001b[38;5;34m14,251\u001b[0m (55.67 KB)\n"
      ]
     },
     "metadata": {},
     "output_type": "display_data"
    },
    {
     "data": {
      "text/html": [
       "<pre style=\"white-space:pre;overflow-x:auto;line-height:normal;font-family:Menlo,'DejaVu Sans Mono',consolas,'Courier New',monospace\"><span style=\"font-weight: bold\"> Trainable params: </span><span style=\"color: #00af00; text-decoration-color: #00af00\">14,251</span> (55.67 KB)\n",
       "</pre>\n"
      ],
      "text/plain": [
       "\u001b[1m Trainable params: \u001b[0m\u001b[38;5;34m14,251\u001b[0m (55.67 KB)\n"
      ]
     },
     "metadata": {},
     "output_type": "display_data"
    },
    {
     "data": {
      "text/html": [
       "<pre style=\"white-space:pre;overflow-x:auto;line-height:normal;font-family:Menlo,'DejaVu Sans Mono',consolas,'Courier New',monospace\"><span style=\"font-weight: bold\"> Non-trainable params: </span><span style=\"color: #00af00; text-decoration-color: #00af00\">0</span> (0.00 B)\n",
       "</pre>\n"
      ],
      "text/plain": [
       "\u001b[1m Non-trainable params: \u001b[0m\u001b[38;5;34m0\u001b[0m (0.00 B)\n"
      ]
     },
     "metadata": {},
     "output_type": "display_data"
    }
   ],
   "source": [
    "model.summary()"
   ]
  },
  {
   "cell_type": "code",
   "execution_count": 40,
   "id": "3d92a783",
   "metadata": {
    "execution": {
     "iopub.execute_input": "2025-03-16T00:38:09.781209Z",
     "iopub.status.busy": "2025-03-16T00:38:09.780787Z",
     "iopub.status.idle": "2025-03-16T00:38:09.795801Z",
     "shell.execute_reply": "2025-03-16T00:38:09.794529Z"
    },
    "id": "NE6_O7IwclkT",
    "papermill": {
     "duration": 0.035777,
     "end_time": "2025-03-16T00:38:09.798288",
     "exception": false,
     "start_time": "2025-03-16T00:38:09.762511",
     "status": "completed"
    },
    "tags": []
   },
   "outputs": [],
   "source": [
    "model.compile(loss='mean_squared_error', optimizer='adam')"
   ]
  },
  {
   "cell_type": "code",
   "execution_count": 41,
   "id": "bf6a5d09",
   "metadata": {
    "execution": {
     "iopub.execute_input": "2025-03-16T00:38:09.828081Z",
     "iopub.status.busy": "2025-03-16T00:38:09.827679Z",
     "iopub.status.idle": "2025-03-16T00:38:09.833282Z",
     "shell.execute_reply": "2025-03-16T00:38:09.832239Z"
    },
    "id": "JLqjYZudc3Is",
    "papermill": {
     "duration": 0.023001,
     "end_time": "2025-03-16T00:38:09.835309",
     "exception": false,
     "start_time": "2025-03-16T00:38:09.812308",
     "status": "completed"
    },
    "tags": []
   },
   "outputs": [],
   "source": [
    "callbacks = (EarlyStopping(monitor='val_loss', patience=10, verbose=1, mode='min'),\n",
    "            ModelCheckpoint(filepath='mymodel.keras', monitor='val_loss', mode='min',\n",
    "            save_best_only = True, save_weights_only = False, verbose = 1))"
   ]
  },
  {
   "cell_type": "code",
   "execution_count": 42,
   "id": "8c1954f6",
   "metadata": {
    "execution": {
     "iopub.execute_input": "2025-03-16T00:38:09.865176Z",
     "iopub.status.busy": "2025-03-16T00:38:09.864760Z",
     "iopub.status.idle": "2025-03-16T00:38:17.879198Z",
     "shell.execute_reply": "2025-03-16T00:38:17.878332Z"
    },
    "id": "7Pv-Fb9FdSf7",
    "papermill": {
     "duration": 8.032058,
     "end_time": "2025-03-16T00:38:17.881192",
     "exception": false,
     "start_time": "2025-03-16T00:38:09.849134",
     "status": "completed"
    },
    "tags": []
   },
   "outputs": [
    {
     "name": "stdout",
     "output_type": "stream",
     "text": [
      "Epoch 1/100\n",
      "\u001b[1m94/96\u001b[0m \u001b[32m━━━━━━━━━━━━━━━━━━━\u001b[0m\u001b[37m━\u001b[0m \u001b[1m0s\u001b[0m 2ms/step - loss: 0.0044\n",
      "Epoch 1: val_loss improved from inf to 0.00399, saving model to mymodel.keras\n",
      "\u001b[1m96/96\u001b[0m \u001b[32m━━━━━━━━━━━━━━━━━━━━\u001b[0m\u001b[37m\u001b[0m \u001b[1m2s\u001b[0m 6ms/step - loss: 0.0045 - val_loss: 0.0040\n",
      "Epoch 2/100\n",
      "\u001b[1m71/96\u001b[0m \u001b[32m━━━━━━━━━━━━━━\u001b[0m\u001b[37m━━━━━━\u001b[0m \u001b[1m0s\u001b[0m 2ms/step - loss: 0.0041\n",
      "Epoch 2: val_loss improved from 0.00399 to 0.00335, saving model to mymodel.keras\n",
      "\u001b[1m96/96\u001b[0m \u001b[32m━━━━━━━━━━━━━━━━━━━━\u001b[0m\u001b[37m\u001b[0m \u001b[1m0s\u001b[0m 3ms/step - loss: 0.0044 - val_loss: 0.0033\n",
      "Epoch 3/100\n",
      "\u001b[1m94/96\u001b[0m \u001b[32m━━━━━━━━━━━━━━━━━━━\u001b[0m\u001b[37m━\u001b[0m \u001b[1m0s\u001b[0m 2ms/step - loss: 0.0028\n",
      "Epoch 3: val_loss improved from 0.00335 to 0.00315, saving model to mymodel.keras\n",
      "\u001b[1m96/96\u001b[0m \u001b[32m━━━━━━━━━━━━━━━━━━━━\u001b[0m\u001b[37m\u001b[0m \u001b[1m0s\u001b[0m 3ms/step - loss: 0.0029 - val_loss: 0.0031\n",
      "Epoch 4/100\n",
      "\u001b[1m92/96\u001b[0m \u001b[32m━━━━━━━━━━━━━━━━━━━\u001b[0m\u001b[37m━\u001b[0m \u001b[1m0s\u001b[0m 2ms/step - loss: 0.0025\n",
      "Epoch 4: val_loss improved from 0.00315 to 0.00291, saving model to mymodel.keras\n",
      "\u001b[1m96/96\u001b[0m \u001b[32m━━━━━━━━━━━━━━━━━━━━\u001b[0m\u001b[37m\u001b[0m \u001b[1m0s\u001b[0m 3ms/step - loss: 0.0026 - val_loss: 0.0029\n",
      "Epoch 5/100\n",
      "\u001b[1m92/96\u001b[0m \u001b[32m━━━━━━━━━━━━━━━━━━━\u001b[0m\u001b[37m━\u001b[0m \u001b[1m0s\u001b[0m 2ms/step - loss: 0.0021\n",
      "Epoch 5: val_loss improved from 0.00291 to 0.00280, saving model to mymodel.keras\n",
      "\u001b[1m96/96\u001b[0m \u001b[32m━━━━━━━━━━━━━━━━━━━━\u001b[0m\u001b[37m\u001b[0m \u001b[1m0s\u001b[0m 3ms/step - loss: 0.0023 - val_loss: 0.0028\n",
      "Epoch 6/100\n",
      "\u001b[1m76/96\u001b[0m \u001b[32m━━━━━━━━━━━━━━━\u001b[0m\u001b[37m━━━━━\u001b[0m \u001b[1m0s\u001b[0m 2ms/step - loss: 0.0017\n",
      "Epoch 6: val_loss improved from 0.00280 to 0.00252, saving model to mymodel.keras\n",
      "\u001b[1m96/96\u001b[0m \u001b[32m━━━━━━━━━━━━━━━━━━━━\u001b[0m\u001b[37m\u001b[0m \u001b[1m0s\u001b[0m 3ms/step - loss: 0.0022 - val_loss: 0.0025\n",
      "Epoch 7/100\n",
      "\u001b[1m77/96\u001b[0m \u001b[32m━━━━━━━━━━━━━━━━\u001b[0m\u001b[37m━━━━\u001b[0m \u001b[1m0s\u001b[0m 2ms/step - loss: 0.0016    \n",
      "Epoch 7: val_loss did not improve from 0.00252\n",
      "\u001b[1m96/96\u001b[0m \u001b[32m━━━━━━━━━━━━━━━━━━━━\u001b[0m\u001b[37m\u001b[0m \u001b[1m0s\u001b[0m 3ms/step - loss: 0.0021 - val_loss: 0.0026\n",
      "Epoch 8/100\n",
      "\u001b[1m74/96\u001b[0m \u001b[32m━━━━━━━━━━━━━━━\u001b[0m\u001b[37m━━━━━\u001b[0m \u001b[1m0s\u001b[0m 2ms/step - loss: 0.0015\n",
      "Epoch 8: val_loss improved from 0.00252 to 0.00230, saving model to mymodel.keras\n",
      "\u001b[1m96/96\u001b[0m \u001b[32m━━━━━━━━━━━━━━━━━━━━\u001b[0m\u001b[37m\u001b[0m \u001b[1m0s\u001b[0m 3ms/step - loss: 0.0020 - val_loss: 0.0023\n",
      "Epoch 9/100\n",
      "\u001b[1m74/96\u001b[0m \u001b[32m━━━━━━━━━━━━━━━\u001b[0m\u001b[37m━━━━━\u001b[0m \u001b[1m0s\u001b[0m 2ms/step - loss: 0.0014    \n",
      "Epoch 9: val_loss improved from 0.00230 to 0.00224, saving model to mymodel.keras\n",
      "\u001b[1m96/96\u001b[0m \u001b[32m━━━━━━━━━━━━━━━━━━━━\u001b[0m\u001b[37m\u001b[0m \u001b[1m0s\u001b[0m 3ms/step - loss: 0.0019 - val_loss: 0.0022\n",
      "Epoch 10/100\n",
      "\u001b[1m95/96\u001b[0m \u001b[32m━━━━━━━━━━━━━━━━━━━\u001b[0m\u001b[37m━\u001b[0m \u001b[1m0s\u001b[0m 2ms/step - loss: 0.0017\n",
      "Epoch 10: val_loss improved from 0.00224 to 0.00218, saving model to mymodel.keras\n",
      "\u001b[1m96/96\u001b[0m \u001b[32m━━━━━━━━━━━━━━━━━━━━\u001b[0m\u001b[37m\u001b[0m \u001b[1m0s\u001b[0m 3ms/step - loss: 0.0017 - val_loss: 0.0022\n",
      "Epoch 11/100\n",
      "\u001b[1m74/96\u001b[0m \u001b[32m━━━━━━━━━━━━━━━\u001b[0m\u001b[37m━━━━━\u001b[0m \u001b[1m0s\u001b[0m 2ms/step - loss: 0.0014    \n",
      "Epoch 11: val_loss did not improve from 0.00218\n",
      "\u001b[1m96/96\u001b[0m \u001b[32m━━━━━━━━━━━━━━━━━━━━\u001b[0m\u001b[37m\u001b[0m \u001b[1m0s\u001b[0m 3ms/step - loss: 0.0019 - val_loss: 0.0026\n",
      "Epoch 12/100\n",
      "\u001b[1m75/96\u001b[0m \u001b[32m━━━━━━━━━━━━━━━\u001b[0m\u001b[37m━━━━━\u001b[0m \u001b[1m0s\u001b[0m 2ms/step - loss: 0.0017\n",
      "Epoch 12: val_loss did not improve from 0.00218\n",
      "\u001b[1m96/96\u001b[0m \u001b[32m━━━━━━━━━━━━━━━━━━━━\u001b[0m\u001b[37m\u001b[0m \u001b[1m0s\u001b[0m 3ms/step - loss: 0.0021 - val_loss: 0.0030\n",
      "Epoch 13/100\n",
      "\u001b[1m94/96\u001b[0m \u001b[32m━━━━━━━━━━━━━━━━━━━\u001b[0m\u001b[37m━\u001b[0m \u001b[1m0s\u001b[0m 2ms/step - loss: 0.0020\n",
      "Epoch 13: val_loss did not improve from 0.00218\n",
      "\u001b[1m96/96\u001b[0m \u001b[32m━━━━━━━━━━━━━━━━━━━━\u001b[0m\u001b[37m\u001b[0m \u001b[1m0s\u001b[0m 3ms/step - loss: 0.0021 - val_loss: 0.0025\n",
      "Epoch 14/100\n",
      "\u001b[1m95/96\u001b[0m \u001b[32m━━━━━━━━━━━━━━━━━━━\u001b[0m\u001b[37m━\u001b[0m \u001b[1m0s\u001b[0m 2ms/step - loss: 0.0022\n",
      "Epoch 14: val_loss did not improve from 0.00218\n",
      "\u001b[1m96/96\u001b[0m \u001b[32m━━━━━━━━━━━━━━━━━━━━\u001b[0m\u001b[37m\u001b[0m \u001b[1m0s\u001b[0m 3ms/step - loss: 0.0022 - val_loss: 0.0051\n",
      "Epoch 15/100\n",
      "\u001b[1m79/96\u001b[0m \u001b[32m━━━━━━━━━━━━━━━━\u001b[0m\u001b[37m━━━━\u001b[0m \u001b[1m0s\u001b[0m 2ms/step - loss: 0.0022\n",
      "Epoch 15: val_loss did not improve from 0.00218\n",
      "\u001b[1m96/96\u001b[0m \u001b[32m━━━━━━━━━━━━━━━━━━━━\u001b[0m\u001b[37m\u001b[0m \u001b[1m0s\u001b[0m 3ms/step - loss: 0.0025 - val_loss: 0.0037\n",
      "Epoch 16/100\n",
      "\u001b[1m73/96\u001b[0m \u001b[32m━━━━━━━━━━━━━━━\u001b[0m\u001b[37m━━━━━\u001b[0m \u001b[1m0s\u001b[0m 2ms/step - loss: 0.0016\n",
      "Epoch 16: val_loss did not improve from 0.00218\n",
      "\u001b[1m96/96\u001b[0m \u001b[32m━━━━━━━━━━━━━━━━━━━━\u001b[0m\u001b[37m\u001b[0m \u001b[1m0s\u001b[0m 3ms/step - loss: 0.0022 - val_loss: 0.0060\n",
      "Epoch 17/100\n",
      "\u001b[1m76/96\u001b[0m \u001b[32m━━━━━━━━━━━━━━━\u001b[0m\u001b[37m━━━━━\u001b[0m \u001b[1m0s\u001b[0m 2ms/step - loss: 0.0019\n",
      "Epoch 17: val_loss did not improve from 0.00218\n",
      "\u001b[1m96/96\u001b[0m \u001b[32m━━━━━━━━━━━━━━━━━━━━\u001b[0m\u001b[37m\u001b[0m \u001b[1m0s\u001b[0m 3ms/step - loss: 0.0024 - val_loss: 0.0050\n",
      "Epoch 18/100\n",
      "\u001b[1m95/96\u001b[0m \u001b[32m━━━━━━━━━━━━━━━━━━━\u001b[0m\u001b[37m━\u001b[0m \u001b[1m0s\u001b[0m 2ms/step - loss: 0.0020\n",
      "Epoch 18: val_loss did not improve from 0.00218\n",
      "\u001b[1m96/96\u001b[0m \u001b[32m━━━━━━━━━━━━━━━━━━━━\u001b[0m\u001b[37m\u001b[0m \u001b[1m0s\u001b[0m 3ms/step - loss: 0.0021 - val_loss: 0.0047\n",
      "Epoch 19/100\n",
      "\u001b[1m96/96\u001b[0m \u001b[32m━━━━━━━━━━━━━━━━━━━━\u001b[0m\u001b[37m\u001b[0m \u001b[1m0s\u001b[0m 2ms/step - loss: 0.0020\n",
      "Epoch 19: val_loss did not improve from 0.00218\n",
      "\u001b[1m96/96\u001b[0m \u001b[32m━━━━━━━━━━━━━━━━━━━━\u001b[0m\u001b[37m\u001b[0m \u001b[1m0s\u001b[0m 3ms/step - loss: 0.0020 - val_loss: 0.0060\n",
      "Epoch 20/100\n",
      "\u001b[1m73/96\u001b[0m \u001b[32m━━━━━━━━━━━━━━━\u001b[0m\u001b[37m━━━━━\u001b[0m \u001b[1m0s\u001b[0m 2ms/step - loss: 0.0016\n",
      "Epoch 20: val_loss did not improve from 0.00218\n",
      "\u001b[1m96/96\u001b[0m \u001b[32m━━━━━━━━━━━━━━━━━━━━\u001b[0m\u001b[37m\u001b[0m \u001b[1m0s\u001b[0m 3ms/step - loss: 0.0023 - val_loss: 0.0091\n",
      "Epoch 20: early stopping\n"
     ]
    }
   ],
   "source": [
    "history = model.fit(x=X_train,\n",
    "                    y=y_train,\n",
    "                    epochs=100,\n",
    "                    batch_size=20,\n",
    "                    validation_data=(X_test, y_test),\n",
    "                    callbacks=[callbacks],\n",
    "                    shuffle=False)"
   ]
  },
  {
   "cell_type": "code",
   "execution_count": 43,
   "id": "9e1b0fed",
   "metadata": {
    "execution": {
     "iopub.execute_input": "2025-03-16T00:38:17.929347Z",
     "iopub.status.busy": "2025-03-16T00:38:17.928272Z",
     "iopub.status.idle": "2025-03-16T00:38:18.160570Z",
     "shell.execute_reply": "2025-03-16T00:38:18.159486Z"
    },
    "id": "VzxR8n1yeGpV",
    "papermill": {
     "duration": 0.258897,
     "end_time": "2025-03-16T00:38:18.162783",
     "exception": false,
     "start_time": "2025-03-16T00:38:17.903886",
     "status": "completed"
    },
    "tags": []
   },
   "outputs": [
    {
     "data": {
      "image/png": "[encoded data removed]",
      "text/plain": [
       "<Figure size 2000x500 with 1 Axes>"
      ]
     },
     "metadata": {},
     "output_type": "display_data"
    }
   ],
   "source": [
    "plt.figure(figsize=(20,5))\n",
    "plt.subplot(1,2,1)\n",
    "plt.plot(history.history['loss'], label='Training Loss')\n",
    "plt.plot(history.history['val_loss'], label='Validation Loss')\n",
    "plt.legend(loc='upper right')\n",
    "plt.xlabel('Epoch', fontsize = 16)\n",
    "plt.ylabel('Loss', fontsize = 16)\n",
    "plt.ylim([0,max(plt.ylim())])\n",
    "plt.title('Training and Validation Loss', fontsize = 16)\n",
    "plt.show()"
   ]
  },
  {
   "cell_type": "markdown",
   "id": "6af9bba5",
   "metadata": {
    "id": "XO0NGWQWerLU",
    "papermill": {
     "duration": 0.022488,
     "end_time": "2025-03-16T00:38:18.208551",
     "exception": false,
     "start_time": "2025-03-16T00:38:18.186063",
     "status": "completed"
    },
    "tags": []
   },
   "source": [
    "## Evaluation"
   ]
  },
  {
   "cell_type": "code",
   "execution_count": 44,
   "id": "a9dcbd7b",
   "metadata": {
    "execution": {
     "iopub.execute_input": "2025-03-16T00:38:18.255814Z",
     "iopub.status.busy": "2025-03-16T00:38:18.254960Z",
     "iopub.status.idle": "2025-03-16T00:38:18.856589Z",
     "shell.execute_reply": "2025-03-16T00:38:18.855153Z"
    },
    "id": "hyeoNUjxetH-",
    "papermill": {
     "duration": 0.627844,
     "end_time": "2025-03-16T00:38:18.858969",
     "exception": false,
     "start_time": "2025-03-16T00:38:18.231125",
     "status": "completed"
    },
    "tags": []
   },
   "outputs": [
    {
     "name": "stdout",
     "output_type": "stream",
     "text": [
      "\u001b[1m463/463\u001b[0m \u001b[32m━━━━━━━━━━━━━━━━━━━━\u001b[0m\u001b[37m\u001b[0m \u001b[1m1s\u001b[0m 1ms/step - loss: 0.0106\n",
      "\n",
      "Test Loss: 0.9%\n"
     ]
    }
   ],
   "source": [
    "loss = model.evaluate(X_test, y_test, batch_size=1)\n",
    "print(\"\\nTest Loss: %.1f%%\" % (100.0 * loss))"
   ]
  },
  {
   "cell_type": "code",
   "execution_count": 45,
   "id": "07ca5b72",
   "metadata": {
    "execution": {
     "iopub.execute_input": "2025-03-16T00:38:18.907681Z",
     "iopub.status.busy": "2025-03-16T00:38:18.907280Z",
     "iopub.status.idle": "2025-03-16T00:38:19.379415Z",
     "shell.execute_reply": "2025-03-16T00:38:19.378337Z"
    },
    "id": "9e854j_NfFTV",
    "papermill": {
     "duration": 0.499295,
     "end_time": "2025-03-16T00:38:19.381868",
     "exception": false,
     "start_time": "2025-03-16T00:38:18.882573",
     "status": "completed"
    },
    "tags": []
   },
   "outputs": [
    {
     "name": "stdout",
     "output_type": "stream",
     "text": [
      "\u001b[1m60/60\u001b[0m \u001b[32m━━━━━━━━━━━━━━━━━━━━\u001b[0m\u001b[37m\u001b[0m \u001b[1m0s\u001b[0m 4ms/step\n"
     ]
    }
   ],
   "source": [
    "train_predict = model.predict(X_train)"
   ]
  },
  {
   "cell_type": "code",
   "execution_count": 46,
   "id": "29f73929",
   "metadata": {
    "execution": {
     "iopub.execute_input": "2025-03-16T00:38:19.431154Z",
     "iopub.status.busy": "2025-03-16T00:38:19.430699Z",
     "iopub.status.idle": "2025-03-16T00:38:19.534728Z",
     "shell.execute_reply": "2025-03-16T00:38:19.533589Z"
    },
    "id": "GZgJuMd-fqZW",
    "papermill": {
     "duration": 0.131551,
     "end_time": "2025-03-16T00:38:19.537393",
     "exception": false,
     "start_time": "2025-03-16T00:38:19.405842",
     "status": "completed"
    },
    "tags": []
   },
   "outputs": [
    {
     "name": "stdout",
     "output_type": "stream",
     "text": [
      "\u001b[1m15/15\u001b[0m \u001b[32m━━━━━━━━━━━━━━━━━━━━\u001b[0m\u001b[37m\u001b[0m \u001b[1m0s\u001b[0m 2ms/step \n"
     ]
    }
   ],
   "source": [
    "test_predict = model.predict(X_test)"
   ]
  },
  {
   "cell_type": "code",
   "execution_count": 47,
   "id": "1d1af426",
   "metadata": {
    "execution": {
     "iopub.execute_input": "2025-03-16T00:38:19.588044Z",
     "iopub.status.busy": "2025-03-16T00:38:19.587642Z",
     "iopub.status.idle": "2025-03-16T00:38:19.593207Z",
     "shell.execute_reply": "2025-03-16T00:38:19.592171Z"
    },
    "id": "FcH_8U3tfsGm",
    "papermill": {
     "duration": 0.033505,
     "end_time": "2025-03-16T00:38:19.595212",
     "exception": false,
     "start_time": "2025-03-16T00:38:19.561707",
     "status": "completed"
    },
    "tags": []
   },
   "outputs": [],
   "source": [
    "train_predict = scaler_train.inverse_transform(train_predict)\n",
    "test_predict = scaler_test.inverse_transform(test_predict)"
   ]
  },
  {
   "cell_type": "code",
   "execution_count": 48,
   "id": "10565db0",
   "metadata": {
    "execution": {
     "iopub.execute_input": "2025-03-16T00:38:19.645837Z",
     "iopub.status.busy": "2025-03-16T00:38:19.644685Z",
     "iopub.status.idle": "2025-03-16T00:38:19.650778Z",
     "shell.execute_reply": "2025-03-16T00:38:19.649680Z"
    },
    "id": "DsGDu-NKf912",
    "papermill": {
     "duration": 0.033924,
     "end_time": "2025-03-16T00:38:19.653192",
     "exception": false,
     "start_time": "2025-03-16T00:38:19.619268",
     "status": "completed"
    },
    "tags": []
   },
   "outputs": [],
   "source": [
    "y_train = scaler_train.inverse_transform(y_train)\n",
    "y_test = scaler_test.inverse_transform(y_test)"
   ]
  },
  {
   "cell_type": "code",
   "execution_count": 49,
   "id": "d34a4fff",
   "metadata": {
    "execution": {
     "iopub.execute_input": "2025-03-16T00:38:19.702883Z",
     "iopub.status.busy": "2025-03-16T00:38:19.702515Z",
     "iopub.status.idle": "2025-03-16T00:38:19.708554Z",
     "shell.execute_reply": "2025-03-16T00:38:19.707297Z"
    },
    "id": "ZLXqwAU7gGW2",
    "papermill": {
     "duration": 0.033633,
     "end_time": "2025-03-16T00:38:19.710655",
     "exception": false,
     "start_time": "2025-03-16T00:38:19.677022",
     "status": "completed"
    },
    "tags": []
   },
   "outputs": [],
   "source": [
    "train_rmse = np.sqrt(mean_squared_error(y_train, train_predict))"
   ]
  },
  {
   "cell_type": "code",
   "execution_count": 50,
   "id": "e3a1a468",
   "metadata": {
    "execution": {
     "iopub.execute_input": "2025-03-16T00:38:19.760201Z",
     "iopub.status.busy": "2025-03-16T00:38:19.759774Z",
     "iopub.status.idle": "2025-03-16T00:38:19.765530Z",
     "shell.execute_reply": "2025-03-16T00:38:19.764434Z"
    },
    "id": "76WbnJaIgJ4g",
    "papermill": {
     "duration": 0.033281,
     "end_time": "2025-03-16T00:38:19.767686",
     "exception": false,
     "start_time": "2025-03-16T00:38:19.734405",
     "status": "completed"
    },
    "tags": []
   },
   "outputs": [],
   "source": [
    "test_rmse = np.sqrt(mean_squared_error(y_test, test_predict))"
   ]
  },
  {
   "cell_type": "code",
   "execution_count": 51,
   "id": "b0b2eff1",
   "metadata": {
    "execution": {
     "iopub.execute_input": "2025-03-16T00:38:19.819064Z",
     "iopub.status.busy": "2025-03-16T00:38:19.818619Z",
     "iopub.status.idle": "2025-03-16T00:38:19.824303Z",
     "shell.execute_reply": "2025-03-16T00:38:19.823125Z"
    },
    "id": "WcUBQBz7gMV2",
    "papermill": {
     "duration": 0.033244,
     "end_time": "2025-03-16T00:38:19.826358",
     "exception": false,
     "start_time": "2025-03-16T00:38:19.793114",
     "status": "completed"
    },
    "tags": []
   },
   "outputs": [
    {
     "name": "stdout",
     "output_type": "stream",
     "text": [
      "Train RMSE: 35.290321350097656\n",
      "Test RMSE: 57.23884201049805\n"
     ]
    }
   ],
   "source": [
    "print(f\"Train RMSE: {train_rmse}\")\n",
    "print(f\"Test RMSE: {test_rmse}\")"
   ]
  },
  {
   "cell_type": "code",
   "execution_count": 52,
   "id": "1600c216",
   "metadata": {
    "execution": {
     "iopub.execute_input": "2025-03-16T00:38:19.876147Z",
     "iopub.status.busy": "2025-03-16T00:38:19.875308Z",
     "iopub.status.idle": "2025-03-16T00:38:19.905713Z",
     "shell.execute_reply": "2025-03-16T00:38:19.904770Z"
    },
    "id": "t_llof9mgYz_",
    "papermill": {
     "duration": 0.057867,
     "end_time": "2025-03-16T00:38:19.908139",
     "exception": false,
     "start_time": "2025-03-16T00:38:19.850272",
     "status": "completed"
    },
    "tags": []
   },
   "outputs": [
    {
     "data": {
      "text/html": [
       "<div>\n",
       "<style scoped>\n",
       "    .dataframe tbody tr th:only-of-type {\n",
       "        vertical-align: middle;\n",
       "    }\n",
       "\n",
       "    .dataframe tbody tr th {\n",
       "        vertical-align: top;\n",
       "    }\n",
       "\n",
       "    .dataframe thead th {\n",
       "        text-align: right;\n",
       "    }\n",
       "</style>\n",
       "<table border=\"1\" class=\"dataframe\">\n",
       "  <thead>\n",
       "    <tr style=\"text-align: right;\">\n",
       "      <th></th>\n",
       "      <th>count</th>\n",
       "      <th>mean</th>\n",
       "      <th>min</th>\n",
       "      <th>25%</th>\n",
       "      <th>50%</th>\n",
       "      <th>75%</th>\n",
       "      <th>max</th>\n",
       "      <th>std</th>\n",
       "    </tr>\n",
       "  </thead>\n",
       "  <tbody>\n",
       "    <tr>\n",
       "      <th>Date</th>\n",
       "      <td>2416</td>\n",
       "      <td>2015-04-15 11:09:56.026490112</td>\n",
       "      <td>2010-06-29 00:00:00</td>\n",
       "      <td>2012-11-19 18:00:00</td>\n",
       "      <td>2015-04-16 12:00:00</td>\n",
       "      <td>2017-09-07 06:00:00</td>\n",
       "      <td>2020-02-03 00:00:00</td>\n",
       "      <td>NaN</td>\n",
       "    </tr>\n",
       "    <tr>\n",
       "      <th>Open</th>\n",
       "      <td>2416.0</td>\n",
       "      <td>186.271147</td>\n",
       "      <td>16.139999</td>\n",
       "      <td>34.342498</td>\n",
       "      <td>213.035004</td>\n",
       "      <td>266.450012</td>\n",
       "      <td>673.690002</td>\n",
       "      <td>118.740163</td>\n",
       "    </tr>\n",
       "    <tr>\n",
       "      <th>High</th>\n",
       "      <td>2416.0</td>\n",
       "      <td>189.578224</td>\n",
       "      <td>16.629999</td>\n",
       "      <td>34.897501</td>\n",
       "      <td>216.745002</td>\n",
       "      <td>270.927513</td>\n",
       "      <td>786.140015</td>\n",
       "      <td>120.892329</td>\n",
       "    </tr>\n",
       "    <tr>\n",
       "      <th>Low</th>\n",
       "      <td>2416.0</td>\n",
       "      <td>182.916639</td>\n",
       "      <td>14.98</td>\n",
       "      <td>33.587501</td>\n",
       "      <td>208.870002</td>\n",
       "      <td>262.102501</td>\n",
       "      <td>673.52002</td>\n",
       "      <td>116.857591</td>\n",
       "    </tr>\n",
       "    <tr>\n",
       "      <th>Close</th>\n",
       "      <td>2416.0</td>\n",
       "      <td>186.403651</td>\n",
       "      <td>15.8</td>\n",
       "      <td>34.400002</td>\n",
       "      <td>212.960007</td>\n",
       "      <td>266.774994</td>\n",
       "      <td>780.0</td>\n",
       "      <td>119.13602</td>\n",
       "    </tr>\n",
       "    <tr>\n",
       "      <th>Adj Close</th>\n",
       "      <td>2416.0</td>\n",
       "      <td>186.403651</td>\n",
       "      <td>15.8</td>\n",
       "      <td>34.400002</td>\n",
       "      <td>212.960007</td>\n",
       "      <td>266.774994</td>\n",
       "      <td>780.0</td>\n",
       "      <td>119.13602</td>\n",
       "    </tr>\n",
       "    <tr>\n",
       "      <th>Volume</th>\n",
       "      <td>2416.0</td>\n",
       "      <td>5572721.688742</td>\n",
       "      <td>118500.0</td>\n",
       "      <td>1899275.0</td>\n",
       "      <td>4578400.0</td>\n",
       "      <td>7361150.0</td>\n",
       "      <td>47065000.0</td>\n",
       "      <td>4987809.151888</td>\n",
       "    </tr>\n",
       "  </tbody>\n",
       "</table>\n",
       "</div>"
      ],
      "text/plain": [
       "            count                           mean                  min  \\\n",
       "Date         2416  2015-04-15 11:09:56.026490112  2010-06-29 00:00:00   \n",
       "Open       2416.0                     186.271147            16.139999   \n",
       "High       2416.0                     189.578224            16.629999   \n",
       "Low        2416.0                     182.916639                14.98   \n",
       "Close      2416.0                     186.403651                 15.8   \n",
       "Adj Close  2416.0                     186.403651                 15.8   \n",
       "Volume     2416.0                 5572721.688742             118500.0   \n",
       "\n",
       "                           25%                  50%                  75%  \\\n",
       "Date       2012-11-19 18:00:00  2015-04-16 12:00:00  2017-09-07 06:00:00   \n",
       "Open                 34.342498           213.035004           266.450012   \n",
       "High                 34.897501           216.745002           270.927513   \n",
       "Low                  33.587501           208.870002           262.102501   \n",
       "Close                34.400002           212.960007           266.774994   \n",
       "Adj Close            34.400002           212.960007           266.774994   \n",
       "Volume               1899275.0            4578400.0            7361150.0   \n",
       "\n",
       "                           max             std  \n",
       "Date       2020-02-03 00:00:00             NaN  \n",
       "Open                673.690002      118.740163  \n",
       "High                786.140015      120.892329  \n",
       "Low                  673.52002      116.857591  \n",
       "Close                    780.0       119.13602  \n",
       "Adj Close                780.0       119.13602  \n",
       "Volume              47065000.0  4987809.151888  "
      ]
     },
     "execution_count": 52,
     "metadata": {},
     "output_type": "execute_result"
    }
   ],
   "source": [
    "df.describe().T"
   ]
  },
  {
   "cell_type": "code",
   "execution_count": 53,
   "id": "c7ee6b5f",
   "metadata": {
    "execution": {
     "iopub.execute_input": "2025-03-16T00:38:19.959058Z",
     "iopub.status.busy": "2025-03-16T00:38:19.958658Z",
     "iopub.status.idle": "2025-03-16T00:38:19.971388Z",
     "shell.execute_reply": "2025-03-16T00:38:19.970290Z"
    },
    "id": "-PSGVpMzgz1O",
    "papermill": {
     "duration": 0.041238,
     "end_time": "2025-03-16T00:38:19.973747",
     "exception": false,
     "start_time": "2025-03-16T00:38:19.932509",
     "status": "completed"
    },
    "tags": []
   },
   "outputs": [
    {
     "data": {
      "text/html": [
       "<div>\n",
       "<style scoped>\n",
       "    .dataframe tbody tr th:only-of-type {\n",
       "        vertical-align: middle;\n",
       "    }\n",
       "\n",
       "    .dataframe tbody tr th {\n",
       "        vertical-align: top;\n",
       "    }\n",
       "\n",
       "    .dataframe thead th {\n",
       "        text-align: right;\n",
       "    }\n",
       "</style>\n",
       "<table border=\"1\" class=\"dataframe\">\n",
       "  <thead>\n",
       "    <tr style=\"text-align: right;\">\n",
       "      <th></th>\n",
       "      <th>Close</th>\n",
       "      <th>Predicted</th>\n",
       "    </tr>\n",
       "    <tr>\n",
       "      <th>Date</th>\n",
       "      <th></th>\n",
       "      <th></th>\n",
       "    </tr>\n",
       "  </thead>\n",
       "  <tbody>\n",
       "    <tr>\n",
       "      <th>2010-07-28</th>\n",
       "      <td>20.719999</td>\n",
       "      <td>40.684155</td>\n",
       "    </tr>\n",
       "    <tr>\n",
       "      <th>2010-07-29</th>\n",
       "      <td>20.350000</td>\n",
       "      <td>40.684155</td>\n",
       "    </tr>\n",
       "    <tr>\n",
       "      <th>2010-07-30</th>\n",
       "      <td>19.940001</td>\n",
       "      <td>40.684155</td>\n",
       "    </tr>\n",
       "    <tr>\n",
       "      <th>2010-08-02</th>\n",
       "      <td>20.920000</td>\n",
       "      <td>40.684155</td>\n",
       "    </tr>\n",
       "    <tr>\n",
       "      <th>2010-08-03</th>\n",
       "      <td>21.950001</td>\n",
       "      <td>40.684155</td>\n",
       "    </tr>\n",
       "  </tbody>\n",
       "</table>\n",
       "</div>"
      ],
      "text/plain": [
       "                Close  Predicted\n",
       "Date                            \n",
       "2010-07-28  20.719999  40.684155\n",
       "2010-07-29  20.350000  40.684155\n",
       "2010-07-30  19.940001  40.684155\n",
       "2010-08-02  20.920000  40.684155\n",
       "2010-08-03  21.950001  40.684155"
      ]
     },
     "execution_count": 53,
     "metadata": {},
     "output_type": "execute_result"
    }
   ],
   "source": [
    "train_prediction_df = result_df[lookback:position]\n",
    "train_prediction_df[\"Predicted\"] = train_predict\n",
    "train_prediction_df.head()"
   ]
  },
  {
   "cell_type": "code",
   "execution_count": 54,
   "id": "07560e4c",
   "metadata": {
    "execution": {
     "iopub.execute_input": "2025-03-16T00:38:20.026341Z",
     "iopub.status.busy": "2025-03-16T00:38:20.025850Z",
     "iopub.status.idle": "2025-03-16T00:38:20.037932Z",
     "shell.execute_reply": "2025-03-16T00:38:20.036731Z"
    },
    "id": "o7tRAXwOhMSA",
    "papermill": {
     "duration": 0.041498,
     "end_time": "2025-03-16T00:38:20.040338",
     "exception": false,
     "start_time": "2025-03-16T00:38:19.998840",
     "status": "completed"
    },
    "tags": []
   },
   "outputs": [
    {
     "data": {
      "text/html": [
       "<div>\n",
       "<style scoped>\n",
       "    .dataframe tbody tr th:only-of-type {\n",
       "        vertical-align: middle;\n",
       "    }\n",
       "\n",
       "    .dataframe tbody tr th {\n",
       "        vertical-align: top;\n",
       "    }\n",
       "\n",
       "    .dataframe thead th {\n",
       "        text-align: right;\n",
       "    }\n",
       "</style>\n",
       "<table border=\"1\" class=\"dataframe\">\n",
       "  <thead>\n",
       "    <tr style=\"text-align: right;\">\n",
       "      <th></th>\n",
       "      <th>Close</th>\n",
       "      <th>Predicted</th>\n",
       "    </tr>\n",
       "    <tr>\n",
       "      <th>Date</th>\n",
       "      <th></th>\n",
       "      <th></th>\n",
       "    </tr>\n",
       "  </thead>\n",
       "  <tbody>\n",
       "    <tr>\n",
       "      <th>2018-04-03</th>\n",
       "      <td>267.529999</td>\n",
       "      <td>353.977600</td>\n",
       "    </tr>\n",
       "    <tr>\n",
       "      <th>2018-04-04</th>\n",
       "      <td>286.940002</td>\n",
       "      <td>350.179871</td>\n",
       "    </tr>\n",
       "    <tr>\n",
       "      <th>2018-04-05</th>\n",
       "      <td>305.720001</td>\n",
       "      <td>349.387512</td>\n",
       "    </tr>\n",
       "    <tr>\n",
       "      <th>2018-04-06</th>\n",
       "      <td>299.299988</td>\n",
       "      <td>352.354584</td>\n",
       "    </tr>\n",
       "    <tr>\n",
       "      <th>2018-04-09</th>\n",
       "      <td>289.660004</td>\n",
       "      <td>353.875427</td>\n",
       "    </tr>\n",
       "  </tbody>\n",
       "</table>\n",
       "</div>"
      ],
      "text/plain": [
       "                 Close   Predicted\n",
       "Date                              \n",
       "2018-04-03  267.529999  353.977600\n",
       "2018-04-04  286.940002  350.179871\n",
       "2018-04-05  305.720001  349.387512\n",
       "2018-04-06  299.299988  352.354584\n",
       "2018-04-09  289.660004  353.875427"
      ]
     },
     "execution_count": 54,
     "metadata": {},
     "output_type": "execute_result"
    }
   ],
   "source": [
    "test_prediction_df = result_df[position+lookback:]\n",
    "test_prediction_df[\"Predicted\"] = test_predict\n",
    "test_prediction_df.head()"
   ]
  },
  {
   "cell_type": "code",
   "execution_count": 55,
   "id": "66312ca1",
   "metadata": {
    "execution": {
     "iopub.execute_input": "2025-03-16T00:38:20.091863Z",
     "iopub.status.busy": "2025-03-16T00:38:20.091353Z",
     "iopub.status.idle": "2025-03-16T00:38:20.544210Z",
     "shell.execute_reply": "2025-03-16T00:38:20.542957Z"
    },
    "id": "PJ_-znSchYO_",
    "papermill": {
     "duration": 0.482092,
     "end_time": "2025-03-16T00:38:20.547100",
     "exception": false,
     "start_time": "2025-03-16T00:38:20.065008",
     "status": "completed"
    },
    "tags": []
   },
   "outputs": [
    {
     "data": {
      "image/png": "[encoded data removed]",
      "text/plain": [
       "<Figure size 1400x500 with 1 Axes>"
      ]
     },
     "metadata": {},
     "output_type": "display_data"
    }
   ],
   "source": [
    "plt.figure(figsize=(14,5))\n",
    "plt.plot(result_df, label = \"Real Number of Passengers\")\n",
    "plt.plot(train_prediction_df[\"Predicted\"], color = 'blue', label = \"Train Predicted Number of Passengers\")\n",
    "plt.plot(test_prediction_df[\"Predicted\"],color = 'red', label = \"Test Predicted Number of Passengers\")\n",
    "plt.title(\"Number of Passengers Prediction\")\n",
    "plt.xlabel(\"Time\")\n",
    "plt.ylabel(\"Number of Passengers\")\n",
    "plt.legend()\n",
    "plt.show()"
   ]
  }
 ],
 "metadata": {
  "colab": {
   "provenance": []
  },
  "kaggle": {
   "accelerator": "none",
   "dataSources": [
    {
     "datasetId": 500872,
     "sourceId": 927894,
     "sourceType": "datasetVersion"
    }
   ],
   "dockerImageVersionId": 30761,
   "isGpuEnabled": false,
   "isInternetEnabled": true,
   "language": "python",
   "sourceType": "notebook"
  },
  "kernelspec": {
   "display_name": "Python 3",
   "language": "python",
   "name": "python3"
  },
  "language_info": {
   "codemirror_mode": {
    "name": "ipython",
    "version": 3
   },
   "file_extension": ".py",
   "mimetype": "text/x-python",
   "name": "python",
   "nbconvert_exporter": "python",
   "pygments_lexer": "ipython3",
   "version": "3.10.14"
  },
  "papermill": {
   "default_parameters": {},
   "duration": 35.983913,
   "end_time": "2025-03-16T00:38:23.092822",
   "environment_variables": {},
   "exception": null,
   "input_path": "__notebook__.ipynb",
   "output_path": "__notebook__.ipynb",
   "parameters": {},
   "start_time": "2025-03-16T00:37:47.108909",
   "version": "2.6.0"
  }
 },
 "nbformat": 4,
 "nbformat_minor": 5
}
