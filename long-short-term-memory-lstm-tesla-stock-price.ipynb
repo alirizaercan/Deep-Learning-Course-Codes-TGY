{
 "cells": [
  {
   "cell_type": "markdown",
   "id": "420710ac",
   "metadata": {
    "id": "4unSJJjsT8BM",
    "papermill": {
     "duration": 0.011773,
     "end_time": "2025-04-02T17:00:08.501898",
     "exception": false,
     "start_time": "2025-04-02T17:00:08.490125",
     "status": "completed"
    },
    "tags": []
   },
   "source": [
    "# Tesla - Stock Price Prediction\n",
    "\n",
    "---\n",
    "\n"
   ]
  },
  {
   "cell_type": "markdown",
   "id": "5b92c5d4",
   "metadata": {
    "id": "wkRLJL2XUAfT",
    "papermill": {
     "duration": 0.010571,
     "end_time": "2025-04-02T17:00:08.523658",
     "exception": false,
     "start_time": "2025-04-02T17:00:08.513087",
     "status": "completed"
    },
    "tags": []
   },
   "source": [
    "## Business Problem\n",
    "\n",
    "In this notebook, our purpose is to predict of tesla - stock price."
   ]
  },
  {
   "cell_type": "markdown",
   "id": "e026317f",
   "metadata": {
    "id": "0uxjphZsUwjz",
    "papermill": {
     "duration": 0.010405,
     "end_time": "2025-04-02T17:00:08.544812",
     "exception": false,
     "start_time": "2025-04-02T17:00:08.534407",
     "status": "completed"
    },
    "tags": []
   },
   "source": [
    "## Data Understanding"
   ]
  },
  {
   "cell_type": "code",
   "execution_count": 1,
   "id": "0d011f79",
   "metadata": {
    "execution": {
     "iopub.execute_input": "2025-04-02T17:00:08.567950Z",
     "iopub.status.busy": "2025-04-02T17:00:08.567557Z",
     "iopub.status.idle": "2025-04-02T17:00:27.414136Z",
     "shell.execute_reply": "2025-04-02T17:00:27.412523Z"
    },
    "id": "40IR65rQUyWC",
    "outputId": "4562368d-970e-4fd6-b03e-be036efe4dcd",
    "papermill": {
     "duration": 18.86149,
     "end_time": "2025-04-02T17:00:27.416980",
     "exception": false,
     "start_time": "2025-04-02T17:00:08.555490",
     "status": "completed"
    },
    "tags": []
   },
   "outputs": [],
   "source": [
    "import numpy as np\n",
    "import pandas as pd\n",
    "import datetime as dt\n",
    "import tensorflow as tf\n",
    "import matplotlib.pyplot as plt\n",
    "\n",
    "from sklearn.preprocessing import MinMaxScaler\n",
    "from sklearn.metrics import mean_squared_error\n",
    "\n",
    "from tensorflow.keras.models import Sequential\n",
    "from tensorflow.keras.layers import Dense, LSTM, Dropout\n",
    "from tensorflow.keras.callbacks import ModelCheckpoint, EarlyStopping\n",
    "\n",
    "import warnings\n",
    "warnings.filterwarnings('ignore')\n",
    "\n",
    "import os\n",
    "os.environ['TF_CPP_MIN_LOG_LEVEL'] = '3'\n",
    "tf.compat.v1.logging.set_verbosity(tf.compat.v1.logging.ERROR)"
   ]
  },
  {
   "cell_type": "code",
   "execution_count": 2,
   "id": "fe3572a0",
   "metadata": {
    "execution": {
     "iopub.execute_input": "2025-04-02T17:00:27.440501Z",
     "iopub.status.busy": "2025-04-02T17:00:27.439839Z",
     "iopub.status.idle": "2025-04-02T17:00:27.500819Z",
     "shell.execute_reply": "2025-04-02T17:00:27.499258Z"
    },
    "id": "-be5_efvVpTV",
    "papermill": {
     "duration": 0.075249,
     "end_time": "2025-04-02T17:00:27.503285",
     "exception": false,
     "start_time": "2025-04-02T17:00:27.428036",
     "status": "completed"
    },
    "tags": []
   },
   "outputs": [
    {
     "data": {
      "text/html": [
       "<div>\n",
       "<style scoped>\n",
       "    .dataframe tbody tr th:only-of-type {\n",
       "        vertical-align: middle;\n",
       "    }\n",
       "\n",
       "    .dataframe tbody tr th {\n",
       "        vertical-align: top;\n",
       "    }\n",
       "\n",
       "    .dataframe thead th {\n",
       "        text-align: right;\n",
       "    }\n",
       "</style>\n",
       "<table border=\"1\" class=\"dataframe\">\n",
       "  <thead>\n",
       "    <tr style=\"text-align: right;\">\n",
       "      <th></th>\n",
       "      <th>Date</th>\n",
       "      <th>Open</th>\n",
       "      <th>High</th>\n",
       "      <th>Low</th>\n",
       "      <th>Close</th>\n",
       "      <th>Adj Close</th>\n",
       "      <th>Volume</th>\n",
       "    </tr>\n",
       "  </thead>\n",
       "  <tbody>\n",
       "    <tr>\n",
       "      <th>0</th>\n",
       "      <td>2010-06-29</td>\n",
       "      <td>19.000000</td>\n",
       "      <td>25.000000</td>\n",
       "      <td>17.540001</td>\n",
       "      <td>23.889999</td>\n",
       "      <td>23.889999</td>\n",
       "      <td>18766300</td>\n",
       "    </tr>\n",
       "    <tr>\n",
       "      <th>1</th>\n",
       "      <td>2010-06-30</td>\n",
       "      <td>25.790001</td>\n",
       "      <td>30.420000</td>\n",
       "      <td>23.299999</td>\n",
       "      <td>23.830000</td>\n",
       "      <td>23.830000</td>\n",
       "      <td>17187100</td>\n",
       "    </tr>\n",
       "    <tr>\n",
       "      <th>2</th>\n",
       "      <td>2010-07-01</td>\n",
       "      <td>25.000000</td>\n",
       "      <td>25.920000</td>\n",
       "      <td>20.270000</td>\n",
       "      <td>21.959999</td>\n",
       "      <td>21.959999</td>\n",
       "      <td>8218800</td>\n",
       "    </tr>\n",
       "    <tr>\n",
       "      <th>3</th>\n",
       "      <td>2010-07-02</td>\n",
       "      <td>23.000000</td>\n",
       "      <td>23.100000</td>\n",
       "      <td>18.709999</td>\n",
       "      <td>19.200001</td>\n",
       "      <td>19.200001</td>\n",
       "      <td>5139800</td>\n",
       "    </tr>\n",
       "    <tr>\n",
       "      <th>4</th>\n",
       "      <td>2010-07-06</td>\n",
       "      <td>20.000000</td>\n",
       "      <td>20.000000</td>\n",
       "      <td>15.830000</td>\n",
       "      <td>16.110001</td>\n",
       "      <td>16.110001</td>\n",
       "      <td>6866900</td>\n",
       "    </tr>\n",
       "    <tr>\n",
       "      <th>...</th>\n",
       "      <td>...</td>\n",
       "      <td>...</td>\n",
       "      <td>...</td>\n",
       "      <td>...</td>\n",
       "      <td>...</td>\n",
       "      <td>...</td>\n",
       "      <td>...</td>\n",
       "    </tr>\n",
       "    <tr>\n",
       "      <th>2411</th>\n",
       "      <td>2020-01-28</td>\n",
       "      <td>568.489990</td>\n",
       "      <td>576.809998</td>\n",
       "      <td>558.080017</td>\n",
       "      <td>566.900024</td>\n",
       "      <td>566.900024</td>\n",
       "      <td>11788500</td>\n",
       "    </tr>\n",
       "    <tr>\n",
       "      <th>2412</th>\n",
       "      <td>2020-01-29</td>\n",
       "      <td>575.690002</td>\n",
       "      <td>589.799988</td>\n",
       "      <td>567.429993</td>\n",
       "      <td>580.989990</td>\n",
       "      <td>580.989990</td>\n",
       "      <td>17801500</td>\n",
       "    </tr>\n",
       "    <tr>\n",
       "      <th>2413</th>\n",
       "      <td>2020-01-30</td>\n",
       "      <td>632.419983</td>\n",
       "      <td>650.880005</td>\n",
       "      <td>618.000000</td>\n",
       "      <td>640.809998</td>\n",
       "      <td>640.809998</td>\n",
       "      <td>29005700</td>\n",
       "    </tr>\n",
       "    <tr>\n",
       "      <th>2414</th>\n",
       "      <td>2020-01-31</td>\n",
       "      <td>640.000000</td>\n",
       "      <td>653.000000</td>\n",
       "      <td>632.520020</td>\n",
       "      <td>650.570007</td>\n",
       "      <td>650.570007</td>\n",
       "      <td>15719300</td>\n",
       "    </tr>\n",
       "    <tr>\n",
       "      <th>2415</th>\n",
       "      <td>2020-02-03</td>\n",
       "      <td>673.690002</td>\n",
       "      <td>786.140015</td>\n",
       "      <td>673.520020</td>\n",
       "      <td>780.000000</td>\n",
       "      <td>780.000000</td>\n",
       "      <td>47065000</td>\n",
       "    </tr>\n",
       "  </tbody>\n",
       "</table>\n",
       "<p>2416 rows × 7 columns</p>\n",
       "</div>"
      ],
      "text/plain": [
       "            Date        Open        High         Low       Close   Adj Close  \\\n",
       "0     2010-06-29   19.000000   25.000000   17.540001   23.889999   23.889999   \n",
       "1     2010-06-30   25.790001   30.420000   23.299999   23.830000   23.830000   \n",
       "2     2010-07-01   25.000000   25.920000   20.270000   21.959999   21.959999   \n",
       "3     2010-07-02   23.000000   23.100000   18.709999   19.200001   19.200001   \n",
       "4     2010-07-06   20.000000   20.000000   15.830000   16.110001   16.110001   \n",
       "...          ...         ...         ...         ...         ...         ...   \n",
       "2411  2020-01-28  568.489990  576.809998  558.080017  566.900024  566.900024   \n",
       "2412  2020-01-29  575.690002  589.799988  567.429993  580.989990  580.989990   \n",
       "2413  2020-01-30  632.419983  650.880005  618.000000  640.809998  640.809998   \n",
       "2414  2020-01-31  640.000000  653.000000  632.520020  650.570007  650.570007   \n",
       "2415  2020-02-03  673.690002  786.140015  673.520020  780.000000  780.000000   \n",
       "\n",
       "        Volume  \n",
       "0     18766300  \n",
       "1     17187100  \n",
       "2      8218800  \n",
       "3      5139800  \n",
       "4      6866900  \n",
       "...        ...  \n",
       "2411  11788500  \n",
       "2412  17801500  \n",
       "2413  29005700  \n",
       "2414  15719300  \n",
       "2415  47065000  \n",
       "\n",
       "[2416 rows x 7 columns]"
      ]
     },
     "execution_count": 2,
     "metadata": {},
     "output_type": "execute_result"
    }
   ],
   "source": [
    "df = pd.read_csv('/kaggle/input/tesla-stock-data-from-2010-to-2020/TSLA.csv')\n",
    "df"
   ]
  },
  {
   "cell_type": "code",
   "execution_count": 3,
   "id": "0cd3dcdc",
   "metadata": {
    "execution": {
     "iopub.execute_input": "2025-04-02T17:00:27.530027Z",
     "iopub.status.busy": "2025-04-02T17:00:27.529604Z",
     "iopub.status.idle": "2025-04-02T17:00:27.543370Z",
     "shell.execute_reply": "2025-04-02T17:00:27.542219Z"
    },
    "id": "lG_AO3mdVv17",
    "papermill": {
     "duration": 0.030735,
     "end_time": "2025-04-02T17:00:27.545589",
     "exception": false,
     "start_time": "2025-04-02T17:00:27.514854",
     "status": "completed"
    },
    "tags": []
   },
   "outputs": [
    {
     "data": {
      "text/html": [
       "<div>\n",
       "<style scoped>\n",
       "    .dataframe tbody tr th:only-of-type {\n",
       "        vertical-align: middle;\n",
       "    }\n",
       "\n",
       "    .dataframe tbody tr th {\n",
       "        vertical-align: top;\n",
       "    }\n",
       "\n",
       "    .dataframe thead th {\n",
       "        text-align: right;\n",
       "    }\n",
       "</style>\n",
       "<table border=\"1\" class=\"dataframe\">\n",
       "  <thead>\n",
       "    <tr style=\"text-align: right;\">\n",
       "      <th></th>\n",
       "      <th>Date</th>\n",
       "      <th>Open</th>\n",
       "      <th>High</th>\n",
       "      <th>Low</th>\n",
       "      <th>Close</th>\n",
       "      <th>Adj Close</th>\n",
       "      <th>Volume</th>\n",
       "    </tr>\n",
       "  </thead>\n",
       "  <tbody>\n",
       "    <tr>\n",
       "      <th>0</th>\n",
       "      <td>2010-06-29</td>\n",
       "      <td>19.000000</td>\n",
       "      <td>25.00</td>\n",
       "      <td>17.540001</td>\n",
       "      <td>23.889999</td>\n",
       "      <td>23.889999</td>\n",
       "      <td>18766300</td>\n",
       "    </tr>\n",
       "    <tr>\n",
       "      <th>1</th>\n",
       "      <td>2010-06-30</td>\n",
       "      <td>25.790001</td>\n",
       "      <td>30.42</td>\n",
       "      <td>23.299999</td>\n",
       "      <td>23.830000</td>\n",
       "      <td>23.830000</td>\n",
       "      <td>17187100</td>\n",
       "    </tr>\n",
       "    <tr>\n",
       "      <th>2</th>\n",
       "      <td>2010-07-01</td>\n",
       "      <td>25.000000</td>\n",
       "      <td>25.92</td>\n",
       "      <td>20.270000</td>\n",
       "      <td>21.959999</td>\n",
       "      <td>21.959999</td>\n",
       "      <td>8218800</td>\n",
       "    </tr>\n",
       "    <tr>\n",
       "      <th>3</th>\n",
       "      <td>2010-07-02</td>\n",
       "      <td>23.000000</td>\n",
       "      <td>23.10</td>\n",
       "      <td>18.709999</td>\n",
       "      <td>19.200001</td>\n",
       "      <td>19.200001</td>\n",
       "      <td>5139800</td>\n",
       "    </tr>\n",
       "    <tr>\n",
       "      <th>4</th>\n",
       "      <td>2010-07-06</td>\n",
       "      <td>20.000000</td>\n",
       "      <td>20.00</td>\n",
       "      <td>15.830000</td>\n",
       "      <td>16.110001</td>\n",
       "      <td>16.110001</td>\n",
       "      <td>6866900</td>\n",
       "    </tr>\n",
       "  </tbody>\n",
       "</table>\n",
       "</div>"
      ],
      "text/plain": [
       "         Date       Open   High        Low      Close  Adj Close    Volume\n",
       "0  2010-06-29  19.000000  25.00  17.540001  23.889999  23.889999  18766300\n",
       "1  2010-06-30  25.790001  30.42  23.299999  23.830000  23.830000  17187100\n",
       "2  2010-07-01  25.000000  25.92  20.270000  21.959999  21.959999   8218800\n",
       "3  2010-07-02  23.000000  23.10  18.709999  19.200001  19.200001   5139800\n",
       "4  2010-07-06  20.000000  20.00  15.830000  16.110001  16.110001   6866900"
      ]
     },
     "execution_count": 3,
     "metadata": {},
     "output_type": "execute_result"
    }
   ],
   "source": [
    "df.head()"
   ]
  },
  {
   "cell_type": "code",
   "execution_count": 4,
   "id": "906321a3",
   "metadata": {
    "execution": {
     "iopub.execute_input": "2025-04-02T17:00:27.570880Z",
     "iopub.status.busy": "2025-04-02T17:00:27.570325Z",
     "iopub.status.idle": "2025-04-02T17:00:27.577299Z",
     "shell.execute_reply": "2025-04-02T17:00:27.576162Z"
    },
    "id": "TU5hlfyvVxY0",
    "papermill": {
     "duration": 0.022773,
     "end_time": "2025-04-02T17:00:27.579676",
     "exception": false,
     "start_time": "2025-04-02T17:00:27.556903",
     "status": "completed"
    },
    "tags": []
   },
   "outputs": [],
   "source": [
    "def check_df(dataframe, head=5):\n",
    "    print(\"##################### Shape #####################\")\n",
    "    print(dataframe.shape)\n",
    "    print(\"##################### Types #####################\")\n",
    "    print(dataframe.dtypes)\n",
    "    print(\"##################### Head #####################\")\n",
    "    print(dataframe.head(head))  # Fonksiyon çağrısına dikkat edin\n",
    "    print(\"##################### Tail #####################\")\n",
    "    print(dataframe.tail(head))\n",
    "    print(\"##################### NA #####################\")\n",
    "    print(dataframe.isnull().sum())\n",
    "    print(\"##################### Quantile #####################\")\n",
    "    print(dataframe.select_dtypes(include='number').quantile([0, 0.05, 0.5, 0.95, 0.99, 1]).T)\n"
   ]
  },
  {
   "cell_type": "code",
   "execution_count": 5,
   "id": "5489a99b",
   "metadata": {
    "execution": {
     "iopub.execute_input": "2025-04-02T17:00:27.604549Z",
     "iopub.status.busy": "2025-04-02T17:00:27.604178Z",
     "iopub.status.idle": "2025-04-02T17:00:27.630544Z",
     "shell.execute_reply": "2025-04-02T17:00:27.629261Z"
    },
    "id": "t6iFP965V4vk",
    "papermill": {
     "duration": 0.043109,
     "end_time": "2025-04-02T17:00:27.634391",
     "exception": false,
     "start_time": "2025-04-02T17:00:27.591282",
     "status": "completed"
    },
    "tags": []
   },
   "outputs": [
    {
     "name": "stdout",
     "output_type": "stream",
     "text": [
      "##################### Shape #####################\n",
      "(2416, 7)\n",
      "##################### Types #####################\n",
      "Date          object\n",
      "Open         float64\n",
      "High         float64\n",
      "Low          float64\n",
      "Close        float64\n",
      "Adj Close    float64\n",
      "Volume         int64\n",
      "dtype: object\n",
      "##################### Head #####################\n",
      "         Date       Open   High        Low      Close  Adj Close    Volume\n",
      "0  2010-06-29  19.000000  25.00  17.540001  23.889999  23.889999  18766300\n",
      "1  2010-06-30  25.790001  30.42  23.299999  23.830000  23.830000  17187100\n",
      "2  2010-07-01  25.000000  25.92  20.270000  21.959999  21.959999   8218800\n",
      "3  2010-07-02  23.000000  23.10  18.709999  19.200001  19.200001   5139800\n",
      "4  2010-07-06  20.000000  20.00  15.830000  16.110001  16.110001   6866900\n",
      "##################### Tail #####################\n",
      "            Date        Open        High         Low       Close   Adj Close  \\\n",
      "2411  2020-01-28  568.489990  576.809998  558.080017  566.900024  566.900024   \n",
      "2412  2020-01-29  575.690002  589.799988  567.429993  580.989990  580.989990   \n",
      "2413  2020-01-30  632.419983  650.880005  618.000000  640.809998  640.809998   \n",
      "2414  2020-01-31  640.000000  653.000000  632.520020  650.570007  650.570007   \n",
      "2415  2020-02-03  673.690002  786.140015  673.520020  780.000000  780.000000   \n",
      "\n",
      "        Volume  \n",
      "2411  11788500  \n",
      "2412  17801500  \n",
      "2413  29005700  \n",
      "2414  15719300  \n",
      "2415  47065000  \n",
      "##################### NA #####################\n",
      "Date         0\n",
      "Open         0\n",
      "High         0\n",
      "Low          0\n",
      "Close        0\n",
      "Adj Close    0\n",
      "Volume       0\n",
      "dtype: int64\n",
      "##################### Quantile #####################\n",
      "                    0.00           0.05          0.50          0.95  \\\n",
      "Open           16.139999      23.384999  2.130350e+02  3.519100e+02   \n",
      "High           16.629999      24.022501  2.167450e+02  3.567500e+02   \n",
      "Low            14.980000      22.867499  2.088700e+02  3.460250e+02   \n",
      "Close          15.800000      23.565000  2.129600e+02  3.511675e+02   \n",
      "Adj Close      15.800000      23.565000  2.129600e+02  3.511675e+02   \n",
      "Volume     118500.000000  633825.000000  4.578400e+06  1.476090e+07   \n",
      "\n",
      "                   0.99          1.00  \n",
      "Open       4.235790e+02  6.736900e+02  \n",
      "High       4.284705e+02  7.861400e+02  \n",
      "Low        4.122865e+02  6.735200e+02  \n",
      "Close      4.243455e+02  7.800000e+02  \n",
      "Adj Close  4.243455e+02  7.800000e+02  \n",
      "Volume     2.459959e+07  4.706500e+07  \n"
     ]
    }
   ],
   "source": [
    "check_df(df)"
   ]
  },
  {
   "cell_type": "markdown",
   "id": "72da851b",
   "metadata": {
    "id": "v2n2ONcpWlQl",
    "papermill": {
     "duration": 0.011257,
     "end_time": "2025-04-02T17:00:27.657220",
     "exception": false,
     "start_time": "2025-04-02T17:00:27.645963",
     "status": "completed"
    },
    "tags": []
   },
   "source": [
    "## Data Preparation"
   ]
  },
  {
   "cell_type": "code",
   "execution_count": 6,
   "id": "441092a2",
   "metadata": {
    "execution": {
     "iopub.execute_input": "2025-04-02T17:00:27.682134Z",
     "iopub.status.busy": "2025-04-02T17:00:27.681742Z",
     "iopub.status.idle": "2025-04-02T17:00:27.693877Z",
     "shell.execute_reply": "2025-04-02T17:00:27.692846Z"
    },
    "id": "x-En8ormWAo8",
    "papermill": {
     "duration": 0.027837,
     "end_time": "2025-04-02T17:00:27.696376",
     "exception": false,
     "start_time": "2025-04-02T17:00:27.668539",
     "status": "completed"
    },
    "tags": []
   },
   "outputs": [],
   "source": [
    "df[\"Date\"] = pd.to_datetime(df[\"Date\"])"
   ]
  },
  {
   "cell_type": "code",
   "execution_count": 7,
   "id": "7767c9de",
   "metadata": {
    "execution": {
     "iopub.execute_input": "2025-04-02T17:00:27.722134Z",
     "iopub.status.busy": "2025-04-02T17:00:27.721738Z",
     "iopub.status.idle": "2025-04-02T17:00:27.737739Z",
     "shell.execute_reply": "2025-04-02T17:00:27.736351Z"
    },
    "id": "Wk3C4MPkWBUG",
    "papermill": {
     "duration": 0.031926,
     "end_time": "2025-04-02T17:00:27.740946",
     "exception": false,
     "start_time": "2025-04-02T17:00:27.709020",
     "status": "completed"
    },
    "tags": []
   },
   "outputs": [
    {
     "data": {
      "text/html": [
       "<div>\n",
       "<style scoped>\n",
       "    .dataframe tbody tr th:only-of-type {\n",
       "        vertical-align: middle;\n",
       "    }\n",
       "\n",
       "    .dataframe tbody tr th {\n",
       "        vertical-align: top;\n",
       "    }\n",
       "\n",
       "    .dataframe thead th {\n",
       "        text-align: right;\n",
       "    }\n",
       "</style>\n",
       "<table border=\"1\" class=\"dataframe\">\n",
       "  <thead>\n",
       "    <tr style=\"text-align: right;\">\n",
       "      <th></th>\n",
       "      <th>Date</th>\n",
       "      <th>Open</th>\n",
       "      <th>High</th>\n",
       "      <th>Low</th>\n",
       "      <th>Close</th>\n",
       "      <th>Adj Close</th>\n",
       "      <th>Volume</th>\n",
       "    </tr>\n",
       "  </thead>\n",
       "  <tbody>\n",
       "    <tr>\n",
       "      <th>0</th>\n",
       "      <td>2010-06-29</td>\n",
       "      <td>19.000000</td>\n",
       "      <td>25.00</td>\n",
       "      <td>17.540001</td>\n",
       "      <td>23.889999</td>\n",
       "      <td>23.889999</td>\n",
       "      <td>18766300</td>\n",
       "    </tr>\n",
       "    <tr>\n",
       "      <th>1</th>\n",
       "      <td>2010-06-30</td>\n",
       "      <td>25.790001</td>\n",
       "      <td>30.42</td>\n",
       "      <td>23.299999</td>\n",
       "      <td>23.830000</td>\n",
       "      <td>23.830000</td>\n",
       "      <td>17187100</td>\n",
       "    </tr>\n",
       "    <tr>\n",
       "      <th>2</th>\n",
       "      <td>2010-07-01</td>\n",
       "      <td>25.000000</td>\n",
       "      <td>25.92</td>\n",
       "      <td>20.270000</td>\n",
       "      <td>21.959999</td>\n",
       "      <td>21.959999</td>\n",
       "      <td>8218800</td>\n",
       "    </tr>\n",
       "    <tr>\n",
       "      <th>3</th>\n",
       "      <td>2010-07-02</td>\n",
       "      <td>23.000000</td>\n",
       "      <td>23.10</td>\n",
       "      <td>18.709999</td>\n",
       "      <td>19.200001</td>\n",
       "      <td>19.200001</td>\n",
       "      <td>5139800</td>\n",
       "    </tr>\n",
       "    <tr>\n",
       "      <th>4</th>\n",
       "      <td>2010-07-06</td>\n",
       "      <td>20.000000</td>\n",
       "      <td>20.00</td>\n",
       "      <td>15.830000</td>\n",
       "      <td>16.110001</td>\n",
       "      <td>16.110001</td>\n",
       "      <td>6866900</td>\n",
       "    </tr>\n",
       "  </tbody>\n",
       "</table>\n",
       "</div>"
      ],
      "text/plain": [
       "        Date       Open   High        Low      Close  Adj Close    Volume\n",
       "0 2010-06-29  19.000000  25.00  17.540001  23.889999  23.889999  18766300\n",
       "1 2010-06-30  25.790001  30.42  23.299999  23.830000  23.830000  17187100\n",
       "2 2010-07-01  25.000000  25.92  20.270000  21.959999  21.959999   8218800\n",
       "3 2010-07-02  23.000000  23.10  18.709999  19.200001  19.200001   5139800\n",
       "4 2010-07-06  20.000000  20.00  15.830000  16.110001  16.110001   6866900"
      ]
     },
     "execution_count": 7,
     "metadata": {},
     "output_type": "execute_result"
    }
   ],
   "source": [
    "df.head()"
   ]
  },
  {
   "cell_type": "code",
   "execution_count": 8,
   "id": "210b55d3",
   "metadata": {
    "execution": {
     "iopub.execute_input": "2025-04-02T17:00:27.768165Z",
     "iopub.status.busy": "2025-04-02T17:00:27.767761Z",
     "iopub.status.idle": "2025-04-02T17:00:27.775228Z",
     "shell.execute_reply": "2025-04-02T17:00:27.773274Z"
    },
    "id": "ZOVzSrk1WCHu",
    "papermill": {
     "duration": 0.024873,
     "end_time": "2025-04-02T17:00:27.777622",
     "exception": false,
     "start_time": "2025-04-02T17:00:27.752749",
     "status": "completed"
    },
    "tags": []
   },
   "outputs": [],
   "source": [
    "tesla_df = df[[\"Date\", \"Close\"]]"
   ]
  },
  {
   "cell_type": "code",
   "execution_count": 9,
   "id": "ab49e425",
   "metadata": {
    "execution": {
     "iopub.execute_input": "2025-04-02T17:00:27.804184Z",
     "iopub.status.busy": "2025-04-02T17:00:27.803766Z",
     "iopub.status.idle": "2025-04-02T17:00:27.814671Z",
     "shell.execute_reply": "2025-04-02T17:00:27.813557Z"
    },
    "id": "Tli5FuMBWF8l",
    "papermill": {
     "duration": 0.026889,
     "end_time": "2025-04-02T17:00:27.816948",
     "exception": false,
     "start_time": "2025-04-02T17:00:27.790059",
     "status": "completed"
    },
    "tags": []
   },
   "outputs": [
    {
     "data": {
      "text/html": [
       "<div>\n",
       "<style scoped>\n",
       "    .dataframe tbody tr th:only-of-type {\n",
       "        vertical-align: middle;\n",
       "    }\n",
       "\n",
       "    .dataframe tbody tr th {\n",
       "        vertical-align: top;\n",
       "    }\n",
       "\n",
       "    .dataframe thead th {\n",
       "        text-align: right;\n",
       "    }\n",
       "</style>\n",
       "<table border=\"1\" class=\"dataframe\">\n",
       "  <thead>\n",
       "    <tr style=\"text-align: right;\">\n",
       "      <th></th>\n",
       "      <th>Date</th>\n",
       "      <th>Close</th>\n",
       "    </tr>\n",
       "  </thead>\n",
       "  <tbody>\n",
       "    <tr>\n",
       "      <th>0</th>\n",
       "      <td>2010-06-29</td>\n",
       "      <td>23.889999</td>\n",
       "    </tr>\n",
       "    <tr>\n",
       "      <th>1</th>\n",
       "      <td>2010-06-30</td>\n",
       "      <td>23.830000</td>\n",
       "    </tr>\n",
       "    <tr>\n",
       "      <th>2</th>\n",
       "      <td>2010-07-01</td>\n",
       "      <td>21.959999</td>\n",
       "    </tr>\n",
       "    <tr>\n",
       "      <th>3</th>\n",
       "      <td>2010-07-02</td>\n",
       "      <td>19.200001</td>\n",
       "    </tr>\n",
       "    <tr>\n",
       "      <th>4</th>\n",
       "      <td>2010-07-06</td>\n",
       "      <td>16.110001</td>\n",
       "    </tr>\n",
       "  </tbody>\n",
       "</table>\n",
       "</div>"
      ],
      "text/plain": [
       "        Date      Close\n",
       "0 2010-06-29  23.889999\n",
       "1 2010-06-30  23.830000\n",
       "2 2010-07-01  21.959999\n",
       "3 2010-07-02  19.200001\n",
       "4 2010-07-06  16.110001"
      ]
     },
     "execution_count": 9,
     "metadata": {},
     "output_type": "execute_result"
    }
   ],
   "source": [
    "tesla_df.head()"
   ]
  },
  {
   "cell_type": "code",
   "execution_count": 10,
   "id": "240f6ba4",
   "metadata": {
    "execution": {
     "iopub.execute_input": "2025-04-02T17:00:27.843138Z",
     "iopub.status.busy": "2025-04-02T17:00:27.842709Z",
     "iopub.status.idle": "2025-04-02T17:00:27.849737Z",
     "shell.execute_reply": "2025-04-02T17:00:27.848309Z"
    },
    "id": "Gsw5OQCAWLzn",
    "papermill": {
     "duration": 0.022798,
     "end_time": "2025-04-02T17:00:27.852061",
     "exception": false,
     "start_time": "2025-04-02T17:00:27.829263",
     "status": "completed"
    },
    "tags": []
   },
   "outputs": [
    {
     "name": "stdout",
     "output_type": "stream",
     "text": [
      "Min Date:  2010-06-29 00:00:00\n",
      "Max Date:  2020-02-03 00:00:00\n"
     ]
    }
   ],
   "source": [
    "print(\"Min Date: \", tesla_df[\"Date\"].min())\n",
    "print(\"Max Date: \", tesla_df[\"Date\"].max())"
   ]
  },
  {
   "cell_type": "code",
   "execution_count": 11,
   "id": "218a677a",
   "metadata": {
    "execution": {
     "iopub.execute_input": "2025-04-02T17:00:27.878077Z",
     "iopub.status.busy": "2025-04-02T17:00:27.877653Z",
     "iopub.status.idle": "2025-04-02T17:00:27.883263Z",
     "shell.execute_reply": "2025-04-02T17:00:27.882193Z"
    },
    "id": "JGi8P08mWQO1",
    "papermill": {
     "duration": 0.02093,
     "end_time": "2025-04-02T17:00:27.885319",
     "exception": false,
     "start_time": "2025-04-02T17:00:27.864389",
     "status": "completed"
    },
    "tags": []
   },
   "outputs": [],
   "source": [
    "tesla_df.index = tesla_df[\"Date\"]"
   ]
  },
  {
   "cell_type": "code",
   "execution_count": 12,
   "id": "3b2cfa48",
   "metadata": {
    "execution": {
     "iopub.execute_input": "2025-04-02T17:00:27.912345Z",
     "iopub.status.busy": "2025-04-02T17:00:27.911515Z",
     "iopub.status.idle": "2025-04-02T17:00:27.923325Z",
     "shell.execute_reply": "2025-04-02T17:00:27.922272Z"
    },
    "id": "YBWxX2IOWoL_",
    "papermill": {
     "duration": 0.027981,
     "end_time": "2025-04-02T17:00:27.925471",
     "exception": false,
     "start_time": "2025-04-02T17:00:27.897490",
     "status": "completed"
    },
    "tags": []
   },
   "outputs": [
    {
     "data": {
      "text/html": [
       "<div>\n",
       "<style scoped>\n",
       "    .dataframe tbody tr th:only-of-type {\n",
       "        vertical-align: middle;\n",
       "    }\n",
       "\n",
       "    .dataframe tbody tr th {\n",
       "        vertical-align: top;\n",
       "    }\n",
       "\n",
       "    .dataframe thead th {\n",
       "        text-align: right;\n",
       "    }\n",
       "</style>\n",
       "<table border=\"1\" class=\"dataframe\">\n",
       "  <thead>\n",
       "    <tr style=\"text-align: right;\">\n",
       "      <th></th>\n",
       "      <th>Date</th>\n",
       "      <th>Close</th>\n",
       "    </tr>\n",
       "    <tr>\n",
       "      <th>Date</th>\n",
       "      <th></th>\n",
       "      <th></th>\n",
       "    </tr>\n",
       "  </thead>\n",
       "  <tbody>\n",
       "    <tr>\n",
       "      <th>2010-06-29</th>\n",
       "      <td>2010-06-29</td>\n",
       "      <td>23.889999</td>\n",
       "    </tr>\n",
       "    <tr>\n",
       "      <th>2010-06-30</th>\n",
       "      <td>2010-06-30</td>\n",
       "      <td>23.830000</td>\n",
       "    </tr>\n",
       "    <tr>\n",
       "      <th>2010-07-01</th>\n",
       "      <td>2010-07-01</td>\n",
       "      <td>21.959999</td>\n",
       "    </tr>\n",
       "    <tr>\n",
       "      <th>2010-07-02</th>\n",
       "      <td>2010-07-02</td>\n",
       "      <td>19.200001</td>\n",
       "    </tr>\n",
       "    <tr>\n",
       "      <th>2010-07-06</th>\n",
       "      <td>2010-07-06</td>\n",
       "      <td>16.110001</td>\n",
       "    </tr>\n",
       "    <tr>\n",
       "      <th>...</th>\n",
       "      <td>...</td>\n",
       "      <td>...</td>\n",
       "    </tr>\n",
       "    <tr>\n",
       "      <th>2020-01-28</th>\n",
       "      <td>2020-01-28</td>\n",
       "      <td>566.900024</td>\n",
       "    </tr>\n",
       "    <tr>\n",
       "      <th>2020-01-29</th>\n",
       "      <td>2020-01-29</td>\n",
       "      <td>580.989990</td>\n",
       "    </tr>\n",
       "    <tr>\n",
       "      <th>2020-01-30</th>\n",
       "      <td>2020-01-30</td>\n",
       "      <td>640.809998</td>\n",
       "    </tr>\n",
       "    <tr>\n",
       "      <th>2020-01-31</th>\n",
       "      <td>2020-01-31</td>\n",
       "      <td>650.570007</td>\n",
       "    </tr>\n",
       "    <tr>\n",
       "      <th>2020-02-03</th>\n",
       "      <td>2020-02-03</td>\n",
       "      <td>780.000000</td>\n",
       "    </tr>\n",
       "  </tbody>\n",
       "</table>\n",
       "<p>2416 rows × 2 columns</p>\n",
       "</div>"
      ],
      "text/plain": [
       "                 Date       Close\n",
       "Date                             \n",
       "2010-06-29 2010-06-29   23.889999\n",
       "2010-06-30 2010-06-30   23.830000\n",
       "2010-07-01 2010-07-01   21.959999\n",
       "2010-07-02 2010-07-02   19.200001\n",
       "2010-07-06 2010-07-06   16.110001\n",
       "...               ...         ...\n",
       "2020-01-28 2020-01-28  566.900024\n",
       "2020-01-29 2020-01-29  580.989990\n",
       "2020-01-30 2020-01-30  640.809998\n",
       "2020-01-31 2020-01-31  650.570007\n",
       "2020-02-03 2020-02-03  780.000000\n",
       "\n",
       "[2416 rows x 2 columns]"
      ]
     },
     "execution_count": 12,
     "metadata": {},
     "output_type": "execute_result"
    }
   ],
   "source": [
    "tesla_df"
   ]
  },
  {
   "cell_type": "code",
   "execution_count": 13,
   "id": "35522810",
   "metadata": {
    "execution": {
     "iopub.execute_input": "2025-04-02T17:00:27.953078Z",
     "iopub.status.busy": "2025-04-02T17:00:27.951972Z",
     "iopub.status.idle": "2025-04-02T17:00:27.958540Z",
     "shell.execute_reply": "2025-04-02T17:00:27.957525Z"
    },
    "id": "tgPM31WBWvcH",
    "papermill": {
     "duration": 0.022003,
     "end_time": "2025-04-02T17:00:27.960667",
     "exception": false,
     "start_time": "2025-04-02T17:00:27.938664",
     "status": "completed"
    },
    "tags": []
   },
   "outputs": [],
   "source": [
    "tesla_df.drop(\"Date\", axis=1, inplace=True)"
   ]
  },
  {
   "cell_type": "code",
   "execution_count": 14,
   "id": "12c4f521",
   "metadata": {
    "execution": {
     "iopub.execute_input": "2025-04-02T17:00:27.989481Z",
     "iopub.status.busy": "2025-04-02T17:00:27.989080Z",
     "iopub.status.idle": "2025-04-02T17:00:28.000510Z",
     "shell.execute_reply": "2025-04-02T17:00:27.999120Z"
    },
    "id": "17KdnKMGWwSm",
    "papermill": {
     "duration": 0.02959,
     "end_time": "2025-04-02T17:00:28.002953",
     "exception": false,
     "start_time": "2025-04-02T17:00:27.973363",
     "status": "completed"
    },
    "tags": []
   },
   "outputs": [
    {
     "data": {
      "text/html": [
       "<div>\n",
       "<style scoped>\n",
       "    .dataframe tbody tr th:only-of-type {\n",
       "        vertical-align: middle;\n",
       "    }\n",
       "\n",
       "    .dataframe tbody tr th {\n",
       "        vertical-align: top;\n",
       "    }\n",
       "\n",
       "    .dataframe thead th {\n",
       "        text-align: right;\n",
       "    }\n",
       "</style>\n",
       "<table border=\"1\" class=\"dataframe\">\n",
       "  <thead>\n",
       "    <tr style=\"text-align: right;\">\n",
       "      <th></th>\n",
       "      <th>Close</th>\n",
       "    </tr>\n",
       "    <tr>\n",
       "      <th>Date</th>\n",
       "      <th></th>\n",
       "    </tr>\n",
       "  </thead>\n",
       "  <tbody>\n",
       "    <tr>\n",
       "      <th>2010-06-29</th>\n",
       "      <td>23.889999</td>\n",
       "    </tr>\n",
       "    <tr>\n",
       "      <th>2010-06-30</th>\n",
       "      <td>23.830000</td>\n",
       "    </tr>\n",
       "    <tr>\n",
       "      <th>2010-07-01</th>\n",
       "      <td>21.959999</td>\n",
       "    </tr>\n",
       "    <tr>\n",
       "      <th>2010-07-02</th>\n",
       "      <td>19.200001</td>\n",
       "    </tr>\n",
       "    <tr>\n",
       "      <th>2010-07-06</th>\n",
       "      <td>16.110001</td>\n",
       "    </tr>\n",
       "    <tr>\n",
       "      <th>...</th>\n",
       "      <td>...</td>\n",
       "    </tr>\n",
       "    <tr>\n",
       "      <th>2020-01-28</th>\n",
       "      <td>566.900024</td>\n",
       "    </tr>\n",
       "    <tr>\n",
       "      <th>2020-01-29</th>\n",
       "      <td>580.989990</td>\n",
       "    </tr>\n",
       "    <tr>\n",
       "      <th>2020-01-30</th>\n",
       "      <td>640.809998</td>\n",
       "    </tr>\n",
       "    <tr>\n",
       "      <th>2020-01-31</th>\n",
       "      <td>650.570007</td>\n",
       "    </tr>\n",
       "    <tr>\n",
       "      <th>2020-02-03</th>\n",
       "      <td>780.000000</td>\n",
       "    </tr>\n",
       "  </tbody>\n",
       "</table>\n",
       "<p>2416 rows × 1 columns</p>\n",
       "</div>"
      ],
      "text/plain": [
       "                 Close\n",
       "Date                  \n",
       "2010-06-29   23.889999\n",
       "2010-06-30   23.830000\n",
       "2010-07-01   21.959999\n",
       "2010-07-02   19.200001\n",
       "2010-07-06   16.110001\n",
       "...                ...\n",
       "2020-01-28  566.900024\n",
       "2020-01-29  580.989990\n",
       "2020-01-30  640.809998\n",
       "2020-01-31  650.570007\n",
       "2020-02-03  780.000000\n",
       "\n",
       "[2416 rows x 1 columns]"
      ]
     },
     "execution_count": 14,
     "metadata": {},
     "output_type": "execute_result"
    }
   ],
   "source": [
    "tesla_df"
   ]
  },
  {
   "cell_type": "code",
   "execution_count": 15,
   "id": "e0e135f7",
   "metadata": {
    "execution": {
     "iopub.execute_input": "2025-04-02T17:00:28.030868Z",
     "iopub.status.busy": "2025-04-02T17:00:28.030445Z",
     "iopub.status.idle": "2025-04-02T17:00:28.035885Z",
     "shell.execute_reply": "2025-04-02T17:00:28.034514Z"
    },
    "id": "PliZ5OcsWxsF",
    "papermill": {
     "duration": 0.022117,
     "end_time": "2025-04-02T17:00:28.038450",
     "exception": false,
     "start_time": "2025-04-02T17:00:28.016333",
     "status": "completed"
    },
    "tags": []
   },
   "outputs": [],
   "source": [
    "result_df = tesla_df.copy()"
   ]
  },
  {
   "cell_type": "code",
   "execution_count": 16,
   "id": "d86df6e0",
   "metadata": {
    "execution": {
     "iopub.execute_input": "2025-04-02T17:00:28.064606Z",
     "iopub.status.busy": "2025-04-02T17:00:28.064068Z",
     "iopub.status.idle": "2025-04-02T17:00:28.417456Z",
     "shell.execute_reply": "2025-04-02T17:00:28.415825Z"
    },
    "id": "ObqHX6K2W0te",
    "papermill": {
     "duration": 0.369464,
     "end_time": "2025-04-02T17:00:28.420135",
     "exception": false,
     "start_time": "2025-04-02T17:00:28.050671",
     "status": "completed"
    },
    "tags": []
   },
   "outputs": [
    {
     "data": {
      "image/png": "[encoded data removed]",
      "text/plain": [
       "<Figure size 1400x500 with 1 Axes>"
      ]
     },
     "metadata": {},
     "output_type": "display_data"
    }
   ],
   "source": [
    "plt.figure(figsize=(14,5))\n",
    "plt.plot(tesla_df['Close'], color='blue')\n",
    "plt.title(\"Tesla Stock Price\")\n",
    "plt.xlabel(\"Time\")\n",
    "plt.ylabel(\"Stock Price\")\n",
    "plt.show()"
   ]
  },
  {
   "cell_type": "code",
   "execution_count": 17,
   "id": "75674e54",
   "metadata": {
    "execution": {
     "iopub.execute_input": "2025-04-02T17:00:28.465140Z",
     "iopub.status.busy": "2025-04-02T17:00:28.463809Z",
     "iopub.status.idle": "2025-04-02T17:00:28.469883Z",
     "shell.execute_reply": "2025-04-02T17:00:28.468529Z"
    },
    "id": "5LWFDWjNW2z2",
    "papermill": {
     "duration": 0.02557,
     "end_time": "2025-04-02T17:00:28.473216",
     "exception": false,
     "start_time": "2025-04-02T17:00:28.447646",
     "status": "completed"
    },
    "tags": []
   },
   "outputs": [],
   "source": [
    "tesla_df = tesla_df.values"
   ]
  },
  {
   "cell_type": "code",
   "execution_count": 18,
   "id": "2cc77ffa",
   "metadata": {
    "execution": {
     "iopub.execute_input": "2025-04-02T17:00:28.506845Z",
     "iopub.status.busy": "2025-04-02T17:00:28.506492Z",
     "iopub.status.idle": "2025-04-02T17:00:28.514667Z",
     "shell.execute_reply": "2025-04-02T17:00:28.513022Z"
    },
    "id": "jxFZkTS-W9Mm",
    "papermill": {
     "duration": 0.029218,
     "end_time": "2025-04-02T17:00:28.516970",
     "exception": false,
     "start_time": "2025-04-02T17:00:28.487752",
     "status": "completed"
    },
    "tags": []
   },
   "outputs": [
    {
     "data": {
      "text/plain": [
       "array([[23.889999],\n",
       "       [23.83    ],\n",
       "       [21.959999],\n",
       "       [19.200001],\n",
       "       [16.110001]])"
      ]
     },
     "execution_count": 18,
     "metadata": {},
     "output_type": "execute_result"
    }
   ],
   "source": [
    "tesla_df[0:5]"
   ]
  },
  {
   "cell_type": "code",
   "execution_count": 19,
   "id": "da956103",
   "metadata": {
    "execution": {
     "iopub.execute_input": "2025-04-02T17:00:28.546325Z",
     "iopub.status.busy": "2025-04-02T17:00:28.545910Z",
     "iopub.status.idle": "2025-04-02T17:00:28.550953Z",
     "shell.execute_reply": "2025-04-02T17:00:28.549857Z"
    },
    "id": "iU7KJlc4XAb2",
    "papermill": {
     "duration": 0.022884,
     "end_time": "2025-04-02T17:00:28.553151",
     "exception": false,
     "start_time": "2025-04-02T17:00:28.530267",
     "status": "completed"
    },
    "tags": []
   },
   "outputs": [],
   "source": [
    "tesla_df = tesla_df.astype(\"float32\")"
   ]
  },
  {
   "cell_type": "code",
   "execution_count": 20,
   "id": "000e8510",
   "metadata": {
    "execution": {
     "iopub.execute_input": "2025-04-02T17:00:28.582063Z",
     "iopub.status.busy": "2025-04-02T17:00:28.581645Z",
     "iopub.status.idle": "2025-04-02T17:00:28.587604Z",
     "shell.execute_reply": "2025-04-02T17:00:28.586282Z"
    },
    "id": "r7Cywk9oXBI-",
    "papermill": {
     "duration": 0.022295,
     "end_time": "2025-04-02T17:00:28.589625",
     "exception": false,
     "start_time": "2025-04-02T17:00:28.567330",
     "status": "completed"
    },
    "tags": []
   },
   "outputs": [],
   "source": [
    "def split_data(dataframe, test_size):\n",
    "  position = int(round(len(dataframe) * (1 - test_size)))\n",
    "  train = dataframe[:position]\n",
    "  test = dataframe[position:]\n",
    "  return train, test, position"
   ]
  },
  {
   "cell_type": "code",
   "execution_count": 21,
   "id": "aa670712",
   "metadata": {
    "execution": {
     "iopub.execute_input": "2025-04-02T17:00:28.620055Z",
     "iopub.status.busy": "2025-04-02T17:00:28.619654Z",
     "iopub.status.idle": "2025-04-02T17:00:28.626326Z",
     "shell.execute_reply": "2025-04-02T17:00:28.625100Z"
    },
    "id": "COxqfz0SZvV_",
    "papermill": {
     "duration": 0.024393,
     "end_time": "2025-04-02T17:00:28.628752",
     "exception": false,
     "start_time": "2025-04-02T17:00:28.604359",
     "status": "completed"
    },
    "tags": []
   },
   "outputs": [],
   "source": [
    "train, test, position = split_data(tesla_df, 0.20)"
   ]
  },
  {
   "cell_type": "code",
   "execution_count": 22,
   "id": "4b697650",
   "metadata": {
    "execution": {
     "iopub.execute_input": "2025-04-02T17:00:28.658980Z",
     "iopub.status.busy": "2025-04-02T17:00:28.658527Z",
     "iopub.status.idle": "2025-04-02T17:00:28.664899Z",
     "shell.execute_reply": "2025-04-02T17:00:28.663543Z"
    },
    "id": "jESwxnt2Z1t5",
    "papermill": {
     "duration": 0.025246,
     "end_time": "2025-04-02T17:00:28.667539",
     "exception": false,
     "start_time": "2025-04-02T17:00:28.642293",
     "status": "completed"
    },
    "tags": []
   },
   "outputs": [
    {
     "name": "stdout",
     "output_type": "stream",
     "text": [
      "(1933, 1) (483, 1)\n"
     ]
    }
   ],
   "source": [
    "print(train.shape, test.shape)"
   ]
  },
  {
   "cell_type": "code",
   "execution_count": 23,
   "id": "29077548",
   "metadata": {
    "execution": {
     "iopub.execute_input": "2025-04-02T17:00:28.698025Z",
     "iopub.status.busy": "2025-04-02T17:00:28.697214Z",
     "iopub.status.idle": "2025-04-02T17:00:28.703108Z",
     "shell.execute_reply": "2025-04-02T17:00:28.701698Z"
    },
    "id": "wleQDdgSZ8NZ",
    "papermill": {
     "duration": 0.024442,
     "end_time": "2025-04-02T17:00:28.705411",
     "exception": false,
     "start_time": "2025-04-02T17:00:28.680969",
     "status": "completed"
    },
    "tags": []
   },
   "outputs": [],
   "source": [
    "scaler_train = MinMaxScaler(feature_range = (0,1))"
   ]
  },
  {
   "cell_type": "code",
   "execution_count": 24,
   "id": "11a28fda",
   "metadata": {
    "execution": {
     "iopub.execute_input": "2025-04-02T17:00:28.734544Z",
     "iopub.status.busy": "2025-04-02T17:00:28.734166Z",
     "iopub.status.idle": "2025-04-02T17:00:28.740271Z",
     "shell.execute_reply": "2025-04-02T17:00:28.739339Z"
    },
    "id": "Enf8wikDaNZh",
    "papermill": {
     "duration": 0.023591,
     "end_time": "2025-04-02T17:00:28.742228",
     "exception": false,
     "start_time": "2025-04-02T17:00:28.718637",
     "status": "completed"
    },
    "tags": []
   },
   "outputs": [],
   "source": [
    "train = scaler_train.fit_transform(train)"
   ]
  },
  {
   "cell_type": "code",
   "execution_count": 25,
   "id": "f385abcb",
   "metadata": {
    "execution": {
     "iopub.execute_input": "2025-04-02T17:00:28.770105Z",
     "iopub.status.busy": "2025-04-02T17:00:28.769708Z",
     "iopub.status.idle": "2025-04-02T17:00:28.775079Z",
     "shell.execute_reply": "2025-04-02T17:00:28.773769Z"
    },
    "id": "cg-7tCn_aXTc",
    "papermill": {
     "duration": 0.022463,
     "end_time": "2025-04-02T17:00:28.777425",
     "exception": false,
     "start_time": "2025-04-02T17:00:28.754962",
     "status": "completed"
    },
    "tags": []
   },
   "outputs": [],
   "source": [
    "scaler_test = MinMaxScaler(feature_range = (0,1))"
   ]
  },
  {
   "cell_type": "code",
   "execution_count": 26,
   "id": "79eab886",
   "metadata": {
    "execution": {
     "iopub.execute_input": "2025-04-02T17:00:28.804869Z",
     "iopub.status.busy": "2025-04-02T17:00:28.804507Z",
     "iopub.status.idle": "2025-04-02T17:00:28.810383Z",
     "shell.execute_reply": "2025-04-02T17:00:28.809429Z"
    },
    "id": "tSbuIifiabbC",
    "papermill": {
     "duration": 0.022221,
     "end_time": "2025-04-02T17:00:28.812578",
     "exception": false,
     "start_time": "2025-04-02T17:00:28.790357",
     "status": "completed"
    },
    "tags": []
   },
   "outputs": [],
   "source": [
    "test = scaler_test.fit_transform(test)"
   ]
  },
  {
   "cell_type": "code",
   "execution_count": 27,
   "id": "0eb9b9ba",
   "metadata": {
    "execution": {
     "iopub.execute_input": "2025-04-02T17:00:28.840289Z",
     "iopub.status.busy": "2025-04-02T17:00:28.839880Z",
     "iopub.status.idle": "2025-04-02T17:00:28.847698Z",
     "shell.execute_reply": "2025-04-02T17:00:28.846576Z"
    },
    "id": "X5a7m_BEagaJ",
    "papermill": {
     "duration": 0.02449,
     "end_time": "2025-04-02T17:00:28.850080",
     "exception": false,
     "start_time": "2025-04-02T17:00:28.825590",
     "status": "completed"
    },
    "tags": []
   },
   "outputs": [
    {
     "data": {
      "text/plain": [
       "array([[0.02191224],\n",
       "       [0.02174973],\n",
       "       [0.01668472],\n",
       "       [0.0092091 ],\n",
       "       [0.00083966]], dtype=float32)"
      ]
     },
     "execution_count": 27,
     "metadata": {},
     "output_type": "execute_result"
    }
   ],
   "source": [
    "train[0:5]"
   ]
  },
  {
   "cell_type": "code",
   "execution_count": 28,
   "id": "73236128",
   "metadata": {
    "execution": {
     "iopub.execute_input": "2025-04-02T17:00:28.878813Z",
     "iopub.status.busy": "2025-04-02T17:00:28.878439Z",
     "iopub.status.idle": "2025-04-02T17:00:28.885665Z",
     "shell.execute_reply": "2025-04-02T17:00:28.884472Z"
    },
    "id": "AeVSy_ijahnh",
    "papermill": {
     "duration": 0.023712,
     "end_time": "2025-04-02T17:00:28.887596",
     "exception": false,
     "start_time": "2025-04-02T17:00:28.863884",
     "status": "completed"
    },
    "tags": []
   },
   "outputs": [
    {
     "data": {
      "text/plain": [
       "array([[0.25685903],\n",
       "       [0.24829045],\n",
       "       [0.25511202],\n",
       "       [0.24978784],\n",
       "       [0.2465767 ]], dtype=float32)"
      ]
     },
     "execution_count": 28,
     "metadata": {},
     "output_type": "execute_result"
    }
   ],
   "source": [
    "test[0:5]"
   ]
  },
  {
   "cell_type": "code",
   "execution_count": 29,
   "id": "3de3de1f",
   "metadata": {
    "execution": {
     "iopub.execute_input": "2025-04-02T17:00:28.915804Z",
     "iopub.status.busy": "2025-04-02T17:00:28.914936Z",
     "iopub.status.idle": "2025-04-02T17:00:28.920895Z",
     "shell.execute_reply": "2025-04-02T17:00:28.919803Z"
    },
    "id": "Gv95UqJWasHS",
    "papermill": {
     "duration": 0.022198,
     "end_time": "2025-04-02T17:00:28.922924",
     "exception": false,
     "start_time": "2025-04-02T17:00:28.900726",
     "status": "completed"
    },
    "tags": []
   },
   "outputs": [],
   "source": [
    "def create_features(data, lookback):\n",
    "  X, Y = [], []\n",
    "  for i in range(lookback, len(data)):\n",
    "    X.append(data[i-lookback:i,0])\n",
    "    Y.append(data[i,0])\n",
    "\n",
    "  return np.array(X), np.array(Y)"
   ]
  },
  {
   "cell_type": "code",
   "execution_count": 30,
   "id": "bd4ad82e",
   "metadata": {
    "execution": {
     "iopub.execute_input": "2025-04-02T17:00:28.950703Z",
     "iopub.status.busy": "2025-04-02T17:00:28.950320Z",
     "iopub.status.idle": "2025-04-02T17:00:28.955060Z",
     "shell.execute_reply": "2025-04-02T17:00:28.953863Z"
    },
    "id": "e36Ux4_CbASm",
    "papermill": {
     "duration": 0.02132,
     "end_time": "2025-04-02T17:00:28.957232",
     "exception": false,
     "start_time": "2025-04-02T17:00:28.935912",
     "status": "completed"
    },
    "tags": []
   },
   "outputs": [],
   "source": [
    "lookback = 20"
   ]
  },
  {
   "cell_type": "code",
   "execution_count": 31,
   "id": "920ed727",
   "metadata": {
    "execution": {
     "iopub.execute_input": "2025-04-02T17:00:28.986156Z",
     "iopub.status.busy": "2025-04-02T17:00:28.985764Z",
     "iopub.status.idle": "2025-04-02T17:00:28.993950Z",
     "shell.execute_reply": "2025-04-02T17:00:28.992913Z"
    },
    "id": "Xd8JMdaWbCzp",
    "papermill": {
     "duration": 0.025454,
     "end_time": "2025-04-02T17:00:28.996334",
     "exception": false,
     "start_time": "2025-04-02T17:00:28.970880",
     "status": "completed"
    },
    "tags": []
   },
   "outputs": [],
   "source": [
    "X_train, y_train = create_features(train, lookback)"
   ]
  },
  {
   "cell_type": "code",
   "execution_count": 32,
   "id": "e3057612",
   "metadata": {
    "execution": {
     "iopub.execute_input": "2025-04-02T17:00:29.081614Z",
     "iopub.status.busy": "2025-04-02T17:00:29.081158Z",
     "iopub.status.idle": "2025-04-02T17:00:29.087314Z",
     "shell.execute_reply": "2025-04-02T17:00:29.086056Z"
    },
    "id": "wHgq8DT5bF_Z",
    "papermill": {
     "duration": 0.079329,
     "end_time": "2025-04-02T17:00:29.089742",
     "exception": false,
     "start_time": "2025-04-02T17:00:29.010413",
     "status": "completed"
    },
    "tags": []
   },
   "outputs": [],
   "source": [
    "X_test, y_test = create_features(test, lookback)"
   ]
  },
  {
   "cell_type": "code",
   "execution_count": 33,
   "id": "87c6115b",
   "metadata": {
    "execution": {
     "iopub.execute_input": "2025-04-02T17:00:29.118145Z",
     "iopub.status.busy": "2025-04-02T17:00:29.117142Z",
     "iopub.status.idle": "2025-04-02T17:00:29.123087Z",
     "shell.execute_reply": "2025-04-02T17:00:29.121916Z"
    },
    "id": "zYQy_33TbKdb",
    "papermill": {
     "duration": 0.022253,
     "end_time": "2025-04-02T17:00:29.125191",
     "exception": false,
     "start_time": "2025-04-02T17:00:29.102938",
     "status": "completed"
    },
    "tags": []
   },
   "outputs": [
    {
     "name": "stdout",
     "output_type": "stream",
     "text": [
      "(1913, 20) (1913,) (463, 20) (463,)\n"
     ]
    }
   ],
   "source": [
    "print(X_train.shape, y_train.shape, X_test.shape, y_test.shape)"
   ]
  },
  {
   "cell_type": "code",
   "execution_count": 34,
   "id": "178aa2fd",
   "metadata": {
    "execution": {
     "iopub.execute_input": "2025-04-02T17:00:29.153436Z",
     "iopub.status.busy": "2025-04-02T17:00:29.152590Z",
     "iopub.status.idle": "2025-04-02T17:00:29.160654Z",
     "shell.execute_reply": "2025-04-02T17:00:29.159526Z"
    },
    "id": "sI1k-K6bTKuw",
    "papermill": {
     "duration": 0.024372,
     "end_time": "2025-04-02T17:00:29.162668",
     "exception": false,
     "start_time": "2025-04-02T17:00:29.138296",
     "status": "completed"
    },
    "tags": []
   },
   "outputs": [
    {
     "data": {
      "text/plain": [
       "array([[0.02191224, 0.02174973, 0.01668472, 0.0092091 , 0.00083966,\n",
       "        0.        , 0.00449621, 0.00433369, 0.0033857 , 0.00633803,\n",
       "        0.01094258, 0.011078  , 0.01310942, 0.0165493 , 0.01218851,\n",
       "        0.01197183, 0.01408451, 0.01486999, 0.01394908, 0.01286566],\n",
       "       [0.02174973, 0.01668472, 0.0092091 , 0.00083966, 0.        ,\n",
       "        0.00449621, 0.00433369, 0.0033857 , 0.00633803, 0.01094258,\n",
       "        0.011078  , 0.01310942, 0.0165493 , 0.01218851, 0.01197183,\n",
       "        0.01408451, 0.01486999, 0.01394908, 0.01286566, 0.01332611],\n",
       "       [0.01668472, 0.0092091 , 0.00083966, 0.        , 0.00449621,\n",
       "        0.00433369, 0.0033857 , 0.00633803, 0.01094258, 0.011078  ,\n",
       "        0.01310942, 0.0165493 , 0.01218851, 0.01197183, 0.01408451,\n",
       "        0.01486999, 0.01394908, 0.01286566, 0.01332611, 0.01232395],\n",
       "       [0.0092091 , 0.00083966, 0.        , 0.00449621, 0.00433369,\n",
       "        0.0033857 , 0.00633803, 0.01094258, 0.011078  , 0.01310942,\n",
       "        0.0165493 , 0.01218851, 0.01197183, 0.01408451, 0.01486999,\n",
       "        0.01394908, 0.01286566, 0.01332611, 0.01232395, 0.01121344],\n",
       "       [0.00083966, 0.        , 0.00449621, 0.00433369, 0.0033857 ,\n",
       "        0.00633803, 0.01094258, 0.011078  , 0.01310942, 0.0165493 ,\n",
       "        0.01218851, 0.01197183, 0.01408451, 0.01486999, 0.01394908,\n",
       "        0.01286566, 0.01332611, 0.01232395, 0.01121344, 0.01386782]],\n",
       "      dtype=float32)"
      ]
     },
     "execution_count": 34,
     "metadata": {},
     "output_type": "execute_result"
    }
   ],
   "source": [
    "X_train[0:5]"
   ]
  },
  {
   "cell_type": "code",
   "execution_count": 35,
   "id": "29f1abd8",
   "metadata": {
    "execution": {
     "iopub.execute_input": "2025-04-02T17:00:29.190883Z",
     "iopub.status.busy": "2025-04-02T17:00:29.190497Z",
     "iopub.status.idle": "2025-04-02T17:00:29.197342Z",
     "shell.execute_reply": "2025-04-02T17:00:29.196194Z"
    },
    "id": "vY5hCVQHTg9u",
    "papermill": {
     "duration": 0.023466,
     "end_time": "2025-04-02T17:00:29.199502",
     "exception": false,
     "start_time": "2025-04-02T17:00:29.176036",
     "status": "completed"
    },
    "tags": []
   },
   "outputs": [
    {
     "data": {
      "text/plain": [
       "array([0.01332611, 0.01232395, 0.01121344, 0.01386782, 0.01665764],\n",
       "      dtype=float32)"
      ]
     },
     "execution_count": 35,
     "metadata": {},
     "output_type": "execute_result"
    }
   ],
   "source": [
    "y_train[0:5]"
   ]
  },
  {
   "cell_type": "code",
   "execution_count": 36,
   "id": "3ef7be9b",
   "metadata": {
    "execution": {
     "iopub.execute_input": "2025-04-02T17:00:29.228218Z",
     "iopub.status.busy": "2025-04-02T17:00:29.227461Z",
     "iopub.status.idle": "2025-04-02T17:00:29.233206Z",
     "shell.execute_reply": "2025-04-02T17:00:29.232013Z"
    },
    "id": "yvf-4kLybad5",
    "papermill": {
     "duration": 0.022552,
     "end_time": "2025-04-02T17:00:29.235388",
     "exception": false,
     "start_time": "2025-04-02T17:00:29.212836",
     "status": "completed"
    },
    "tags": []
   },
   "outputs": [],
   "source": [
    "X_train = np.reshape(X_train, (X_train.shape[0], 1, X_train.shape[1]))\n",
    "X_test = np.reshape(X_test, (X_test.shape[0], 1, X_test.shape[1]))\n",
    "y_train = y_train.reshape(-1,1)\n",
    "y_test = y_test.reshape(-1,1)"
   ]
  },
  {
   "cell_type": "code",
   "execution_count": 37,
   "id": "8846a91c",
   "metadata": {
    "execution": {
     "iopub.execute_input": "2025-04-02T17:00:29.263564Z",
     "iopub.status.busy": "2025-04-02T17:00:29.263160Z",
     "iopub.status.idle": "2025-04-02T17:00:29.268948Z",
     "shell.execute_reply": "2025-04-02T17:00:29.267785Z"
    },
    "id": "D2ltv0Edb3wz",
    "papermill": {
     "duration": 0.022182,
     "end_time": "2025-04-02T17:00:29.270984",
     "exception": false,
     "start_time": "2025-04-02T17:00:29.248802",
     "status": "completed"
    },
    "tags": []
   },
   "outputs": [
    {
     "name": "stdout",
     "output_type": "stream",
     "text": [
      "(1913, 1, 20) (1913, 1) (463, 1, 20) (463, 1)\n"
     ]
    }
   ],
   "source": [
    "print(X_train.shape, y_train.shape, X_test.shape, y_test.shape)"
   ]
  },
  {
   "cell_type": "markdown",
   "id": "af579a92",
   "metadata": {
    "id": "DtsN3xazcIAn",
    "papermill": {
     "duration": 0.0139,
     "end_time": "2025-04-02T17:00:29.298286",
     "exception": false,
     "start_time": "2025-04-02T17:00:29.284386",
     "status": "completed"
    },
    "tags": []
   },
   "source": [
    "## Modelling"
   ]
  },
  {
   "cell_type": "code",
   "execution_count": 38,
   "id": "4e42c991",
   "metadata": {
    "execution": {
     "iopub.execute_input": "2025-04-02T17:00:29.327208Z",
     "iopub.status.busy": "2025-04-02T17:00:29.326573Z",
     "iopub.status.idle": "2025-04-02T17:00:29.462384Z",
     "shell.execute_reply": "2025-04-02T17:00:29.460755Z"
    },
    "id": "QtbQx4G9cI_z",
    "papermill": {
     "duration": 0.153956,
     "end_time": "2025-04-02T17:00:29.465699",
     "exception": false,
     "start_time": "2025-04-02T17:00:29.311743",
     "status": "completed"
    },
    "tags": []
   },
   "outputs": [],
   "source": [
    "model = Sequential()\n",
    "\n",
    "model.add(LSTM(units = 50,\n",
    "                    activation = 'relu',\n",
    "                    input_shape=(X_train.shape[1], lookback)))\n",
    "\n",
    "model.add(Dropout(0.2))\n",
    "\n",
    "model.add(Dense(1))\n"
   ]
  },
  {
   "cell_type": "code",
   "execution_count": 39,
   "id": "93efe775",
   "metadata": {
    "execution": {
     "iopub.execute_input": "2025-04-02T17:00:29.495411Z",
     "iopub.status.busy": "2025-04-02T17:00:29.495024Z",
     "iopub.status.idle": "2025-04-02T17:00:29.516051Z",
     "shell.execute_reply": "2025-04-02T17:00:29.514770Z"
    },
    "id": "RQFXIkDbciE6",
    "papermill": {
     "duration": 0.038886,
     "end_time": "2025-04-02T17:00:29.518373",
     "exception": false,
     "start_time": "2025-04-02T17:00:29.479487",
     "status": "completed"
    },
    "tags": []
   },
   "outputs": [
    {
     "data": {
      "text/html": [
       "<pre style=\"white-space:pre;overflow-x:auto;line-height:normal;font-family:Menlo,'DejaVu Sans Mono',consolas,'Courier New',monospace\"><span style=\"font-weight: bold\">Model: \"sequential\"</span>\n",
       "</pre>\n"
      ],
      "text/plain": [
       "\u001b[1mModel: \"sequential\"\u001b[0m\n"
      ]
     },
     "metadata": {},
     "output_type": "display_data"
    },
    {
     "data": {
      "text/html": [
       "<pre style=\"white-space:pre;overflow-x:auto;line-height:normal;font-family:Menlo,'DejaVu Sans Mono',consolas,'Courier New',monospace\">┏━━━━━━━━━━━━━━━━━━━━━━━━━━━━━━━━━┳━━━━━━━━━━━━━━━━━━━━━━━━┳━━━━━━━━━━━━━━━┓\n",
       "┃<span style=\"font-weight: bold\"> Layer (type)                    </span>┃<span style=\"font-weight: bold\"> Output Shape           </span>┃<span style=\"font-weight: bold\">       Param # </span>┃\n",
       "┡━━━━━━━━━━━━━━━━━━━━━━━━━━━━━━━━━╇━━━━━━━━━━━━━━━━━━━━━━━━╇━━━━━━━━━━━━━━━┩\n",
       "│ lstm (<span style=\"color: #0087ff; text-decoration-color: #0087ff\">LSTM</span>)                     │ (<span style=\"color: #00d7ff; text-decoration-color: #00d7ff\">None</span>, <span style=\"color: #00af00; text-decoration-color: #00af00\">50</span>)             │        <span style=\"color: #00af00; text-decoration-color: #00af00\">14,200</span> │\n",
       "├─────────────────────────────────┼────────────────────────┼───────────────┤\n",
       "│ dropout (<span style=\"color: #0087ff; text-decoration-color: #0087ff\">Dropout</span>)               │ (<span style=\"color: #00d7ff; text-decoration-color: #00d7ff\">None</span>, <span style=\"color: #00af00; text-decoration-color: #00af00\">50</span>)             │             <span style=\"color: #00af00; text-decoration-color: #00af00\">0</span> │\n",
       "├─────────────────────────────────┼────────────────────────┼───────────────┤\n",
       "│ dense (<span style=\"color: #0087ff; text-decoration-color: #0087ff\">Dense</span>)                   │ (<span style=\"color: #00d7ff; text-decoration-color: #00d7ff\">None</span>, <span style=\"color: #00af00; text-decoration-color: #00af00\">1</span>)              │            <span style=\"color: #00af00; text-decoration-color: #00af00\">51</span> │\n",
       "└─────────────────────────────────┴────────────────────────┴───────────────┘\n",
       "</pre>\n"
      ],
      "text/plain": [
       "┏━━━━━━━━━━━━━━━━━━━━━━━━━━━━━━━━━┳━━━━━━━━━━━━━━━━━━━━━━━━┳━━━━━━━━━━━━━━━┓\n",
       "┃\u001b[1m \u001b[0m\u001b[1mLayer (type)                   \u001b[0m\u001b[1m \u001b[0m┃\u001b[1m \u001b[0m\u001b[1mOutput Shape          \u001b[0m\u001b[1m \u001b[0m┃\u001b[1m \u001b[0m\u001b[1m      Param #\u001b[0m\u001b[1m \u001b[0m┃\n",
       "┡━━━━━━━━━━━━━━━━━━━━━━━━━━━━━━━━━╇━━━━━━━━━━━━━━━━━━━━━━━━╇━━━━━━━━━━━━━━━┩\n",
       "│ lstm (\u001b[38;5;33mLSTM\u001b[0m)                     │ (\u001b[38;5;45mNone\u001b[0m, \u001b[38;5;34m50\u001b[0m)             │        \u001b[38;5;34m14,200\u001b[0m │\n",
       "├─────────────────────────────────┼────────────────────────┼───────────────┤\n",
       "│ dropout (\u001b[38;5;33mDropout\u001b[0m)               │ (\u001b[38;5;45mNone\u001b[0m, \u001b[38;5;34m50\u001b[0m)             │             \u001b[38;5;34m0\u001b[0m │\n",
       "├─────────────────────────────────┼────────────────────────┼───────────────┤\n",
       "│ dense (\u001b[38;5;33mDense\u001b[0m)                   │ (\u001b[38;5;45mNone\u001b[0m, \u001b[38;5;34m1\u001b[0m)              │            \u001b[38;5;34m51\u001b[0m │\n",
       "└─────────────────────────────────┴────────────────────────┴───────────────┘\n"
      ]
     },
     "metadata": {},
     "output_type": "display_data"
    },
    {
     "data": {
      "text/html": [
       "<pre style=\"white-space:pre;overflow-x:auto;line-height:normal;font-family:Menlo,'DejaVu Sans Mono',consolas,'Courier New',monospace\"><span style=\"font-weight: bold\"> Total params: </span><span style=\"color: #00af00; text-decoration-color: #00af00\">14,251</span> (55.67 KB)\n",
       "</pre>\n"
      ],
      "text/plain": [
       "\u001b[1m Total params: \u001b[0m\u001b[38;5;34m14,251\u001b[0m (55.67 KB)\n"
      ]
     },
     "metadata": {},
     "output_type": "display_data"
    },
    {
     "data": {
      "text/html": [
       "<pre style=\"white-space:pre;overflow-x:auto;line-height:normal;font-family:Menlo,'DejaVu Sans Mono',consolas,'Courier New',monospace\"><span style=\"font-weight: bold\"> Trainable params: </span><span style=\"color: #00af00; text-decoration-color: #00af00\">14,251</span> (55.67 KB)\n",
       "</pre>\n"
      ],
      "text/plain": [
       "\u001b[1m Trainable params: \u001b[0m\u001b[38;5;34m14,251\u001b[0m (55.67 KB)\n"
      ]
     },
     "metadata": {},
     "output_type": "display_data"
    },
    {
     "data": {
      "text/html": [
       "<pre style=\"white-space:pre;overflow-x:auto;line-height:normal;font-family:Menlo,'DejaVu Sans Mono',consolas,'Courier New',monospace\"><span style=\"font-weight: bold\"> Non-trainable params: </span><span style=\"color: #00af00; text-decoration-color: #00af00\">0</span> (0.00 B)\n",
       "</pre>\n"
      ],
      "text/plain": [
       "\u001b[1m Non-trainable params: \u001b[0m\u001b[38;5;34m0\u001b[0m (0.00 B)\n"
      ]
     },
     "metadata": {},
     "output_type": "display_data"
    }
   ],
   "source": [
    "model.summary()"
   ]
  },
  {
   "cell_type": "code",
   "execution_count": 40,
   "id": "fac248cc",
   "metadata": {
    "execution": {
     "iopub.execute_input": "2025-04-02T17:00:29.548660Z",
     "iopub.status.busy": "2025-04-02T17:00:29.548193Z",
     "iopub.status.idle": "2025-04-02T17:00:29.563142Z",
     "shell.execute_reply": "2025-04-02T17:00:29.562232Z"
    },
    "id": "NE6_O7IwclkT",
    "papermill": {
     "duration": 0.032925,
     "end_time": "2025-04-02T17:00:29.565573",
     "exception": false,
     "start_time": "2025-04-02T17:00:29.532648",
     "status": "completed"
    },
    "tags": []
   },
   "outputs": [],
   "source": [
    "model.compile(loss='mean_squared_error', optimizer='adam')"
   ]
  },
  {
   "cell_type": "code",
   "execution_count": 41,
   "id": "2b1e3185",
   "metadata": {
    "execution": {
     "iopub.execute_input": "2025-04-02T17:00:29.596091Z",
     "iopub.status.busy": "2025-04-02T17:00:29.595701Z",
     "iopub.status.idle": "2025-04-02T17:00:29.601327Z",
     "shell.execute_reply": "2025-04-02T17:00:29.600115Z"
    },
    "id": "JLqjYZudc3Is",
    "papermill": {
     "duration": 0.023842,
     "end_time": "2025-04-02T17:00:29.603483",
     "exception": false,
     "start_time": "2025-04-02T17:00:29.579641",
     "status": "completed"
    },
    "tags": []
   },
   "outputs": [],
   "source": [
    "callbacks = (EarlyStopping(monitor='val_loss', patience=10, verbose=1, mode='min'),\n",
    "            ModelCheckpoint(filepath='mymodel.keras', monitor='val_loss', mode='min',\n",
    "            save_best_only = True, save_weights_only = False, verbose = 1))"
   ]
  },
  {
   "cell_type": "code",
   "execution_count": 42,
   "id": "4e846452",
   "metadata": {
    "execution": {
     "iopub.execute_input": "2025-04-02T17:00:29.635060Z",
     "iopub.status.busy": "2025-04-02T17:00:29.634126Z",
     "iopub.status.idle": "2025-04-02T17:00:37.879984Z",
     "shell.execute_reply": "2025-04-02T17:00:37.878818Z"
    },
    "id": "7Pv-Fb9FdSf7",
    "papermill": {
     "duration": 8.264022,
     "end_time": "2025-04-02T17:00:37.882462",
     "exception": false,
     "start_time": "2025-04-02T17:00:29.618440",
     "status": "completed"
    },
    "tags": []
   },
   "outputs": [
    {
     "name": "stdout",
     "output_type": "stream",
     "text": [
      "Epoch 1/100\n",
      "\u001b[1m79/96\u001b[0m \u001b[32m━━━━━━━━━━━━━━━━\u001b[0m\u001b[37m━━━━\u001b[0m \u001b[1m0s\u001b[0m 2ms/step - loss: 0.0036\n",
      "Epoch 1: val_loss improved from inf to 0.00426, saving model to mymodel.keras\n",
      "\u001b[1m96/96\u001b[0m \u001b[32m━━━━━━━━━━━━━━━━━━━━\u001b[0m\u001b[37m\u001b[0m \u001b[1m2s\u001b[0m 5ms/step - loss: 0.0043 - val_loss: 0.0043\n",
      "Epoch 2/100\n",
      "\u001b[1m76/96\u001b[0m \u001b[32m━━━━━━━━━━━━━━━\u001b[0m\u001b[37m━━━━━\u001b[0m \u001b[1m0s\u001b[0m 2ms/step - loss: 0.0044\n",
      "Epoch 2: val_loss improved from 0.00426 to 0.00345, saving model to mymodel.keras\n",
      "\u001b[1m96/96\u001b[0m \u001b[32m━━━━━━━━━━━━━━━━━━━━\u001b[0m\u001b[37m\u001b[0m \u001b[1m0s\u001b[0m 3ms/step - loss: 0.0046 - val_loss: 0.0034\n",
      "Epoch 3/100\n",
      "\u001b[1m74/96\u001b[0m \u001b[32m━━━━━━━━━━━━━━━\u001b[0m\u001b[37m━━━━━\u001b[0m \u001b[1m0s\u001b[0m 2ms/step - loss: 0.0026\n",
      "Epoch 3: val_loss did not improve from 0.00345\n",
      "\u001b[1m96/96\u001b[0m \u001b[32m━━━━━━━━━━━━━━━━━━━━\u001b[0m\u001b[37m\u001b[0m \u001b[1m0s\u001b[0m 3ms/step - loss: 0.0030 - val_loss: 0.0036\n",
      "Epoch 4/100\n",
      "\u001b[1m76/96\u001b[0m \u001b[32m━━━━━━━━━━━━━━━\u001b[0m\u001b[37m━━━━━\u001b[0m \u001b[1m0s\u001b[0m 2ms/step - loss: 0.0015    \n",
      "Epoch 4: val_loss improved from 0.00345 to 0.00303, saving model to mymodel.keras\n",
      "\u001b[1m96/96\u001b[0m \u001b[32m━━━━━━━━━━━━━━━━━━━━\u001b[0m\u001b[37m\u001b[0m \u001b[1m0s\u001b[0m 3ms/step - loss: 0.0020 - val_loss: 0.0030\n",
      "Epoch 5/100\n",
      "\u001b[1m75/96\u001b[0m \u001b[32m━━━━━━━━━━━━━━━\u001b[0m\u001b[37m━━━━━\u001b[0m \u001b[1m0s\u001b[0m 2ms/step - loss: 0.0017\n",
      "Epoch 5: val_loss improved from 0.00303 to 0.00302, saving model to mymodel.keras\n",
      "\u001b[1m96/96\u001b[0m \u001b[32m━━━━━━━━━━━━━━━━━━━━\u001b[0m\u001b[37m\u001b[0m \u001b[1m0s\u001b[0m 3ms/step - loss: 0.0021 - val_loss: 0.0030\n",
      "Epoch 6/100\n",
      "\u001b[1m72/96\u001b[0m \u001b[32m━━━━━━━━━━━━━━━\u001b[0m\u001b[37m━━━━━\u001b[0m \u001b[1m0s\u001b[0m 2ms/step - loss: 0.0012    \n",
      "Epoch 6: val_loss improved from 0.00302 to 0.00288, saving model to mymodel.keras\n",
      "\u001b[1m96/96\u001b[0m \u001b[32m━━━━━━━━━━━━━━━━━━━━\u001b[0m\u001b[37m\u001b[0m \u001b[1m0s\u001b[0m 3ms/step - loss: 0.0017 - val_loss: 0.0029\n",
      "Epoch 7/100\n",
      "\u001b[1m80/96\u001b[0m \u001b[32m━━━━━━━━━━━━━━━━\u001b[0m\u001b[37m━━━━\u001b[0m \u001b[1m0s\u001b[0m 2ms/step - loss: 0.0014    \n",
      "Epoch 7: val_loss improved from 0.00288 to 0.00285, saving model to mymodel.keras\n",
      "\u001b[1m96/96\u001b[0m \u001b[32m━━━━━━━━━━━━━━━━━━━━\u001b[0m\u001b[37m\u001b[0m \u001b[1m0s\u001b[0m 3ms/step - loss: 0.0018 - val_loss: 0.0029\n",
      "Epoch 8/100\n",
      "\u001b[1m74/96\u001b[0m \u001b[32m━━━━━━━━━━━━━━━\u001b[0m\u001b[37m━━━━━\u001b[0m \u001b[1m0s\u001b[0m 2ms/step - loss: 9.8099e-04\n",
      "Epoch 8: val_loss improved from 0.00285 to 0.00265, saving model to mymodel.keras\n",
      "\u001b[1m96/96\u001b[0m \u001b[32m━━━━━━━━━━━━━━━━━━━━\u001b[0m\u001b[37m\u001b[0m \u001b[1m0s\u001b[0m 3ms/step - loss: 0.0015 - val_loss: 0.0026\n",
      "Epoch 9/100\n",
      "\u001b[1m75/96\u001b[0m \u001b[32m━━━━━━━━━━━━━━━\u001b[0m\u001b[37m━━━━━\u001b[0m \u001b[1m0s\u001b[0m 2ms/step - loss: 0.0013    \n",
      "Epoch 9: val_loss improved from 0.00265 to 0.00241, saving model to mymodel.keras\n",
      "\u001b[1m96/96\u001b[0m \u001b[32m━━━━━━━━━━━━━━━━━━━━\u001b[0m\u001b[37m\u001b[0m \u001b[1m0s\u001b[0m 3ms/step - loss: 0.0017 - val_loss: 0.0024\n",
      "Epoch 10/100\n",
      "\u001b[1m93/96\u001b[0m \u001b[32m━━━━━━━━━━━━━━━━━━━\u001b[0m\u001b[37m━\u001b[0m \u001b[1m0s\u001b[0m 2ms/step - loss: 0.0015\n",
      "Epoch 10: val_loss improved from 0.00241 to 0.00238, saving model to mymodel.keras\n",
      "\u001b[1m96/96\u001b[0m \u001b[32m━━━━━━━━━━━━━━━━━━━━\u001b[0m\u001b[37m\u001b[0m \u001b[1m0s\u001b[0m 3ms/step - loss: 0.0016 - val_loss: 0.0024\n",
      "Epoch 11/100\n",
      "\u001b[1m96/96\u001b[0m \u001b[32m━━━━━━━━━━━━━━━━━━━━\u001b[0m\u001b[37m\u001b[0m \u001b[1m0s\u001b[0m 2ms/step - loss: 0.0015\n",
      "Epoch 11: val_loss improved from 0.00238 to 0.00238, saving model to mymodel.keras\n",
      "\u001b[1m96/96\u001b[0m \u001b[32m━━━━━━━━━━━━━━━━━━━━\u001b[0m\u001b[37m\u001b[0m \u001b[1m0s\u001b[0m 3ms/step - loss: 0.0015 - val_loss: 0.0024\n",
      "Epoch 12/100\n",
      "\u001b[1m77/96\u001b[0m \u001b[32m━━━━━━━━━━━━━━━━\u001b[0m\u001b[37m━━━━\u001b[0m \u001b[1m0s\u001b[0m 2ms/step - loss: 0.0013    \n",
      "Epoch 12: val_loss did not improve from 0.00238\n",
      "\u001b[1m96/96\u001b[0m \u001b[32m━━━━━━━━━━━━━━━━━━━━\u001b[0m\u001b[37m\u001b[0m \u001b[1m0s\u001b[0m 3ms/step - loss: 0.0017 - val_loss: 0.0024\n",
      "Epoch 13/100\n",
      "\u001b[1m74/96\u001b[0m \u001b[32m━━━━━━━━━━━━━━━\u001b[0m\u001b[37m━━━━━\u001b[0m \u001b[1m0s\u001b[0m 2ms/step - loss: 0.0013    \n",
      "Epoch 13: val_loss did not improve from 0.00238\n",
      "\u001b[1m96/96\u001b[0m \u001b[32m━━━━━━━━━━━━━━━━━━━━\u001b[0m\u001b[37m\u001b[0m \u001b[1m0s\u001b[0m 3ms/step - loss: 0.0017 - val_loss: 0.0024\n",
      "Epoch 14/100\n",
      "\u001b[1m75/96\u001b[0m \u001b[32m━━━━━━━━━━━━━━━\u001b[0m\u001b[37m━━━━━\u001b[0m \u001b[1m0s\u001b[0m 2ms/step - loss: 0.0012    \n",
      "Epoch 14: val_loss did not improve from 0.00238\n",
      "\u001b[1m96/96\u001b[0m \u001b[32m━━━━━━━━━━━━━━━━━━━━\u001b[0m\u001b[37m\u001b[0m \u001b[1m0s\u001b[0m 3ms/step - loss: 0.0016 - val_loss: 0.0024\n",
      "Epoch 15/100\n",
      "\u001b[1m78/96\u001b[0m \u001b[32m━━━━━━━━━━━━━━━━\u001b[0m\u001b[37m━━━━\u001b[0m \u001b[1m0s\u001b[0m 2ms/step - loss: 0.0015    \n",
      "Epoch 15: val_loss did not improve from 0.00238\n",
      "\u001b[1m96/96\u001b[0m \u001b[32m━━━━━━━━━━━━━━━━━━━━\u001b[0m\u001b[37m\u001b[0m \u001b[1m0s\u001b[0m 3ms/step - loss: 0.0019 - val_loss: 0.0053\n",
      "Epoch 16/100\n",
      "\u001b[1m77/96\u001b[0m \u001b[32m━━━━━━━━━━━━━━━━\u001b[0m\u001b[37m━━━━\u001b[0m \u001b[1m0s\u001b[0m 2ms/step - loss: 0.0020\n",
      "Epoch 16: val_loss did not improve from 0.00238\n",
      "\u001b[1m96/96\u001b[0m \u001b[32m━━━━━━━━━━━━━━━━━━━━\u001b[0m\u001b[37m\u001b[0m \u001b[1m0s\u001b[0m 3ms/step - loss: 0.0024 - val_loss: 0.0043\n",
      "Epoch 17/100\n",
      "\u001b[1m75/96\u001b[0m \u001b[32m━━━━━━━━━━━━━━━\u001b[0m\u001b[37m━━━━━\u001b[0m \u001b[1m0s\u001b[0m 2ms/step - loss: 0.0015\n",
      "Epoch 17: val_loss did not improve from 0.00238\n",
      "\u001b[1m96/96\u001b[0m \u001b[32m━━━━━━━━━━━━━━━━━━━━\u001b[0m\u001b[37m\u001b[0m \u001b[1m0s\u001b[0m 3ms/step - loss: 0.0019 - val_loss: 0.0047\n",
      "Epoch 18/100\n",
      "\u001b[1m75/96\u001b[0m \u001b[32m━━━━━━━━━━━━━━━\u001b[0m\u001b[37m━━━━━\u001b[0m \u001b[1m0s\u001b[0m 2ms/step - loss: 0.0014\n",
      "Epoch 18: val_loss did not improve from 0.00238\n",
      "\u001b[1m96/96\u001b[0m \u001b[32m━━━━━━━━━━━━━━━━━━━━\u001b[0m\u001b[37m\u001b[0m \u001b[1m0s\u001b[0m 3ms/step - loss: 0.0019 - val_loss: 0.0040\n",
      "Epoch 19/100\n",
      "\u001b[1m89/96\u001b[0m \u001b[32m━━━━━━━━━━━━━━━━━━\u001b[0m\u001b[37m━━\u001b[0m \u001b[1m0s\u001b[0m 2ms/step - loss: 0.0015\n",
      "Epoch 19: val_loss did not improve from 0.00238\n",
      "\u001b[1m96/96\u001b[0m \u001b[32m━━━━━━━━━━━━━━━━━━━━\u001b[0m\u001b[37m\u001b[0m \u001b[1m0s\u001b[0m 3ms/step - loss: 0.0017 - val_loss: 0.0052\n",
      "Epoch 20/100\n",
      "\u001b[1m77/96\u001b[0m \u001b[32m━━━━━━━━━━━━━━━━\u001b[0m\u001b[37m━━━━\u001b[0m \u001b[1m0s\u001b[0m 2ms/step - loss: 0.0016    \n",
      "Epoch 20: val_loss did not improve from 0.00238\n",
      "\u001b[1m96/96\u001b[0m \u001b[32m━━━━━━━━━━━━━━━━━━━━\u001b[0m\u001b[37m\u001b[0m \u001b[1m0s\u001b[0m 3ms/step - loss: 0.0020 - val_loss: 0.0091\n",
      "Epoch 21/100\n",
      "\u001b[1m75/96\u001b[0m \u001b[32m━━━━━━━━━━━━━━━\u001b[0m\u001b[37m━━━━━\u001b[0m \u001b[1m0s\u001b[0m 2ms/step - loss: 0.0018\n",
      "Epoch 21: val_loss did not improve from 0.00238\n",
      "\u001b[1m96/96\u001b[0m \u001b[32m━━━━━━━━━━━━━━━━━━━━\u001b[0m\u001b[37m\u001b[0m \u001b[1m0s\u001b[0m 3ms/step - loss: 0.0022 - val_loss: 0.0064\n",
      "Epoch 21: early stopping\n"
     ]
    }
   ],
   "source": [
    "history = model.fit(x=X_train,\n",
    "                    y=y_train,\n",
    "                    epochs=100,\n",
    "                    batch_size=20,\n",
    "                    validation_data=(X_test, y_test),\n",
    "                    callbacks=[callbacks],\n",
    "                    shuffle=False)"
   ]
  },
  {
   "cell_type": "code",
   "execution_count": 43,
   "id": "27129208",
   "metadata": {
    "execution": {
     "iopub.execute_input": "2025-04-02T17:00:37.929707Z",
     "iopub.status.busy": "2025-04-02T17:00:37.929289Z",
     "iopub.status.idle": "2025-04-02T17:00:38.227628Z",
     "shell.execute_reply": "2025-04-02T17:00:38.226447Z"
    },
    "id": "VzxR8n1yeGpV",
    "papermill": {
     "duration": 0.324229,
     "end_time": "2025-04-02T17:00:38.229773",
     "exception": false,
     "start_time": "2025-04-02T17:00:37.905544",
     "status": "completed"
    },
    "tags": []
   },
   "outputs": [
    {
     "data": {
      "image/png": "[encoded data removed]",
      "text/plain": [
       "<Figure size 2000x500 with 1 Axes>"
      ]
     },
     "metadata": {},
     "output_type": "display_data"
    }
   ],
   "source": [
    "plt.figure(figsize=(20,5))\n",
    "plt.subplot(1,2,1)\n",
    "plt.plot(history.history['loss'], label='Training Loss')\n",
    "plt.plot(history.history['val_loss'], label='Validation Loss')\n",
    "plt.legend(loc='upper right')\n",
    "plt.xlabel('Epoch', fontsize = 16)\n",
    "plt.ylabel('Loss', fontsize = 16)\n",
    "plt.ylim([0,max(plt.ylim())])\n",
    "plt.title('Training and Validation Loss', fontsize = 16)\n",
    "plt.show()"
   ]
  },
  {
   "cell_type": "markdown",
   "id": "821de931",
   "metadata": {
    "id": "XO0NGWQWerLU",
    "papermill": {
     "duration": 0.023906,
     "end_time": "2025-04-02T17:00:38.276559",
     "exception": false,
     "start_time": "2025-04-02T17:00:38.252653",
     "status": "completed"
    },
    "tags": []
   },
   "source": [
    "## Evaluation"
   ]
  },
  {
   "cell_type": "code",
   "execution_count": 44,
   "id": "1e00348f",
   "metadata": {
    "execution": {
     "iopub.execute_input": "2025-04-02T17:00:38.324113Z",
     "iopub.status.busy": "2025-04-02T17:00:38.323677Z",
     "iopub.status.idle": "2025-04-02T17:00:38.931216Z",
     "shell.execute_reply": "2025-04-02T17:00:38.929864Z"
    },
    "id": "hyeoNUjxetH-",
    "papermill": {
     "duration": 0.633902,
     "end_time": "2025-04-02T17:00:38.933547",
     "exception": false,
     "start_time": "2025-04-02T17:00:38.299645",
     "status": "completed"
    },
    "tags": []
   },
   "outputs": [
    {
     "name": "stdout",
     "output_type": "stream",
     "text": [
      "\u001b[1m463/463\u001b[0m \u001b[32m━━━━━━━━━━━━━━━━━━━━\u001b[0m\u001b[37m\u001b[0m \u001b[1m1s\u001b[0m 1ms/step - loss: 0.0075\n",
      "\n",
      "Test Loss: 0.6%\n"
     ]
    }
   ],
   "source": [
    "loss = model.evaluate(X_test, y_test, batch_size=1)\n",
    "print(\"\\nTest Loss: %.1f%%\" % (100.0 * loss))"
   ]
  },
  {
   "cell_type": "code",
   "execution_count": 45,
   "id": "24a13364",
   "metadata": {
    "execution": {
     "iopub.execute_input": "2025-04-02T17:00:38.982509Z",
     "iopub.status.busy": "2025-04-02T17:00:38.982123Z",
     "iopub.status.idle": "2025-04-02T17:00:39.455806Z",
     "shell.execute_reply": "2025-04-02T17:00:39.454583Z"
    },
    "id": "9e854j_NfFTV",
    "papermill": {
     "duration": 0.500841,
     "end_time": "2025-04-02T17:00:39.458365",
     "exception": false,
     "start_time": "2025-04-02T17:00:38.957524",
     "status": "completed"
    },
    "tags": []
   },
   "outputs": [
    {
     "name": "stdout",
     "output_type": "stream",
     "text": [
      "\u001b[1m60/60\u001b[0m \u001b[32m━━━━━━━━━━━━━━━━━━━━\u001b[0m\u001b[37m\u001b[0m \u001b[1m0s\u001b[0m 4ms/step\n"
     ]
    }
   ],
   "source": [
    "train_predict = model.predict(X_train)"
   ]
  },
  {
   "cell_type": "code",
   "execution_count": 46,
   "id": "8947ccc9",
   "metadata": {
    "execution": {
     "iopub.execute_input": "2025-04-02T17:00:39.508910Z",
     "iopub.status.busy": "2025-04-02T17:00:39.507866Z",
     "iopub.status.idle": "2025-04-02T17:00:39.616428Z",
     "shell.execute_reply": "2025-04-02T17:00:39.615260Z"
    },
    "id": "GZgJuMd-fqZW",
    "papermill": {
     "duration": 0.136666,
     "end_time": "2025-04-02T17:00:39.619204",
     "exception": false,
     "start_time": "2025-04-02T17:00:39.482538",
     "status": "completed"
    },
    "tags": []
   },
   "outputs": [
    {
     "name": "stdout",
     "output_type": "stream",
     "text": [
      "\u001b[1m15/15\u001b[0m \u001b[32m━━━━━━━━━━━━━━━━━━━━\u001b[0m\u001b[37m\u001b[0m \u001b[1m0s\u001b[0m 2ms/step \n"
     ]
    }
   ],
   "source": [
    "test_predict = model.predict(X_test)"
   ]
  },
  {
   "cell_type": "code",
   "execution_count": 47,
   "id": "5b83f96c",
   "metadata": {
    "execution": {
     "iopub.execute_input": "2025-04-02T17:00:39.670118Z",
     "iopub.status.busy": "2025-04-02T17:00:39.669694Z",
     "iopub.status.idle": "2025-04-02T17:00:39.675510Z",
     "shell.execute_reply": "2025-04-02T17:00:39.674169Z"
    },
    "id": "FcH_8U3tfsGm",
    "papermill": {
     "duration": 0.03288,
     "end_time": "2025-04-02T17:00:39.677508",
     "exception": false,
     "start_time": "2025-04-02T17:00:39.644628",
     "status": "completed"
    },
    "tags": []
   },
   "outputs": [],
   "source": [
    "train_predict = scaler_train.inverse_transform(train_predict)\n",
    "test_predict = scaler_test.inverse_transform(test_predict)"
   ]
  },
  {
   "cell_type": "code",
   "execution_count": 48,
   "id": "0ef7b03c",
   "metadata": {
    "execution": {
     "iopub.execute_input": "2025-04-02T17:00:39.727645Z",
     "iopub.status.busy": "2025-04-02T17:00:39.727248Z",
     "iopub.status.idle": "2025-04-02T17:00:39.733107Z",
     "shell.execute_reply": "2025-04-02T17:00:39.732058Z"
    },
    "id": "DsGDu-NKf912",
    "papermill": {
     "duration": 0.033876,
     "end_time": "2025-04-02T17:00:39.735391",
     "exception": false,
     "start_time": "2025-04-02T17:00:39.701515",
     "status": "completed"
    },
    "tags": []
   },
   "outputs": [],
   "source": [
    "y_train = scaler_train.inverse_transform(y_train)\n",
    "y_test = scaler_test.inverse_transform(y_test)"
   ]
  },
  {
   "cell_type": "code",
   "execution_count": 49,
   "id": "046024d4",
   "metadata": {
    "execution": {
     "iopub.execute_input": "2025-04-02T17:00:39.785813Z",
     "iopub.status.busy": "2025-04-02T17:00:39.785446Z",
     "iopub.status.idle": "2025-04-02T17:00:39.791307Z",
     "shell.execute_reply": "2025-04-02T17:00:39.790352Z"
    },
    "id": "ZLXqwAU7gGW2",
    "papermill": {
     "duration": 0.033791,
     "end_time": "2025-04-02T17:00:39.793375",
     "exception": false,
     "start_time": "2025-04-02T17:00:39.759584",
     "status": "completed"
    },
    "tags": []
   },
   "outputs": [],
   "source": [
    "train_rmse = np.sqrt(mean_squared_error(y_train, train_predict))"
   ]
  },
  {
   "cell_type": "code",
   "execution_count": 50,
   "id": "6c9f23c0",
   "metadata": {
    "execution": {
     "iopub.execute_input": "2025-04-02T17:00:39.843499Z",
     "iopub.status.busy": "2025-04-02T17:00:39.843119Z",
     "iopub.status.idle": "2025-04-02T17:00:39.848981Z",
     "shell.execute_reply": "2025-04-02T17:00:39.847851Z"
    },
    "id": "76WbnJaIgJ4g",
    "papermill": {
     "duration": 0.033693,
     "end_time": "2025-04-02T17:00:39.851136",
     "exception": false,
     "start_time": "2025-04-02T17:00:39.817443",
     "status": "completed"
    },
    "tags": []
   },
   "outputs": [],
   "source": [
    "test_rmse = np.sqrt(mean_squared_error(y_test, test_predict))"
   ]
  },
  {
   "cell_type": "code",
   "execution_count": 51,
   "id": "e4330f90",
   "metadata": {
    "execution": {
     "iopub.execute_input": "2025-04-02T17:00:39.900900Z",
     "iopub.status.busy": "2025-04-02T17:00:39.900482Z",
     "iopub.status.idle": "2025-04-02T17:00:39.906215Z",
     "shell.execute_reply": "2025-04-02T17:00:39.905064Z"
    },
    "id": "WcUBQBz7gMV2",
    "papermill": {
     "duration": 0.033772,
     "end_time": "2025-04-02T17:00:39.908914",
     "exception": false,
     "start_time": "2025-04-02T17:00:39.875142",
     "status": "completed"
    },
    "tags": []
   },
   "outputs": [
    {
     "name": "stdout",
     "output_type": "stream",
     "text": [
      "Train RMSE: 27.249967575073242\n",
      "Test RMSE: 48.15910339355469\n"
     ]
    }
   ],
   "source": [
    "print(f\"Train RMSE: {train_rmse}\")\n",
    "print(f\"Test RMSE: {test_rmse}\")"
   ]
  },
  {
   "cell_type": "code",
   "execution_count": 52,
   "id": "38ded488",
   "metadata": {
    "execution": {
     "iopub.execute_input": "2025-04-02T17:00:39.959176Z",
     "iopub.status.busy": "2025-04-02T17:00:39.958645Z",
     "iopub.status.idle": "2025-04-02T17:00:39.990136Z",
     "shell.execute_reply": "2025-04-02T17:00:39.988896Z"
    },
    "id": "t_llof9mgYz_",
    "papermill": {
     "duration": 0.059159,
     "end_time": "2025-04-02T17:00:39.992523",
     "exception": false,
     "start_time": "2025-04-02T17:00:39.933364",
     "status": "completed"
    },
    "tags": []
   },
   "outputs": [
    {
     "data": {
      "text/html": [
       "<div>\n",
       "<style scoped>\n",
       "    .dataframe tbody tr th:only-of-type {\n",
       "        vertical-align: middle;\n",
       "    }\n",
       "\n",
       "    .dataframe tbody tr th {\n",
       "        vertical-align: top;\n",
       "    }\n",
       "\n",
       "    .dataframe thead th {\n",
       "        text-align: right;\n",
       "    }\n",
       "</style>\n",
       "<table border=\"1\" class=\"dataframe\">\n",
       "  <thead>\n",
       "    <tr style=\"text-align: right;\">\n",
       "      <th></th>\n",
       "      <th>count</th>\n",
       "      <th>mean</th>\n",
       "      <th>min</th>\n",
       "      <th>25%</th>\n",
       "      <th>50%</th>\n",
       "      <th>75%</th>\n",
       "      <th>max</th>\n",
       "      <th>std</th>\n",
       "    </tr>\n",
       "  </thead>\n",
       "  <tbody>\n",
       "    <tr>\n",
       "      <th>Date</th>\n",
       "      <td>2416</td>\n",
       "      <td>2015-04-15 11:09:56.026490112</td>\n",
       "      <td>2010-06-29 00:00:00</td>\n",
       "      <td>2012-11-19 18:00:00</td>\n",
       "      <td>2015-04-16 12:00:00</td>\n",
       "      <td>2017-09-07 06:00:00</td>\n",
       "      <td>2020-02-03 00:00:00</td>\n",
       "      <td>NaN</td>\n",
       "    </tr>\n",
       "    <tr>\n",
       "      <th>Open</th>\n",
       "      <td>2416.0</td>\n",
       "      <td>186.271147</td>\n",
       "      <td>16.139999</td>\n",
       "      <td>34.342498</td>\n",
       "      <td>213.035004</td>\n",
       "      <td>266.450012</td>\n",
       "      <td>673.690002</td>\n",
       "      <td>118.740163</td>\n",
       "    </tr>\n",
       "    <tr>\n",
       "      <th>High</th>\n",
       "      <td>2416.0</td>\n",
       "      <td>189.578224</td>\n",
       "      <td>16.629999</td>\n",
       "      <td>34.897501</td>\n",
       "      <td>216.745002</td>\n",
       "      <td>270.927513</td>\n",
       "      <td>786.140015</td>\n",
       "      <td>120.892329</td>\n",
       "    </tr>\n",
       "    <tr>\n",
       "      <th>Low</th>\n",
       "      <td>2416.0</td>\n",
       "      <td>182.916639</td>\n",
       "      <td>14.98</td>\n",
       "      <td>33.587501</td>\n",
       "      <td>208.870002</td>\n",
       "      <td>262.102501</td>\n",
       "      <td>673.52002</td>\n",
       "      <td>116.857591</td>\n",
       "    </tr>\n",
       "    <tr>\n",
       "      <th>Close</th>\n",
       "      <td>2416.0</td>\n",
       "      <td>186.403651</td>\n",
       "      <td>15.8</td>\n",
       "      <td>34.400002</td>\n",
       "      <td>212.960007</td>\n",
       "      <td>266.774994</td>\n",
       "      <td>780.0</td>\n",
       "      <td>119.13602</td>\n",
       "    </tr>\n",
       "    <tr>\n",
       "      <th>Adj Close</th>\n",
       "      <td>2416.0</td>\n",
       "      <td>186.403651</td>\n",
       "      <td>15.8</td>\n",
       "      <td>34.400002</td>\n",
       "      <td>212.960007</td>\n",
       "      <td>266.774994</td>\n",
       "      <td>780.0</td>\n",
       "      <td>119.13602</td>\n",
       "    </tr>\n",
       "    <tr>\n",
       "      <th>Volume</th>\n",
       "      <td>2416.0</td>\n",
       "      <td>5572721.688742</td>\n",
       "      <td>118500.0</td>\n",
       "      <td>1899275.0</td>\n",
       "      <td>4578400.0</td>\n",
       "      <td>7361150.0</td>\n",
       "      <td>47065000.0</td>\n",
       "      <td>4987809.151888</td>\n",
       "    </tr>\n",
       "  </tbody>\n",
       "</table>\n",
       "</div>"
      ],
      "text/plain": [
       "            count                           mean                  min  \\\n",
       "Date         2416  2015-04-15 11:09:56.026490112  2010-06-29 00:00:00   \n",
       "Open       2416.0                     186.271147            16.139999   \n",
       "High       2416.0                     189.578224            16.629999   \n",
       "Low        2416.0                     182.916639                14.98   \n",
       "Close      2416.0                     186.403651                 15.8   \n",
       "Adj Close  2416.0                     186.403651                 15.8   \n",
       "Volume     2416.0                 5572721.688742             118500.0   \n",
       "\n",
       "                           25%                  50%                  75%  \\\n",
       "Date       2012-11-19 18:00:00  2015-04-16 12:00:00  2017-09-07 06:00:00   \n",
       "Open                 34.342498           213.035004           266.450012   \n",
       "High                 34.897501           216.745002           270.927513   \n",
       "Low                  33.587501           208.870002           262.102501   \n",
       "Close                34.400002           212.960007           266.774994   \n",
       "Adj Close            34.400002           212.960007           266.774994   \n",
       "Volume               1899275.0            4578400.0            7361150.0   \n",
       "\n",
       "                           max             std  \n",
       "Date       2020-02-03 00:00:00             NaN  \n",
       "Open                673.690002      118.740163  \n",
       "High                786.140015      120.892329  \n",
       "Low                  673.52002      116.857591  \n",
       "Close                    780.0       119.13602  \n",
       "Adj Close                780.0       119.13602  \n",
       "Volume              47065000.0  4987809.151888  "
      ]
     },
     "execution_count": 52,
     "metadata": {},
     "output_type": "execute_result"
    }
   ],
   "source": [
    "df.describe().T"
   ]
  },
  {
   "cell_type": "code",
   "execution_count": 53,
   "id": "d339b8cc",
   "metadata": {
    "execution": {
     "iopub.execute_input": "2025-04-02T17:00:40.045547Z",
     "iopub.status.busy": "2025-04-02T17:00:40.045168Z",
     "iopub.status.idle": "2025-04-02T17:00:40.057056Z",
     "shell.execute_reply": "2025-04-02T17:00:40.056054Z"
    },
    "id": "-PSGVpMzgz1O",
    "papermill": {
     "duration": 0.041637,
     "end_time": "2025-04-02T17:00:40.059151",
     "exception": false,
     "start_time": "2025-04-02T17:00:40.017514",
     "status": "completed"
    },
    "tags": []
   },
   "outputs": [
    {
     "data": {
      "text/html": [
       "<div>\n",
       "<style scoped>\n",
       "    .dataframe tbody tr th:only-of-type {\n",
       "        vertical-align: middle;\n",
       "    }\n",
       "\n",
       "    .dataframe tbody tr th {\n",
       "        vertical-align: top;\n",
       "    }\n",
       "\n",
       "    .dataframe thead th {\n",
       "        text-align: right;\n",
       "    }\n",
       "</style>\n",
       "<table border=\"1\" class=\"dataframe\">\n",
       "  <thead>\n",
       "    <tr style=\"text-align: right;\">\n",
       "      <th></th>\n",
       "      <th>Close</th>\n",
       "      <th>Predicted</th>\n",
       "    </tr>\n",
       "    <tr>\n",
       "      <th>Date</th>\n",
       "      <th></th>\n",
       "      <th></th>\n",
       "    </tr>\n",
       "  </thead>\n",
       "  <tbody>\n",
       "    <tr>\n",
       "      <th>2010-07-28</th>\n",
       "      <td>20.719999</td>\n",
       "      <td>37.191299</td>\n",
       "    </tr>\n",
       "    <tr>\n",
       "      <th>2010-07-29</th>\n",
       "      <td>20.350000</td>\n",
       "      <td>37.191299</td>\n",
       "    </tr>\n",
       "    <tr>\n",
       "      <th>2010-07-30</th>\n",
       "      <td>19.940001</td>\n",
       "      <td>37.191299</td>\n",
       "    </tr>\n",
       "    <tr>\n",
       "      <th>2010-08-02</th>\n",
       "      <td>20.920000</td>\n",
       "      <td>37.191299</td>\n",
       "    </tr>\n",
       "    <tr>\n",
       "      <th>2010-08-03</th>\n",
       "      <td>21.950001</td>\n",
       "      <td>37.191299</td>\n",
       "    </tr>\n",
       "  </tbody>\n",
       "</table>\n",
       "</div>"
      ],
      "text/plain": [
       "                Close  Predicted\n",
       "Date                            \n",
       "2010-07-28  20.719999  37.191299\n",
       "2010-07-29  20.350000  37.191299\n",
       "2010-07-30  19.940001  37.191299\n",
       "2010-08-02  20.920000  37.191299\n",
       "2010-08-03  21.950001  37.191299"
      ]
     },
     "execution_count": 53,
     "metadata": {},
     "output_type": "execute_result"
    }
   ],
   "source": [
    "train_prediction_df = result_df[lookback:position]\n",
    "train_prediction_df[\"Predicted\"] = train_predict\n",
    "train_prediction_df.head()"
   ]
  },
  {
   "cell_type": "code",
   "execution_count": 54,
   "id": "b24926b7",
   "metadata": {
    "execution": {
     "iopub.execute_input": "2025-04-02T17:00:40.110129Z",
     "iopub.status.busy": "2025-04-02T17:00:40.109105Z",
     "iopub.status.idle": "2025-04-02T17:00:40.120550Z",
     "shell.execute_reply": "2025-04-02T17:00:40.119539Z"
    },
    "id": "o7tRAXwOhMSA",
    "papermill": {
     "duration": 0.039328,
     "end_time": "2025-04-02T17:00:40.122809",
     "exception": false,
     "start_time": "2025-04-02T17:00:40.083481",
     "status": "completed"
    },
    "tags": []
   },
   "outputs": [
    {
     "data": {
      "text/html": [
       "<div>\n",
       "<style scoped>\n",
       "    .dataframe tbody tr th:only-of-type {\n",
       "        vertical-align: middle;\n",
       "    }\n",
       "\n",
       "    .dataframe tbody tr th {\n",
       "        vertical-align: top;\n",
       "    }\n",
       "\n",
       "    .dataframe thead th {\n",
       "        text-align: right;\n",
       "    }\n",
       "</style>\n",
       "<table border=\"1\" class=\"dataframe\">\n",
       "  <thead>\n",
       "    <tr style=\"text-align: right;\">\n",
       "      <th></th>\n",
       "      <th>Close</th>\n",
       "      <th>Predicted</th>\n",
       "    </tr>\n",
       "    <tr>\n",
       "      <th>Date</th>\n",
       "      <th></th>\n",
       "      <th></th>\n",
       "    </tr>\n",
       "  </thead>\n",
       "  <tbody>\n",
       "    <tr>\n",
       "      <th>2018-04-03</th>\n",
       "      <td>267.529999</td>\n",
       "      <td>345.088440</td>\n",
       "    </tr>\n",
       "    <tr>\n",
       "      <th>2018-04-04</th>\n",
       "      <td>286.940002</td>\n",
       "      <td>340.759277</td>\n",
       "    </tr>\n",
       "    <tr>\n",
       "      <th>2018-04-05</th>\n",
       "      <td>305.720001</td>\n",
       "      <td>339.994476</td>\n",
       "    </tr>\n",
       "    <tr>\n",
       "      <th>2018-04-06</th>\n",
       "      <td>299.299988</td>\n",
       "      <td>339.078094</td>\n",
       "    </tr>\n",
       "    <tr>\n",
       "      <th>2018-04-09</th>\n",
       "      <td>289.660004</td>\n",
       "      <td>337.822357</td>\n",
       "    </tr>\n",
       "  </tbody>\n",
       "</table>\n",
       "</div>"
      ],
      "text/plain": [
       "                 Close   Predicted\n",
       "Date                              \n",
       "2018-04-03  267.529999  345.088440\n",
       "2018-04-04  286.940002  340.759277\n",
       "2018-04-05  305.720001  339.994476\n",
       "2018-04-06  299.299988  339.078094\n",
       "2018-04-09  289.660004  337.822357"
      ]
     },
     "execution_count": 54,
     "metadata": {},
     "output_type": "execute_result"
    }
   ],
   "source": [
    "test_prediction_df = result_df[position+lookback:]\n",
    "test_prediction_df[\"Predicted\"] = test_predict\n",
    "test_prediction_df.head()"
   ]
  },
  {
   "cell_type": "code",
   "execution_count": 55,
   "id": "096e43ca",
   "metadata": {
    "execution": {
     "iopub.execute_input": "2025-04-02T17:00:40.174555Z",
     "iopub.status.busy": "2025-04-02T17:00:40.174141Z",
     "iopub.status.idle": "2025-04-02T17:00:40.604817Z",
     "shell.execute_reply": "2025-04-02T17:00:40.603655Z"
    },
    "id": "PJ_-znSchYO_",
    "papermill": {
     "duration": 0.460341,
     "end_time": "2025-04-02T17:00:40.607729",
     "exception": false,
     "start_time": "2025-04-02T17:00:40.147388",
     "status": "completed"
    },
    "tags": []
   },
   "outputs": [
    {
     "data": {
      "image/png": "[encoded data removed]",
      "text/plain": [
       "<Figure size 1400x500 with 1 Axes>"
      ]
     },
     "metadata": {},
     "output_type": "display_data"
    }
   ],
   "source": [
    "plt.figure(figsize=(14,5))\n",
    "plt.plot(result_df, label = \"Real Number of Passengers\")\n",
    "plt.plot(train_prediction_df[\"Predicted\"], color = 'blue', label = \"Train Predicted Number of Passengers\")\n",
    "plt.plot(test_prediction_df[\"Predicted\"],color = 'red', label = \"Test Predicted Number of Passengers\")\n",
    "plt.title(\"Number of Passengers Prediction\")\n",
    "plt.xlabel(\"Time\")\n",
    "plt.ylabel(\"Number of Passengers\")\n",
    "plt.legend()\n",
    "plt.show()"
   ]
  }
 ],
 "metadata": {
  "colab": {
   "provenance": []
  },
  "kaggle": {
   "accelerator": "none",
   "dataSources": [
    {
     "datasetId": 500872,
     "sourceId": 927894,
     "sourceType": "datasetVersion"
    }
   ],
   "dockerImageVersionId": 30761,
   "isGpuEnabled": false,
   "isInternetEnabled": true,
   "language": "python",
   "sourceType": "notebook"
  },
  "kernelspec": {
   "display_name": "Python 3",
   "language": "python",
   "name": "python3"
  },
  "language_info": {
   "codemirror_mode": {
    "name": "ipython",
    "version": 3
   },
   "file_extension": ".py",
   "mimetype": "text/x-python",
   "name": "python",
   "nbconvert_exporter": "python",
   "pygments_lexer": "ipython3",
   "version": "3.10.14"
  },
  "papermill": {
   "default_parameters": {},
   "duration": 37.951532,
   "end_time": "2025-04-02T17:00:42.358839",
   "environment_variables": {},
   "exception": null,
   "input_path": "__notebook__.ipynb",
   "output_path": "__notebook__.ipynb",
   "parameters": {},
   "start_time": "2025-04-02T17:00:04.407307",
   "version": "2.6.0"
  }
 },
 "nbformat": 4,
 "nbformat_minor": 5
}
